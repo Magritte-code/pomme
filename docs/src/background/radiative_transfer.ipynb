{
 "cells": [
  {
   "cell_type": "markdown",
   "metadata": {},
   "source": [
    "# Spectral Line Formation"
   ]
  },
  {
   "cell_type": "markdown",
   "metadata": {},
   "source": [
    "## Numerical implementation"
   ]
  },
  {
   "cell_type": "markdown",
   "metadata": {},
   "source": [
    "### Line optical depth\n",
    "Velocity gradients play a key role in line radiative transfer. Since spectral lines are narrowly peaked in frequency space, they are very sensitve to Doppler shifts, and thus motion (gradients), along the line-of-sight.\n",
    "Therefore, when numerically solving a line transfer problem, it is key to properly trace the velocity (gradient) along the line-of-sight. \n",
    "Since we assume to know the line profile function analytically, we can take care of this sharp frequency dependence by resolving its dependenc analytically."
   ]
  },
  {
   "cell_type": "markdown",
   "metadata": {},
   "source": [
    "Consider a line-of-sight segment between two consequtive elements, indexed as 0 and 1, parametrized by $\\lambda \\in [0, 1]$.\n",
    "The line optical depth in this segment can then be written as,\n",
    "\\begin{equation*}\n",
    "\\chi(\\lambda) \\ = \\ a(\\lambda) \\, \\exp \\left(-b(\\lambda)^{2}\\right) .\n",
    "\\end{equation*}\n",
    "where we defined,\n",
    "\\begin{align*}\n",
    "a(\\lambda) \\ &= \\ \\frac{\\chi_{ij}(\\lambda) \\, n(\\lambda)}{\\sqrt{\\pi} \\, \\delta\\nu_{ij}(\\lambda)}, \\\\\n",
    "b(\\lambda) \\ &= \\ \\frac{1}{\\delta \\nu_{ij}(\\lambda)} \\left\\{ \\left( 1 + \\frac{v_{z}(\\lambda)}{c} \\right) \\nu  - \\nu_{ij} \\right\\} .\n",
    "\\end{align*}\n",
    "The strongly peaked behaviour is mainly caused by the exponential function. We can resolve this, for instance in the computation of the optical depth, by using linear interpolation functions for $a$ and $b$ while explicitly integrating the exponential.\n",
    "This yields the optical depth increment,\n",
    "\\begin{equation*}\n",
    "\\Delta \\tau \\ = \\ \\Delta x \\int_{0}^{1} \\text{d}\\lambda \\ \\chi (\\lambda) .\n",
    "\\end{equation*}\n",
    "Using the linear interpolation scheme,\n",
    "\\begin{align*}\n",
    "a(\\lambda) \\ &= \\ (1-\\lambda) a_{0} \\ + \\ \\lambda a_{1}, \\\\\n",
    "b(\\lambda) \\ &= \\ (1-\\lambda) b_{0} \\ + \\ \\lambda b_{1},\n",
    "\\end{align*}\n",
    "for the functions $a$ and $b$, this yields,\n",
    "\\begin{equation*}\n",
    "\\Delta \\tau \\ = \\ \\frac{\\Delta x}{2\\left(b_{1}-b_{0}\\right)^{2}} \\left\\{ \\left(a_{1}-a_{0}\\right) \\left( e^{-b_{0}^{2}} - e^{-b_{1}^{2}}\\right) + \\sqrt{\\pi} \\left(b_{0}a_{1}-b_{1}a_{0}\\right) \\big(\\text{Erf}(b_{0}) - \\text{Erf}(b_{1})\\big) \\right\\} .\n",
    "\\end{equation*}\n",
    "This expression is numerically stable as long as $b_1$ is not too close to $b_0$, but will suffer from cancelation errors otherwise."
   ]
  },
  {
   "cell_type": "markdown",
   "metadata": {},
   "source": [
    "Therefore, for $\\left|b_{1}-b_{0}\\right| < 10^{-3}$, we use the first four terms of the Taylor expansion of $b_1$ around $b_0$,\n",
    "\\begin{equation*}\n",
    "\\begin{split}\n",
    "\\Delta \\tau \\ \\approx \\ \\Delta x \\, e^{-b_{0}^{2}} & \\left(\\frac{1}{2}\\left(a_{0} + a_{1}\\right) \\right. \\\\\n",
    "&        \\ \\ \\ \\ - \\ \\frac{1}{3} \\, \\left( a_{0} + 2 a_{1} \\right) b_{0} \\left(b_{1}-b_{0}\\right) \\\\\n",
    "&        \\ \\ \\ \\ + \\ \\frac{1}{12} \\, \\left( a_{0} + 3 a_{1} \\right) \\left(2 b_{0}^{2} - 1\\right) \\left(b_{1}-b_{0}\\right)^{2} \\\\\n",
    "& \\left. \\ \\ \\ \\ - \\ \\frac{1}{30} \\,  \\left( a_{0} + 4 a_{1} \\right) \\left(2 b_{0}^{2} - 3\\right) b_{0} \\left(b_{1}-b_{0}\\right)^{2} \\ + \\ \\ldots\\right) .\n",
    "\\end{split}\n",
    "\\end{equation*}"
   ]
  },
  {
   "cell_type": "markdown",
   "metadata": {},
   "source": [
    "The implementation on this line optical depth can be found in [src/p3droslo/lines.py](https://github.com/Magritte-code/p3droslo/blob/main/src/p3droslo/lines.py)."
   ]
  },
  {
   "cell_type": "markdown",
   "metadata": {},
   "source": [
    "### Line radiative transfer"
   ]
  },
  {
   "cell_type": "markdown",
   "metadata": {},
   "source": [
    "Consider a line-of-sight segment between two consequtive elements, indexed as 0 and 1, parametrized by $\\lambda \\in [0, 1]$.\n",
    "Ignoring any incoming radiation, the accumulated intentisty in this segment can then be written as,\n",
    "\\begin{equation*}\n",
    "\\Delta I \\ = \\ \\Delta\\tau \\int_{0}^{1} \\text{d}\\lambda \\ S(\\lambda) \\, e^{-\\lambda}.\n",
    "\\end{equation*}\n",
    "where the source function is defined as,\n",
    "\\begin{equation*}\n",
    "S \\ \\equiv \\ \\frac{\\eta}{\\chi} .\n",
    "\\end{equation*}\n",
    "Using the linear interpolation scheme,\n",
    "\\begin{align*}\n",
    "S   (\\lambda) \\ &= \\ (1-\\lambda)    S_{0} \\ + \\ \\lambda    S_{1}, \\\\\n",
    "\\tau(\\lambda) \\ &= \\ (1-\\lambda) \\tau_{0} \\ + \\ \\lambda \\tau_{1},\n",
    "\\end{align*}\n",
    "for the source function, $S$, and the optical depth, $tau$, this yields,\n",
    "\\begin{equation*}\n",
    "\\Delta I \\ = \\ S_{0} \\, e^{-\\tau_{0}} \\left( e^{-\\Delta\\tau} - (1 - \\Delta\\tau) \\right) \\ + \\\n",
    "S_{1} \\, e^{-\\tau_{1}} \\left( e^{+\\Delta\\tau} - (1 + \\Delta\\tau) \\right),\n",
    "\\end{equation*}\n",
    "where $\\Delta\\tau \\equiv \\tau_{1} - \\tau_{0}$. This expression is numerically stable as long as $\\Delta \\tau$ is not too small, but will suffer from cancellation errors otherwise.\n",
    "\n",
    "Therefore, for $\\Delta \\tau < 10^{-2} we use the first four terms in the Taylor expansion,\n",
    "\\begin{align*}\n",
    "e^{-\\Delta\\tau} - (1 - \\Delta\\tau) \\ &\\approx \\ \\frac{1}{2} \\ - \\ \\frac{1}{6}\\Delta\\tau \\ + \\ \\frac{1}{120}\\Delta\\tau^{2} \\ - \\  \\frac{1}{24}\\Delta\\tau^{3} \\ + \\ \\ldots \\\\\n",
    "e^{+\\Delta\\tau} - (1 + \\Delta\\tau) \\ &\\approx \\ \\frac{1}{2} \\ + \\ \\frac{1}{6}\\Delta\\tau \\ + \\ \\frac{1}{120}\\Delta\\tau^{2} \\ + \\  \\frac{1}{24}\\Delta\\tau^{3} \\ + \\ \\ldots\n",
    "\\end{align*}\n",
    "The implementation of this intensity increment can be found in [src/p3droslo/forward.py](https://github.com/Magritte-code/p3droslo/blob/main/src/p3droslo/forward.py)."
   ]
  },
  {
   "cell_type": "markdown",
   "metadata": {},
   "source": []
  }
 ],
 "metadata": {
  "language_info": {
   "name": "python"
  },
  "orig_nbformat": 4
 },
 "nbformat": 4,
 "nbformat_minor": 2
}
