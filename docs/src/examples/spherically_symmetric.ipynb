{
 "cells": [
  {
   "cell_type": "markdown",
   "metadata": {},
   "source": [
    "# 1D Stellar wind\n",
    "\n",
    "---"
   ]
  },
  {
   "cell_type": "markdown",
   "metadata": {},
   "source": [
    "Consider a simple spherically symmetric stellar wind model.\n",
    "We use numpy and astropy to conveniently define the model parameters."
   ]
  },
  {
   "cell_type": "code",
   "execution_count": 1,
   "metadata": {},
   "outputs": [],
   "source": [
    "import numpy             as np\n",
    "import matplotlib.pyplot as plt\n",
    "from astropy import units, constants"
   ]
  },
  {
   "cell_type": "markdown",
   "metadata": {},
   "source": [
    "## Model setup\n",
    "\n",
    "---\n",
    "\n",
    "### Geometry\n",
    "\n",
    "---\n",
    "The model box is given by the radial coordinate $r \\in [r_{\\star}, r_{\\text{out}}] = [1, 10^{4}] \\ \\text{au}$. The model is discretised on a logarithmically-spaced grid consisting of 1024 elements with $r \\in [r_{\\text{in}}, r_{\\text{out}}] = [10^{-1}, 10^{4}] \\ \\text{au}$.\n",
    "Note that $r_{\\text{in}} < r_{\\star}$, such that several rays hit the stellar surface, since, for concenience, we use the same discretisation for the impact parameters of the rays. We impose a boundary condition at $r=r_{\\star}$, such that the part of the model inside the star ($r<r_{\\star}$) does not contribute to the resulting observation, and thus cannot be reconstructed."
   ]
  },
  {
   "cell_type": "code",
   "execution_count": 2,
   "metadata": {},
   "outputs": [],
   "source": [
    "n_elements = 1024\n",
    "\n",
    "r_in   = (1.0e-1 * units.au).si.value\n",
    "r_out  = (1.0e+4 * units.au).si.value\n",
    "r_star = (1.0e+0 * units.au).si.value\n",
    "\n",
    "rs = np.logspace(np.log10(r_in), np.log10(r_out), n_elements, dtype=np.float64)"
   ]
  },
  {
   "cell_type": "markdown",
   "metadata": {},
   "source": [
    "### Velocity\n",
    "\n",
    "---\n",
    "For the velocity field, we assume a typical radially outward directed $\\beta$-law,\n",
    "\\begin{equation*}\n",
    "v(r) \\ = \\ v_{\\star} \\ + \\ \\left( v_{\\infty} - v_{\\star} \\right) \\left(1 - \\frac{r_{\\star}}{r}\\right)^{\\beta} ,\n",
    "\\end{equation*}\n",
    "in which $v_{0} = 0.1 \\ \\text{km}/ \\text{s}$,  $v_{\\infty} = 20 \\ \\text{km}/ \\text{s}$, and $\\beta=0.5$."
   ]
  },
  {
   "cell_type": "code",
   "execution_count": 3,
   "metadata": {},
   "outputs": [],
   "source": [
    "v_in  = (1.0e-1 * units.km / units.s).si.value\n",
    "v_inf = (2.0e+1 * units.km / units.s).si.value\n",
    "beta  = 0.5\n",
    "\n",
    "v = np.empty_like(rs)\n",
    "v[rs <= r_star] = 0.01\n",
    "v[rs >  r_star] = v_in + (v_inf - v_in) * (1.0 - r_star / rs[rs > r_star])**beta"
   ]
  },
  {
   "cell_type": "markdown",
   "metadata": {},
   "source": [
    "### Density\n",
    "\n",
    "---\n",
    "\n",
    "We assume the density and velocity to be related through the conservation of mass, such that,\n",
    "\\begin{equation*}\n",
    "\\rho \\left( r \\right) \\ = \\ \\frac{\\dot{M}}{4 \\pi r^{2} \\, v(r)},\n",
    "\\end{equation*}\n",
    "where, for the mass-loss rate, we take a typical value of $\\dot{M} = 5.0 \\times 10^{-6} \\ M_{\\odot} / \\text{yr}$."
   ]
  },
  {
   "cell_type": "code",
   "execution_count": 4,
   "metadata": {},
   "outputs": [],
   "source": [
    "Mdot = (3.0e-6 * units.M_sun / units.yr).si.value\n",
    "\n",
    "rho  = Mdot / (4.0 * np.pi * rs**2 * v)"
   ]
  },
  {
   "cell_type": "markdown",
   "metadata": {},
   "source": [
    "### CO abundance\n",
    "\n",
    "---\n",
    "\n",
    "The CO abundance is assumed to be proportional to the density, such that, $n^{\\text{CO}}(r) = 3.0 \\times 10^{-4} \\, N_{A} \\, \\rho(r) / m^{\\text{H}_2}$, with $N_{A}$ Avogadro's number, and $m^{\\text{H}_2} = 2.02 \\ \\text{g}/\\text{mol}$, the molar mass of $\\text{H}_{2}$."
   ]
  },
  {
   "cell_type": "code",
   "execution_count": 5,
   "metadata": {},
   "outputs": [],
   "source": [
    "n_CO             = (3.0e-4 * constants.N_A.si.value / 2.02e-3) * rho\n",
    "n_CO[rs<=r_star] = n_CO[n_CO<np.inf].max() # Set to max inside star"
   ]
  },
  {
   "cell_type": "markdown",
   "metadata": {},
   "source": [
    "### Temperature\n",
    "\n",
    "---\n",
    "\n",
    "For the gas temperature, we assume a power law,\n",
    "\\begin{equation*}\n",
    "T(r) \\ = \\ T_{\\star} \\left(\\frac{r_{\\star}}{r}\\right)^{\\epsilon} ,\n",
    "\\end{equation*}\n",
    "with $T_{\\star} = 2500 \\ \\text{K}$, and $\\epsilon=0.6$."
   ]
  },
  {
   "cell_type": "code",
   "execution_count": 6,
   "metadata": {},
   "outputs": [],
   "source": [
    "T_star = (2.5e+3 * units.K).si.value\n",
    "epsilon = 0.6\n",
    "\n",
    "T = np.empty_like(rs)\n",
    "T[rs <= r_star] = T_star\n",
    "T[rs >  r_star] = T_star * (r_star / rs[rs > r_star])**epsilon"
   ]
  },
  {
   "cell_type": "markdown",
   "metadata": {},
   "source": [
    "### Micro-turbulence\n",
    "\n",
    "---\n",
    "\n",
    "Finally, we assume a constant turbulent velocity $v_{\\text{turb}}(r) = 1 \\ \\text{km}/\\text{s}$."
   ]
  },
  {
   "cell_type": "code",
   "execution_count": 7,
   "metadata": {},
   "outputs": [],
   "source": [
    "v_turb = (1.0e+0 * units.km / units.s).si.value"
   ]
  },
  {
   "cell_type": "markdown",
   "metadata": {},
   "source": [
    "### TensorModel\n",
    "\n",
    "---\n",
    "\n",
    "With all the data in place, we can start building a pomme model.\n",
    "First, we store all model parameters as a TensorModel object and store this in an HDF5 file.\n",
    "We will use this later as the ground truth to verify our reconstructions against."
   ]
  },
  {
   "cell_type": "code",
   "execution_count": 8,
   "metadata": {},
   "outputs": [],
   "source": [
    "from pomme.model import TensorModel\n",
    "\n",
    "model = TensorModel(sizes=r_out, shape=n_elements)\n",
    "model['log_r'         ] = np.log(rs)\n",
    "model['log_CO'        ] = np.log(n_CO)\n",
    "model['log_turbulence'] = np.log(v_turb)\n",
    "model['log_v_in'      ] = np.log(v_in)\n",
    "model['log_v_inf'     ] = np.log(v_inf)\n",
    "model['log_beta'      ] = np.log(beta)\n",
    "model['log_epsilon'   ] = np.log(epsilon)\n",
    "model['log_T_star'    ] = np.log(T_star)\n",
    "model['log_r_star'    ] = np.log(r_star)\n",
    "model.save('1D_stellar_wind_truth.h5')"
   ]
  },
  {
   "cell_type": "markdown",
   "metadata": {},
   "source": [
    "### SphericalModel\n",
    "\n",
    "---\n",
    "\n",
    "First, we define the functions that can generate the model distributions from the model parameters."
   ]
  },
  {
   "cell_type": "code",
   "execution_count": 9,
   "metadata": {},
   "outputs": [],
   "source": [
    "import torch\n",
    "from pomme.utils import planck, T_CMB\n",
    "\n",
    "def get_velocity(model):\n",
    "    \"\"\"\n",
    "    Get the velocity from the TensorModel.\n",
    "    \"\"\"\n",
    "    # Extract parameters\n",
    "    r      = torch.exp(model['log_r'])\n",
    "    v_in   = torch.exp(model['log_v_in'])\n",
    "    v_inf  = torch.exp(model['log_v_inf'])\n",
    "    beta   = torch.exp(model['log_beta'])\n",
    "    R_star = torch.exp(model['log_r_star'])\n",
    "    # Compute velocity\n",
    "    v = torch.empty_like(r)\n",
    "    v[r <= r_star] = v_in\n",
    "    v[r >  r_star] = v_in + (v_inf - v_in) * (1.0 - r_star / r[r > r_star])**beta\n",
    "    # Return\n",
    "    return v\n",
    "\n",
    "def get_temperature(model):\n",
    "    \"\"\"\n",
    "    Get the temperature from the TensorModel.\n",
    "    \"\"\"\n",
    "    # Extract parameters\n",
    "    r       = torch.exp(model['log_r'])\n",
    "    T_star  = torch.exp(model['log_T_star'])\n",
    "    epsilon = torch.exp(model['log_epsilon'])\n",
    "    r_star  = torch.exp(model['log_r_star'])\n",
    "    # Compute temperature\n",
    "    T = torch.empty_like(r)    \n",
    "    T[r <= r_star] = T_star\n",
    "    T[r >  r_star] = T_star * (r_star / r[r > r_star])**epsilon\n",
    "    # Return\n",
    "    return T\n",
    "\n",
    "def get_abundance(model):\n",
    "    \"\"\"\n",
    "    Get the abundance from the TensorModel.\n",
    "    \"\"\"\n",
    "    return torch.exp(model['log_CO'])\n",
    "\n",
    "def get_turbulence(model):\n",
    "    \"\"\"\n",
    "    Get the turbulence from the TensorModel.\n",
    "    \"\"\"\n",
    "    return torch.exp(model['log_turbulence']) * torch.ones_like(model['log_r'])\n",
    "\n",
    "def get_boundary_condition(model, frequency, b):\n",
    "    \"\"\"\n",
    "    Get the boundary condition from the TensorModel.\n",
    "    \"\"\"\n",
    "    # Extract parameters\n",
    "    T_star = torch.exp(model['log_T_star'])\n",
    "    r_star = torch.exp(model['log_r_star'])\n",
    "    # Compute boundary condition\n",
    "    if b > r_star:\n",
    "        return planck(temperature=T_CMB, frequency=frequency)\n",
    "    else:\n",
    "        return planck(temperature=T_star, frequency=frequency)"
   ]
  },
  {
   "cell_type": "markdown",
   "metadata": {},
   "source": [
    "Using these functions, we can build a SphericalModel object that can be used to generate synthetic observations or reconstruct the required parameters.\n",
    "The SphericalModel class is a convenience class that can make the necessary transformations, e.g. for ray tracing in a spherically symmetric geometry."
   ]
  },
  {
   "cell_type": "code",
   "execution_count": 10,
   "metadata": {},
   "outputs": [],
   "source": [
    "from pomme.model import SphericalModel\n",
    "\n",
    "smodel_truth = SphericalModel(rs, model, r_star=r_star)\n",
    "smodel_truth.get_velocity           = get_velocity\n",
    "smodel_truth.get_abundance          = get_abundance\n",
    "smodel_truth.get_turbulence         = get_turbulence\n",
    "smodel_truth.get_temperature        = get_temperature\n",
    "smodel_truth.get_boundary_condition = get_boundary_condition"
   ]
  },
  {
   "cell_type": "markdown",
   "metadata": {},
   "source": [
    "### Spectral lines\n",
    "\n",
    "---\n",
    "\n",
    "We base our reconstructions on synthetic observations of two commonly observed rotational CO lines $J = \\{(3-2), \\, (7-6)\\}$, which we observe, each in 50 frequency bins, centred around the lines, with a spacing of 1.02 km/s."
   ]
  },
  {
   "cell_type": "code",
   "execution_count": 11,
   "metadata": {},
   "outputs": [
    {
     "name": "stdout",
     "output_type": "stream",
     "text": [
      "You have selected line:\n",
      "    CO(J=3-2)\n",
      "Please check the properties that were inferred:\n",
      "    Frequency         3.457959899e+11  Hz\n",
      "    Einstein A coeff  2.497000000e-06  1/s\n",
      "    Molar mass        28.0101          g/mol\n",
      "You have selected line:\n",
      "    CO(J=7-6)\n",
      "Please check the properties that were inferred:\n",
      "    Frequency         8.066518060e+11  Hz\n",
      "    Einstein A coeff  3.422000000e-05  1/s\n",
      "    Molar mass        28.0101          g/mol\n"
     ]
    },
    {
     "name": "stderr",
     "output_type": "stream",
     "text": [
      "/home/frederikd/.local/lib/python3.9/site-packages/astroquery/lamda/core.py:145: UserWarning: The first time a LAMDA function is called, it must assemble a list of valid molecules and URLs.  This list will be cached so future operations will be faster.\n",
      "  warnings.warn(\"The first time a LAMDA function is called, it must \"\n"
     ]
    }
   ],
   "source": [
    "from pomme.lines import Line\n",
    "\n",
    "lines = [Line('CO', i) for i in [2, 6]]"
   ]
  },
  {
   "cell_type": "markdown",
   "metadata": {},
   "source": [
    "### Frequencies\n",
    "\n",
    "---\n",
    "\n",
    "Next, we define the velocity/frequency range of interest around the lines."
   ]
  },
  {
   "cell_type": "code",
   "execution_count": 12,
   "metadata": {},
   "outputs": [],
   "source": [
    "vdiff = 500   # velocity increment size [m/s]\n",
    "nfreq =  50   # number of frequencies\n",
    "\n",
    "velocities  = nfreq * vdiff * torch.linspace(-1, +1, nfreq, dtype=torch.float64)\n",
    "frequencies = [(1.0 + velocities / constants.c.si.value) * line.frequency for line in lines]"
   ]
  },
  {
   "cell_type": "markdown",
   "metadata": {},
   "source": [
    "## Synthetic observations\n",
    "\n",
    "---\n",
    "\n",
    "We can now generate synthetic observations, directly from the SphericalModel object.\n",
    "We will use these later to derive our reconstructions."
   ]
  },
  {
   "cell_type": "code",
   "execution_count": 13,
   "metadata": {},
   "outputs": [],
   "source": [
    "obss = smodel_truth.image(lines, frequencies, r_max=r_out)"
   ]
  },
  {
   "cell_type": "markdown",
   "metadata": {},
   "source": [
    "Plot the resulting synthetic spectral line observations."
   ]
  },
  {
   "cell_type": "code",
   "execution_count": 14,
   "metadata": {},
   "outputs": [
    {
     "data": {
      "image/png": "[encoded data removed]",
      "text/plain": [
       "<Figure size 432x288 with 1 Axes>"
      ]
     },
     "metadata": {
      "needs_background": "light"
     },
     "output_type": "display_data"
    }
   ],
   "source": [
    "for line, obs in zip(lines, obss):\n",
    "    plt.plot(velocities, obs, label=line.description)\n",
    "plt.legend()\n",
    "plt.xlabel('Velocity [m/s]')\n",
    "plt.ylabel('Brightness [W / m$^2$ / Hz]')\n",
    "plt.show()"
   ]
  },
  {
   "cell_type": "markdown",
   "metadata": {},
   "source": [
    "## Reconstruction setup\n",
    "\n",
    "---\n",
    "\n",
    "In this example, we will try to reconstruct the CO abundance, velocity, and temperature distribution.\n",
    "First, we define the model object for the reconstruction. Note that in the smodel defined above, all the right parameters are already stored, so we need a new one for the reconstruction.\n",
    "We take, $n_{\\text{CO}}^{\\text{init}}(r) = 5.0 \\times 10^{14} \\, \\text{m}^{-3} \\, (r_{\\text{in}}/r)^{2} $, as initial guess for the CO abundance distribution, and initialise both the velocity and the temperature with the correct values."
   ]
  },
  {
   "cell_type": "code",
   "execution_count": 15,
   "metadata": {},
   "outputs": [],
   "source": [
    "smodel_recon = SphericalModel(\n",
    "    rs       = smodel_truth.rs,\n",
    "    model_1D = smodel_truth.model_1D,\n",
    "    r_star   = smodel_truth.r_star,\n",
    ")\n",
    "smodel_recon.get_abundance          = lambda model: torch.exp(model['log_CO'])\n",
    "smodel_recon.get_velocity           = lambda model: torch.exp(model['log_velocity'])\n",
    "smodel_recon.get_temperature        = lambda model: torch.exp(model['log_temperature'])\n",
    "smodel_recon.get_turbulence         = get_turbulence\n",
    "smodel_recon.get_boundary_condition = get_boundary_condition\n",
    "\n",
    "# Define initial guess for the CO abundance\n",
    "n_CO_init = 5.0e+14 * (smodel_recon.rs.min()/smodel_recon.rs)**2\n",
    "\n",
    "# Intialize model with the truth, except for the CO abundance\n",
    "smodel_recon.model_1D['log_CO'         ] = np.log(n_CO_init).copy()\n",
    "smodel_recon.model_1D['log_velocity'   ] = np.log(v        ).copy()\n",
    "smodel_recon.model_1D['log_temperature'] = np.log(T        ).copy()\n",
    "\n",
    "# Fix all parameters, except for the ones we want to fit\n",
    "smodel_recon.model_1D.fix_all()\n",
    "smodel_recon.model_1D.free(['log_CO', 'log_velocity', 'log_temperature'])"
   ]
  },
  {
   "cell_type": "markdown",
   "metadata": {},
   "source": [
    "\n",
    "### Loss functions\n",
    "\n",
    "---\n",
    "\n",
    "We first create Loss object that can conveniently store the different losses.\n",
    "We will use a reproduction loss (split into an averaged and relative component), a smoothness, and a continuity loss."
   ]
  },
  {
   "cell_type": "code",
   "execution_count": 16,
   "metadata": {},
   "outputs": [],
   "source": [
    "from pomme.loss import Loss, diff_loss\n",
    "\n",
    "losses = Loss(['avg', 'rel', 'smt', 'cnt'])"
   ]
  },
  {
   "cell_type": "markdown",
   "metadata": {},
   "source": [
    "#### Reproduction loss\n",
    "\n",
    "---\n",
    "We split the reproduction loss into an averaged and a relative component,\n",
    "\\begin{equation*}\n",
    "\\mathcal{L}_{\\text{rep}}\\big(f(\\boldsymbol{m}), \\boldsymbol{o} \\big)\n",
    "\\ = \\\n",
    "\\mathcal{L}_{\\text{rep}}\\Big( \\big\\langle f(\\boldsymbol{m}) \\big\\rangle, \\, \\left\\langle\\boldsymbol{o}\\right\\rangle \\Big)\n",
    "\\ + \\\n",
    "\\mathcal{L}_{\\text{rep}}\\left( \\frac{f(\\boldsymbol{m})}{\\big\\langle f(\\boldsymbol{m})\\big\\rangle}, \\, \\frac{\\boldsymbol{o}}{\\left\\langle \\boldsymbol{o}\\right\\rangle} \\right) ,\n",
    "\\end{equation*}"
   ]
  },
  {
   "cell_type": "code",
   "execution_count": 17,
   "metadata": {},
   "outputs": [],
   "source": [
    "# Define averaging and relative function\n",
    "avg = lambda arr: arr.mean(axis=1)\n",
    "rel = lambda arr: torch.einsum(\"ij, i -> ij\", arr, 1.0/avg(arr))\n",
    "\n",
    "def avg_loss(smodel, imgs):\n",
    "    \"\"\"\n",
    "    Compute the average loss.\n",
    "    \"\"\"\n",
    "    return torch.nn.functional.mse_loss(avg(imgs), avg(obss))\n",
    "\n",
    "def rel_loss(smodel, imgs):\n",
    "    \"\"\"\n",
    "    Compute the relative loss.\n",
    "    \"\"\"\n",
    "    return torch.nn.functional.mse_loss(rel(imgs), rel(obss))"
   ]
  },
  {
   "cell_type": "markdown",
   "metadata": {},
   "source": [
    "#### Smoothness loss\n",
    "\n",
    "---\n",
    "The smoothnes loss in spherical symmetry is defined as, "
   ]
  },
  {
   "cell_type": "code",
   "execution_count": 18,
   "metadata": {},
   "outputs": [],
   "source": [
    "def smoothness_loss(smodel):\n",
    "    \"\"\"\n",
    "    Smoothness loss for CO, velocity, and temperature distributions.\n",
    "    \"\"\"\n",
    "    # Get a mask for the elements outsife the star\n",
    "    outside_star = torch.from_numpy(smodel.rs) > torch.exp(smodel.model_1D['log_r_star'])\n",
    "    # Compute and return the loss\n",
    "    return (   diff_loss(smodel.model_1D['log_CO'         ][outside_star]) \\\n",
    "             + diff_loss(smodel.model_1D['log_velocity'   ][outside_star]) \\\n",
    "             + diff_loss(smodel.model_1D['log_temperature'][outside_star]) )"
   ]
  },
  {
   "cell_type": "markdown",
   "metadata": {},
   "source": [
    "#### Continuity loss\n",
    "\n",
    "---\n",
    "In spherical symmetry, the regularisation loss that assumes a steady state and enforces the continuity equation, reads,\n",
    "\\begin{equation*}\n",
    "\\mathcal{L}[\\rho, v]\n",
    "\\ = \\\n",
    "\\int_{0}^{\\infty} 4\\pi r^{2} \\text{d}r \\left\\{ \\frac{1}{\\rho \\, r^{2}} \\, \\partial_{r} \\left( r^{2} \\rho \\, v \\right) \\right\\}^{2} .\n",
    "\\end{equation*}"
   ]
  },
  {
   "cell_type": "code",
   "execution_count": 19,
   "metadata": {},
   "outputs": [],
   "source": [
    "def steady_state_cont_loss(smodel):\n",
    "    \"\"\"\n",
    "    Loss assuming steady state hydrodynamics, i.e. vanishing time derivatives.\n",
    "    \"\"\"\n",
    "    # Get a mask for the elements outsife the star\n",
    "    outside_star = torch.from_numpy(smodel.rs) > torch.exp(smodel.model_1D['log_r_star'])\n",
    "    # Get the model variables\n",
    "    rho = smodel.get_abundance(smodel.model_1D)[outside_star]\n",
    "    v_r = smodel.get_velocity (smodel.model_1D)[outside_star]\n",
    "    r   = torch.from_numpy(smodel.rs)          [outside_star]\n",
    "    # Continuity equation (steady state): div(ρ v) = 0\n",
    "    loss_cont = smodel.diff_r(r**2 * rho * v_r, r) / (rho*r**2)\n",
    "    # Compute the mean squared losses\n",
    "    loss = torch.mean(4.0*torch.pi*r**2*(loss_cont)**2)\n",
    "    # Return losses\n",
    "    return loss"
   ]
  },
  {
   "cell_type": "markdown",
   "metadata": {},
   "source": [
    "### Fit function\n",
    "\n",
    "---\n",
    "With everything in place, we can finally define the fit function."
   ]
  },
  {
   "cell_type": "code",
   "execution_count": 23,
   "metadata": {},
   "outputs": [],
   "source": [
    "from torch.optim import Adam\n",
    "from tqdm        import tqdm\n",
    "\n",
    "def fit(losses, smodel, N_epochs=10, lr=1.0e-1, w_avg=1.0, w_rel=1.0, w_smt=1.0, w_cnt=1.0):\n",
    "    # Define optimiser\n",
    "    optimizer = Adam(model.free_parameters(), lr=lr)\n",
    "    # Iterate optimiser\n",
    "    for _ in tqdm(range(N_epochs)):\n",
    "        # Forward model\n",
    "        imgs = smodel.image(lines, frequencies, r_max=r_out)\n",
    "        # Compute the losses\n",
    "        losses['avg'] = w_avg * avg_loss(smodel, imgs)\n",
    "        losses['rel'] = w_rel * rel_loss(smodel, imgs)\n",
    "        losses['smt'] = w_smt * smoothness_loss(smodel)\n",
    "        losses['cnt'] = w_cnt * steady_state_cont_loss(smodel)\n",
    "        # Set gradients to zero\n",
    "        optimizer.zero_grad()\n",
    "        # Backpropagate gradients\n",
    "        losses.tot().backward()\n",
    "        # Update parameters\n",
    "        optimizer.step()\n",
    "    return imgs, losses"
   ]
  },
  {
   "cell_type": "markdown",
   "metadata": {},
   "source": [
    "## Experiments\n",
    "\n",
    "---"
   ]
  },
  {
   "cell_type": "code",
   "execution_count": 25,
   "metadata": {},
   "outputs": [
    {
     "name": "stderr",
     "output_type": "stream",
     "text": [
      "  0%|          | 0/3 [00:00<?, ?it/s]/home/frederikd/.local/lib/python3.9/site-packages/torch/autograd/__init__.py:200: UserWarning: CUDA initialization: The NVIDIA driver on your system is too old (found version 9010). Please update your GPU driver by downloading and installing a new version from the URL: http://www.nvidia.com/Download/index.aspx Alternatively, go to: https://pytorch.org to install a PyTorch version that has been compiled with your version of the CUDA driver. (Triggered internally at ../c10/cuda/CUDAFunctions.cpp:109.)\n",
      "  Variable._execution_engine.run_backward(  # Calls into the C++ engine to run the backward pass\n",
      "100%|██████████| 3/3 [00:25<00:00,  8.64s/it]\n"
     ]
    }
   ],
   "source": [
    "imgs, losses = fit(losses, smodel_recon,\n",
    "    N_epochs = 3,\n",
    "    lr       = 1.0e-1,\n",
    "    w_avg    = 1.0e+0,\n",
    "    w_rel    = 1.0e+0,\n",
    "    w_smt    = 1.0e+0,\n",
    "    w_cnt    = 1.0e+0,\n",
    ")\n",
    "losses.renormalise_all()\n",
    "losses.reset()"
   ]
  },
  {
   "cell_type": "code",
   "execution_count": 26,
   "metadata": {},
   "outputs": [
    {
     "name": "stderr",
     "output_type": "stream",
     "text": [
      "  8%|▊         | 8/100 [01:17<15:12,  9.92s/it]"
     ]
    }
   ],
   "source": [
    "imgs, losses = fit(losses, smodel_recon,\n",
    "    N_epochs = 100,\n",
    "    lr       = 1.0e-1,\n",
    "    w_avg    = 1.0e+0,\n",
    "    w_rel    = 1.0e+0,\n",
    "    w_smt    = 1.0e+0,\n",
    "    w_cnt    = 1.0e+0,\n",
    ")\n",
    "losses.plot()"
   ]
  },
  {
   "cell_type": "markdown",
   "metadata": {},
   "source": [
    "Store the model reconstruction."
   ]
  },
  {
   "cell_type": "code",
   "execution_count": null,
   "metadata": {},
   "outputs": [],
   "source": [
    "smodel_recon.model_1D.save('model_recon.h5')"
   ]
  }
 ],
 "metadata": {
  "kernelspec": {
   "display_name": "magritte",
   "language": "python",
   "name": "python3"
  },
  "language_info": {
   "codemirror_mode": {
    "name": "ipython",
    "version": 3
   },
   "file_extension": ".py",
   "mimetype": "text/x-python",
   "name": "python",
   "nbconvert_exporter": "python",
   "pygments_lexer": "ipython3",
   "version": "3.9.13"
  }
 },
 "nbformat": 4,
 "nbformat_minor": 2
}
