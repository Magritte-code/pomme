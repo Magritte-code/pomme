{
 "cells": [
  {
   "cell_type": "markdown",
   "metadata": {},
   "source": [
    "# Test 1D: zero velocity, constant T\n",
    "---"
   ]
  },
  {
   "cell_type": "markdown",
   "metadata": {},
   "source": [
    "Consider a spherically symmetric model with maximal radius $R$.\n",
    "Assume no velocity field, so there are no Doppler shifts,\n",
    "\\begin{equation}\n",
    "    v(r) = 0.\n",
    "\\end{equation}\n",
    "Assume the temperature to be constant throughout the model, such that the source function is constant throughout the model.\n",
    "Assume an inverse-square law for the CO abundance,\n",
    "\\begin{equation}\n",
    "    n_{\\text{CO}}(r) = n_{\\text{CO}}(r_{\\text{in}}) \\left(\\frac{r_{\\text{in}}}{r}\\right)^{2} .\n",
    "\\end{equation}"
   ]
  },
  {
   "cell_type": "markdown",
   "metadata": {},
   "source": [
    "Let $b$ denote the impact parameter, such that $b \\in [0, R]$, and $a$ is the distance along the ray, such that $a \\in [-\\sqrt{R^{2}-b^{2}}, +\\sqrt{R^{2}-b^{2}}]$, and such that the radial distance from the origin for each parameter $a$ is given by,\n",
    "\\begin{equation}\n",
    "r = \\sqrt{a^{2}+b^{2}}.\n",
    "\\end{equation}"
   ]
  },
  {
   "cell_type": "markdown",
   "metadata": {},
   "source": [
    "\\begin{align}\n",
    "\\tau_{\\text{max}}(b) \\ &= \\ \\chi_{ij} \\, \\phi(\\nu) \\, n_{\\text{CO}}(r_{\\text{in}}) \\int_{-\\sqrt{R^{2}-b^{2}}}^{+\\sqrt{R^{2}-b^{2}}} \\text{d}a' \\\n",
    "\\frac{r_{\\text{in}}^{2}}{a'^{2}+b^{2}} \\\\\n",
    " \\ &= \\ 2 \\chi_{ij} \\, \\phi(\\nu) \\, n_{\\text{CO}}(r_{\\text{in}}) \\frac{R_{\\text{in}}^{2}}{b} \\text{arctan}\\left( \\frac{\\sqrt{R^{2}-b^{2}}}{b} \\right)\n",
    "\\end{align}"
   ]
  },
  {
   "cell_type": "markdown",
   "metadata": {},
   "source": [
    "\\begin{align}\n",
    "I(b) &= I_{\\text{bdy}} \\, e^{-\\tau_{\\text{max}}(b)} + \\int_{0}^{\\tau_{\\text{max}}(b)} \\text{d}\\tau' S \\, e^{-\\tau'} \\\\\n",
    "    &= I_{\\text{bdy}} \\, e^{-\\tau_{\\text{max}}(b)} + S \\left(1 - e^{-\\tau_{\\text{max}}(b)}\\right)\n",
    "\\end{align}"
   ]
  },
  {
   "cell_type": "markdown",
   "metadata": {},
   "source": [
    "The integrated intensity then yields\n",
    "\\begin{align}\n",
    "I(\\nu) \\ = \\ \\int_{0}^{R} \\text{d}b \\ 2 \\pi b \\, I(b)\n",
    "\\end{align}"
   ]
  },
  {
   "cell_type": "code",
   "execution_count": 1,
   "metadata": {},
   "outputs": [],
   "source": [
    "import matplotlib.pyplot as plt\n",
    "import numpy             as np\n",
    "import torch\n",
    "plt.rcParams[\"font.family\"] = \"serif\"\n",
    "\n",
    "from astropy         import units, constants\n",
    "from scipy.integrate import quad\n",
    "from pomme.lines  import Line\n",
    "from pomme.loss   import Loss\n",
    "from pomme.model  import TensorModel, SphericalModel\n",
    "from pomme.utils  import planck"
   ]
  },
  {
   "cell_type": "code",
   "execution_count": 2,
   "metadata": {},
   "outputs": [
    {
     "name": "stdout",
     "output_type": "stream",
     "text": [
      "You have selected line:\n",
      "    CO(J=1-0)\n",
      "Please check the properties that were inferred:\n",
      "    Frequency         1.152712018e+11  Hz\n",
      "    Einstein A coeff  7.203000000e-08  1/s\n",
      "    Molar mass        28.0101          g/mol\n"
     ]
    },
    {
     "name": "stderr",
     "output_type": "stream",
     "text": [
      "/home/frederikd/.local/lib/python3.9/site-packages/astroquery/lamda/core.py:145: UserWarning: The first time a LAMDA function is called, it must assemble a list of valid molecules and URLs.  This list will be cached so future operations will be faster.\n",
      "  warnings.warn(\"The first time a LAMDA function is called, it must \"\n"
     ]
    }
   ],
   "source": [
    "# Line data\n",
    "lines = [Line('CO', i) for i in range(1)]\n",
    "\n",
    "# Frequency data\n",
    "vdiff = 100   # velocity increment size [m/s]\n",
    "nfreq = 100   # number of frequencies\n",
    "\n",
    "velocities  = nfreq * vdiff * torch.linspace(-1, +1, nfreq, dtype=torch.float64)\n",
    "frequencies = [(1.0 + velocities / constants.c.si.value) * line.frequency for line in lines]"
   ]
  },
  {
   "cell_type": "code",
   "execution_count": 5,
   "metadata": {},
   "outputs": [],
   "source": [
    "n_elements = 128\n",
    "\n",
    "r_in  = (1.0e+0 * units.au).si.value\n",
    "r_out = (1.0e+2 * units.au).si.value\n",
    "\n",
    "# rs = np.logspace(np.log10(r_in), np.log10(r_out), n_elements)\n",
    "rs = np.linspace(         r_in ,          r_out , n_elements)\n",
    "\n",
    "T     = (5.0e+3 * units.K).si.value\n",
    "T_bdy = (2.7e+2 * units.K).si.value\n",
    "\n",
    "nCO_in = 1.0e+12\n",
    "\n",
    "n_CO = nCO_in * (r_in / rs)**2\n",
    "\n",
    "v_turb = (1.5 * units.km / units.s).si.value\n",
    "\n",
    "I_bdy = planck(temperature=T_bdy, frequency=frequencies[0])\n",
    "\n",
    "model = TensorModel(sizes=r_out, shape=n_elements)\n",
    "# Define and initialise the model variables\n",
    "model['log_CO'        ] = np.log(n_CO)\n",
    "model['log_turbulence'] = np.log(v_turb) * np.ones(n_elements)\n",
    "model['log_T'         ] = np.log(T)\n",
    "model['log_T_bdy'     ] = np.log(T_bdy)"
   ]
  },
  {
   "cell_type": "code",
   "execution_count": 6,
   "metadata": {},
   "outputs": [],
   "source": [
    "def get_velocity(model):\n",
    "    return torch.zeros_like(model['log_CO'])\n",
    "\n",
    "def get_temperature(model):\n",
    "    return torch.exp(model['log_T']) * torch.ones_like(model['log_CO'])\n",
    "\n",
    "def get_abundance(model):\n",
    "    return torch.exp(model['log_CO'])\n",
    "\n",
    "def get_turbulence(model):\n",
    "    return torch.exp(model['log_turbulence'])\n",
    "\n",
    "def get_boundary_condition(model, frequency, b):\n",
    "    T_bdy = torch.exp(model['log_T_bdy'])\n",
    "    # return torch.zeros_like(frequency)\n",
    "    return planck(temperature=T_bdy, frequency=frequency)\n",
    "        \n",
    "smodel = SphericalModel(rs, model, r_star=0.0)\n",
    "smodel.get_velocity           = get_velocity\n",
    "smodel.get_abundance          = get_abundance\n",
    "smodel.get_turbulence         = get_turbulence\n",
    "smodel.get_temperature        = get_temperature\n",
    "smodel.get_boundary_condition = get_boundary_condition"
   ]
  },
  {
   "cell_type": "code",
   "execution_count": 7,
   "metadata": {},
   "outputs": [],
   "source": [
    "eta_ij, chi_ij = lines[0].emissivity_and_opacity_ij(lines[0].LTE_pops(torch.Tensor([T])))\n",
    "dnu            = lines[0].gaussian_width(torch.exp(model['log_T']), torch.exp(model['log_turbulence'])).mean().item()\n",
    "\n",
    "S = (eta_ij / chi_ij).item()\n",
    "\n",
    "def phi(nu):\n",
    "    return np.exp(-(nu - lines[0].frequency)**2 / dnu**2) / np.sqrt(np.pi) / dnu\n",
    "\n",
    "def tau_max(b, nu):\n",
    "    return 2.0 * chi_ij.item() * nCO_in * r_in**2 / b * phi(nu) * np.arctan(np.sqrt((r_out/b)**2 - 1.0))\n",
    "\n",
    "def I(b, nu):\n",
    "    # Ib = 0.0\n",
    "    Ib = planck(temperature=T_bdy, frequency=nu)\n",
    "    return S + (Ib - S) * np.exp(-tau_max(b, nu))\n",
    "\n",
    "def integrant(b, nu):\n",
    "    return 2.0 * np.pi * b * I(b, nu)\n",
    "\n",
    "def I_int(nu):\n",
    "    return quad(integrant, 0.0, r_out, args=nu)\n",
    "\n",
    "Is_test = [I_int(nu)[0] for nu in frequencies[0].tolist()]"
   ]
  },
  {
   "cell_type": "code",
   "execution_count": 8,
   "metadata": {},
   "outputs": [
    {
     "name": "stderr",
     "output_type": "stream",
     "text": [
      "100%|██████████| 127/127 [00:00<00:00, 252.64it/s]\n"
     ]
    }
   ],
   "source": [
    "Is = smodel.image(lines, frequencies)"
   ]
  },
  {
   "cell_type": "code",
   "execution_count": 9,
   "metadata": {},
   "outputs": [
    {
     "data": {
      "text/plain": [
       "[<matplotlib.lines.Line2D at 0x7f0415269940>]"
      ]
     },
     "execution_count": 9,
     "metadata": {},
     "output_type": "execute_result"
    },
    {
     "data": {
      "image/png": "[encoded data removed]",
      "text/plain": [
       "<Figure size 900x600 with 1 Axes>"
      ]
     },
     "metadata": {
      "needs_background": "light"
     },
     "output_type": "display_data"
    }
   ],
   "source": [
    "plt.figure(dpi=150)\n",
    "plt.plot(Is[0].data)\n",
    "plt.plot(Is_test)\n",
    "# plt.plot(I_bdy)\n",
    "# plt.yscale('log')"
   ]
  },
  {
   "cell_type": "code",
   "execution_count": 10,
   "metadata": {},
   "outputs": [],
   "source": [
    "velocity    = smodel.get_velocity   (smodel.model_1D)\n",
    "abundance   = smodel.get_abundance  (smodel.model_1D)\n",
    "temperature = smodel.get_temperature(smodel.model_1D)\n",
    "turbulence  = smodel.get_turbulence (smodel.model_1D)\n",
    "\n",
    "i=10\n",
    "\n",
    "line = lines[0]\n",
    "freq = torch.Tensor([line.frequency])\n",
    "\n",
    "I_cen = []\n",
    "I_cen_test = []\n",
    "\n",
    "for i in range(smodel.Nb):\n",
    "    # Get boundary condition at this impact parameter\n",
    "    img_bdy = smodel.get_boundary_condition(smodel.model_1D, frequency=freq, b=smodel.rs[i])\n",
    "\n",
    "    # Get intensity at this impact parameter\n",
    "    I_loc = line.LTE_image_along_last_axis(\n",
    "        abundance    = abundance  [smodel.idss[i]],\n",
    "        temperature  = temperature[smodel.idss[i]],\n",
    "        v_turbulence = turbulence [smodel.idss[i]],\n",
    "        velocity_los = velocity   [smodel.idss[i]] * smodel.diss[i],\n",
    "        frequencies  = freq,\n",
    "        dx           = smodel.dZss[i],\n",
    "        img_bdy      = img_bdy\n",
    "    )\n",
    "\n",
    "    I_cen     .append(I_loc.item())\n",
    "    I_cen_test.append(I(rs[i], freq))"
   ]
  },
  {
   "cell_type": "code",
   "execution_count": 11,
   "metadata": {},
   "outputs": [
    {
     "data": {
      "text/plain": [
       "[1.4304405523414697e-15,\n",
       " 1.2771042743146747e-15,\n",
       " 1.2198601433708786e-15,\n",
       " 1.1895392454959463e-15,\n",
       " 1.170678386626146e-15,\n",
       " 1.1577892774032186e-15,\n",
       " 1.1484153349482926e-15,\n",
       " 1.1412879865267788e-15,\n",
       " 1.1356846567429246e-15,\n",
       " 1.1311630958006972e-15,\n",
       " 1.1274372779014824e-15,\n",
       " 1.1243139404182669e-15,\n",
       " 1.1216577637331917e-15,\n",
       " 1.119371153106372e-15,\n",
       " 1.117381940488899e-15,\n",
       " 1.1156356057191472e-15,\n",
       " 1.1140901902435495e-15,\n",
       " 1.112712874967185e-15,\n",
       " 1.11147761933033e-15,\n",
       " 1.11036349695041e-15,\n",
       " 1.1093534984519637e-15,\n",
       " 1.108433655619029e-15,\n",
       " 1.1075923907641907e-15,\n",
       " 1.1068200263169775e-15,\n",
       " 1.1061084102156955e-15,\n",
       " 1.105450626696161e-15,\n",
       " 1.104840770454454e-15,\n",
       " 1.1042737685742272e-15,\n",
       " 1.1037452388324242e-15,\n",
       " 1.1032513759975267e-15,\n",
       " 1.1027888598735349e-15,\n",
       " 1.1023547803870256e-15,\n",
       " 1.1019465761421713e-15,\n",
       " 1.1015619837008354e-15,\n",
       " 1.1011989954652666e-15,\n",
       " 1.1008558245077992e-15,\n",
       " 1.1005308750463728e-15,\n",
       " 1.100222717535983e-15,\n",
       " 1.0999300675554233e-15,\n",
       " 1.099651767831301e-15,\n",
       " 1.0993867728685403e-15,\n",
       " 1.0991341357567965e-15,\n",
       " 1.0988929968016142e-15,\n",
       " 1.0986625736924843e-15,\n",
       " 1.098442152970686e-15,\n",
       " 1.0982310826007132e-15,\n",
       " 1.098028765482213e-15,\n",
       " 1.0978346537663242e-15,\n",
       " 1.0976482438623629e-15,\n",
       " 1.0974690720389067e-15,\n",
       " 1.0972967105382697e-15,\n",
       " 1.0971307641357342e-15,\n",
       " 1.0969708670851838e-15,\n",
       " 1.0968166804013726e-15,\n",
       " 1.0966678894362474e-15,\n",
       " 1.0965242017127797e-15,\n",
       " 1.0963853449848609e-15,\n",
       " 1.0962510654961158e-15,\n",
       " 1.0961211264141461e-15,\n",
       " 1.0959953064198235e-15,\n",
       " 1.0958733984339064e-15,\n",
       " 1.0957552084655156e-15,\n",
       " 1.095640554568967e-15,\n",
       " 1.0955292658971151e-15,\n",
       " 1.0954211818408153e-15,\n",
       " 1.0953161512453567e-15,\n",
       " 1.0952140316957975e-15,\n",
       " 1.095114688864068e-15,\n",
       " 1.0950179959115234e-15,\n",
       " 1.0949238329413382e-15,\n",
       " 1.0948320864957492e-15,\n",
       " 1.0947426490936959e-15,\n",
       " 1.0946554188048784e-15,\n",
       " 1.0945702988566695e-15,\n",
       " 1.094487197270673e-15,\n",
       " 1.0944060265260458e-15,\n",
       " 1.09432670324697e-15,\n",
       " 1.0942491479119096e-15,\n",
       " 1.0941732845824973e-15,\n",
       " 1.0940990406500787e-15,\n",
       " 1.094026346598098e-15,\n",
       " 1.0939551357786501e-15,\n",
       " 1.0938853442016372e-15,\n",
       " 1.0938169103350535e-15,\n",
       " 1.0937497749150144e-15,\n",
       " 1.0936838807641835e-15,\n",
       " 1.0936191726173061e-15,\n",
       " 1.0935555969525636e-15,\n",
       " 1.0934931018274696e-15,\n",
       " 1.093431636718001e-15,\n",
       " 1.0933711523596108e-15,\n",
       " 1.0933116005886901e-15,\n",
       " 1.0932529341829419e-15,\n",
       " 1.0931951066989743e-15,\n",
       " 1.0931380723052308e-15,\n",
       " 1.0930817856081172e-15,\n",
       " 1.0930262014688575e-15,\n",
       " 1.0929712748081919e-15,\n",
       " 1.0929169603954983e-15,\n",
       " 1.0928632126182248e-15,\n",
       " 1.0928099852266428e-15,\n",
       " 1.0927572310477892e-15,\n",
       " 1.0927049016609789e-15,\n",
       " 1.0926529470253244e-15,\n",
       " 1.092601315047128e-15,\n",
       " 1.0925499510715786e-15,\n",
       " 1.0924987972785458e-15,\n",
       " 1.0924477919559375e-15,\n",
       " 1.0923968686153232e-15,\n",
       " 1.0923459549022264e-15,\n",
       " 1.0922949712359324e-15,\n",
       " 1.0922438290881822e-15,\n",
       " 1.0921924287723826e-15,\n",
       " 1.0921406565578627e-15,\n",
       " 1.0920883808351513e-15,\n",
       " 1.092035446917077e-15,\n",
       " 1.0919816698282426e-15,\n",
       " 1.0919268240392729e-15,\n",
       " 1.0918706283975017e-15,\n",
       " 1.091812723188416e-15,\n",
       " 1.0917526336490488e-15,\n",
       " 1.0916897086809844e-15,\n",
       " 1.0916230104886966e-15,\n",
       " 1.0915510966152065e-15,\n",
       " 1.091471529855375e-15,\n",
       " 1.0913795339019398e-15,\n",
       " 1.0912626994158037e-15]"
      ]
     },
     "execution_count": 11,
     "metadata": {},
     "output_type": "execute_result"
    }
   ],
   "source": [
    "I_cen"
   ]
  },
  {
   "cell_type": "code",
   "execution_count": 12,
   "metadata": {},
   "outputs": [
    {
     "name": "stderr",
     "output_type": "stream",
     "text": [
      "/home/frederikd/.conda/envs/magritte/lib/python3.9/site-packages/numpy/core/shape_base.py:65: FutureWarning: The input object of type 'Tensor' is an array-like implementing one of the corresponding protocols (`__array__`, `__array_interface__` or `__array_struct__`); but not a sequence (or 0-D). In the future, this object will be coerced as if it was first converted using `np.array(obj)`. To retain the old behaviour, you have to either modify the type 'Tensor', or assign to an empty array created with `np.empty(correct_shape, dtype=object)`.\n",
      "  ary = asanyarray(ary)\n",
      "/home/frederikd/.conda/envs/magritte/lib/python3.9/site-packages/numpy/core/shape_base.py:65: VisibleDeprecationWarning: Creating an ndarray from ragged nested sequences (which is a list-or-tuple of lists-or-tuples-or ndarrays with different lengths or shapes) is deprecated. If you meant to do this, you must specify 'dtype=object' when creating the ndarray.\n",
      "  ary = asanyarray(ary)\n"
     ]
    },
    {
     "data": {
      "text/plain": [
       "[<matplotlib.lines.Line2D at 0x7f0415305640>]"
      ]
     },
     "execution_count": 12,
     "metadata": {},
     "output_type": "execute_result"
    },
    {
     "data": {
      "image/png": "[encoded data removed]",
      "text/plain": [
       "<Figure size 900x600 with 1 Axes>"
      ]
     },
     "metadata": {
      "needs_background": "light"
     },
     "output_type": "display_data"
    }
   ],
   "source": [
    "plt.figure(dpi=150)\n",
    "plt.plot(I_cen)\n",
    "plt.plot(I_cen_test)"
   ]
  },
  {
   "cell_type": "code",
   "execution_count": 122,
   "metadata": {},
   "outputs": [
    {
     "data": {
      "text/plain": [
       "[<matplotlib.lines.Line2D at 0x7f96fe820700>]"
      ]
     },
     "execution_count": 122,
     "metadata": {},
     "output_type": "execute_result"
    },
    {
     "data": {
      "image/png": "[encoded data removed]",
      "text/plain": [
       "<Figure size 432x288 with 1 Axes>"
      ]
     },
     "metadata": {
      "needs_background": "light"
     },
     "output_type": "display_data"
    }
   ],
   "source": [
    "plt.plot(smodel.diss[8])"
   ]
  },
  {
   "cell_type": "code",
   "execution_count": null,
   "metadata": {},
   "outputs": [],
   "source": []
  }
 ],
 "metadata": {
  "kernelspec": {
   "display_name": "magritte",
   "language": "python",
   "name": "python3"
  },
  "language_info": {
   "codemirror_mode": {
    "name": "ipython",
    "version": 3
   },
   "file_extension": ".py",
   "mimetype": "text/x-python",
   "name": "python",
   "nbconvert_exporter": "python",
   "pygments_lexer": "ipython3",
   "version": "3.9.13"
  }
 },
 "nbformat": 4,
 "nbformat_minor": 2
}
