{
 "cells": [
  {
   "cell_type": "markdown",
   "id": "8a18d7c8-d0b0-47e7-86fb-b589d42e5ed9",
   "metadata": {},
   "source": [
    "# MAPS\n",
    "---\n",
    "\n",
    "Example using data from [Molecules with ALMA at Planet-forming Scales](https://alma-maps.info) (MAPS; [Öberg et al. 2021](https://ui.adsabs.harvard.edu/abs/2021ApJS..257....1O/abstract))."
   ]
  },
  {
   "cell_type": "code",
   "execution_count": null,
   "id": "329dff87-0800-448c-90e3-da947b7ea7f7",
   "metadata": {},
   "outputs": [],
   "source": []
  }
 ],
 "metadata": {
  "kernelspec": {
   "display_name": "Python 3 (ipykernel)",
   "language": "python",
   "name": "python3"
  },
  "language_info": {
   "codemirror_mode": {
    "name": "ipython",
    "version": 3
   },
   "file_extension": ".py",
   "mimetype": "text/x-python",
   "name": "python",
   "nbconvert_exporter": "python",
   "pygments_lexer": "ipython3",
   "version": "3.10.6"
  }
 },
 "nbformat": 4,
 "nbformat_minor": 5
}
