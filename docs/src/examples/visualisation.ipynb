{
 "cells": [
  {
   "cell_type": "markdown",
   "metadata": {},
   "source": [
    "# Visualisation\n",
    "---"
   ]
  },
  {
   "cell_type": "code",
   "execution_count": 1,
   "metadata": {},
   "outputs": [],
   "source": [
    "import matplotlib.pyplot as plt\n",
    "import numpy             as np\n",
    "import torch\n",
    "import k3d\n",
    "\n",
    "from astropy             import units, constants\n",
    "from ipywidgets          import interact\n",
    "from p3droslo.plot       import plot_cube_2D, plot_spectrum\n",
    "from p3droslo.model      import TensorModel"
   ]
  },
  {
   "cell_type": "code",
   "execution_count": 2,
   "metadata": {},
   "outputs": [],
   "source": [
    "model = TensorModel.load('IK_Tau.h5')\n",
    "\n",
    "rho   = torch.exp(model['log_NaCl']).data.numpy().astype(np.float32)"
   ]
  },
  {
   "cell_type": "code",
   "execution_count": 3,
   "metadata": {},
   "outputs": [
    {
     "data": {
      "application/vnd.jupyter.widget-view+json": {
       "model_id": "7da3f0c0fcc448c2a7e60ffa67bf4dbb",
       "version_major": 2,
       "version_minor": 0
      },
      "text/plain": [
       "Output()"
      ]
     },
     "metadata": {},
     "output_type": "display_data"
    }
   ],
   "source": [
    "import k3d\n",
    "import numpy as np\n",
    "from k3d.colormaps import matplotlib_color_maps\n",
    "from k3d.helpers import map_colors\n",
    "from numpy.linalg import norm\n",
    "\n",
    "p = np.linspace(-1, 1, 10)\n",
    "\n",
    "def f(x, y, z):\n",
    "    return y * z, x * z, x * y\n",
    "\n",
    "vectors = np.array([[[f(x, y, z) for x in p] for y in p] for z in p]).astype(np.float32)\n",
    "norms = np.apply_along_axis(norm, 1, vectors.reshape(-1, 3))\n",
    "\n",
    "plt_vector_field = k3d.vector_field(vectors,\n",
    "                                    head_size=1.5,\n",
    "                                    scale=2,\n",
    "                                    bounds=[-1, 1, -1, 1, -1, 1])\n",
    "\n",
    "colors = map_colors(norms, matplotlib_color_maps.Turbo, [0, 1]).astype(np.uint32)\n",
    "plt_vector_field.colors = np.repeat(colors, 2)\n",
    "\n",
    "plot = k3d.plot()\n",
    "plot += plt_vector_field\n",
    "plot.display()"
   ]
  },
  {
   "cell_type": "code",
   "execution_count": 4,
   "metadata": {},
   "outputs": [
    {
     "ename": "NameError",
     "evalue": "name 'origin' is not defined",
     "output_type": "error",
     "traceback": [
      "\u001b[0;31m---------------------------------------------------------------------------\u001b[0m",
      "\u001b[0;31mNameError\u001b[0m                                 Traceback (most recent call last)",
      "\u001b[1;32m/STER/frederikd/p3droslo/docs/src/examples/visualisation.ipynb Cell 5\u001b[0m line \u001b[0;36m<cell line: 1>\u001b[0;34m()\u001b[0m\n\u001b[0;32m----> <a href='vscode-notebook-cell://ssh-remote%2Benif/STER/frederikd/p3droslo/docs/src/examples/visualisation.ipynb#W4sdnNjb2RlLXJlbW90ZQ%3D%3D?line=0'>1</a>\u001b[0m star_location \u001b[39m=\u001b[39m (origin\u001b[39m/\u001b[39mrho\u001b[39m.\u001b[39mshape\u001b[39m-\u001b[39m\u001b[39m0.5\u001b[39m)\u001b[39m.\u001b[39mastype(np\u001b[39m.\u001b[39mfloat32)\n\u001b[1;32m      <a href='vscode-notebook-cell://ssh-remote%2Benif/STER/frederikd/p3droslo/docs/src/examples/visualisation.ipynb#W4sdnNjb2RlLXJlbW90ZQ%3D%3D?line=1'>2</a>\u001b[0m star_radius   \u001b[39m=\u001b[39m R_star\u001b[39m/\u001b[39mnp\u001b[39m.\u001b[39mmean(model\u001b[39m.\u001b[39msizes)\n\u001b[1;32m      <a href='vscode-notebook-cell://ssh-remote%2Benif/STER/frederikd/p3droslo/docs/src/examples/visualisation.ipynb#W4sdnNjb2RlLXJlbW90ZQ%3D%3D?line=3'>4</a>\u001b[0m plt_volume \u001b[39m=\u001b[39m k3d\u001b[39m.\u001b[39mvolume(\n\u001b[1;32m      <a href='vscode-notebook-cell://ssh-remote%2Benif/STER/frederikd/p3droslo/docs/src/examples/visualisation.ipynb#W4sdnNjb2RlLXJlbW90ZQ%3D%3D?line=4'>5</a>\u001b[0m     volume      \u001b[39m=\u001b[39m rho,\n\u001b[1;32m      <a href='vscode-notebook-cell://ssh-remote%2Benif/STER/frederikd/p3droslo/docs/src/examples/visualisation.ipynb#W4sdnNjb2RlLXJlbW90ZQ%3D%3D?line=5'>6</a>\u001b[0m     alpha_coef  \u001b[39m=\u001b[39m \u001b[39m30.0\u001b[39m,\n\u001b[1;32m      <a href='vscode-notebook-cell://ssh-remote%2Benif/STER/frederikd/p3droslo/docs/src/examples/visualisation.ipynb#W4sdnNjb2RlLXJlbW90ZQ%3D%3D?line=6'>7</a>\u001b[0m     \u001b[39m# color_range = [100000, 5000000]\u001b[39;00m\n\u001b[1;32m      <a href='vscode-notebook-cell://ssh-remote%2Benif/STER/frederikd/p3droslo/docs/src/examples/visualisation.ipynb#W4sdnNjb2RlLXJlbW90ZQ%3D%3D?line=7'>8</a>\u001b[0m )\n",
      "\u001b[0;31mNameError\u001b[0m: name 'origin' is not defined"
     ]
    }
   ],
   "source": [
    "\n",
    "star_location = (origin/rho.shape-0.5).astype(np.float32)\n",
    "star_radius   = R_star/np.mean(model.sizes)\n",
    "\n",
    "plt_volume = k3d.volume(\n",
    "    volume      = rho,\n",
    "    alpha_coef  = 30.0,\n",
    "    # color_range = [100000, 5000000]\n",
    ")\n",
    "plt_star   = k3d.points(\n",
    "    positions  = [star_location],\n",
    "    point_size = star_radius,\n",
    "    color      = 0xffd600\n",
    ")\n",
    "\n",
    "plot  = k3d.plot()\n",
    "plot += plt_volume\n",
    "plot += plt_star\n",
    "plot.display()"
   ]
  },
  {
   "cell_type": "code",
   "execution_count": null,
   "metadata": {},
   "outputs": [],
   "source": []
  }
 ],
 "metadata": {
  "kernelspec": {
   "display_name": "magritte",
   "language": "python",
   "name": "python3"
  },
  "language_info": {
   "codemirror_mode": {
    "name": "ipython",
    "version": 3
   },
   "file_extension": ".py",
   "mimetype": "text/x-python",
   "name": "python",
   "nbconvert_exporter": "python",
   "pygments_lexer": "ipython3",
   "version": "3.9.13"
  },
  "orig_nbformat": 4
 },
 "nbformat": 4,
 "nbformat_minor": 2
}
