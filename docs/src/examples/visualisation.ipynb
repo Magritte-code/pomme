{
 "cells": [
  {
   "cell_type": "markdown",
   "metadata": {},
   "source": [
    "# Visualisation\n",
    "---"
   ]
  },
  {
   "cell_type": "code",
   "execution_count": 1,
   "metadata": {},
   "outputs": [],
   "source": [
    "import matplotlib.pyplot as plt\n",
    "import numpy             as np\n",
    "import torch\n",
    "import k3d\n",
    "\n",
    "from astropy             import units, constants\n",
    "from ipywidgets          import interact\n",
    "from p3droslo.plot       import plot_cube_2D, plot_spectrum\n",
    "from p3droslo.model      import TensorModel"
   ]
  },
  {
   "cell_type": "code",
   "execution_count": 2,
   "metadata": {},
   "outputs": [],
   "source": [
    "model = TensorModel.load('IK_Tau.h5')\n",
    "\n",
    "rho   = torch.exp(model['log_NaCl']).data.numpy().astype(np.float32)"
   ]
  },
  {
   "cell_type": "code",
   "execution_count": null,
   "metadata": {},
   "outputs": [],
   "source": [
    "import k3d\n",
    "import numpy as np\n",
    "from k3d.colormaps import matplotlib_color_maps\n",
    "from k3d.helpers import map_colors\n",
    "from numpy.linalg import norm\n",
    "\n",
    "p = np.linspace(-1, 1, 10)\n",
    "\n",
    "def f(x, y, z):\n",
    "    return y * z, x * z, x * y\n",
    "\n",
    "vectors = np.array([[[f(x, y, z) for x in p] for y in p] for z in p]).astype(np.float32)\n",
    "norms = np.apply_along_axis(norm, 1, vectors.reshape(-1, 3))\n",
    "\n",
    "plt_vector_field = k3d.vector_field(vectors,\n",
    "                                    head_size=1.5,\n",
    "                                    scale=2,\n",
    "                                    bounds=[-1, 1, -1, 1, -1, 1])\n",
    "\n",
    "colors = map_colors(norms, matplotlib_color_maps.Turbo, [0, 1]).astype(np.uint32)\n",
    "plt_vector_field.colors = np.repeat(colors, 2)\n",
    "\n",
    "plot = k3d.plot()\n",
    "plot += plt_vector_field\n",
    "plot.display()"
   ]
  },
  {
   "cell_type": "code",
   "execution_count": null,
   "metadata": {},
   "outputs": [
    {
     "data": {
      "application/vnd.jupyter.widget-view+json": {
       "model_id": "37338509e3cb4e25bdcf35d61c1b92d3",
       "version_major": 2,
       "version_minor": 0
      },
      "text/plain": [
       "Output()"
      ]
     },
     "metadata": {},
     "output_type": "display_data"
    }
   ],
   "source": [
    "\n",
    "star_location = (origin/rho.shape-0.5).astype(np.float32)\n",
    "star_radius   = R_star/np.mean(model.sizes)\n",
    "\n",
    "plt_volume = k3d.volume(\n",
    "    volume      = rho,\n",
    "    alpha_coef  = 30.0,\n",
    "    # color_range = [100000, 5000000]\n",
    ")\n",
    "plt_star   = k3d.points(\n",
    "    positions  = [star_location],\n",
    "    point_size = star_radius,\n",
    "    color      = 0xffd600\n",
    ")\n",
    "\n",
    "plot  = k3d.plot()\n",
    "plot += plt_volume\n",
    "plot += plt_star\n",
    "plot.display()"
   ]
  }
 ],
 "metadata": {
  "kernelspec": {
   "display_name": "magritte",
   "language": "python",
   "name": "python3"
  },
  "language_info": {
   "codemirror_mode": {
    "name": "ipython",
    "version": 3
   },
   "file_extension": ".py",
   "mimetype": "text/x-python",
   "name": "python",
   "nbconvert_exporter": "python",
   "pygments_lexer": "ipython3",
   "version": "3.9.13"
  },
  "orig_nbformat": 4
 },
 "nbformat": 4,
 "nbformat_minor": 2
}
