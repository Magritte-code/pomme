{
 "cells": [
  {
   "cell_type": "markdown",
   "id": "fb239c65-cbff-4285-bd38-ffcd9efa6346",
   "metadata": {},
   "source": [
    "# DSHARP\n",
    "---\n",
    "\n",
    "Example using data from the [Disk Substructures at High Angular Resolution Project](https://almascience.eso.org/almadata/lp/DSHARP/) (DSHARP; [Andrews et al. 2018](https://ui.adsabs.harvard.edu/abs/2018ApJ...869L..41A/abstract))."
   ]
  },
  {
   "cell_type": "code",
   "execution_count": 18,
   "id": "01c8f427-38a5-44a2-aae9-dae7466ac697",
   "metadata": {},
   "outputs": [],
   "source": [
    "import numpy as np\n",
    "\n",
    "from os.path              import join\n",
    "from p3droslo.observation import DataCube"
   ]
  },
  {
   "cell_type": "code",
   "execution_count": 2,
   "id": "a9448a7e-be81-4bb8-a30c-0f59eb80e3ff",
   "metadata": {},
   "outputs": [],
   "source": [
    "wdir = \"/STER/frederikd/data/\""
   ]
  },
  {
   "cell_type": "code",
   "execution_count": 3,
   "id": "42ef2739-476e-4b26-8e21-0d87c27c7d2f",
   "metadata": {},
   "outputs": [],
   "source": [
    "data_file = join(wdir, \"DoAr25_CO.fits\")\n",
    "cont_file = join(wdir, \"DoAr25_continuum.fits\")"
   ]
  },
  {
   "cell_type": "code",
   "execution_count": 4,
   "id": "7b5ee5c5-fd4e-4926-a12a-ee6ed8c706df",
   "metadata": {},
   "outputs": [],
   "source": [
    "data_link = \"https://almascience.eso.org/almadata/lp/DSHARP/images/DoAr25_CO.fits\"\n",
    "cont_link = \"https://almascience.eso.org/almadata/lp/DSHARP/images/DoAr25_continuum.fits\""
   ]
  },
  {
   "cell_type": "code",
   "execution_count": 5,
   "id": "afbcbdf8-c2b6-4daf-96de-baaf16e56f7f",
   "metadata": {},
   "outputs": [],
   "source": [
    "!mkdir -p $wdir"
   ]
  },
  {
   "cell_type": "code",
   "execution_count": 7,
   "id": "5d1c1948-7029-4b8e-b620-cd1699459b9b",
   "metadata": {},
   "outputs": [],
   "source": [
    "# !wget $data_link --output-document $data_file\n",
    "# !wget $cont_link --output-document $cont_file"
   ]
  },
  {
   "cell_type": "code",
   "execution_count": 11,
   "id": "e7542bf0-18ed-432c-9ca1-b50b0d9ca755",
   "metadata": {},
   "outputs": [],
   "source": [
    "dat = DataCube(data_file)"
   ]
  },
  {
   "cell_type": "code",
   "execution_count": 12,
   "id": "04b162d8-a56f-4548-9e59-10de51f58756",
   "metadata": {},
   "outputs": [
    {
     "data": {
      "application/vnd.jupyter.widget-view+json": {
       "model_id": "97005d4b10c04cc4b6213648cf49164b",
       "version_major": 2,
       "version_minor": 0
      },
      "text/plain": [
       "interactive(children=(IntSlider(value=29, description='f', max=59), Output()), _dom_classes=('widget-interact'…"
      ]
     },
     "metadata": {},
     "output_type": "display_data"
    },
    {
     "data": {
      "text/plain": [
       "<function p3droslo.observation.DataCube.plot_channel_maps.<locals>.plot(f)>"
      ]
     },
     "execution_count": 12,
     "metadata": {},
     "output_type": "execute_result"
    }
   ],
   "source": [
    "dat.plot_channel_maps()"
   ]
  },
  {
   "cell_type": "code",
   "execution_count": 13,
   "id": "217623b9-5314-4453-8c20-03c3b7fa9eb5",
   "metadata": {},
   "outputs": [],
   "source": [
    "dat = DataCube(cont_file)"
   ]
  },
  {
   "cell_type": "code",
   "execution_count": 14,
   "id": "97514e1b-3baf-4410-8019-5848f447fe39",
   "metadata": {},
   "outputs": [
    {
     "data": {
      "application/vnd.jupyter.widget-view+json": {
       "model_id": "98272112f9ef449ebc97268707c4d142",
       "version_major": 2,
       "version_minor": 0
      },
      "text/plain": [
       "interactive(children=(IntSlider(value=0, description='f', max=0), Output()), _dom_classes=('widget-interact',)…"
      ]
     },
     "metadata": {},
     "output_type": "display_data"
    },
    {
     "data": {
      "text/plain": [
       "<function p3droslo.observation.DataCube.plot_channel_maps.<locals>.plot(f)>"
      ]
     },
     "execution_count": 14,
     "metadata": {},
     "output_type": "execute_result"
    }
   ],
   "source": [
    "dat.plot_channel_maps()"
   ]
  },
  {
   "cell_type": "code",
   "execution_count": 21,
   "id": "7a267d8c-c5ed-445a-8188-451d0433aaa0",
   "metadata": {},
   "outputs": [
    {
     "data": {
      "text/plain": [
       "(array([0]), array([1336]), array([1489]))"
      ]
     },
     "execution_count": 21,
     "metadata": {},
     "output_type": "execute_result"
    }
   ],
   "source": [
    "np.where(dat.img == np.max(dat.img))"
   ]
  },
  {
   "cell_type": "code",
   "execution_count": null,
   "id": "6a389c5e-be5b-4963-b9ea-bffc7defe511",
   "metadata": {},
   "outputs": [],
   "source": []
  }
 ],
 "metadata": {
  "kernelspec": {
   "display_name": "Python 3 (ipykernel)",
   "language": "python",
   "name": "python3"
  },
  "language_info": {
   "codemirror_mode": {
    "name": "ipython",
    "version": 3
   },
   "file_extension": ".py",
   "mimetype": "text/x-python",
   "name": "python",
   "nbconvert_exporter": "python",
   "pygments_lexer": "ipython3",
   "version": "3.10.6"
  }
 },
 "nbformat": 4,
 "nbformat_minor": 5
}
