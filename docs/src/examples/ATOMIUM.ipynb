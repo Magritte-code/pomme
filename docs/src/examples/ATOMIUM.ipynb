{
 "cells": [
  {
   "cell_type": "markdown",
   "id": "f7786a07-4174-46ef-94c4-2d21749b954d",
   "metadata": {},
   "source": [
    "# ATOMIUM\n",
    "---\n",
    "\n"
   ]
  },
  {
   "cell_type": "code",
   "execution_count": null,
   "id": "5130f646-3886-4581-b7f7-fb56c85e9182",
   "metadata": {},
   "outputs": [],
   "source": []
  }
 ],
 "metadata": {
  "kernelspec": {
   "display_name": "Python 3 (ipykernel)",
   "language": "python",
   "name": "python3"
  },
  "language_info": {
   "codemirror_mode": {
    "name": "ipython",
    "version": 3
   },
   "file_extension": ".py",
   "mimetype": "text/x-python",
   "name": "python",
   "nbconvert_exporter": "python",
   "pygments_lexer": "ipython3",
   "version": "3.10.6"
  }
 },
 "nbformat": 4,
 "nbformat_minor": 5
}
