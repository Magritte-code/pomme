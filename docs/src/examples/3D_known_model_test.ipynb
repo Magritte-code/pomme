{
 "cells": [
  {
   "attachments": {},
   "cell_type": "markdown",
   "id": "6e1c6d5a-41e4-4704-ae00-528fc16c17a3",
   "metadata": {
    "tags": []
   },
   "source": [
    "# 3D synthetic model & observations TEST\n",
    "---"
   ]
  },
  {
   "cell_type": "code",
   "execution_count": 1,
   "id": "6eeb6ce3-3528-47f0-8871-b111aba9042b",
   "metadata": {
    "tags": []
   },
   "outputs": [],
   "source": [
    "import matplotlib.pyplot as plt\n",
    "import numpy             as np\n",
    "\n",
    "from tqdm                 import tqdm\n",
    "from astropy              import units, constants\n",
    "from scipy.interpolate    import griddata\n",
    "\n",
    "from pomme.utils       import convert_angular_to_spatial\n",
    "from pomme.plot        import plot_cube_2D\n",
    "from pomme.object      import AstroObject\n",
    "from pomme.observation import DataCube\n",
    "\n",
    "from pomme.model       import TensorModel, SphericallySymmetric\n",
    "from pomme.utils       import print_var, interpolate\n",
    "from pomme.lines       import Line\n",
    "from pomme.loss        import Loss, fourier_loss_1D, fourier_loss_1D\n",
    "from pomme.haar        import Haar"
   ]
  },
  {
   "cell_type": "code",
   "execution_count": 2,
   "id": "cec082d9-674f-402e-9477-407358b04520",
   "metadata": {},
   "outputs": [],
   "source": [
    "# File name\n",
    "input_file = \"/STER/frederikd/Magritte-examples/Phantom_3D/model_Phantom_3D.ascii\"\n",
    "\n",
    "# Read the Phantom ascii file\n",
    "(x,y,z, h, rho, v_x,v_y,v_z, u) = np.loadtxt(input_file, skiprows=14, usecols=(0,1,2,4,5,6,7,8,9), unpack=True)\n",
    "\n",
    "# Constants that can be read from ascii file\n",
    "velocity_cte = 2.9784608e+06\n",
    "density_cte  = 5.9410314e-07\n",
    "energy_cte   = 8.8712277e+12\n",
    "\n",
    "keep = np.logical_and(h>0.0, rho>0.0)\n",
    "\n",
    "# Exclude unphysical points and points with zero abundance\n",
    "x   = x  [keep]\n",
    "y   = y  [keep]\n",
    "z   = z  [keep]\n",
    "v_x = v_x[keep]\n",
    "v_y = v_y[keep]\n",
    "v_z = v_z[keep]\n",
    "u   = u  [keep]\n",
    "rho = rho[keep]\n",
    "\n",
    "# Extract the number of points\n",
    "npoints = len(x)\n",
    "\n",
    "# Convert rho (total density) to abundances\n",
    "nH2 = rho * density_cte * 1.0e+6 * constants.N_A.si.value / 2.02\n",
    "nCO = nH2 * 1.0e-4\n",
    "\n",
    "# Convert to m/s\n",
    "v_x *= velocity_cte * 0.01\n",
    "v_y *= velocity_cte * 0.01\n",
    "v_z *= velocity_cte * 0.01\n",
    "\n",
    "position = np.array((x, y, z)).transpose()\n",
    "\n",
    "# Convert units\n",
    "position *= constants.au.si.value   # Convert au to m\n",
    "\n",
    "# Derive temperature from internal energy (assuming adiabatic heating/cooling)\n",
    "gamma = 1.2\n",
    "mu    = 2.381\n",
    "tmp   = mu * (gamma-1.0) * u * energy_cte * 1.00784 * (units.erg/units.g * constants.u/constants.k_B).to(units.K).value\n",
    "\n",
    "# Cut-off temperatures below 2.725 K\n",
    "tmp[tmp<2.725] = 2.725\n",
    "\n",
    "# Define turbulence at 150 m/s\n",
    "trb = 150.0\n",
    "\n",
    "# Map point data to a regular grid\n",
    "haar = Haar(position, q=7)\n",
    "\n",
    "# nCO_dat = haar.map_data(nCO, interpolate=True)[-1][8:56,8:56,8:56]\n",
    "# tmp_dat = haar.map_data(tmp, interpolate=True)[-1][8:56,8:56,8:56]\n",
    "# v_x_dat = haar.map_data(v_x, interpolate=True)[-1][8:56,8:56,8:56]\n",
    "# v_y_dat = haar.map_data(v_y, interpolate=True)[-1][8:56,8:56,8:56]\n",
    "# v_z_dat = haar.map_data(v_z, interpolate=True)[-1][8:56,8:56,8:56]\n",
    "\n",
    "# nCO_dat = haar.map_data(nCO, interpolate=True)[-1][17:111,17:111,17:111]\n",
    "# tmp_dat = haar.map_data(tmp, interpolate=True)[-1][17:111,17:111,17:111]\n",
    "# v_x_dat = haar.map_data(v_x, interpolate=True)[-1][17:111,17:111,17:111]\n",
    "# v_y_dat = haar.map_data(v_y, interpolate=True)[-1][17:111,17:111,17:111]\n",
    "# v_z_dat = haar.map_data(v_z, interpolate=True)[-1][17:111,17:111,17:111]\n",
    "\n",
    "# nCO_dat = haar.map_data(nCO, interpolate=True)[-1][32:224,32:224,32:224]\n",
    "# tmp_dat = haar.map_data(tmp, interpolate=True)[-1][32:224,32:224,32:224]\n",
    "# v_x_dat = haar.map_data(v_x, interpolate=True)[-1][32:224,32:224,32:224]\n",
    "# v_y_dat = haar.map_data(v_y, interpolate=True)[-1][32:224,32:224,32:224]\n",
    "# v_z_dat = haar.map_data(v_z, interpolate=True)[-1][32:224,32:224,32:224]\n",
    "\n",
    "nCO_dat = haar.map_data(nCO, interpolate=True)[-1]\n",
    "tmp_dat = haar.map_data(tmp, interpolate=True)[-1]\n",
    "v_x_dat = haar.map_data(v_x, interpolate=True)[-1]\n",
    "v_y_dat = haar.map_data(v_y, interpolate=True)[-1]\n",
    "v_z_dat = haar.map_data(v_z, interpolate=True)[-1]"
   ]
  },
  {
   "cell_type": "code",
   "execution_count": 3,
   "id": "ec944102",
   "metadata": {},
   "outputs": [],
   "source": [
    "# reduce = lambda a: 0.25*(a[0::2,0::2,:] + a[1::2,0::2,:] + a[0::2,1::2,:] + a[1::2,1::2,:])\n",
    "\n",
    "# nCO_dat = reduce(nCO_dat)\n",
    "# tmp_dat = reduce(tmp_dat)\n",
    "# v_x_dat = reduce(v_x_dat)\n",
    "# v_y_dat = reduce(v_y_dat)\n",
    "# v_z_dat = reduce(v_z_dat)\n",
    "\n",
    "# nCO_dat = reduce(nCO_dat)\n",
    "# tmp_dat = reduce(tmp_dat)\n",
    "# v_x_dat = reduce(v_x_dat)\n",
    "# v_y_dat = reduce(v_y_dat)\n",
    "# v_z_dat = reduce(v_z_dat)"
   ]
  },
  {
   "cell_type": "code",
   "execution_count": 4,
   "id": "db4c321b-b9c2-4606-8880-1726b3ed7b43",
   "metadata": {},
   "outputs": [
    {
     "data": {
      "application/vnd.jupyter.widget-view+json": {
       "model_id": "2185f602375249ae9676e5a35669edf4",
       "version_major": 2,
       "version_minor": 0
      },
      "text/plain": [
       "interactive(children=(IntSlider(value=31, description='z', max=63), Output()), _dom_classes=('widget-interact'…"
      ]
     },
     "metadata": {},
     "output_type": "display_data"
    },
    {
     "data": {
      "text/plain": [
       "<function pomme.plot.plot_cube_2D.<locals>.plot(z)>"
      ]
     },
     "execution_count": 4,
     "metadata": {},
     "output_type": "execute_result"
    }
   ],
   "source": [
    "plot_cube_2D(np.log(nCO_dat))"
   ]
  },
  {
   "cell_type": "code",
   "execution_count": 5,
   "id": "cb78379c-9e21-49ec-8647-0ade033e44f2",
   "metadata": {},
   "outputs": [],
   "source": [
    "assert tmp_dat.shape == nCO_dat.shape\n",
    "assert tmp_dat.shape == v_z_dat.shape\n",
    "\n",
    "tm = TensorModel(shape=nCO_dat.shape, sizes=haar.xyz_L)\n",
    "tm['log_CO'         ]  = np.log(nCO_dat)\n",
    "tm['log_temperature']  = np.log(tmp_dat)\n",
    "tm['velocity_z']       =        v_z_dat\n",
    "tm['log_v_turbulence'] = np.log(np.array([trb]))"
   ]
  },
  {
   "cell_type": "code",
   "execution_count": 6,
   "id": "cc0d1773-4327-4181-93a5-c15bb0ea3bc8",
   "metadata": {},
   "outputs": [],
   "source": [
    "vel = np.array((v_x_dat.reshape(-1), v_y_dat.reshape(-1), v_z_dat.reshape(-1))).T\n",
    "pos = np.moveaxis(tm.get_coords(), 0, -1).reshape(-1, 3)\n",
    "nCO = nCO_dat.reshape(-1)\n",
    "tmp = tmp_dat.reshape(-1)\n",
    "\n",
    "# np.save(\"nCO\", nCO_dat)\n",
    "# np.save(\"tmp\", tmp_dat)\n",
    "# np.save(\"vel\", vel_dat)\n",
    "# np.save(\"pos\", pos_dat)\n",
    "\n",
    "# pos_dat = model.get_coords().T\n",
    "# np.save(\"pos_cube\", pos_dat)"
   ]
  },
  {
   "cell_type": "code",
   "execution_count": 7,
   "id": "d717f90d-ea89-4e0b-87ce-6881f608fd56",
   "metadata": {},
   "outputs": [],
   "source": [
    "pos_min = np.min(pos, axis=0)\n",
    "pos_max = np.max(pos, axis=0)\n",
    "\n",
    "bdy = []\n",
    "for i in range(3):\n",
    "    bdy += list(np.where(pos[:,i] == pos_max[i])[0])\n",
    "    bdy += list(np.where(pos[:,i] == pos_min[i])[0]) \n",
    "bdy = sorted(set(bdy))"
   ]
  },
  {
   "cell_type": "code",
   "execution_count": 8,
   "id": "8768fa3f-c552-4812-8de4-b6dd6d34925e",
   "metadata": {},
   "outputs": [],
   "source": [
    "import magritte.core  as magritte\n",
    "import magritte.setup as setup"
   ]
  },
  {
   "cell_type": "code",
   "execution_count": 9,
   "id": "6969feb7-5faa-414c-8c64-7489e51f83b4",
   "metadata": {},
   "outputs": [
    {
     "name": "stdout",
     "output_type": "stream",
     "text": [
      "npoints: 262144\n"
     ]
    }
   ],
   "source": [
    "# Magritte setup\n",
    "modelFile = \"magritte_model.hdf5\"\n",
    "lamdaFile = \"data/co.txt\"\n",
    "dimension = 3\n",
    "npoints   = pos.shape[0]\n",
    "nrays     = 2\n",
    "nspecs    = 5\n",
    "nlspecs   = 1\n",
    "nquads    = 100\n",
    "\n",
    "print(\"npoints:\", npoints)"
   ]
  },
  {
   "cell_type": "code",
   "execution_count": 10,
   "id": "9b80b6e0-3f0c-49f8-b542-74c86a44c209",
   "metadata": {},
   "outputs": [
    {
     "name": "stdout",
     "output_type": "stream",
     "text": [
      "Not considering all radiative transitions on the data file but only the specified ones!\n",
      "Writing parameters...\n",
      "Writing points...\n",
      "Writing rays...\n",
      "Writing boundary...\n",
      "Writing chemistry...\n",
      "Writing species...\n",
      "Writing thermodynamics...\n",
      "Writing temperature...\n",
      "Writing turbulence...\n",
      "Writing lines...\n",
      "Writing lineProducingSpecies...\n",
      "Writing linedata...\n",
      "ncolpoar = 2\n",
      "--- colpoar = 0\n",
      "Writing collisionPartner...\n",
      "(l, c) = 0, 0\n",
      "--- colpoar = 1\n",
      "Writing collisionPartner...\n",
      "(l, c) = 0, 1\n",
      "Writing quadrature...\n",
      "Writing populations...\n",
      "Writing radiation...\n",
      "Writing frequencies...\n",
      "                                           \n",
      "-------------------------------------------\n",
      "  Reading Model...                         \n",
      "-------------------------------------------\n",
      " model file = magritte_model.hdf5\n",
      "-------------------------------------------\n",
      "Reading parameters...\n",
      "Reading points...\n",
      "Reading rays...\n",
      "Reading boundary...\n",
      "Reading chemistry...\n",
      "Reading species...\n",
      "Reading thermodynamics...\n",
      "Reading temperature...\n",
      "Reading turbulence...\n",
      "Reading lines...\n",
      "Reading lineProducingSpecies...\n",
      "Reading linedata...\n",
      "read num 1\n",
      "read sym CO\n",
      "nlev = 41\n",
      "nrad = 1\n",
      "Reading collisionPartner...\n",
      "Reading collisionPartner...\n",
      "Reading quadrature...\n",
      "Reading radiation...\n",
      "Reading frequencies...\n",
      "Not using scattering!\n",
      "                                           \n",
      "-------------------------------------------\n",
      "  Model read, parameters:                  \n",
      "-------------------------------------------\n",
      "  npoints    = 262144\n",
      "  nrays      = 2\n",
      "  nboundary  = 23816\n",
      "  nfreqs     = 100\n",
      "  nspecs     = 5\n",
      "  nlspecs    = 1\n",
      "  nlines     = 1\n",
      "  nquads     = 100\n",
      "-------------------------------------------\n",
      "                                           \n"
     ]
    }
   ],
   "source": [
    "mm = magritte.Model ()\n",
    "mm.parameters.set_spherical_symmetry(False)\n",
    "mm.parameters.set_model_name        (modelFile)\n",
    "mm.parameters.set_dimension         (dimension)\n",
    "mm.parameters.set_npoints           (npoints)\n",
    "mm.parameters.set_nrays             (nrays)\n",
    "mm.parameters.set_nspecs            (nspecs)\n",
    "mm.parameters.set_nlspecs           (nlspecs)\n",
    "mm.parameters.set_nquads            (nquads)\n",
    "\n",
    "ones  = np.ones (npoints)\n",
    "zeros = np.zeros(npoints)\n",
    "\n",
    "mm.geometry.points.position.set(pos)\n",
    "mm.geometry.points.velocity.set(vel/constants.c.si.value)\n",
    "\n",
    "mm.chemistry.species.abundance = np.array((zeros, nCO, nCO, zeros, ones)).T\n",
    "mm.chemistry.species.symbol    = ['dummy0', 'CO', 'H2', 'e-', 'dummy1']\n",
    "\n",
    "mm.thermodynamics.temperature.gas  .set( tmp)\n",
    "mm.thermodynamics.turbulence.vturb2.set((trb/magritte.CC)**2 * np.ones(npoints))\n",
    "\n",
    "mm.parameters.set_nboundary(len(bdy))\n",
    "mm.geometry.boundary.boundary2point.set(bdy)\n",
    "\n",
    "direction = np.array([[0,0,+1], [0,0,-1]])         # Comment out to use all directions\n",
    "mm.geometry.rays.direction.set(direction)          # Comment out to use all directions\n",
    "mm.geometry.rays.weight   .set(0.5 * np.ones(2))   # Comment out to use all directions\n",
    "\n",
    "mm = setup.set_Delaunay_neighbor_lists (mm)\n",
    "mm = setup.set_boundary_condition_zero (mm)\n",
    "mm = setup.set_linedata_from_LAMDA_file(mm, lamdaFile, {'considered transitions': [0]})\n",
    "mm = setup.set_quadrature              (mm)\n",
    "\n",
    "mm.write()\n",
    "mm.read ()"
   ]
  },
  {
   "cell_type": "code",
   "execution_count": 11,
   "id": "2a1c89df-6f54-4447-9db7-aaaacacc1f86",
   "metadata": {},
   "outputs": [
    {
     "name": "stdout",
     "output_type": "stream",
     "text": [
      "Computing spectral discretisation...\n",
      "Computing inverse line widths...\n",
      "Computing LTE level populations...\n"
     ]
    },
    {
     "data": {
      "text/plain": [
       "0"
      ]
     },
     "execution_count": 11,
     "metadata": {},
     "output_type": "execute_result"
    }
   ],
   "source": [
    "mm.compute_spectral_discretisation ()\n",
    "mm.compute_inverse_line_widths     ()\n",
    "mm.compute_LTE_level_populations   ()"
   ]
  },
  {
   "cell_type": "code",
   "execution_count": 65,
   "id": "ef555a52-0208-41f8-8e42-90db05ad3d12",
   "metadata": {},
   "outputs": [
    {
     "name": "stdout",
     "output_type": "stream",
     "text": [
      "Computing spectral discretisation..."
     ]
    },
    {
     "data": {
      "text/plain": [
       "0"
      ]
     },
     "execution_count": 65,
     "metadata": {},
     "output_type": "execute_result"
    },
    {
     "name": "stdout",
     "output_type": "stream",
     "text": [
      "\n",
      "Computing image new...\n"
     ]
    }
   ],
   "source": [
    "fcen = mm.lines.lineProducingSpecies[0].linedata.frequency[0]\n",
    "vpix = 750   # velocity pixel size [m/s]\n",
    "dd   = vpix * (mm.parameters.nfreqs()-1)/2 / magritte.CC\n",
    "fmin = fcen - fcen*dd\n",
    "fmax = fcen + fcen*dd\n",
    "\n",
    "mm.compute_spectral_discretisation (fmin, fmax, 100)\n",
    "# mm.compute_image_new(0, tm.shape[0], tm.shape[1])\n",
    "mm.compute_image_new(0.0, 0.0, +1.0, tm.shape[0], tm.shape[1])\n",
    "# mm.compute_image(0)"
   ]
  },
  {
   "cell_type": "code",
   "execution_count": 66,
   "id": "e16bb652-c459-47b5-837d-6ada499bcf41",
   "metadata": {},
   "outputs": [],
   "source": [
    "model    = mm\n",
    "image_nr = -1\n",
    "zoom     = 1.0  \n",
    "npix_x   = tm.shape[0]\n",
    "npix_y   = tm.shape[1]\n",
    "method   = 'nearest'\n",
    "\n",
    "# Extract data of last image\n",
    "imx = np.array(model.images[image_nr].ImX)\n",
    "imy = np.array(model.images[image_nr].ImY)\n",
    "imI = np.array(model.images[image_nr].I)"
   ]
  },
  {
   "cell_type": "code",
   "execution_count": 67,
   "id": "c374a92e-78c2-490b-8ad8-ebd7c950a539",
   "metadata": {
    "tags": []
   },
   "outputs": [],
   "source": [
    "# Extract the number of frequency bins\n",
    "nfreqs = model.images[image_nr].nfreqs\n",
    "\n",
    "# Set image boundaries\n",
    "deltax = (np.max(imx) - np.min(imx))/zoom\n",
    "midx = (np.max(imx) + np.min(imx))/2.0\n",
    "deltay = (np.max(imy) - np.min(imy))/zoom\n",
    "midy = (np.max(imy) + np.min(imy))/2.0\n",
    "\n",
    "x_min, x_max = midx - deltax/2.0, midx + deltax/2.0\n",
    "y_min, y_max = midy - deltay/2.0, midy + deltay/2.0\n",
    "\n",
    "# Create image grid values\n",
    "xs = np.linspace(x_min, x_max, npix_x)\n",
    "ys = np.linspace(y_min, y_max, npix_y)\n",
    "\n",
    "# Extract the spectral / velocity data\n",
    "freqs = np.array(model.images[image_nr].freqs)\n",
    "f_ij  = np.mean(freqs)\n",
    "# velos = (freqs - f_ij) / f_ij * constants.c.to(v_unit).value\n",
    "\n",
    "# Interpolate the scattered data to an image (regular grid)\n",
    "Is = np.zeros((nfreqs))\n",
    "zs = np.zeros((nfreqs, npix_x, npix_y))\n",
    "for f in range(nfreqs):\n",
    "    # Nearest neighbor interpolate scattered image data\n",
    "    zs[f] = griddata(\n",
    "        (imx, imy),\n",
    "        imI[:,f],\n",
    "        (xs[None,:], ys[:,None]),\n",
    "        method=method,\n",
    "        fill_value = 0.0 #for non-nearest neighbor interpolation, otherwise the ceil/floor functions will complain\n",
    "    )\n",
    "    Is[f] = np.sum(zs[f])\n",
    "Is = Is / np.max(Is)\n",
    "\n",
    "# Put zero/negative values to the smallest positive value\n",
    "zs[zs<=0.0] = np.min(zs[zs>0.0])\n",
    "# Put nan values to smallest positive value\n",
    "zs[np.isnan(zs)] = np.min(zs[zs>0.0])"
   ]
  },
  {
   "cell_type": "code",
   "execution_count": 68,
   "id": "b57cb7d6-0741-4b77-9699-3a89bfdeaab4",
   "metadata": {},
   "outputs": [
    {
     "data": {
      "application/vnd.jupyter.widget-view+json": {
       "model_id": "cff4aca7da39411fa00ff04766de917b",
       "version_major": 2,
       "version_minor": 0
      },
      "text/plain": [
       "interactive(children=(IntSlider(value=49, description='z', max=99), Output()), _dom_classes=('widget-interact'…"
      ]
     },
     "metadata": {},
     "output_type": "display_data"
    },
    {
     "data": {
      "text/plain": [
       "<function pomme.plot.plot_cube_2D.<locals>.plot(z)>"
      ]
     },
     "execution_count": 68,
     "metadata": {},
     "output_type": "execute_result"
    }
   ],
   "source": [
    "plot_cube_2D(np.log(zs[:,1:-1,1:-1].T))"
   ]
  },
  {
   "cell_type": "code",
   "execution_count": 69,
   "id": "fc0380be-72c8-4a44-80d2-9a5e81baf43d",
   "metadata": {},
   "outputs": [],
   "source": [
    "import torch\n",
    "import torch.nn as nn\n",
    "\n",
    "from torch.optim import Adam"
   ]
  },
  {
   "cell_type": "code",
   "execution_count": 70,
   "id": "1a13fe47-7e41-4572-913a-ffd3241c1b35",
   "metadata": {},
   "outputs": [],
   "source": [
    "# Model Hyperparameters\n",
    "cuda   = False\n",
    "DEVICE = torch.device(\"cuda\" if cuda else \"cpu\")"
   ]
  },
  {
   "cell_type": "code",
   "execution_count": 71,
   "id": "98d8af03-7472-4142-a7d0-f5c8c304e1ee",
   "metadata": {},
   "outputs": [
    {
     "name": "stdout",
     "output_type": "stream",
     "text": [
      "You have selected line:\n",
      "    CO(J=1-0)\n",
      "Please check the properties that were inferred:\n",
      "    Frequency         1.152712018e+11  Hz\n",
      "    Einstein A coeff  7.203000000e-08  1/s\n",
      "    Molar mass        28.0101          g/mol\n"
     ]
    }
   ],
   "source": [
    "line = Line('CO', 0)"
   ]
  },
  {
   "cell_type": "code",
   "execution_count": 72,
   "id": "3d4dbd1f-0ae1-4ee1-b194-81d61b937a2c",
   "metadata": {},
   "outputs": [],
   "source": [
    "from astropy import constants\n",
    "\n",
    "CC  = constants.c  .si.value   # Speed of light       [m/s]\n",
    "\n",
    "def get_doppler_shifted_frequencies(v_los, frequencies):\n",
    "    \"\"\"\n",
    "    Doppler shifts frequencies given the velocity along the line of sight.\n",
    "    \"\"\"\n",
    "    # Compute the Doppler shift for each cell\n",
    "    shift = 1.0 + v_los * (1.0 / CC)\n",
    "\n",
    "    # Create freqency tensor for each cell\n",
    "    freqs = torch.einsum(\"..., f -> ...f\", shift, frequencies)\n",
    "    \n",
    "    return freqs"
   ]
  },
  {
   "cell_type": "code",
   "execution_count": 73,
   "id": "d4170b90-a13a-4024-abf1-7fb5d264e78b",
   "metadata": {},
   "outputs": [],
   "source": [
    "from time import time\n",
    "\n",
    "def forward(model, freqs):\n",
    "    \"\"\"\n",
    "    Forward model: image the given TensorModel at the given frequencies.\n",
    "    \"\"\"\n",
    "    # t =- time()\n",
    "    nCO    = torch.exp(model['log_CO'])         \n",
    "    tmp    = torch.exp(model['log_temperature'])\n",
    "    vel    =           model['velocity_z']\n",
    "    v_turb = torch.exp(model['log_v_turbulence'])\n",
    "    # t += time()\n",
    "    # print(\"init       \", t)\n",
    "\n",
    "    # t =- time()\n",
    "    frequencies = get_doppler_shifted_frequencies(vel, freqs)\n",
    "    # t += time()\n",
    "    # print(\"Doppler    \", t)\n",
    "    \n",
    "    # Compute the LTE line emissivity and opacity, and the line profile\n",
    "    # t =- time()\n",
    "    eta, chi = line.LTE_emissivity_and_opacity(nCO, tmp, v_turb, frequencies)\n",
    "    # t += time()\n",
    "    # print(\"eta, chi    \", t)\n",
    "    \n",
    "    # Create an image of the line\n",
    "    # t =- time()\n",
    "    img = model.create_image(eta, chi, axis=2)\n",
    "    # t += time()\n",
    "    # print(\"create image\", t)\n",
    "    \n",
    "    # Convolve with beam\n",
    "    # img = convolve_with_beam(img)\n",
    "    \n",
    "    # Resolved out flux\n",
    "    # img = resolved_out_flux(img)\n",
    "    \n",
    "    return img"
   ]
  },
  {
   "cell_type": "code",
   "execution_count": 74,
   "id": "d0a0a545-326c-4117-a652-ae9ba2028bb6",
   "metadata": {},
   "outputs": [],
   "source": [
    "N_freqs = 100\n",
    "v_pixel = 750.0\n",
    "\n",
    "# dd    = (N_freqs-1)/2 * v_pixel/constants.c.si.value\n",
    "# fmin  = line.frequency - line.frequency*dd\n",
    "# fmax  = line.frequency + line.frequency*dd\n",
    "freqs = torch.linspace(fmin, fmax, N_freqs, dtype=torch.float64)"
   ]
  },
  {
   "cell_type": "code",
   "execution_count": 75,
   "id": "350f7285-5ab3-4f8a-b560-8aaee5d351f6",
   "metadata": {},
   "outputs": [],
   "source": [
    "with torch.no_grad():\n",
    "    img_p = forward(tm, freqs)"
   ]
  },
  {
   "cell_type": "code",
   "execution_count": 76,
   "id": "89661128-0434-4d7c-a439-835313081fd3",
   "metadata": {},
   "outputs": [],
   "source": [
    "# img_m = zs[:,1:-1,1:-1].T\n",
    "img_m = zs.T"
   ]
  },
  {
   "cell_type": "code",
   "execution_count": 77,
   "id": "9f05e2b7-74d8-4351-a551-86e04804d303",
   "metadata": {},
   "outputs": [
    {
     "data": {
      "application/vnd.jupyter.widget-view+json": {
       "model_id": "99912f64b0534ac3bc057de790991fda",
       "version_major": 2,
       "version_minor": 0
      },
      "text/plain": [
       "interactive(children=(IntSlider(value=49, description='z', max=99), Output()), _dom_classes=('widget-interact'…"
      ]
     },
     "metadata": {},
     "output_type": "display_data"
    },
    {
     "data": {
      "text/plain": [
       "<function pomme.plot.plot_cube_2D.<locals>.plot(z)>"
      ]
     },
     "execution_count": 77,
     "metadata": {},
     "output_type": "execute_result"
    }
   ],
   "source": [
    "plot_cube_2D(np.log(np.clip(img_p, 1.0e-30, np.inf)))"
   ]
  },
  {
   "cell_type": "code",
   "execution_count": 78,
   "id": "2fb06550-c8b9-4c21-8db8-57edc4396bfa",
   "metadata": {},
   "outputs": [
    {
     "data": {
      "application/vnd.jupyter.widget-view+json": {
       "model_id": "4394e1b8b6c4472e86d63c7b502ccda5",
       "version_major": 2,
       "version_minor": 0
      },
      "text/plain": [
       "interactive(children=(IntSlider(value=49, description='z', max=99), Output()), _dom_classes=('widget-interact'…"
      ]
     },
     "metadata": {},
     "output_type": "display_data"
    },
    {
     "data": {
      "text/plain": [
       "<function pomme.plot.plot_cube_2D.<locals>.plot(z)>"
      ]
     },
     "execution_count": 78,
     "metadata": {},
     "output_type": "execute_result"
    }
   ],
   "source": [
    "plot_cube_2D(np.log(np.clip(img_m[1:-1,1:-1,:], 1.0e-30, np.inf)))"
   ]
  },
  {
   "cell_type": "code",
   "execution_count": 79,
   "id": "206eaf07",
   "metadata": {},
   "outputs": [
    {
     "data": {
      "text/plain": [
       "torch.Size([64, 64, 100])"
      ]
     },
     "execution_count": 79,
     "metadata": {},
     "output_type": "execute_result"
    }
   ],
   "source": [
    "img_p.shape"
   ]
  },
  {
   "cell_type": "code",
   "execution_count": 81,
   "id": "241472dd",
   "metadata": {},
   "outputs": [
    {
     "data": {
      "application/vnd.jupyter.widget-view+json": {
       "model_id": "ff36a219b7d04421bfad6372035e845f",
       "version_major": 2,
       "version_minor": 0
      },
      "text/plain": [
       "interactive(children=(IntSlider(value=49, description='f', max=99), Output()), _dom_classes=('widget-interact'…"
      ]
     },
     "metadata": {},
     "output_type": "display_data"
    },
    {
     "data": {
      "text/plain": [
       "<function __main__.plot(f)>"
      ]
     },
     "execution_count": 81,
     "metadata": {},
     "output_type": "execute_result"
    }
   ],
   "source": [
    "from ipywidgets import interact\n",
    "\n",
    "def plot(f):\n",
    "    \n",
    "    fig, axs = plt.subplots(2,1, dpi=250)\n",
    "    axs[0].imshow(np.log(zs[f,1:-1,1:-1]).T)\n",
    "    axs[1].imshow(np.log(img_p[:,:,100-f]))\n",
    "\n",
    "\n",
    "interact(plot, f=(0,99))"
   ]
  },
  {
   "cell_type": "code",
   "execution_count": 68,
   "id": "3fad6ded",
   "metadata": {},
   "outputs": [
    {
     "data": {
      "text/plain": [
       "(64, 64, 64)"
      ]
     },
     "execution_count": 68,
     "metadata": {},
     "output_type": "execute_result"
    }
   ],
   "source": [
    "nCO_dat.shape"
   ]
  },
  {
   "cell_type": "code",
   "execution_count": 72,
   "id": "d932f546",
   "metadata": {},
   "outputs": [
    {
     "data": {
      "application/vnd.jupyter.widget-view+json": {
       "model_id": "582141bbc86641e8bf985e449428bafb",
       "version_major": 2,
       "version_minor": 0
      },
      "text/plain": [
       "interactive(children=(IntSlider(value=31, description='z', max=63), Output()), _dom_classes=('widget-interact'…"
      ]
     },
     "metadata": {},
     "output_type": "display_data"
    },
    {
     "data": {
      "text/plain": [
       "<function pomme.plot.plot_cube_2D.<locals>.plot(z)>"
      ]
     },
     "execution_count": 72,
     "metadata": {},
     "output_type": "execute_result"
    }
   ],
   "source": [
    "# plot_cube_2D(np.transpose(np.log(nCO_dat), axes=[1,0,2]))\n",
    "plot_cube_2D(np.log(nCO_dat))"
   ]
  },
  {
   "cell_type": "code",
   "execution_count": 26,
   "id": "f720d57c-8a3a-4485-b131-1c8cf8c8db50",
   "metadata": {},
   "outputs": [
    {
     "data": {
      "application/vnd.jupyter.widget-view+json": {
       "model_id": "fd31d9f74c7d4d6b9d7e255992380c05",
       "version_major": 2,
       "version_minor": 0
      },
      "text/plain": [
       "interactive(children=(IntSlider(value=31, description='i', max=63), IntSlider(value=31, description='j', max=6…"
      ]
     },
     "metadata": {},
     "output_type": "display_data"
    },
    {
     "data": {
      "text/plain": [
       "<function __main__.plot_spectrum.<locals>.plot(i, j)>"
      ]
     },
     "execution_count": 26,
     "metadata": {},
     "output_type": "execute_result"
    }
   ],
   "source": [
    "from ipywidgets    import interact\n",
    "\n",
    "def plot_spectrum(cube_m, cube_p):\n",
    "    \"\"\"\n",
    "    Plot spectrum at a pixel for this observation.\n",
    "    \"\"\"\n",
    "    # Define a plot function\n",
    "    def plot(i,j):\n",
    "        plt.figure(dpi=150)\n",
    "        plt.plot(freqs, cube_m[i,j,:])\n",
    "        plt.plot(freqs, cube_p[i,j,:])\n",
    "        plt.ylim((1.0e-30, 1.0e+1))\n",
    "        plt.yscale('log')\n",
    "        plt.axvline(line.frequency, c='k')\n",
    "\n",
    "    # Return an interactive ipywidget\n",
    "    return interact(plot,\n",
    "                    i=(0, cube_m.shape[0]-1),\n",
    "                    j=(0, cube_m.shape[1]-1) )\n",
    "\n",
    "plot_spectrum(img_m, img_p)"
   ]
  },
  {
   "cell_type": "code",
   "execution_count": 27,
   "id": "9fcb3730-cbea-4639-aef4-d083234f2de1",
   "metadata": {},
   "outputs": [
    {
     "name": "stdout",
     "output_type": "stream",
     "text": [
      "obs_list[0].shape = [32, 32, 100]\n",
      "obs_list[1].shape = [16, 16, 100]\n"
     ]
    }
   ],
   "source": [
    "obs = img_p\n",
    "fqs = freqs\n",
    "\n",
    "def half_resolution(x):\n",
    "    return 0.25*(x[0::2,0::2,:] + x[0::2,1::2,:] + x[1::2,0::2,:] + x[1::2,1::2,:])\n",
    "\n",
    "# Create a list of hiearchically reduced observations\n",
    "obs_list = [obs]\n",
    "while obs.shape[0]/2 >= 10:\n",
    "    obs = half_resolution(obs)\n",
    "    obs_list.append(obs)\n",
    "\n",
    "for i, obs in enumerate(obs_list):\n",
    "    print(f'obs_list[{i}].shape =', list(obs.shape))"
   ]
  },
  {
   "cell_type": "code",
   "execution_count": 28,
   "id": "1428d2b0",
   "metadata": {},
   "outputs": [
    {
     "data": {
      "application/vnd.jupyter.widget-view+json": {
       "model_id": "9dff86e56897406e9cb574e04a775565",
       "version_major": 2,
       "version_minor": 0
      },
      "text/plain": [
       "interactive(children=(IntSlider(value=49, description='z', max=99), Output()), _dom_classes=('widget-interact'…"
      ]
     },
     "metadata": {},
     "output_type": "display_data"
    },
    {
     "data": {
      "text/plain": [
       "<function pomme.plot.plot_cube_2D.<locals>.plot(z)>"
      ]
     },
     "execution_count": 28,
     "metadata": {},
     "output_type": "execute_result"
    }
   ],
   "source": [
    "plot_cube_2D(np.log(np.clip(obs, 1.0e-30, np.inf)))"
   ]
  },
  {
   "cell_type": "code",
   "execution_count": 29,
   "id": "cf992452-d0db-4f67-8644-ef445500f37d",
   "metadata": {},
   "outputs": [],
   "source": [
    "shape = (obs.shape[0], obs.shape[1], 128)\n",
    "sizes = haar.xyz_L"
   ]
  },
  {
   "cell_type": "code",
   "execution_count": 150,
   "id": "27402352-ef08-43a4-8c64-cb69c7762a56",
   "metadata": {},
   "outputs": [
    {
     "name": "stdout",
     "output_type": "stream",
     "text": [
      "Variable key:              Free/Fixed:   Field:    Min:           Mean:          Max:\n",
      "  log_CO                     Free          True     +1.842e+01     +1.842e+01     +1.842e+01\n",
      "  log_temperature            Free          True     +6.215e+00     +6.215e+00     +6.215e+00\n",
      "  velocity_z                 Free          True     -3.000e+04     +0.000e+00     +3.000e+04\n",
      "  log_v_turbulence           Fixed         True     +5.011e+00     +5.011e+00     +5.011e+00\n",
      "sizes: [5.97037805e+13 5.96945095e+13 5.97372017e+13]\n",
      "shape: (12, 12, 128)\n"
     ]
    }
   ],
   "source": [
    "model = TensorModel(\n",
    "    sizes  = sizes,\n",
    "    shape  = shape,\n",
    ")\n",
    "\n",
    "model['log_CO'          ] = np.log(1.0e+8) * np.ones(model.shape)\n",
    "model['log_temperature' ] = np.log(5.0e+2) * np.ones(model.shape)\n",
    "model['velocity_z'      ] =        0.0     * np.ones(model.shape)\n",
    "model['log_v_turbulence'] = np.log(1.5e+2) * np.ones(model.shape)\n",
    "\n",
    "loss              = Loss(['rep'])#, 'reg'])\n",
    "loss_verification = Loss(['ver'])\n",
    "\n",
    "for i in range(model.shape[0]):\n",
    "    for j in range(model.shape[1]):\n",
    "        model['velocity_z'][i,j,:] = torch.linspace(-3.0e+4, +3.0e+4, model.shape[2])\n",
    "\n",
    "model.free_all()\n",
    "model.fix('log_v_turbulence')\n",
    "\n",
    "model.info()"
   ]
  },
  {
   "cell_type": "code",
   "execution_count": 151,
   "id": "4632fdc3-bc75-4a06-80ff-6dfe7500de61",
   "metadata": {},
   "outputs": [],
   "source": [
    "# def fourier_loss_3D(arr):\n",
    "    \n",
    "#     arr_min = arr.min()\n",
    "#     arr_max = arr.max()\n",
    "    \n",
    "#     if arr_min != arr_max:\n",
    "#         arr = (arr - arr_min) * (1.0 / (arr_max - arr_min))\n",
    "    \n",
    "#     fft = torch.abs(torch.fft.fftn(arr))\n",
    "#     # fft[(0,)*fft.dim()] = 0.0\n",
    "#     fft = fft / fft[(0,)*fft.dim()]\n",
    "    \n",
    "#     wgt = np.indices(fft.shape)\n",
    "#     wgt = (wgt.T - 0.5*np.array(fft.shape)).T\n",
    "#     wgt = np.linalg.norm(wgt, axis=0)\n",
    "    \n",
    "#     wgt = torch.from_numpy(wgt)\n",
    "\n",
    "#     loss = torch.mean((torch.fft.fftshift(fft)*wgt)**2)\n",
    "\n",
    "#     return loss\n",
    "\n",
    "def fourier_loss_3D(arr):\n",
    "    \n",
    "    fft = torch.abs(torch.fft.fftn(arr))\n",
    "    \n",
    "    wgt = np.indices(fft.shape)\n",
    "    wgt = (wgt.T - 0.5*np.array(fft.shape)).T\n",
    "    wgt = np.linalg.norm(wgt, axis=0)\n",
    "    \n",
    "    wgt = torch.from_numpy(wgt)\n",
    "\n",
    "    loss = torch.mean((torch.fft.fftshift(fft)*wgt)**2)\n",
    "    \n",
    "    return loss"
   ]
  },
  {
   "cell_type": "code",
   "execution_count": 152,
   "id": "c0a04958",
   "metadata": {},
   "outputs": [
    {
     "name": "stdout",
     "output_type": "stream",
     "text": [
      "max obs = 1.86e-17\n",
      "max img = 1.84e-18\n"
     ]
    }
   ],
   "source": [
    "print(f'max obs = {obs.max().item()                  :1.2e}')\n",
    "print(f'max img = {forward(model, freqs).max().item():1.2e}')"
   ]
  },
  {
   "cell_type": "code",
   "execution_count": 153,
   "id": "eba10bfa-5d49-449a-a9d3-2255fc10b485",
   "metadata": {},
   "outputs": [],
   "source": [
    "def logg(x):\n",
    "    return torch.log(1.0e-30 + x)\n",
    "\n",
    "def fit(loss, model, obs, N_epochs=10, lr=1.0e-1, w_rep=1.0, w_reg=1.0):\n",
    "\n",
    "    optimizer = Adam(model.free_parameters(), lr=lr)\n",
    "\n",
    "    for _ in tqdm(range(N_epochs)):\n",
    "        \n",
    "        # Run forward model\n",
    "        img = forward(model, freqs)\n",
    " \n",
    "        # Compute the reproduction loss\n",
    "        # loss['rep']              = w_rep * nn.functional.mse_loss(logg(img), logg(obs))\n",
    "        loss['rep']              =   logg( nn.functional.mse_loss(     img,       obs ))\n",
    "        loss_verification['ver'] =         nn.functional.mse_loss(     img,       obs ) \n",
    "        # Compute the regularisation loss\n",
    "        # loss['reg'] = w_reg * model.apply_to_fields(fourier_loss_3D)\n",
    "    \n",
    "        # Set gradients to zero\n",
    "        optimizer.zero_grad()\n",
    "        # Backpropagate gradients\n",
    "        loss.tot().backward()\n",
    "        # Update parameters\n",
    "        optimizer.step()"
   ]
  },
  {
   "cell_type": "code",
   "execution_count": 146,
   "id": "257a8f94",
   "metadata": {},
   "outputs": [
    {
     "name": "stderr",
     "output_type": "stream",
     "text": [
      "100%|██████████| 90/90 [00:03<00:00, 27.52it/s]\n"
     ]
    }
   ],
   "source": [
    "fit(loss, model, obs, N_epochs=90, lr=1.0e-1, w_rep=1.0)\n",
    "\n",
    "# loss.plot()"
   ]
  },
  {
   "cell_type": "code",
   "execution_count": 147,
   "id": "fe2e75c5",
   "metadata": {},
   "outputs": [
    {
     "data": {
      "text/plain": [
       "[<matplotlib.lines.Line2D at 0x7f39e6d33cd0>]"
      ]
     },
     "execution_count": 147,
     "metadata": {},
     "output_type": "execute_result"
    },
    {
     "data": {
      "image/png": "[encoded data removed]",
      "text/plain": [
       "<Figure size 432x288 with 1 Axes>"
      ]
     },
     "metadata": {
      "needs_background": "light"
     },
     "output_type": "display_data"
    }
   ],
   "source": [
    "plt.plot(loss.losses_tot)"
   ]
  },
  {
   "cell_type": "code",
   "execution_count": 148,
   "id": "7c5118b4",
   "metadata": {},
   "outputs": [
    {
     "data": {
      "image/png": "[encoded data removed]",
      "text/plain": [
       "<Figure size 780x520 with 1 Axes>"
      ]
     },
     "metadata": {
      "needs_background": "light"
     },
     "output_type": "display_data"
    }
   ],
   "source": [
    "loss_verification.plot()"
   ]
  },
  {
   "cell_type": "code",
   "execution_count": 154,
   "id": "69c7c973",
   "metadata": {},
   "outputs": [
    {
     "data": {
      "application/vnd.jupyter.widget-view+json": {
       "model_id": "3dd2453393aa4a71bad003e13aed0a2c",
       "version_major": 2,
       "version_minor": 0
      },
      "text/plain": [
       "interactive(children=(IntSlider(value=5, description='i', max=11), IntSlider(value=5, description='j', max=11)…"
      ]
     },
     "metadata": {},
     "output_type": "display_data"
    },
    {
     "data": {
      "text/plain": [
       "<function __main__.plot_spectrum.<locals>.plot(i, j)>"
      ]
     },
     "execution_count": 154,
     "metadata": {},
     "output_type": "execute_result"
    }
   ],
   "source": [
    "img = forward(model, freqs)\n",
    "\n",
    "\n",
    "def plot_spectrum(cube_m, cube_p):\n",
    "    \"\"\"\n",
    "    Plot spectrum at a pixel for this observation.\n",
    "    \"\"\"\n",
    "    # Define a plot function\n",
    "\n",
    "    velos = (freqs / line.frequency - 1.0) * constants.c.si.value\n",
    "\n",
    "    def plot(i,j):\n",
    "        plt.figure(dpi=150)\n",
    "        plt.plot(velos, cube_m[i,j,:], label='img')\n",
    "        plt.plot(velos, cube_p[i,j,:], label='obs')\n",
    "        plt.ylim((1.0e-30, 1.0e+1))\n",
    "        plt.yscale('log')\n",
    "        # plt.axvline(line.frequency, c='k')\n",
    "        plt.legend()\n",
    "\n",
    "    # Return an interactive ipywidget\n",
    "    return interact(plot,\n",
    "                    i=(0, cube_m.shape[0]-1),\n",
    "                    j=(0, cube_m.shape[1]-1) )\n",
    "\n",
    "plot_spectrum(img.data, obs)"
   ]
  },
  {
   "cell_type": "code",
   "execution_count": 45,
   "id": "c03513d3",
   "metadata": {},
   "outputs": [
    {
     "name": "stdout",
     "output_type": "stream",
     "text": [
      "img +0.00e+00 +5.27e-20 +1.80e-17\n"
     ]
    }
   ],
   "source": [
    "print_var('img', img)"
   ]
  },
  {
   "cell_type": "code",
   "execution_count": 30,
   "id": "ad455e69-2b58-4155-845d-88156d75fb16",
   "metadata": {},
   "outputs": [
    {
     "name": "stderr",
     "output_type": "stream",
     "text": [
      "  0%|                                             | 0/1000 [00:00<?, ?it/s]/home/frederikd/.conda/envs/magritte/lib/python3.9/site-packages/torch/autograd/__init__.py:200: UserWarning: CUDA initialization: The NVIDIA driver on your system is too old (found version 9010). Please update your GPU driver by downloading and installing a new version from the URL: http://www.nvidia.com/Download/index.aspx Alternatively, go to: https://pytorch.org to install a PyTorch version that has been compiled with your version of the CUDA driver. (Triggered internally at ../c10/cuda/CUDAFunctions.cpp:109.)\n",
      "  Variable._execution_engine.run_backward(  # Calls into the C++ engine to run the backward pass\n",
      "100%|█████████████████████████████████| 1000/1000 [00:06<00:00, 160.46it/s]\n"
     ]
    },
    {
     "data": {
      "application/vnd.jupyter.widget-view+json": {
       "model_id": "b884d3b0aad54014b5cdeaf7984fac30",
       "version_major": 2,
       "version_minor": 0
      },
      "text/plain": [
       "interactive(children=(IntSlider(value=16, description='z', max=33), Output()), _dom_classes=('widget-interact'…"
      ]
     },
     "metadata": {},
     "output_type": "display_data"
    },
    {
     "data": {
      "image/png": "[encoded data removed]",
      "text/plain": [
       "<Figure size 780x520 with 1 Axes>"
      ]
     },
     "metadata": {
      "needs_background": "light"
     },
     "output_type": "display_data"
    }
   ],
   "source": [
    "fit(loss, model_3D, obs, N_epochs=1000, lr=1.0e-2, w_rep=1.0, w_reg=1.0e+3)\n",
    "\n",
    "loss.plot()"
   ]
  },
  {
   "cell_type": "code",
   "execution_count": 31,
   "id": "d982fd7f-5480-4a8b-ba07-6eff98e23377",
   "metadata": {},
   "outputs": [
    {
     "name": "stdout",
     "output_type": "stream",
     "text": [
      "Variable:                 Min:          Mean:         Max:\n",
      "  log_CO                    2.532e-04     2.125e+00     6.484e+00\n",
      "  log_temperature           1.821e-02     1.483e+00     3.552e+00\n",
      "  log_v_los                 5.917e-02     5.917e-02     5.917e-02\n",
      "  log_v_turbulence          9.570e-02     9.570e-02     9.570e-02\n",
      "  velocity_z                3.033e-03     2.148e+00     4.864e+00\n"
     ]
    }
   ],
   "source": [
    "print_diff(model_3D_old, model_3D)"
   ]
  },
  {
   "cell_type": "code",
   "execution_count": 32,
   "id": "d8eb6bf9-44e2-4b8a-9145-4d9f17191732",
   "metadata": {},
   "outputs": [
    {
     "data": {
      "application/vnd.jupyter.widget-view+json": {
       "model_id": "69f20d4c43dc4187950d9812b445b95a",
       "version_major": 2,
       "version_minor": 0
      },
      "text/plain": [
       "interactive(children=(IntSlider(value=127, description='z', max=255), Output()), _dom_classes=('widget-interac…"
      ]
     },
     "metadata": {},
     "output_type": "display_data"
    },
    {
     "data": {
      "text/plain": [
       "<function pomme.plot.plot_cube_2D.<locals>.plot(z)>"
      ]
     },
     "execution_count": 32,
     "metadata": {},
     "output_type": "execute_result"
    }
   ],
   "source": [
    "plot_cube_2D(model_3D['log_CO'].data)"
   ]
  },
  {
   "cell_type": "code",
   "execution_count": 33,
   "id": "07402b29-03ce-4c55-845f-461382236d9b",
   "metadata": {},
   "outputs": [],
   "source": [
    "\n",
    "def plot_spectrum(cube):\n",
    "    \"\"\"\n",
    "    Plot spectrum at a pixel for this observation.\n",
    "    \"\"\"\n",
    "    # Define a plot function\n",
    "    def plot(i,j):\n",
    "        plt.figure(dpi=150)\n",
    "        plt.step(self.fs, self.img[:,i,j])\n",
    "        plt.ylim((cube.min(), cube.max()))\n",
    "        plt.xlabel(f'frequency [{self.f_unit}]')\n",
    "        plt.ylabel(f'intensity [{self.I_unit}]')\n",
    "\n",
    "    # Return an interactive ipywidget\n",
    "    return interact(plot,\n",
    "                    i=(0, cube.shape[0]-1),\n",
    "                    j=(0, cube.shape[1]-1) )"
   ]
  },
  {
   "cell_type": "code",
   "execution_count": 34,
   "id": "6e3be8a2-63c9-44c8-a3e6-c24e77d98880",
   "metadata": {},
   "outputs": [
    {
     "data": {
      "application/vnd.jupyter.widget-view+json": {
       "model_id": "8c452bf4b9ce491bb73a1912b12300ec",
       "version_major": 2,
       "version_minor": 0
      },
      "text/plain": [
       "interactive(children=(IntSlider(value=16, description='z', max=33), Output()), _dom_classes=('widget-interact'…"
      ]
     },
     "metadata": {},
     "output_type": "display_data"
    },
    {
     "data": {
      "text/plain": [
       "<function pomme.plot.plot_cube_2D.<locals>.plot(z)>"
      ]
     },
     "execution_count": 34,
     "metadata": {},
     "output_type": "execute_result"
    }
   ],
   "source": [
    "img = forward(model_3D)\n",
    "\n",
    "plot_cube_2D(img)"
   ]
  },
  {
   "cell_type": "code",
   "execution_count": 35,
   "id": "12902d7a-b185-47f9-bd53-12ae6e44ee43",
   "metadata": {},
   "outputs": [
    {
     "data": {
      "application/vnd.jupyter.widget-view+json": {
       "model_id": "afe3fd00947c4dc594810e667e0e8e25",
       "version_major": 2,
       "version_minor": 0
      },
      "text/plain": [
       "interactive(children=(IntSlider(value=0, description='i', max=0), IntSlider(value=0, description='j', max=0), …"
      ]
     },
     "metadata": {},
     "output_type": "display_data"
    },
    {
     "data": {
      "text/plain": [
       "<function __main__.plot(i, j)>"
      ]
     },
     "execution_count": 35,
     "metadata": {},
     "output_type": "execute_result"
    }
   ],
   "source": [
    "# Define a plot function\n",
    "def plot(i,j):\n",
    "    plt.figure(dpi=150)\n",
    "    plt.step(np.arange(img.shape[2]), img[i,j,:].data)\n",
    "    plt.step(np.arange(obs.shape[2]), obs[i,j,:].data)\n",
    "    plt.ylim((obs.min(), obs.max()))\n",
    "\n",
    "# Return an interactive ipywidget\n",
    "interact(plot,\n",
    "         i=(0, img.shape[0]-1),\n",
    "         j=(0, img.shape[1]-1) )"
   ]
  },
  {
   "cell_type": "code",
   "execution_count": 36,
   "id": "dc32e680-d5e0-4ffe-a827-547dbe92978d",
   "metadata": {},
   "outputs": [
    {
     "data": {
      "text/plain": [
       "[<matplotlib.lines.Line2D at 0x7f65c45e7220>]"
      ]
     },
     "execution_count": 36,
     "metadata": {},
     "output_type": "execute_result"
    },
    {
     "data": {
      "image/png": "[encoded data removed]",
      "text/plain": [
       "<Figure size 432x288 with 1 Axes>"
      ]
     },
     "metadata": {
      "needs_background": "light"
     },
     "output_type": "display_data"
    }
   ],
   "source": [
    "plt.plot(model_3D_old['log_CO'][0,0].data)\n",
    "plt.plot(model_3D    ['log_CO'][0,0].data)"
   ]
  },
  {
   "cell_type": "code",
   "execution_count": 37,
   "id": "1db2beaf-4cdd-4485-985f-be006471000d",
   "metadata": {},
   "outputs": [
    {
     "data": {
      "text/plain": [
       "tensor(0.0061, dtype=torch.float64, grad_fn=<MeanBackward0>)"
      ]
     },
     "execution_count": 37,
     "metadata": {},
     "output_type": "execute_result"
    }
   ],
   "source": [
    "fourier_loss_3D(model_3D['log_CO'])"
   ]
  },
  {
   "cell_type": "code",
   "execution_count": 38,
   "id": "2466e054-5cb1-4988-a7e7-7e95b4358256",
   "metadata": {},
   "outputs": [
    {
     "data": {
      "text/plain": [
       "[<matplotlib.lines.Line2D at 0x7f65c4544c70>]"
      ]
     },
     "execution_count": 38,
     "metadata": {},
     "output_type": "execute_result"
    },
    {
     "data": {
      "image/png": "[encoded data removed]",
      "text/plain": [
       "<Figure size 432x288 with 1 Axes>"
      ]
     },
     "metadata": {
      "needs_background": "light"
     },
     "output_type": "display_data"
    }
   ],
   "source": [
    "plt.plot(model_3D_old['log_temperature'][0,0].data)\n",
    "plt.plot(model_3D    ['log_temperature'][0,0].data)"
   ]
  },
  {
   "cell_type": "code",
   "execution_count": 39,
   "id": "cd8642d8-c714-43b6-9af8-927d9ec4e760",
   "metadata": {},
   "outputs": [
    {
     "data": {
      "text/plain": [
       "[<matplotlib.lines.Line2D at 0x7f65c4523c10>]"
      ]
     },
     "execution_count": 39,
     "metadata": {},
     "output_type": "execute_result"
    },
    {
     "data": {
      "image/png": "[encoded data removed]",
      "text/plain": [
       "<Figure size 432x288 with 1 Axes>"
      ]
     },
     "metadata": {
      "needs_background": "light"
     },
     "output_type": "display_data"
    }
   ],
   "source": [
    "plt.plot(model_3D_old['velocity_z'][0,0].data)\n",
    "plt.plot(model_3D    ['velocity_z'][0,0].data)"
   ]
  },
  {
   "cell_type": "code",
   "execution_count": 40,
   "id": "e38b021e-c918-4744-aa5d-7b10ac56102b",
   "metadata": {},
   "outputs": [
    {
     "name": "stdout",
     "output_type": "stream",
     "text": [
      "torch.Size([128, 128, 34])\n",
      "torch.Size([64, 64, 34])\n",
      "torch.Size([32, 32, 34])\n",
      "torch.Size([16, 16, 34])\n",
      "torch.Size([8, 8, 34])\n",
      "torch.Size([4, 4, 34])\n",
      "torch.Size([2, 2, 34])\n",
      "torch.Size([1, 1, 34])\n"
     ]
    }
   ],
   "source": [
    "for obs in obs_list:\n",
    "    print(obs.shape)"
   ]
  },
  {
   "cell_type": "code",
   "execution_count": 80,
   "id": "51660401-8945-409d-89df-d8b6f6d9149b",
   "metadata": {},
   "outputs": [],
   "source": [
    "shape_z = 256\n",
    "\n",
    "models = [model_3D]\n",
    "losses = [loss]\n",
    "\n",
    "for obs in obs_list:\n",
    "    models.insert(0, TensorModel(\n",
    "        sizes  = (size_x, size_y, size_z),\n",
    "        shape  = (obs.shape[0], obs.shape[1], shape_z),\n",
    "    ))\n",
    "    losses.insert(0, Loss(['rep', 'reg']))"
   ]
  },
  {
   "cell_type": "code",
   "execution_count": 86,
   "id": "beb6b750-6ced-489f-833e-076542af3234",
   "metadata": {},
   "outputs": [
    {
     "name": "stdout",
     "output_type": "stream",
     "text": [
      "(1, 1, 256)\n",
      "(2, 2, 256)\n",
      "(4, 4, 256)\n",
      "(8, 8, 256)\n",
      "(16, 16, 256)\n",
      "(32, 32, 256)\n",
      "(64, 64, 256)\n",
      "(128, 128, 256)\n",
      "(1, 1, 256)\n"
     ]
    }
   ],
   "source": [
    "for model in models:\n",
    "    print(model.shape)"
   ]
  },
  {
   "cell_type": "code",
   "execution_count": 113,
   "id": "2ea6b7ed-cb87-40a8-8546-73fb27a20965",
   "metadata": {},
   "outputs": [],
   "source": [
    "model_3D.save(f\"pomme_IK_Tau_0.hdf5\")"
   ]
  },
  {
   "cell_type": "code",
   "execution_count": 114,
   "id": "ed0bcffd-dba0-48f7-9ee7-5a334300df05",
   "metadata": {},
   "outputs": [
    {
     "name": "stdout",
     "output_type": "stream",
     "text": [
      "torch.Size([2, 2, 34])\n"
     ]
    },
    {
     "name": "stderr",
     "output_type": "stream",
     "text": [
      "100%|█████████████████████████████████| 1000/1000 [00:09<00:00, 102.82it/s]\n"
     ]
    },
    {
     "name": "stdout",
     "output_type": "stream",
     "text": [
      "torch.Size([4, 4, 34])\n"
     ]
    },
    {
     "name": "stderr",
     "output_type": "stream",
     "text": [
      "100%|██████████████████████████████████| 1000/1000 [00:10<00:00, 93.74it/s]\n"
     ]
    },
    {
     "name": "stdout",
     "output_type": "stream",
     "text": [
      "torch.Size([8, 8, 34])\n"
     ]
    },
    {
     "name": "stderr",
     "output_type": "stream",
     "text": [
      "100%|██████████████████████████████████| 1000/1000 [00:11<00:00, 87.07it/s]\n"
     ]
    },
    {
     "name": "stdout",
     "output_type": "stream",
     "text": [
      "torch.Size([16, 16, 34])\n"
     ]
    },
    {
     "name": "stderr",
     "output_type": "stream",
     "text": [
      "100%|██████████████████████████████████| 1000/1000 [00:20<00:00, 49.53it/s]\n"
     ]
    },
    {
     "name": "stdout",
     "output_type": "stream",
     "text": [
      "torch.Size([32, 32, 34])\n"
     ]
    },
    {
     "name": "stderr",
     "output_type": "stream",
     "text": [
      "100%|██████████████████████████████████| 1000/1000 [08:48<00:00,  1.89it/s]\n"
     ]
    },
    {
     "name": "stdout",
     "output_type": "stream",
     "text": [
      "torch.Size([128, 128, 34])\n"
     ]
    },
    {
     "name": "stderr",
     "output_type": "stream",
     "text": [
      "100%|██████████████████████████████████| 1000/1000 [39:46<00:00,  2.39s/it]\n"
     ]
    }
   ],
   "source": [
    "shape_z = 64\n",
    "\n",
    "models = [model_3D]\n",
    "losses = [loss]\n",
    "\n",
    "for obs in reversed(obs_list[:-1]):\n",
    "    \n",
    "    model = TensorModel(\n",
    "        sizes  = (size_x, size_y, size_z),\n",
    "        shape  = (obs.shape[0], obs.shape[1], shape_z),\n",
    "    )\n",
    "    loss = Loss(['rep', 'reg'])\n",
    "                          \n",
    "    print(obs.shape)\n",
    "    model.interpolate_from_model(models[0])\n",
    "    model.free_all()\n",
    "    model.save(f\"pomme_IK_Tau_{len(models)}.hdf5\")\n",
    "\n",
    "    fit(loss, model, obs, N_epochs=1000, lr=1.0e-2, w_rep=1.0, w_reg=1.0e+3)\n",
    "                          \n",
    "    models.insert(0, model)\n",
    "    losses.insert(0, loss)"
   ]
  },
  {
   "cell_type": "code",
   "execution_count": 96,
   "id": "3660bfa2-e706-41a1-adea-088fc58eff18",
   "metadata": {},
   "outputs": [
    {
     "data": {
      "image/png": "[encoded data removed]",
      "text/plain": [
       "<Figure size 780x520 with 1 Axes>"
      ]
     },
     "metadata": {
      "needs_background": "light"
     },
     "output_type": "display_data"
    },
    {
     "data": {
      "image/png": "[encoded data removed]",
      "text/plain": [
       "<Figure size 780x520 with 1 Axes>"
      ]
     },
     "metadata": {
      "needs_background": "light"
     },
     "output_type": "display_data"
    },
    {
     "data": {
      "image/png": "[encoded data removed]",
      "text/plain": [
       "<Figure size 780x520 with 1 Axes>"
      ]
     },
     "metadata": {
      "needs_background": "light"
     },
     "output_type": "display_data"
    },
    {
     "data": {
      "image/png": "[encoded data removed]",
      "text/plain": [
       "<Figure size 780x520 with 1 Axes>"
      ]
     },
     "metadata": {
      "needs_background": "light"
     },
     "output_type": "display_data"
    },
    {
     "data": {
      "image/png": "[encoded data removed]",
      "text/plain": [
       "<Figure size 780x520 with 1 Axes>"
      ]
     },
     "metadata": {
      "needs_background": "light"
     },
     "output_type": "display_data"
    },
    {
     "data": {
      "image/png": "[encoded data removed]",
      "text/plain": [
       "<Figure size 780x520 with 1 Axes>"
      ]
     },
     "metadata": {
      "needs_background": "light"
     },
     "output_type": "display_data"
    }
   ],
   "source": [
    "for loss in losses:\n",
    "    loss.plot()"
   ]
  },
  {
   "cell_type": "code",
   "execution_count": 93,
   "id": "1b5fcba4-5686-425e-8042-864f72814910",
   "metadata": {},
   "outputs": [
    {
     "name": "stdout",
     "output_type": "stream",
     "text": [
      "(128, 128, 256)\n",
      "(64, 64, 256)\n",
      "(32, 32, 256)\n",
      "(16, 16, 256)\n",
      "(8, 8, 256)\n",
      "(4, 4, 256)\n",
      "(2, 2, 256)\n",
      "(1, 1, 256)\n"
     ]
    }
   ],
   "source": [
    "for m in models:\n",
    "    print(m.shape)"
   ]
  },
  {
   "cell_type": "code",
   "execution_count": 53,
   "id": "e9e09b89-889b-407f-9305-c77c22d5b455",
   "metadata": {},
   "outputs": [],
   "source": [
    "for \n",
    "\n",
    "model_3D_2.interpolate_from_model(model_3D_)\n",
    "model_3D_2.free_all()\n",
    "\n",
    "loss = Loss(['rep', 'reg'])"
   ]
  },
  {
   "cell_type": "code",
   "execution_count": 59,
   "id": "6c9729ff-039a-4ff8-8bdc-c71a2a74eedc",
   "metadata": {},
   "outputs": [
    {
     "data": {
      "text/plain": [
       "{}"
      ]
     },
     "execution_count": 59,
     "metadata": {},
     "output_type": "execute_result"
    }
   ],
   "source": [
    "model_3D_2.vars"
   ]
  },
  {
   "cell_type": "code",
   "execution_count": 54,
   "id": "5ba21c97-0fe7-4d5e-aab6-14943d88790e",
   "metadata": {},
   "outputs": [
    {
     "ename": "ValueError",
     "evalue": "optimizer got an empty parameter list",
     "output_type": "error",
     "traceback": [
      "\u001b[0;31m---------------------------------------------------------------------------\u001b[0m",
      "\u001b[0;31mValueError\u001b[0m                                Traceback (most recent call last)",
      "Input \u001b[0;32mIn [54]\u001b[0m, in \u001b[0;36m<cell line: 1>\u001b[0;34m()\u001b[0m\n\u001b[0;32m----> 1\u001b[0m \u001b[43mfit\u001b[49m\u001b[43m(\u001b[49m\u001b[43mmodel_3D_2\u001b[49m\u001b[43m,\u001b[49m\u001b[43m \u001b[49m\u001b[43mobs\u001b[49m\u001b[43m,\u001b[49m\u001b[43m \u001b[49m\u001b[43mN_epochs\u001b[49m\u001b[38;5;241;43m=\u001b[39;49m\u001b[38;5;241;43m1000\u001b[39;49m\u001b[43m,\u001b[49m\u001b[43m \u001b[49m\u001b[43mlr\u001b[49m\u001b[38;5;241;43m=\u001b[39;49m\u001b[38;5;241;43m1.0e-2\u001b[39;49m\u001b[43m,\u001b[49m\u001b[43m \u001b[49m\u001b[43mw_rep\u001b[49m\u001b[38;5;241;43m=\u001b[39;49m\u001b[38;5;241;43m1.0\u001b[39;49m\u001b[43m,\u001b[49m\u001b[43m \u001b[49m\u001b[43mw_reg\u001b[49m\u001b[38;5;241;43m=\u001b[39;49m\u001b[38;5;241;43m1.0e+3\u001b[39;49m\u001b[43m)\u001b[49m\n\u001b[1;32m      3\u001b[0m loss\u001b[38;5;241m.\u001b[39mplot()\n",
      "Input \u001b[0;32mIn [23]\u001b[0m, in \u001b[0;36mfit\u001b[0;34m(model, obs, N_epochs, lr, w_rep, w_reg)\u001b[0m\n\u001b[1;32m      1\u001b[0m \u001b[38;5;28;01mdef\u001b[39;00m \u001b[38;5;21mfit\u001b[39m(model, obs, N_epochs\u001b[38;5;241m=\u001b[39m\u001b[38;5;241m10\u001b[39m, lr\u001b[38;5;241m=\u001b[39m\u001b[38;5;241m1.0e-1\u001b[39m, w_rep\u001b[38;5;241m=\u001b[39m\u001b[38;5;241m1.0\u001b[39m, w_reg\u001b[38;5;241m=\u001b[39m\u001b[38;5;241m1.0e-3\u001b[39m):\n\u001b[0;32m----> 3\u001b[0m     optimizer \u001b[38;5;241m=\u001b[39m \u001b[43mAdam\u001b[49m\u001b[43m(\u001b[49m\u001b[43mmodel\u001b[49m\u001b[38;5;241;43m.\u001b[39;49m\u001b[43mfree_parameters\u001b[49m\u001b[43m(\u001b[49m\u001b[43m)\u001b[49m\u001b[43m,\u001b[49m\u001b[43m \u001b[49m\u001b[43mlr\u001b[49m\u001b[38;5;241;43m=\u001b[39;49m\u001b[43mlr\u001b[49m\u001b[43m)\u001b[49m\n\u001b[1;32m      5\u001b[0m     \u001b[38;5;28;01mfor\u001b[39;00m _ \u001b[38;5;129;01min\u001b[39;00m tqdm(\u001b[38;5;28mrange\u001b[39m(N_epochs)):\n\u001b[1;32m      6\u001b[0m         \n\u001b[1;32m      7\u001b[0m         \u001b[38;5;66;03m# Run forward model\u001b[39;00m\n\u001b[1;32m      8\u001b[0m         img \u001b[38;5;241m=\u001b[39m forward(model)\n",
      "File \u001b[0;32m~/.conda/envs/magritte/lib/python3.9/site-packages/torch/optim/adam.py:33\u001b[0m, in \u001b[0;36mAdam.__init__\u001b[0;34m(self, params, lr, betas, eps, weight_decay, amsgrad, foreach, maximize, capturable, differentiable, fused)\u001b[0m\n\u001b[1;32m     27\u001b[0m     \u001b[38;5;28;01mraise\u001b[39;00m \u001b[38;5;167;01mValueError\u001b[39;00m(\u001b[38;5;124m\"\u001b[39m\u001b[38;5;124mInvalid weight_decay value: \u001b[39m\u001b[38;5;132;01m{}\u001b[39;00m\u001b[38;5;124m\"\u001b[39m\u001b[38;5;241m.\u001b[39mformat(weight_decay))\n\u001b[1;32m     29\u001b[0m defaults \u001b[38;5;241m=\u001b[39m \u001b[38;5;28mdict\u001b[39m(lr\u001b[38;5;241m=\u001b[39mlr, betas\u001b[38;5;241m=\u001b[39mbetas, eps\u001b[38;5;241m=\u001b[39meps,\n\u001b[1;32m     30\u001b[0m                 weight_decay\u001b[38;5;241m=\u001b[39mweight_decay, amsgrad\u001b[38;5;241m=\u001b[39mamsgrad,\n\u001b[1;32m     31\u001b[0m                 maximize\u001b[38;5;241m=\u001b[39mmaximize, foreach\u001b[38;5;241m=\u001b[39mforeach, capturable\u001b[38;5;241m=\u001b[39mcapturable,\n\u001b[1;32m     32\u001b[0m                 differentiable\u001b[38;5;241m=\u001b[39mdifferentiable, fused\u001b[38;5;241m=\u001b[39mfused)\n\u001b[0;32m---> 33\u001b[0m \u001b[38;5;28;43msuper\u001b[39;49m\u001b[43m(\u001b[49m\u001b[43m)\u001b[49m\u001b[38;5;241;43m.\u001b[39;49m\u001b[38;5;21;43m__init__\u001b[39;49m\u001b[43m(\u001b[49m\u001b[43mparams\u001b[49m\u001b[43m,\u001b[49m\u001b[43m \u001b[49m\u001b[43mdefaults\u001b[49m\u001b[43m)\u001b[49m\n\u001b[1;32m     35\u001b[0m \u001b[38;5;28;01mif\u001b[39;00m fused:\n\u001b[1;32m     36\u001b[0m     \u001b[38;5;28;01mif\u001b[39;00m differentiable:\n",
      "File \u001b[0;32m~/.conda/envs/magritte/lib/python3.9/site-packages/torch/optim/optimizer.py:187\u001b[0m, in \u001b[0;36mOptimizer.__init__\u001b[0;34m(self, params, defaults)\u001b[0m\n\u001b[1;32m    185\u001b[0m param_groups \u001b[38;5;241m=\u001b[39m \u001b[38;5;28mlist\u001b[39m(params)\n\u001b[1;32m    186\u001b[0m \u001b[38;5;28;01mif\u001b[39;00m \u001b[38;5;28mlen\u001b[39m(param_groups) \u001b[38;5;241m==\u001b[39m \u001b[38;5;241m0\u001b[39m:\n\u001b[0;32m--> 187\u001b[0m     \u001b[38;5;28;01mraise\u001b[39;00m \u001b[38;5;167;01mValueError\u001b[39;00m(\u001b[38;5;124m\"\u001b[39m\u001b[38;5;124moptimizer got an empty parameter list\u001b[39m\u001b[38;5;124m\"\u001b[39m)\n\u001b[1;32m    188\u001b[0m \u001b[38;5;28;01mif\u001b[39;00m \u001b[38;5;129;01mnot\u001b[39;00m \u001b[38;5;28misinstance\u001b[39m(param_groups[\u001b[38;5;241m0\u001b[39m], \u001b[38;5;28mdict\u001b[39m):\n\u001b[1;32m    189\u001b[0m     param_groups \u001b[38;5;241m=\u001b[39m [{\u001b[38;5;124m'\u001b[39m\u001b[38;5;124mparams\u001b[39m\u001b[38;5;124m'\u001b[39m: param_groups}]\n",
      "\u001b[0;31mValueError\u001b[0m: optimizer got an empty parameter list"
     ]
    }
   ],
   "source": [
    "fit(model_3D_2, obs, N_epochs=1000, lr=1.0e-2, w_rep=1.0, w_reg=1.0e+3)\n",
    "\n",
    "loss.plot()"
   ]
  },
  {
   "cell_type": "code",
   "execution_count": 103,
   "id": "2ea270dd-75ee-46e7-927f-f17f1bd80e29",
   "metadata": {},
   "outputs": [
    {
     "data": {
      "application/vnd.jupyter.widget-view+json": {
       "model_id": "5f19b598d323490483ce3f218b540b59",
       "version_major": 2,
       "version_minor": 0
      },
      "text/plain": [
       "interactive(children=(IntSlider(value=15, description='i', max=31), IntSlider(value=15, description='j', max=3…"
      ]
     },
     "metadata": {},
     "output_type": "display_data"
    },
    {
     "data": {
      "text/plain": [
       "<function __main__.plot(i, j)>"
      ]
     },
     "execution_count": 103,
     "metadata": {},
     "output_type": "execute_result"
    }
   ],
   "source": [
    "n = -6\n",
    "\n",
    "img = forward(models[n])\n",
    "obs = obs_list[n]\n",
    "\n",
    "# Define a plot function\n",
    "def plot(i,j):\n",
    "    plt.figure(dpi=150)\n",
    "    plt.step(np.arange(img.shape[2]), img[i,j,:].data)\n",
    "    plt.step(np.arange(obs.shape[2]), obs[i,j,:].data)\n",
    "    plt.ylim((obs.min(), obs.max()))\n",
    "\n",
    "# Return an interactive ipywidget\n",
    "interact(plot,\n",
    "         i=(0, img.shape[0]-1),\n",
    "         j=(0, img.shape[1]-1) )"
   ]
  },
  {
   "cell_type": "code",
   "execution_count": 112,
   "id": "83f63269-cb43-4c6b-b3e2-f8d477019d34",
   "metadata": {},
   "outputs": [
    {
     "name": "stderr",
     "output_type": "stream",
     "text": [
      "/tmp/ipykernel_3126811/1843582017.py:1: UserWarning: The use of `x.T` on tensors of dimension other than 2 to reverse their shape is deprecated and it will throw an error in a future release. Consider `x.mT` to transpose batches of matrices or `x.permute(*torch.arange(x.ndim - 1, -1, -1))` to reverse the dimensions of a tensor. (Triggered internally at ../aten/src/ATen/native/TensorShape.cpp:3571.)\n",
      "  plot_cube_2D(models[-5]['log_CO'].T)\n"
     ]
    },
    {
     "data": {
      "application/vnd.jupyter.widget-view+json": {
       "model_id": "bf9fb5915f764891ae33dd37c1ebef1b",
       "version_major": 2,
       "version_minor": 0
      },
      "text/plain": [
       "interactive(children=(IntSlider(value=7, description='z', max=15), Output()), _dom_classes=('widget-interact',…"
      ]
     },
     "metadata": {},
     "output_type": "display_data"
    },
    {
     "data": {
      "text/plain": [
       "<function pomme.plot.plot_cube_2D.<locals>.plot(z)>"
      ]
     },
     "execution_count": 112,
     "metadata": {},
     "output_type": "execute_result"
    }
   ],
   "source": [
    "plot_cube_2D(models[-5]['log_CO'].T)"
   ]
  },
  {
   "cell_type": "code",
   "execution_count": 106,
   "id": "5d6d8094-9a79-4194-b3fe-239512887c50",
   "metadata": {},
   "outputs": [],
   "source": [
    "import k3d"
   ]
  },
  {
   "cell_type": "code",
   "execution_count": 111,
   "id": "7a747612-63a0-40c4-849b-58f276dc088a",
   "metadata": {},
   "outputs": [
    {
     "data": {
      "application/vnd.jupyter.widget-view+json": {
       "model_id": "6c82a8c249bd4a7fa279be9449cb8716",
       "version_major": 2,
       "version_minor": 0
      },
      "text/plain": [
       "Output()"
      ]
     },
     "metadata": {},
     "output_type": "display_data"
    }
   ],
   "source": [
    "dat = models[-5]['log_CO'].data\n",
    "# dat = obs_list[-5].data\n",
    "dat = np.array(dat, dtype=np.float32)\n",
    "\n",
    "plt_mip = k3d.mip(dat)\n",
    "\n",
    "plot = k3d.plot()\n",
    "plot += plt_mip\n",
    "plot.display()"
   ]
  },
  {
   "cell_type": "code",
   "execution_count": null,
   "id": "dcb49f9b-e9c6-48e9-bd88-0d11191ffdff",
   "metadata": {},
   "outputs": [],
   "source": []
  }
 ],
 "metadata": {
  "kernelspec": {
   "display_name": "Python 3 (ipykernel)",
   "language": "python",
   "name": "python3"
  },
  "language_info": {
   "codemirror_mode": {
    "name": "ipython",
    "version": 3
   },
   "file_extension": ".py",
   "mimetype": "text/x-python",
   "name": "python",
   "nbconvert_exporter": "python",
   "pygments_lexer": "ipython3",
   "version": "3.9.13"
  }
 },
 "nbformat": 4,
 "nbformat_minor": 5
}
