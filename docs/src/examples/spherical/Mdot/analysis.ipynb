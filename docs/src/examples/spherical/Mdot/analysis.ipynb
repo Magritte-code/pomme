{
 "cells": [
  {
   "cell_type": "code",
   "execution_count": 39,
   "metadata": {},
   "outputs": [],
   "source": [
    "import matplotlib.pyplot as plt\n",
    "import numpy             as np\n",
    "import torch\n",
    "import copy\n",
    "\n",
    "from astropy     import units, constants\n",
    "from pomme.model import TensorModel, SphericalModel\n",
    "from pomme.loss  import Loss, diff_loss\n",
    "from pomme.plot  import plot_cube_2D\n",
    "from pomme.utils import planck, T_CMB\n",
    "\n",
    "from glob import glob"
   ]
  },
  {
   "cell_type": "code",
   "execution_count": 40,
   "metadata": {},
   "outputs": [],
   "source": [
    "model_names = sorted(glob('model_*.h5'))"
   ]
  },
  {
   "cell_type": "code",
   "execution_count": 42,
   "metadata": {},
   "outputs": [
    {
     "data": {
      "text/plain": [
       "['model_1.h5',\n",
       " 'model_10.h5',\n",
       " 'model_2.h5',\n",
       " 'model_3.h5',\n",
       " 'model_4.h5',\n",
       " 'model_5.h5',\n",
       " 'model_6.h5',\n",
       " 'model_7.h5',\n",
       " 'model_8.h5',\n",
       " 'model_9.h5']"
      ]
     },
     "execution_count": 42,
     "metadata": {},
     "output_type": "execute_result"
    }
   ],
   "source": [
    "model_names"
   ]
  },
  {
   "cell_type": "code",
   "execution_count": 45,
   "metadata": {},
   "outputs": [
    {
     "name": "stdout",
     "output_type": "stream",
     "text": [
      "M_dot 4.9960202038127635e-06\n",
      "v_inf 19.99927530617604\n",
      "v_in 0.09872296588416792\n",
      "beta 0.5071028469482364\n",
      "T_in 2493.85019055371\n",
      "epsilon 0.5996240401849737\n",
      "-------------------------\n"
     ]
    }
   ],
   "source": [
    "    # model_name = model_names[7]\n",
    "\n",
    "    model = TensorModel.load('model_10.h5')\n",
    "\n",
    "    M_dot   = torch.exp(model['log_M_dot'  ]) / (1.0 * units.M_sun / units.yr).si.value\n",
    "    v_inf   = torch.exp(model['log_v_inf'  ]) / 1000\n",
    "    v_in    = torch.exp(model['log_v_in'   ]) / 1000\n",
    "    beta    = torch.exp(model['log_beta'   ])\n",
    "    T_in    = torch.exp(model['log_T_in'   ])\n",
    "    epsilon = torch.exp(model['log_epsilon'])\n",
    "    \n",
    "\n",
    "    print('M_dot',   M_dot.item())\n",
    "    print('v_inf',   v_inf.item())\n",
    "    print('v_in',    v_in.item())\n",
    "    print('beta',    beta.item())\n",
    "    print('T_in',    T_in.item())\n",
    "    print('epsilon', epsilon.item())\n",
    "    print('-------------------------')"
   ]
  },
  {
   "cell_type": "code",
   "execution_count": 8,
   "metadata": {},
   "outputs": [
    {
     "data": {
      "text/plain": [
       "tensor(4.9990e-06, grad_fn=<DivBackward0>)"
      ]
     },
     "execution_count": 8,
     "metadata": {},
     "output_type": "execute_result"
    }
   ],
   "source": []
  },
  {
   "cell_type": "code",
   "execution_count": null,
   "metadata": {},
   "outputs": [],
   "source": []
  }
 ],
 "metadata": {
  "kernelspec": {
   "display_name": "magritte",
   "language": "python",
   "name": "python3"
  },
  "language_info": {
   "codemirror_mode": {
    "name": "ipython",
    "version": 3
   },
   "file_extension": ".py",
   "mimetype": "text/x-python",
   "name": "python",
   "nbconvert_exporter": "python",
   "pygments_lexer": "ipython3",
   "version": "3.9.13"
  }
 },
 "nbformat": 4,
 "nbformat_minor": 2
}
