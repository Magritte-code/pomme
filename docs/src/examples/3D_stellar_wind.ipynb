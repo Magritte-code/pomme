{
 "cells": [
  {
   "cell_type": "markdown",
   "metadata": {},
   "source": [
    "# 3D Stellar wind\n",
    "\n",
    "---\n",
    "In this example, we consider an smoothed-particle hydrodynamics (SPH) model of a companion-perturbed stellar wind."
   ]
  },
  {
   "cell_type": "code",
   "execution_count": 1,
   "metadata": {},
   "outputs": [],
   "source": [
    "import numpy             as np\n",
    "import matplotlib.pyplot as plt\n",
    "import os\n",
    "from astropy import units, constants"
   ]
  },
  {
   "cell_type": "markdown",
   "metadata": {},
   "source": [
    "\n",
    "---\n",
    "\n",
    "## Model setup\n",
    "First we download a snapshot of this SPH model."
   ]
  },
  {
   "cell_type": "code",
   "execution_count": 2,
   "metadata": {},
   "outputs": [],
   "source": [
    "setup_file = '3D_stellar_wind_data/wind.setup'\n",
    "input_file = '3D_stellar_wind_data/wind.in'\n",
    "dump_file  = '3D_stellar_wind_data/wind.dump'"
   ]
  },
  {
   "cell_type": "code",
   "execution_count": 3,
   "metadata": {},
   "outputs": [
    {
     "name": "stdout",
     "output_type": "stream",
     "text": [
      "--2024-08-12 08:55:22--  https://raw.githubusercontent.com/Ensor-code/phantom-models/main/Malfait%2B2024a/v10e00/wind.setup\n",
      "Resolving raw.githubusercontent.com (raw.githubusercontent.com)... 185.199.109.133, 185.199.111.133, 185.199.108.133, ...\n",
      "Connecting to raw.githubusercontent.com (raw.githubusercontent.com)|185.199.109.133|:443... connected.\n",
      "HTTP request sent, awaiting response... 200 OK\n",
      "Length: 1209 (1.2K) [text/plain]\n",
      "Saving to: ‘3D_stellar_wind_data/wind.setup’\n",
      "\n",
      "3D_stellar_wind_dat 100%[===================>]   1.18K  --.-KB/s    in 0s      \n",
      "\n",
      "2024-08-12 08:55:22 (38.8 MB/s) - ‘3D_stellar_wind_data/wind.setup’ saved [1209/1209]\n",
      "\n",
      "--2024-08-12 08:55:23--  https://raw.githubusercontent.com/Ensor-code/phantom-models/main/Malfait%2B2024a/v10e00/wind.in\n",
      "Resolving raw.githubusercontent.com (raw.githubusercontent.com)... 185.199.110.133, 185.199.108.133, 185.199.111.133, ...\n",
      "Connecting to raw.githubusercontent.com (raw.githubusercontent.com)|185.199.110.133|:443... connected.\n",
      "HTTP request sent, awaiting response... 200 OK\n",
      "Length: 5579 (5.4K) [text/plain]\n",
      "Saving to: ‘3D_stellar_wind_data/wind.in’\n",
      "\n",
      "3D_stellar_wind_dat 100%[===================>]   5.45K  --.-KB/s    in 0s      \n",
      "\n",
      "2024-08-12 08:55:23 (29.3 MB/s) - ‘3D_stellar_wind_data/wind.in’ saved [5579/5579]\n",
      "\n",
      "--2024-08-12 08:55:24--  https://raw.githubusercontent.com/Ensor-code/phantom-models/main/Malfait%2B2024a/v10e00/wind_v10e00\n",
      "Resolving raw.githubusercontent.com (raw.githubusercontent.com)... 185.199.110.133, 185.199.108.133, 185.199.111.133, ...\n",
      "Connecting to raw.githubusercontent.com (raw.githubusercontent.com)|185.199.110.133|:443... connected.\n",
      "HTTP request sent, awaiting response... 200 OK\n",
      "Length: 70236960 (67M) [application/octet-stream]\n",
      "Saving to: ‘3D_stellar_wind_data/wind.dump’\n",
      "\n",
      "3D_stellar_wind_dat 100%[===================>]  66.98M  44.0MB/s    in 1.5s    \n",
      "\n",
      "2024-08-12 08:55:29 (44.0 MB/s) - ‘3D_stellar_wind_data/wind.dump’ saved [70236960/70236960]\n",
      "\n"
     ]
    }
   ],
   "source": [
    "!wget 'https://raw.githubusercontent.com/Ensor-code/phantom-models/main/Malfait%2B2024a/v10e00/wind.setup'  --output-document $setup_file\n",
    "!wget 'https://raw.githubusercontent.com/Ensor-code/phantom-models/main/Malfait%2B2024a/v10e00/wind.in'     --output-document $input_file\n",
    "!wget 'https://raw.githubusercontent.com/Ensor-code/phantom-models/main/Malfait%2B2024a/v10e00/wind_v10e00' --output-document $dump_file"
   ]
  },
  {
   "cell_type": "markdown",
   "metadata": {},
   "source": [
    "We use [plons](https://github.com/Ensor-code/plons) to open the data."
   ]
  },
  {
   "cell_type": "code",
   "execution_count": 4,
   "metadata": {},
   "outputs": [],
   "source": [
    "import plons\n",
    "\n",
    "setupData = plons.LoadSetup(f'{os.getcwd()}/3D_stellar_wind_data', 'wind')\n",
    "dumpData  = plons.LoadFullDump(f'{os.getcwd()}/{dump_file}', setupData)\n",
    "\n",
    "position = dumpData[\"position\"]*1e-2   # position vectors [cm   -> m]\n",
    "velocity = dumpData[\"velocity\"]*1e3    # velocity vectors [km/s -> m/s]\n",
    "rho      = dumpData[\"rho\"]             # density          [g/cm^3]\n",
    "tmp      = dumpData[\"Tgas\"]            # temperature      [K]\n",
    "tmp[tmp<2.7] = 2.7                     # Cut-off temperatures below 2.7 K\n",
    "\n",
    "# Unpack velocities\n",
    "v_x, v_y, v_z = velocity.T\n",
    "\n",
    "# Convert rho (total density) to H2 abundance\n",
    "nH2 = rho * 1.0e+6 * constants.N_A.si.value / 2.02\n",
    "\n",
    "# Define turbulence at 150 m/s\n",
    "v_trb = 150.0"
   ]
  },
  {
   "cell_type": "markdown",
   "metadata": {},
   "source": [
    "Next, we map the particle data to a regular Cartesian mesh."
   ]
  },
  {
   "cell_type": "code",
   "execution_count": 5,
   "metadata": {},
   "outputs": [],
   "source": [
    "from pomme.haar import Haar\n",
    "\n",
    "# Map point data to a regular grid\n",
    "haar = Haar(position, q=8)\n",
    "# Zoom in on the centre region to avoid edge effects\n",
    "imin = 2**(haar.q-3)\n",
    "imax = 3*imin\n",
    "# Map data to a regular grid\n",
    "nH2_dat = haar.map_data(nH2, interpolate=True)[-1][imin:imax,imin:imax,imin:imax]\n",
    "tmp_dat = haar.map_data(tmp, interpolate=True)[-1][imin:imax,imin:imax,imin:imax]\n",
    "v_x_dat = haar.map_data(v_x, interpolate=True)[-1][imin:imax,imin:imax,imin:imax]\n",
    "v_y_dat = haar.map_data(v_y, interpolate=True)[-1][imin:imax,imin:imax,imin:imax]\n",
    "v_z_dat = haar.map_data(v_z, interpolate=True)[-1][imin:imax,imin:imax,imin:imax]"
   ]
  },
  {
   "cell_type": "markdown",
   "metadata": {},
   "source": [
    "---\n",
    "\n",
    "### TensorModel\n",
    "With all the data in place, we can start building a pomme model.\n",
    "First, we store all model parameters as a TensorModel object and store this in an HDF5 file.\n",
    "We will use this later as the ground truth to verify our reconstructions against."
   ]
  },
  {
   "cell_type": "code",
   "execution_count": 6,
   "metadata": {},
   "outputs": [],
   "source": [
    "from pomme.model import TensorModel\n",
    "\n",
    "model = TensorModel(shape=nH2_dat.shape, sizes=haar.xyz_L)\n",
    "model['log_H2'          ] = np.log(nH2_dat).astype(np.float64)\n",
    "model['log_temperature' ] = np.log(tmp_dat).astype(np.float64)\n",
    "model['velocity_x'      ] =        v_x_dat .astype(np.float64)\n",
    "model['velocity_y'      ] =        v_y_dat .astype(np.float64)\n",
    "model['velocity_z'      ] =        v_z_dat .astype(np.float64)\n",
    "model['log_v_turbulence'] = np.log(v_trb)*np.ones(model.shape, dtype=np.float64)\n",
    "model.save('3D_stellar_wind_truth.h5')"
   ]
  },
  {
   "cell_type": "markdown",
   "metadata": {},
   "source": [
    "---\n",
    "\n",
    "### GeneralModel\n",
    "First, we define the functions that can generate the model distributions from the model parameters."
   ]
  },
  {
   "cell_type": "code",
   "execution_count": 7,
   "metadata": {},
   "outputs": [],
   "source": [
    "import torch\n",
    "from pomme.utils import planck, T_CMB\n",
    "\n",
    "def get_velocity(model):\n",
    "    \"\"\"\n",
    "    Get the velocity from the TensorModel.\n",
    "    \"\"\"\n",
    "    return model['velocity_z']\n",
    "\n",
    "def get_temperature(model):\n",
    "    \"\"\"\n",
    "    Get the temperature from the TensorModel.\n",
    "    \"\"\"\n",
    "    return torch.exp(model['log_temperature'])\n",
    "\n",
    "def get_abundance(model, l):\n",
    "    \"\"\"\n",
    "    Get the abundance from the TensorModel.\n",
    "    \"\"\"\n",
    "    # Define the assumed molecular fractions w.r.t. H2\n",
    "    X_mol = [3.0e-4, 5.0e-6]\n",
    "    # Return the abundance\n",
    "    return torch.exp(model['log_H2']) * X_mol[l]\n",
    "\n",
    "def get_turbulence(model):\n",
    "    \"\"\"\n",
    "    Get the turbulence from the TensorModel.\n",
    "    \"\"\"\n",
    "    return torch.exp(model['log_v_turbulence'])\n",
    "\n",
    "def get_boundary_condition(model, frequency):\n",
    "    \"\"\"\n",
    "    Get the boundary condition from the TensorModel.\n",
    "    model: TensorModel\n",
    "        The TensorModel object containing the model.\n",
    "    frequency: float\n",
    "        Frequency at which to evaluate the boundary condition.\n",
    "    \"\"\"\n",
    "    # Compute the incoming boundary intensity\n",
    "    Ibdy  = torch.ones((model.shape[0], model.shape[1], len(frequency)), dtype=torch.float64)\n",
    "    Ibdy *= planck(temperature=T_CMB, frequency=frequency)\n",
    "    # Return the result\n",
    "    return Ibdy"
   ]
  },
  {
   "cell_type": "markdown",
   "metadata": {},
   "source": [
    "Using these functions, we can build a GeneralModel object that can be used to generate synthetic observations or reconstruct the required parameters. (Cfr. the SphericalModel class for spherically symmetric models.)"
   ]
  },
  {
   "cell_type": "code",
   "execution_count": 8,
   "metadata": {},
   "outputs": [],
   "source": [
    "from pomme.model import GeneralModel\n",
    "\n",
    "gmodel_truth = GeneralModel(model=model)\n",
    "gmodel_truth.get_velocity           = get_velocity\n",
    "gmodel_truth.get_abundance          = get_abundance\n",
    "gmodel_truth.get_turbulence         = get_turbulence\n",
    "gmodel_truth.get_temperature        = get_temperature\n",
    "gmodel_truth.get_boundary_condition = get_boundary_condition"
   ]
  },
  {
   "cell_type": "markdown",
   "metadata": {},
   "source": [
    "---\n",
    "\n",
    "### Spectral lines\n",
    "We base our reconstructions on synthetic observations of two commonly observed rotational lines CO $J=4-3$ and SiO $J=3-2$. We explicitly provide the molar mass for SiO, since this is not extracted correctly from the line data file."
   ]
  },
  {
   "cell_type": "code",
   "execution_count": 9,
   "metadata": {},
   "outputs": [
    {
     "name": "stdout",
     "output_type": "stream",
     "text": [
      "You have selected line:\n",
      "    CO(J=4-3)\n",
      "Please check the properties that were inferred:\n",
      "    Frequency         4.610407682e+11  Hz\n",
      "    Einstein A coeff  6.126000000e-06  1/s\n",
      "    Molar mass        28.0101          g/mol\n",
      "You have selected line:\n",
      "    sio-h2(J=03-02)\n",
      "Please check the properties that were inferred:\n",
      "    Frequency         1.302686830e+11  Hz\n",
      "    Einstein A coeff  1.058000000e-04  1/s\n",
      "    Molar mass        44.0849          g/mol\n"
     ]
    },
    {
     "name": "stderr",
     "output_type": "stream",
     "text": [
      "/home/frederikd/.local/lib/python3.9/site-packages/astroquery/lamda/core.py:145: UserWarning: The first time a LAMDA function is called, it must assemble a list of valid molecules and URLs.  This list will be cached so future operations will be faster.\n",
      "  warnings.warn(\"The first time a LAMDA function is called, it must \"\n"
     ]
    }
   ],
   "source": [
    "from pomme.lines import Line\n",
    "from pomme.utils import get_molar_mass\n",
    "\n",
    "lines = [\n",
    "    Line(species_name='CO',     transition=3),\n",
    "    Line(species_name='sio-h2', transition=2, molar_mass=get_molar_mass('SiO'))\n",
    "]"
   ]
  },
  {
   "cell_type": "markdown",
   "metadata": {},
   "source": [
    "---\n",
    "\n",
    "### Frequencies\n",
    "Next, we define the velocity/frequency range.\n",
    "We observe the lines in 100 frequency bins, centred around the lines, with a spacing of 120 m/s."
   ]
  },
  {
   "cell_type": "code",
   "execution_count": 10,
   "metadata": {},
   "outputs": [],
   "source": [
    "vdiff = 120   # velocity increment size [m/s]\n",
    "nfreq = 100   # number of frequencies\n",
    "\n",
    "velocities  = nfreq * vdiff * torch.linspace(-1, +1, nfreq, dtype=torch.float64)\n",
    "frequencies = [(1.0 + velocities / constants.c.si.value) * line.frequency for line in lines]"
   ]
  },
  {
   "cell_type": "markdown",
   "metadata": {},
   "source": [
    "---\n",
    "\n",
    "## Synthetic observations\n",
    "We can now generate synthetic observations, directly from the Model object.\n",
    "We will use these later to derive our reconstructions."
   ]
  },
  {
   "cell_type": "code",
   "execution_count": 11,
   "metadata": {},
   "outputs": [],
   "source": [
    "obss = gmodel_truth.image(lines, frequencies)"
   ]
  },
  {
   "cell_type": "markdown",
   "metadata": {},
   "source": [
    "Plot the resulting synthetic spectral line observations.\n",
    "pomme provides some convenient wrappers for matploltib to explore the spectral data cubes."
   ]
  },
  {
   "cell_type": "code",
   "execution_count": 12,
   "metadata": {},
   "outputs": [
    {
     "data": {
      "application/vnd.jupyter.widget-view+json": {
       "model_id": "b9433978f3d9491cbbe91a5cb283bd1b",
       "version_major": 2,
       "version_minor": 0
      },
      "text/plain": [
       "interactive(children=(IntSlider(value=49, description='z', max=99), Output()), _dom_classes=('widget-interact'…"
      ]
     },
     "metadata": {},
     "output_type": "display_data"
    },
    {
     "data": {
      "application/vnd.jupyter.widget-view+json": {
       "model_id": "676803bf63d3470f94c15ceae7ba99e0",
       "version_major": 2,
       "version_minor": 0
      },
      "text/plain": [
       "interactive(children=(IntSlider(value=49, description='z', max=99), Output()), _dom_classes=('widget-interact'…"
      ]
     },
     "metadata": {},
     "output_type": "display_data"
    },
    {
     "data": {
      "application/vnd.jupyter.widget-view+json": {
       "model_id": "012175d314f34c60ac39273bdc9c8d61",
       "version_major": 2,
       "version_minor": 0
      },
      "text/plain": [
       "interactive(children=(IntSlider(value=31, description='i', max=63), IntSlider(value=31, description='j', max=6…"
      ]
     },
     "metadata": {},
     "output_type": "display_data"
    },
    {
     "data": {
      "application/vnd.jupyter.widget-view+json": {
       "model_id": "1365ec3f89a0437fa5336139cd38dff9",
       "version_major": 2,
       "version_minor": 0
      },
      "text/plain": [
       "interactive(children=(IntSlider(value=31, description='i', max=63), IntSlider(value=31, description='j', max=6…"
      ]
     },
     "metadata": {},
     "output_type": "display_data"
    },
    {
     "data": {
      "text/plain": [
       "<function pomme.plot.plot_spectrum.<locals>.plot(i, j)>"
      ]
     },
     "execution_count": 12,
     "metadata": {},
     "output_type": "execute_result"
    }
   ],
   "source": [
    "from pomme.plot import plot_cube_2D, plot_spectrum\n",
    "\n",
    "plot_cube_2D(np.log(obss[0]))\n",
    "plot_cube_2D(np.log(obss[1]))\n",
    "\n",
    "plot_spectrum(np.log(obss[0]))\n",
    "plot_spectrum(np.log(obss[1]))"
   ]
  },
  {
   "cell_type": "markdown",
   "metadata": {},
   "source": [
    "---\n",
    "\n",
    "## Reconstruction setup\n",
    "In this example, we will try to reconstruct the CO abundance, radial velocity, and temperature distribution.\n",
    "Since we will only assume a radial component in our velocity field, we need to adapt the corresponding function."
   ]
  },
  {
   "cell_type": "code",
   "execution_count": 13,
   "metadata": {},
   "outputs": [],
   "source": [
    "def get_velocity_from_1D(model):\n",
    "    \"\"\"\n",
    "    Get the velocity from the 1D data.\n",
    "    \"\"\" \n",
    "    # Extract the radial unit vector field from the model\n",
    "    d = torch.from_numpy(model.get_radial_direction(origin='centre'))\n",
    "    # Return the (strictly radial) velocity field\n",
    "    return torch.exp(model['log_velocity_r']) * d"
   ]
  },
  {
   "cell_type": "markdown",
   "metadata": {},
   "source": [
    "Next, we define the model object for the reconstruction. Note that in the gmodel defined above, all the right parameters are already stored, so we need a new one for the reconstruction.\n",
    "We take, $n_{\\text{CO}}^{\\text{init}}(r) = 5.0 \\times 10^{14} \\, \\text{m}^{-3} \\, (r_{\\text{in}}/r)^{2} $, as initial guess for the CO abundance distribution, and initialise both the velocity and the temperature with the correct values."
   ]
  },
  {
   "cell_type": "code",
   "execution_count": 14,
   "metadata": {},
   "outputs": [],
   "source": [
    "gmodel_recon = GeneralModel(gmodel_truth.model)\n",
    "gmodel_recon.get_velocity           = get_velocity_from_1D\n",
    "gmodel_recon.get_abundance          = get_abundance\n",
    "gmodel_recon.get_turbulence         = get_turbulence\n",
    "gmodel_recon.get_temperature        = get_temperature\n",
    "gmodel_recon.get_boundary_condition = get_boundary_condition\n",
    "\n",
    "# Initial guess parameters\n",
    "n_H2_in = 5.0e+13\n",
    "v_in    = 1.0e+2\n",
    "v_inf   = 1.0e+4\n",
    "beta    = 1.0\n",
    "T_in    = 5.0e+3\n",
    "epsilon = 0.5\n",
    "\n",
    "rs = gmodel_recon.model.get_radius(origin='centre')\n",
    "\n",
    "model['log_H2'          ] = np.log(n_H2_in * (rs.min()/rs)**2)\n",
    "model['log_velocity_r'  ] = np.log(v_in + (v_inf - v_in) * (1.0 - rs.min()/rs)**beta)\n",
    "model['log_temperature' ] = np.log(T_in * (rs.min()/rs)**epsilon)\n",
    "\n",
    "# Fix all parameters, except for the ones we want to fit\n",
    "model.fix_all()\n",
    "model.free(['log_H2', 'log_velocity_r', 'log_temperature'])\n",
    "\n",
    "# Save the initial guess\n",
    "model.save('3D_stellar_wind_recon_init.h5')"
   ]
  },
  {
   "cell_type": "markdown",
   "metadata": {},
   "source": [
    "We can explore the model parameters with the info() function."
   ]
  },
  {
   "cell_type": "code",
   "execution_count": 15,
   "metadata": {},
   "outputs": [
    {
     "name": "stdout",
     "output_type": "stream",
     "text": [
      "Variable key:              Free/Fixed:   Field:    Min:           Mean:          Max:\n",
      "  log_H2                     Free          True     +2.326e+01     +2.451e+01     +3.154e+01\n",
      "  log_temperature            Free          True     +6.446e+00     +6.759e+00     +8.517e+00\n",
      "  velocity_x                 Fixed         True     -1.958e+04     +4.669e+00     +1.754e+04\n",
      "  velocity_y                 Fixed         True     -1.741e+04     -2.048e+02     +2.137e+04\n",
      "  velocity_z                 Fixed         True     -9.749e+03     -7.321e+01     +9.680e+03\n",
      "  log_v_turbulence           Fixed         True     +5.011e+00     +5.011e+00     +5.011e+00\n",
      "  log_velocity_r             Free          True     +4.605e+00     +9.178e+00     +9.195e+00\n",
      "sizes: [7.46717267e+13 7.46169581e+13 7.36127621e+13]\n",
      "shape: (64, 64, 64)\n"
     ]
    }
   ],
   "source": [
    "gmodel_recon.model.info()"
   ]
  },
  {
   "cell_type": "markdown",
   "metadata": {},
   "source": [
    "---\n",
    "\n",
    "### Loss functions\n",
    "We first create Loss object that can conveniently store the different losses.\n",
    "We will use a reproduction loss (split into an averaged and relative component), a smoothness, and a continuity loss."
   ]
  },
  {
   "cell_type": "code",
   "execution_count": 16,
   "metadata": {},
   "outputs": [],
   "source": [
    "from pomme.loss import Loss, diff_loss\n",
    "\n",
    "losses = Loss(['avg', 'rel', 'smt', 'cnt'])"
   ]
  },
  {
   "cell_type": "markdown",
   "metadata": {},
   "source": [
    "---\n",
    "\n",
    "#### Reproduction loss\n",
    "We split the reproduction loss into an averaged and a relative component,\n",
    "\\begin{equation*}\n",
    "\\mathcal{L}_{\\text{rep}}\\big(f(\\boldsymbol{m}), \\boldsymbol{o} \\big)\n",
    "\\ = \\\n",
    "\\mathcal{L}_{\\text{rep}}\\Big( \\big\\langle f(\\boldsymbol{m}) \\big\\rangle, \\, \\left\\langle\\boldsymbol{o}\\right\\rangle \\Big)\n",
    "\\ + \\\n",
    "\\mathcal{L}_{\\text{rep}}\\left( \\frac{f(\\boldsymbol{m})}{\\big\\langle f(\\boldsymbol{m})\\big\\rangle}, \\, \\frac{\\boldsymbol{o}}{\\left\\langle \\boldsymbol{o}\\right\\rangle} \\right) ,\n",
    "\\end{equation*}"
   ]
  },
  {
   "cell_type": "code",
   "execution_count": 17,
   "metadata": {},
   "outputs": [],
   "source": [
    "# Define averaging and relative function\n",
    "avg = lambda arr: arr.mean(axis=-1)\n",
    "rel = lambda arr: torch.einsum(\"...f, ... -> ...f\", arr, 1.0/avg(arr))\n",
    "\n",
    "def avg_loss(smodel, imgs):\n",
    "    \"\"\"\n",
    "    Compute the average loss.\n",
    "    \"\"\"\n",
    "    return torch.nn.functional.mse_loss(avg(imgs), avg(obss))\n",
    "\n",
    "def rel_loss(smodel, imgs):\n",
    "    \"\"\"\n",
    "    Compute the relative loss.\n",
    "    \"\"\"\n",
    "    return torch.nn.functional.mse_loss(rel(imgs), rel(obss))"
   ]
  },
  {
   "cell_type": "markdown",
   "metadata": {},
   "source": [
    "---\n",
    "\n",
    "#### Smoothness loss\n",
    "The smoothnes loss is defined as,\n",
    "\\begin{equation}\n",
    "\\mathcal{L}[q] \\ = \\ \\int \\text{d} \\boldsymbol{x} \\ \\| \\nabla q(\\boldsymbol{x})\\|^{2}\n",
    "\\end{equation}"
   ]
  },
  {
   "cell_type": "code",
   "execution_count": 18,
   "metadata": {},
   "outputs": [],
   "source": [
    "def smoothness_loss(gmodel):\n",
    "    \"\"\"\n",
    "    Smoothness loss for CO, velocity, and temperature distributions.\n",
    "    \"\"\"\n",
    "    # Compute and return the loss\n",
    "    return (   diff_loss(gmodel.model['log_H2'         ]) \\\n",
    "             + diff_loss(gmodel.model['log_velocity_r' ]) \\\n",
    "             + diff_loss(gmodel.model['log_temperature']) )"
   ]
  },
  {
   "cell_type": "markdown",
   "metadata": {},
   "source": [
    "---\n",
    "\n",
    "#### Continuity loss\n",
    "The regularisation loss that assumes a steady state and enforces the continuity equation, in 3D reads,\n",
    "\\begin{equation*}\n",
    "\\mathcal{L}[\\rho, \\boldsymbol{v}]\n",
    "\\ = \\\n",
    "\\int \\text{d}\\boldsymbol{x} \\ \\frac{1}{\\rho^{2}} \\big( \\nabla \\cdot \\left( \\rho \\, \\boldsymbol{v} \\right) \\big)^{2}\n",
    "\\end{equation*}"
   ]
  },
  {
   "cell_type": "code",
   "execution_count": 19,
   "metadata": {},
   "outputs": [],
   "source": [
    "def steady_state_cont_loss(gmodel):\n",
    "    \"\"\"\n",
    "    Loss assuming steady state hydrodynamics, i.e. vanishing time derivatives.\n",
    "    \"\"\"\n",
    "    # Extract the relevant variables form the model\n",
    "    rho           = gmodel.get_abundance(gmodel.model, 0)   # line number does not matter here\n",
    "    v_x, v_y, v_z = gmodel.get_velocity (gmodel.model)\n",
    "    # Continuity equation (steady state): div(ρ v) = 0\n",
    "    loss_cont = gmodel.model.diff_x(rho * v_x) + gmodel.model.diff_y(rho * v_y) + gmodel.model.diff_z(rho * v_z)\n",
    "    # Squared average over the model\n",
    "    loss_cont = torch.mean((loss_cont / rho)**2)\n",
    "    # Return losses\n",
    "    return loss_cont"
   ]
  },
  {
   "cell_type": "markdown",
   "metadata": {},
   "source": [
    "---\n",
    "\n",
    "### Fit function\n",
    "With everything in place, we can finally define the fit function."
   ]
  },
  {
   "cell_type": "code",
   "execution_count": 20,
   "metadata": {},
   "outputs": [],
   "source": [
    "from torch.optim import Adam\n",
    "from tqdm        import tqdm\n",
    "\n",
    "def fit(losses, gmodel, N_epochs=10, lr=1.0e-1, w_avg=1.0, w_rel=1.0, w_smt=1.0, w_cnt=1.0):\n",
    "    # Define optimiser\n",
    "    optimizer = Adam(model.free_parameters(), lr=lr)\n",
    "    # Iterate optimiser\n",
    "    for _ in tqdm(range(N_epochs)):\n",
    "        # Forward model\n",
    "        imgs = gmodel.image(lines, frequencies)\n",
    "        # Compute the losses\n",
    "        losses['avg'] = w_avg * avg_loss(gmodel, imgs)\n",
    "        losses['rel'] = w_rel * rel_loss(gmodel, imgs)\n",
    "        losses['smt'] = w_smt * smoothness_loss(gmodel)\n",
    "        losses['cnt'] = w_cnt * steady_state_cont_loss(gmodel)\n",
    "        # Set gradients to zero\n",
    "        optimizer.zero_grad()\n",
    "        # Backpropagate gradients\n",
    "        losses.tot().backward()\n",
    "        # Update parameters\n",
    "        optimizer.step()\n",
    "    # Return the images and losses\n",
    "    return imgs, losses"
   ]
  },
  {
   "cell_type": "markdown",
   "metadata": {},
   "source": [
    "---\n",
    "\n",
    "## Experiments"
   ]
  },
  {
   "cell_type": "markdown",
   "metadata": {},
   "source": [
    "Now we can fit the model to the synthetic data.\n",
    "First, to determine the relative weights for each loss function in the total loss, we run 3 iterations and observe the loss values. Then, we define the weight of each individual loss function by the inverse of its current value (renormalisation step), such that in the following iterations they all contribute equally."
   ]
  },
  {
   "cell_type": "code",
   "execution_count": 23,
   "metadata": {},
   "outputs": [
    {
     "name": "stderr",
     "output_type": "stream",
     "text": [
      "100%|██████████| 3/3 [00:42<00:00, 14.11s/it]\n"
     ]
    }
   ],
   "source": [
    "imgs, losses = fit(losses, gmodel_recon,\n",
    "    N_epochs = 3,\n",
    "    lr       = 1.0e-1,\n",
    "    w_avg    = 1.0e+0,\n",
    "    w_rel    = 1.0e+0,\n",
    "    w_smt    = 1.0e+0,\n",
    "    w_cnt    = 1.0e+0,\n",
    ")\n",
    "losses.renormalise_all()   # Renormalise the losses\n",
    "losses.reset()             # Reset the losses to renormalised values\n",
    "\n",
    "# Save the (partially) reconstructed model\n",
    "gmodel_recon.model.save('3D_stellar_wind_recon_000.h5')"
   ]
  },
  {
   "cell_type": "markdown",
   "metadata": {},
   "source": [
    "With the renormalised weights in place, we now run 100 iterations of the reconstruction algorithm.\n",
    "Note that one can still specify relative weights for the losses, these are an additional factor to the renormalisation. Here, we take them all equal to one, such that all losses contribute equally."
   ]
  },
  {
   "cell_type": "code",
   "execution_count": 33,
   "metadata": {},
   "outputs": [
    {
     "name": "stderr",
     "output_type": "stream",
     "text": [
      "100%|██████████| 100/100 [22:09<00:00, 13.30s/it]\n"
     ]
    },
    {
     "data": {
      "image/png": "[encoded data removed]",
      "text/plain": [
       "<Figure size 780x520 with 1 Axes>"
      ]
     },
     "metadata": {
      "needs_background": "light"
     },
     "output_type": "display_data"
    }
   ],
   "source": [
    "imgs, losses = fit(losses, gmodel_recon,\n",
    "    N_epochs = 100,\n",
    "    lr       = 1.0e-1,\n",
    "    w_avg    = 1.0e+0,\n",
    "    w_rel    = 1.0e+0,\n",
    "    w_smt    = 1.0e+0,\n",
    "    w_cnt    = 1.0e+0,\n",
    ")\n",
    "gmodel_recon.model.save('3D_stellar_wind_recon_100.h5')\n",
    "losses.plot()"
   ]
  },
  {
   "cell_type": "markdown",
   "metadata": {},
   "source": [
    "Next, we run an additional 500 itereations of the reconstruction algortihm."
   ]
  },
  {
   "cell_type": "code",
   "execution_count": null,
   "metadata": {},
   "outputs": [
    {
     "name": "stderr",
     "output_type": "stream",
     "text": [
      "100%|██████████| 100/100 [18:03<00:00, 10.84s/it]\n"
     ]
    },
    {
     "data": {
      "image/png": "[encoded data removed]",
      "text/plain": [
       "<Figure size 780x520 with 1 Axes>"
      ]
     },
     "metadata": {},
     "output_type": "display_data"
    }
   ],
   "source": [
    "imgs, losses = fit(losses, gmodel_recon,\n",
    "    N_epochs = 500,\n",
    "    lr       = 1.0e-1,\n",
    "    w_avg    = 1.0e+0,\n",
    "    w_rel    = 1.0e+0,\n",
    "    w_smt    = 1.0e+0,\n",
    "    w_cnt    = 1.0e+0,\n",
    ")\n",
    "gmodel_recon.model.save('3D_stellar_wind_recon_600.h5')\n",
    "losses.plot()"
   ]
  }
 ],
 "metadata": {
  "kernelspec": {
   "display_name": "magritte",
   "language": "python",
   "name": "python3"
  },
  "language_info": {
   "codemirror_mode": {
    "name": "ipython",
    "version": 3
   },
   "file_extension": ".py",
   "mimetype": "text/x-python",
   "name": "python",
   "nbconvert_exporter": "python",
   "pygments_lexer": "ipython3",
   "version": "3.9.13"
  }
 },
 "nbformat": 4,
 "nbformat_minor": 2
}
