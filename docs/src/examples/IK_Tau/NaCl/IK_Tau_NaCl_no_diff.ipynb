{
 "cells": [
  {
   "cell_type": "markdown",
   "metadata": {},
   "source": [
    "# The unusual 3D distrubution of NaCl around the AGB star IK Tau\n",
    "---\n",
    "\n",
    "_Based on the work by [Coenegrachts et al. (2023)](https://ui.adsabs.harvard.edu/abs/2023arXiv230206221C/abstract)._"
   ]
  },
  {
   "cell_type": "code",
   "execution_count": 1,
   "metadata": {},
   "outputs": [],
   "source": [
    "import matplotlib.pyplot as plt\n",
    "import numpy             as np\n",
    "import torch\n",
    "\n",
    "from torch.optim            import Adam\n",
    "from tqdm                   import tqdm\n",
    "from astropy                import units, constants\n",
    "from ipywidgets             import interact\n",
    "\n",
    "from pomme.utils         import convert_angular_to_spatial\n",
    "from pomme.plot          import plot_cube_2D, plot_spectrum\n",
    "from pomme.object        import AstroObject\n",
    "from pomme.observation   import DataCube, Beam\n",
    "from pomme.model         import TensorModel\n",
    "from pomme.utils         import print_var, interpolate, convert_angular_to_spatial, planck, T_CMB\n",
    "from pomme.lines         import Line\n",
    "from pomme.loss          import Loss, SphericalLoss, diff_loss \n",
    "from pomme.hydrodynamics import Hydrodynamics"
   ]
  },
  {
   "cell_type": "code",
   "execution_count": 2,
   "metadata": {},
   "outputs": [
    {
     "name": "stdout",
     "output_type": "stream",
     "text": [
      "Using the parallax distance.\n"
     ]
    }
   ],
   "source": [
    "# Extract object data from Simbad\n",
    "obj = AstroObject('IK Tau')"
   ]
  },
  {
   "cell_type": "code",
   "execution_count": 3,
   "metadata": {},
   "outputs": [
    {
     "name": "stdout",
     "output_type": "stream",
     "text": [
      "You have selected line:\n",
      "    NaCl(J=26 0-25 0)\n",
      "Please check the properties that were inferred:\n",
      "    Frequency         3.380198940e+11  Hz\n",
      "    Einstein A coeff  1.859200000e-02  1/s\n",
      "    Molar mass        58.44276928000001  g/mol\n"
     ]
    }
   ],
   "source": [
    "# Extract line data from file\n",
    "line = Line('NaCl', 25, datafile='data/23Na-35Cl__Barton-ExoMol.dat')"
   ]
  },
  {
   "cell_type": "code",
   "execution_count": 4,
   "metadata": {},
   "outputs": [
    {
     "data": {
      "text/plain": [
       "338019894000.0"
      ]
     },
     "execution_count": 4,
     "metadata": {},
     "output_type": "execute_result"
    }
   ],
   "source": [
    "line.frequency"
   ]
  },
  {
   "cell_type": "code",
   "execution_count": 5,
   "metadata": {},
   "outputs": [],
   "source": [
    "# Extract continuum data from file\n",
    "dat_cont = DataCube('/enif-pool/taissa/ALMA/IKTau/IK_Tau.continuum_ap1.fits')"
   ]
  },
  {
   "cell_type": "code",
   "execution_count": 6,
   "metadata": {},
   "outputs": [
    {
     "data": {
      "application/vnd.jupyter.widget-view+json": {
       "model_id": "09330367517846c78d7905f9b52102ae",
       "version_major": 2,
       "version_minor": 0
      },
      "text/plain": [
       "interactive(children=(IntSlider(value=0, description='f', max=0), Output()), _dom_classes=('widget-interact',)…"
      ]
     },
     "metadata": {},
     "output_type": "display_data"
    },
    {
     "data": {
      "text/plain": [
       "<function pomme.observation.DataCube.plot_channel_maps.<locals>.plot(f)>"
      ]
     },
     "execution_count": 6,
     "metadata": {},
     "output_type": "execute_result"
    }
   ],
   "source": [
    "dat_cont.plot_channel_maps()"
   ]
  },
  {
   "cell_type": "code",
   "execution_count": 7,
   "metadata": {},
   "outputs": [],
   "source": [
    "# Find location of the star by taking the average position, weighted by the 49 brightest pixels\n",
    "ix, iy = np.meshgrid(np.arange(dat_cont.img.shape[1]), np.arange(dat_cont.img.shape[2]))\n",
    "\n",
    "dist = dat_cont.img - dat_cont.img.min() \n",
    "dist[dist<np.sort(dist.ravel())[-49]] = 0.0\n",
    "dist *= 1.0 / np.sum(dist)\n",
    "\n",
    "idx_star = np.sum(iy * dist)\n",
    "idy_star = np.sum(ix * dist)"
   ]
  },
  {
   "cell_type": "code",
   "execution_count": 8,
   "metadata": {},
   "outputs": [],
   "source": [
    "# Extract line data from file\n",
    "dat = DataCube('/STER/frederikd/Deprojection/data/observations/IKTau_NaCl26-25.fits')"
   ]
  },
  {
   "cell_type": "code",
   "execution_count": 9,
   "metadata": {},
   "outputs": [
    {
     "data": {
      "application/vnd.jupyter.widget-view+json": {
       "model_id": "f0aeedffe081434f89bbfe64bc9dd1e3",
       "version_major": 2,
       "version_minor": 0
      },
      "text/plain": [
       "interactive(children=(IntSlider(value=37, description='f', max=75), Output()), _dom_classes=('widget-interact'…"
      ]
     },
     "metadata": {},
     "output_type": "display_data"
    },
    {
     "data": {
      "text/plain": [
       "<function pomme.observation.DataCube.plot_channel_maps.<locals>.plot(f)>"
      ]
     },
     "execution_count": 9,
     "metadata": {},
     "output_type": "execute_result"
    }
   ],
   "source": [
    "dat.plot_channel_maps()"
   ]
  },
  {
   "cell_type": "code",
   "execution_count": 10,
   "metadata": {},
   "outputs": [
    {
     "data": {
      "application/vnd.jupyter.widget-view+json": {
       "model_id": "b89015c6f949407a836cff06e60f6ebe",
       "version_major": 2,
       "version_minor": 0
      },
      "text/plain": [
       "interactive(children=(IntSlider(value=127, description='i', max=255), IntSlider(value=127, description='j', ma…"
      ]
     },
     "metadata": {},
     "output_type": "display_data"
    },
    {
     "data": {
      "text/plain": [
       "<function pomme.observation.DataCube.plot_spectrum.<locals>.plot(i, j)>"
      ]
     },
     "execution_count": 10,
     "metadata": {},
     "output_type": "execute_result"
    }
   ],
   "source": [
    "dat.plot_spectrum()"
   ]
  },
  {
   "cell_type": "code",
   "execution_count": 11,
   "metadata": {},
   "outputs": [],
   "source": [
    "# Crop the observations \n",
    "fi_min, fi_max =  30,  55\n",
    "xi_min, xi_max = 115, 150\n",
    "yi_min, yi_max = 110, 145\n",
    "\n",
    "obs_data = dat.img[fi_min:fi_max, xi_min:xi_max, yi_min:yi_max]\n",
    "obs_freq = dat.fs [fi_min:fi_max]\n",
    "obs_xlim = dat.xs [xi_max] - dat.xs[xi_min]\n",
    "obs_ylim = dat.xs [xi_max] - dat.xs[xi_min]\n",
    "obs_cont = dat_cont.img[0, xi_min:xi_max, yi_min:yi_max]\n",
    "\n",
    "# Get the location of the star in cropped indices\n",
    "idx_star -= xi_min\n",
    "idy_star -= yi_min"
   ]
  },
  {
   "cell_type": "code",
   "execution_count": 12,
   "metadata": {},
   "outputs": [
    {
     "data": {
      "text/plain": [
       "(25,)"
      ]
     },
     "execution_count": 12,
     "metadata": {},
     "output_type": "execute_result"
    }
   ],
   "source": [
    "obs_freq.shape"
   ]
  },
  {
   "cell_type": "code",
   "execution_count": 13,
   "metadata": {},
   "outputs": [
    {
     "data": {
      "text/plain": [
       "337960718839.5296"
      ]
     },
     "execution_count": 13,
     "metadata": {},
     "output_type": "execute_result"
    }
   ],
   "source": [
    "obs_freq.min().value"
   ]
  },
  {
   "cell_type": "code",
   "execution_count": 14,
   "metadata": {},
   "outputs": [
    {
     "data": {
      "text/plain": [
       "338007591235.81964"
      ]
     },
     "execution_count": 14,
     "metadata": {},
     "output_type": "execute_result"
    }
   ],
   "source": [
    "obs_freq.max().value"
   ]
  },
  {
   "cell_type": "code",
   "execution_count": 15,
   "metadata": {},
   "outputs": [],
   "source": [
    "s_x = abs(convert_angular_to_spatial(obs_xlim, obj.distance)).si.value\n",
    "s_y = abs(convert_angular_to_spatial(obs_ylim, obj.distance)).si.value\n",
    "s_z = np.mean([s_x, s_y])"
   ]
  },
  {
   "cell_type": "code",
   "execution_count": 16,
   "metadata": {},
   "outputs": [
    {
     "data": {
      "application/vnd.jupyter.widget-view+json": {
       "model_id": "b08ad56ced6e427db801db90fc856a2e",
       "version_major": 2,
       "version_minor": 0
      },
      "text/plain": [
       "interactive(children=(IntSlider(value=12, description='f', max=24), Output()), _dom_classes=('widget-interact'…"
      ]
     },
     "metadata": {},
     "output_type": "display_data"
    },
    {
     "data": {
      "text/plain": [
       "<function __main__.plot(f)>"
      ]
     },
     "execution_count": 16,
     "metadata": {},
     "output_type": "execute_result"
    }
   ],
   "source": [
    "def plot(f):\n",
    "    plt.figure(dpi=150)\n",
    "    plt.imshow(obs_data[f,:,:], vmin=obs_data.min(), vmax=obs_data.max())\n",
    "    plt.contour(obs_cont, colors='w', levels=np.array([0.1, 0.5, 0.8])*obs_cont.max())\n",
    "    plt.scatter([idy_star], [idx_star], c='w', marker='*') # switch x and y, to conform to imshow convention\n",
    "interact(plot, f=(0, obs_data.shape[0]-1))"
   ]
  },
  {
   "cell_type": "code",
   "execution_count": null,
   "metadata": {},
   "outputs": [],
   "source": []
  },
  {
   "cell_type": "code",
   "execution_count": 17,
   "metadata": {},
   "outputs": [
    {
     "data": {
      "application/vnd.jupyter.widget-view+json": {
       "model_id": "8137c30996544e678371c1406ad5eda7",
       "version_major": 2,
       "version_minor": 0
      },
      "text/plain": [
       "interactive(children=(IntSlider(value=12, description='f', max=24), Output()), _dom_classes=('widget-interact'…"
      ]
     },
     "metadata": {},
     "output_type": "display_data"
    },
    {
     "data": {
      "text/plain": [
       "<function __main__.plot(f)>"
      ]
     },
     "execution_count": 17,
     "metadata": {},
     "output_type": "execute_result"
    }
   ],
   "source": [
    "# Extract beam from the observation\n",
    "beam = Beam(dat)\n",
    "\n",
    "# Convolve observation with beam\n",
    "bmd_data = np.empty_like(obs_data)\n",
    "for f in range(obs_data.shape[0]):\n",
    "    bmd_data[f,:,:] = beam.apply(obs_data[f,:,:])\n",
    "\n",
    "def plot(f):\n",
    "    fig, axs = plt.subplots(1, 2, dpi=150)\n",
    "    axs[0].set_title('Original')\n",
    "    axs[1].set_title('Convolved with beam')\n",
    "    axs[0].add_artist(beam.object.ellipse_to_plot(3, 31, dat.pixsize_x)).set_color('w')\n",
    "    axs[1].add_artist(beam.object.ellipse_to_plot(3, 31, dat.pixsize_x)).set_color('w')\n",
    "    axs[0].imshow(obs_data[f,:,:] , vmin=obs_data.min(), vmax=obs_data.max())\n",
    "    axs[1].imshow(bmd_data[f,:,:],  vmin=bmd_data.min(), vmax=bmd_data.max())\n",
    "    axs[0].scatter([idy_star], [idx_star], c='y', marker='*') # switch x and y, to conform to imshow convention\n",
    "    axs[1].scatter([idy_star], [idx_star], c='y', marker='*') # switch x and y, to conform to imshow convention\n",
    "interact(plot, f=(0, obs_data.shape[0]-1))"
   ]
  },
  {
   "cell_type": "code",
   "execution_count": null,
   "metadata": {},
   "outputs": [],
   "source": []
  },
  {
   "cell_type": "code",
   "execution_count": 18,
   "metadata": {},
   "outputs": [],
   "source": [
    "# Move frequency axis last\n",
    "obs   = np.moveaxis(bmd_data, 0, -1)\n",
    "\n",
    "# Store the observations and frequencies (in 64 bit precision)\n",
    "obs   = torch.from_numpy(obs     .astype(np.float64))\n",
    "freqs = torch.from_numpy(obs_freq.astype(np.float64).si.value)"
   ]
  },
  {
   "cell_type": "code",
   "execution_count": 19,
   "metadata": {},
   "outputs": [],
   "source": [
    "torch.save(obs, 'data/obs.pt')\n",
    "torch.save(freqs, 'data/freqs.pt')"
   ]
  },
  {
   "cell_type": "code",
   "execution_count": 20,
   "metadata": {},
   "outputs": [],
   "source": [
    "# Fixed parameters\n",
    "v_trb = 1.50e+2\n",
    "v_max = 2.84e+4 / 50\n",
    "v_los = 34000.0 #obj.radial_velocity.si.value\n",
    "\n",
    "R_star = 3.8e11   # [m]\n",
    "T_star = 2100.0   # [K]"
   ]
  },
  {
   "cell_type": "code",
   "execution_count": 21,
   "metadata": {},
   "outputs": [],
   "source": [
    "rs = np.linspace(R_star, (210*units.au).si.value, 1000)"
   ]
  },
  {
   "cell_type": "code",
   "execution_count": 22,
   "metadata": {},
   "outputs": [
    {
     "data": {
      "text/plain": [
       "[<matplotlib.lines.Line2D at 0x7fa5adeb0760>]"
      ]
     },
     "execution_count": 22,
     "metadata": {},
     "output_type": "execute_result"
    },
    {
     "data": {
      "image/png": "[encoded data removed]",
      "text/plain": [
       "<Figure size 900x600 with 1 Axes>"
      ]
     },
     "metadata": {
      "needs_background": "light"
     },
     "output_type": "display_data"
    }
   ],
   "source": [
    "def beta_velocity(r):\n",
    "    v_0    = 3.00e+3   # m/s\n",
    "    v_exp  = 2.84e+4   # m/s\n",
    "    r_dust = 2.38e12   # m\n",
    "    beta   = 1.5       #\n",
    "    v_beta = np.empty_like(r)\n",
    "    v_beta[r> r_dust] = v_0 + (v_exp - v_0) * (1.0 - r_dust/r[r>r_dust])**beta\n",
    "    v_beta[r<=r_dust] = v_0\n",
    "    return v_beta\n",
    "\n",
    "plt.figure(dpi=150)\n",
    "plt.plot(rs, beta_velocity(rs))"
   ]
  },
  {
   "cell_type": "code",
   "execution_count": 23,
   "metadata": {},
   "outputs": [],
   "source": [
    "r_temp, T_temp = np.loadtxt('data/iktau-co-04-grid-38.temp', unpack=True)\n",
    "r_temp *= 1.0e-2 # [cm] -> [m]\n",
    "\n",
    "r_temp = np.concatenate(([R_star], r_temp))\n",
    "T_temp = np.concatenate(([T_star], T_temp))\n",
    "\n",
    "from scipy.interpolate import interp1d\n",
    "\n",
    "temperature_func = interp1d(r_temp, T_temp, fill_value='extrapolate')"
   ]
  },
  {
   "cell_type": "code",
   "execution_count": 24,
   "metadata": {},
   "outputs": [
    {
     "data": {
      "image/png": "[encoded data removed]",
      "text/plain": [
       "<Figure size 900x600 with 1 Axes>"
      ]
     },
     "metadata": {
      "needs_background": "light"
     },
     "output_type": "display_data"
    }
   ],
   "source": [
    "plt.figure(dpi=150)\n",
    "plt.plot(r_temp, T_temp, marker='.')\n",
    "plt.plot(rs, temperature_func(rs))\n",
    "plt.xscale('log')"
   ]
  },
  {
   "cell_type": "code",
   "execution_count": 25,
   "metadata": {},
   "outputs": [
    {
     "name": "stdout",
     "output_type": "stream",
     "text": [
      "Variable key:              Free/Fixed:   Field:    Min:           Mean:          Max:\n",
      "  log_NaCl                   Free          True     +1.473e+01     +1.612e+01     +2.303e+01\n",
      "  log_temperature            Fixed         True     +4.289e+00     +5.022e+00     +7.480e+00\n",
      "  velocity_x:v_max           Fixed         True     -4.446e+01     -2.317e+00     +4.369e+01\n",
      "  velocity_y:v_max           Fixed         True     -4.510e+01     -7.153e+00     +4.264e+01\n",
      "  velocity_z:v_max           Fixed         True     -4.427e+01     -5.583e-01     +4.408e+01\n",
      "sizes: (54603456820797.37, 54603456820797.37, 54603456820797.37)\n",
      "shape: (35, 35, 64)\n"
     ]
    }
   ],
   "source": [
    "model = TensorModel(\n",
    "    sizes = (s_x, s_y, s_z),\n",
    "    shape = (obs.shape[0], obs.shape[1], 64),\n",
    ")\n",
    "\n",
    "origin        = np.array([idx_star, idy_star, 0.5*model.shape[2]])\n",
    "r_x, r_y, r_z = model.get_radial_direction(origin=origin)\n",
    "p_x, p_y, p_z = model.get_coords          (origin=origin)\n",
    "r             = model.get_radius          (origin=origin)\n",
    "inverse_r     = r.min() / r\n",
    "\n",
    "# Define and initialize the model parameters\n",
    "# model['log_M'           ] = np.log(constants.M_sun.si.value)\n",
    "model['log_NaCl'        ] = np.log(1.0e+10 * inverse_r**2)\n",
    "model['log_temperature' ] = np.log(temperature_func(r))\n",
    "model['velocity_x:v_max'] = r_x * beta_velocity(r) / v_max\n",
    "model['velocity_y:v_max'] = r_y * beta_velocity(r) / v_max\n",
    "model['velocity_z:v_max'] = r_z * beta_velocity(r) / v_max\n",
    "# model['log_v_los'       ] = np.log(v_los.si.value)\n",
    "\n",
    "model.free_all()\n",
    "model.fix('log_temperature')\n",
    "model.fix(['velocity_x:v_max'])\n",
    "model.fix(['velocity_y:v_max'])\n",
    "model.fix(['velocity_z:v_max'])\n",
    "# model.fix('log_v_turbulence')\n",
    "# model.fix('log_v_los')\n",
    "\n",
    "model.info()"
   ]
  },
  {
   "cell_type": "code",
   "execution_count": 26,
   "metadata": {},
   "outputs": [
    {
     "data": {
      "text/plain": [
       "5.343744142025458"
      ]
     },
     "execution_count": 26,
     "metadata": {},
     "output_type": "execute_result"
    }
   ],
   "source": [
    "r.min() * units.m.to(units.au)"
   ]
  },
  {
   "cell_type": "code",
   "execution_count": 27,
   "metadata": {},
   "outputs": [
    {
     "data": {
      "text/plain": [
       "5.343744142025458"
      ]
     },
     "execution_count": 27,
     "metadata": {},
     "output_type": "execute_result"
    }
   ],
   "source": [
    "r.min() / (1.0 * units.au).si.value"
   ]
  },
  {
   "cell_type": "code",
   "execution_count": 37,
   "metadata": {},
   "outputs": [],
   "source": [
    "# M = torch.exp(model['log_M'])\n",
    "\n",
    "# hydrodynamics = Hydrodynamics(\n",
    "#     gamma  = 1.2,\n",
    "#     mu     = 2.381 * constants.u.si.value,\n",
    "#     f_x    = -constants.G.si.value * M * r_x / r**2,\n",
    "#     f_y    = -constants.G.si.value * M * r_y / r**2,\n",
    "#     f_z    = -constants.G.si.value * M * r_z / r**2,\n",
    "#     Lambda = 0.0\n",
    "# )\n",
    "\n",
    "spherical_loss = SphericalLoss(\n",
    "    model  = model,\n",
    "    origin = origin\n",
    ")\n",
    "\n",
    "# loss = Loss(['rep', 'reg', 'sym'] + list(hydrodynamics.loss_keys.values()))\n",
    "# loss = Loss(['rep', 'reg', 'sym'])\n",
    "# loss = Loss(['rep', 'reg', 'ext'])\n",
    "# loss = Loss(['rep', 'reg'])\n",
    "# loss = Loss(['avg', 'rel', 'reg'])\n",
    "loss = Loss(['rep'])"
   ]
  },
  {
   "cell_type": "code",
   "execution_count": 38,
   "metadata": {},
   "outputs": [],
   "source": [
    "def forward(model, freqs):\n",
    "    \"\"\"\n",
    "    Forward model: image the given TensorModel along the last axis, \n",
    "    at the given frequencies, assuming local thermodynamical equilibrium (LTE).\n",
    "    \"\"\"\n",
    "    Ibdy  = torch.ones((model.shape[0], model.shape[1], len(freqs)), dtype=torch.float64)\n",
    "    Ibdy *= planck(temperature=T_CMB, frequency=freqs)\n",
    "\n",
    "    img = line.LTE_image_along_last_axis(\n",
    "        abundance    = torch.exp(model['log_NaCl']),\n",
    "        temperature  = torch.exp(model['log_temperature']),\n",
    "        v_turbulence = v_trb,\n",
    "        velocity_los = v_los + v_max * model['velocity_z:v_max'],\n",
    "        frequencies  = freqs,\n",
    "        dx           = model.dx(model.dim()-1),\n",
    "        img_bdy      = planck(temperature=T_CMB, frequency=freqs)\n",
    "    )\n",
    "\n",
    "    # Avoid negative values (should probably avoid these earlier...)\n",
    "    img = torch.abs(img)\n",
    "\n",
    "    # Convert to Jy/pixel\n",
    "    img *= model.dx(0) * model.dx(1) / obj.distance.si.value**2 / 1.0e-26\n",
    "    \n",
    "    # Convolve with beam (i.e. convert to Jy/beam)\n",
    "    img = beam.torch_apply(img)\n",
    "\n",
    "    return img"
   ]
  },
  {
   "cell_type": "code",
   "execution_count": 39,
   "metadata": {},
   "outputs": [
    {
     "data": {
      "application/vnd.jupyter.widget-view+json": {
       "model_id": "9f0e7ade766546a686eabc2c7fe27fbd",
       "version_major": 2,
       "version_minor": 0
      },
      "text/plain": [
       "interactive(children=(IntSlider(value=17, description='i', max=34), IntSlider(value=17, description='j', max=3…"
      ]
     },
     "metadata": {},
     "output_type": "display_data"
    },
    {
     "data": {
      "text/plain": [
       "<function __main__.plot(i, j)>"
      ]
     },
     "execution_count": 39,
     "metadata": {},
     "output_type": "execute_result"
    }
   ],
   "source": [
    "img = forward (model, freqs)\n",
    "\n",
    "def plot(i,j):\n",
    "    plt.figure(dpi=150)\n",
    "    plt.plot   (line.freq_to_velo(freqs          * units.Hz), obs[i,j,:].data)\n",
    "    plt.plot   (line.freq_to_velo(freqs          * units.Hz), img[i,j,:].data, marker='x')\n",
    "    plt.axvline(line.freq_to_velo(line.frequency * units.Hz) - v_los, c='k')\n",
    "interact(plot, i=(0, img.shape[0]-1), j=(0, img.shape[1]-1) )"
   ]
  },
  {
   "cell_type": "code",
   "execution_count": 40,
   "metadata": {},
   "outputs": [
    {
     "data": {
      "text/plain": [
       "tensor(1.8620e-06, grad_fn=<MinBackward1>)"
      ]
     },
     "execution_count": 40,
     "metadata": {},
     "output_type": "execute_result"
    }
   ],
   "source": [
    "img.min()"
   ]
  },
  {
   "cell_type": "code",
   "execution_count": 41,
   "metadata": {},
   "outputs": [
    {
     "data": {
      "text/plain": [
       "<matplotlib.lines.Line2D at 0x7fa5a07cbaf0>"
      ]
     },
     "execution_count": 41,
     "metadata": {},
     "output_type": "execute_result"
    },
    {
     "data": {
      "image/png": "[encoded data removed]",
      "text/plain": [
       "<Figure size 432x288 with 1 Axes>"
      ]
     },
     "metadata": {
      "needs_background": "light"
     },
     "output_type": "display_data"
    }
   ],
   "source": [
    "plt.plot(line.freq_to_velo(freqs * units.Hz), img.sum(dim=(0,1)).data/30)\n",
    "plt.plot(line.freq_to_velo(freqs * units.Hz), obs.sum(dim=(0,1)).data)\n",
    "plt.axvline(line.freq_to_velo(line.frequency * units.Hz) - v_los, c='k')"
   ]
  },
  {
   "cell_type": "code",
   "execution_count": 42,
   "metadata": {},
   "outputs": [
    {
     "data": {
      "text/plain": [
       "tensor(-0.0011)"
      ]
     },
     "execution_count": 42,
     "metadata": {},
     "output_type": "execute_result"
    }
   ],
   "source": [
    "obs.mean(axis=-1).min()"
   ]
  },
  {
   "cell_type": "code",
   "execution_count": 43,
   "metadata": {},
   "outputs": [
    {
     "data": {
      "text/plain": [
       "tensor(0.0005)"
      ]
     },
     "execution_count": 43,
     "metadata": {},
     "output_type": "execute_result"
    }
   ],
   "source": [
    "obs_avg = obs.mean(axis=-1)\n",
    "obs_avg.mean()"
   ]
  },
  {
   "cell_type": "code",
   "execution_count": 44,
   "metadata": {},
   "outputs": [
    {
     "data": {
      "text/plain": [
       "tensor(0.0082)"
      ]
     },
     "execution_count": 44,
     "metadata": {},
     "output_type": "execute_result"
    }
   ],
   "source": [
    "obs_avg.max()"
   ]
  },
  {
   "cell_type": "code",
   "execution_count": 45,
   "metadata": {},
   "outputs": [
    {
     "data": {
      "text/plain": [
       "<matplotlib.image.AxesImage at 0x7fa5a0732520>"
      ]
     },
     "execution_count": 45,
     "metadata": {},
     "output_type": "execute_result"
    },
    {
     "data": {
      "image/png": "[encoded data removed]",
      "text/plain": [
       "<Figure size 432x288 with 1 Axes>"
      ]
     },
     "metadata": {
      "needs_background": "light"
     },
     "output_type": "display_data"
    }
   ],
   "source": [
    "plt.imshow(obs_avg)"
   ]
  },
  {
   "cell_type": "code",
   "execution_count": 46,
   "metadata": {},
   "outputs": [],
   "source": [
    "def fit(loss, model, data, N_epochs=10, lr=1.0e-1, w_rep=1.0, w_avg=1.0, w_rel=1.0, w_reg=1.0):\n",
    "\n",
    "    optimizer = Adam(model.free_parameters(), lr=lr)\n",
    "\n",
    "    # obs_avg= obs.mean(axis=-1)\n",
    "    # obs_rel= torch.einsum(\"...f, ... -> ...f\", obs, 1.0 / obs_avg)\n",
    "\n",
    "    for _ in tqdm(range(N_epochs)):\n",
    "        \n",
    "        # Run forward model\n",
    "        img = forward(model, freqs)\n",
    "        # img_avg= img.mean(axis=-1)\n",
    "        # img_rel= torch.einsum(\"...f, ... -> ...f\", img, 1.0 / img_avg)\n",
    "\n",
    " \n",
    "        # Reproduction loss between model image and observations\n",
    "        loss['rep'] = w_rep * torch.nn.functional.mse_loss(img, obs)\n",
    "        # loss['avg'] = w_avg * torch.nn.functional.mse_loss(img_avg, obs_avg)\n",
    "        # loss['rel'] = w_rel * torch.nn.functional.mse_loss(img_rel, obs_rel)\n",
    "\n",
    "        # Regularisation loss\n",
    "        # loss['reg'] = w_reg * diff_loss(model['log_NaCl']) #model.apply_to_fields(diff_loss)\n",
    "        \n",
    "        # loss['ext'] = torch.mean(torch.exp(model['log_NaCl'])) #+ torch.mean(torch.exp(model['log_temperature']))\n",
    "\n",
    "        # Spherical symmetry loss\n",
    "        # loss['sym'] = model.apply_to_fields(\n",
    "            # func    = spherical_loss.eval,\n",
    "            # exclude = ['velocity_x/v_max', 'velocity_y/v_max', 'velocity_z/v_max'],\n",
    "            # include = [model['velocity_x/v_max']**2 + model['velocity_y/v_max']**2 + model['velocity_z/v_max']**2]\n",
    "        # )\n",
    "\n",
    "        # loss = hydrodynamics.add_steady_state_loss(\n",
    "        #     model   = model,\n",
    "        #     loss    = loss,\n",
    "        #     log_rho = model['log_CO'],\n",
    "        #     log_tmo = model['log_temperature'],\n",
    "        #     v_x     = v_max * model['velocity_x/v_max'],\n",
    "        #     v_y     = v_max * model['velocity_y/v_max'],\n",
    "        #     v_z     = v_max * model['velocity_z/v_max'],\n",
    "        # )\n",
    "        \n",
    "        # Set gradients to zero\n",
    "        optimizer.zero_grad()\n",
    "        # Backpropagate gradients\n",
    "        loss.tot().backward()\n",
    "        # Update parameters\n",
    "        optimizer.step()"
   ]
  },
  {
   "cell_type": "code",
   "execution_count": 47,
   "metadata": {},
   "outputs": [
    {
     "name": "stderr",
     "output_type": "stream",
     "text": [
      "  0%|          | 0/3 [00:00<?, ?it/s]/home/frederikd/.local/lib/python3.9/site-packages/torch/autograd/__init__.py:200: UserWarning: CUDA initialization: The NVIDIA driver on your system is too old (found version 9010). Please update your GPU driver by downloading and installing a new version from the URL: http://www.nvidia.com/Download/index.aspx Alternatively, go to: https://pytorch.org to install a PyTorch version that has been compiled with your version of the CUDA driver. (Triggered internally at ../c10/cuda/CUDAFunctions.cpp:109.)\n",
      "  Variable._execution_engine.run_backward(  # Calls into the C++ engine to run the backward pass\n",
      "100%|██████████| 3/3 [00:01<00:00,  2.50it/s]\n"
     ]
    },
    {
     "data": {
      "image/png": "[encoded data removed]",
      "text/plain": [
       "<Figure size 780x520 with 1 Axes>"
      ]
     },
     "metadata": {
      "needs_background": "light"
     },
     "output_type": "display_data"
    }
   ],
   "source": [
    "fit(loss, model, obs, N_epochs=3, lr=1.0e-1)\n",
    "loss.plot()"
   ]
  },
  {
   "cell_type": "code",
   "execution_count": 48,
   "metadata": {},
   "outputs": [],
   "source": [
    "loss.renormalise_all()\n",
    "loss.reset()"
   ]
  },
  {
   "cell_type": "code",
   "execution_count": 49,
   "metadata": {},
   "outputs": [],
   "source": [
    "img = forward (model, freqs)"
   ]
  },
  {
   "cell_type": "code",
   "execution_count": 50,
   "metadata": {},
   "outputs": [
    {
     "data": {
      "application/vnd.jupyter.widget-view+json": {
       "model_id": "9a600d054af5404c84f82f82c8310d86",
       "version_major": 2,
       "version_minor": 0
      },
      "text/plain": [
       "interactive(children=(IntSlider(value=17, description='i', max=34), IntSlider(value=17, description='j', max=3…"
      ]
     },
     "metadata": {},
     "output_type": "display_data"
    },
    {
     "data": {
      "text/plain": [
       "<function __main__.plot(i, j)>"
      ]
     },
     "execution_count": 50,
     "metadata": {},
     "output_type": "execute_result"
    }
   ],
   "source": [
    "def plot(i,j):\n",
    "    plt.figure(dpi=150)\n",
    "    plt.plot   (line.freq_to_velo(freqs          * units.Hz), obs[i,j,:].data)\n",
    "    plt.plot   (line.freq_to_velo(freqs          * units.Hz), img[i,j,:].data, marker='x')\n",
    "    plt.axvline(line.freq_to_velo(line.frequency * units.Hz) - v_los, c='k')\n",
    "interact(plot, i=(0, img.shape[0]-1), j=(0, img.shape[1]-1) )"
   ]
  },
  {
   "cell_type": "code",
   "execution_count": 51,
   "metadata": {},
   "outputs": [
    {
     "data": {
      "text/plain": [
       "34000.0"
      ]
     },
     "execution_count": 51,
     "metadata": {},
     "output_type": "execute_result"
    }
   ],
   "source": [
    "v_los"
   ]
  },
  {
   "cell_type": "code",
   "execution_count": 52,
   "metadata": {},
   "outputs": [
    {
     "data": {
      "application/vnd.jupyter.widget-view+json": {
       "model_id": "15b2b83911594e8ca075481525b60aae",
       "version_major": 2,
       "version_minor": 0
      },
      "text/plain": [
       "interactive(children=(IntSlider(value=12, description='f', max=24), Output()), _dom_classes=('widget-interact'…"
      ]
     },
     "metadata": {},
     "output_type": "display_data"
    },
    {
     "data": {
      "text/plain": [
       "<function __main__.plot(f)>"
      ]
     },
     "execution_count": 52,
     "metadata": {},
     "output_type": "execute_result"
    }
   ],
   "source": [
    "def plot(f):\n",
    "    fig, axs = plt.subplots(1, 2, dpi=150)\n",
    "    axs[0].set_title('Observation')\n",
    "    axs[1].set_title('Model')\n",
    "    axs[0].imshow(obs[:,:,f].data, vmin=obs.data.min(), vmax=obs.data.max())\n",
    "    axs[1].imshow(img[:,:,f].data, vmin=img.data.min(), vmax=img.data.max())\n",
    "    # print((line.freq_to_velo(freqs[f] * units.Hz) + v_los)/1000)\n",
    "interact(plot, f=(0, img.shape[2]-1))"
   ]
  },
  {
   "cell_type": "code",
   "execution_count": 53,
   "metadata": {},
   "outputs": [
    {
     "data": {
      "application/vnd.jupyter.widget-view+json": {
       "model_id": "93f12aa1e503440387575a6388c8410d",
       "version_major": 2,
       "version_minor": 0
      },
      "text/plain": [
       "interactive(children=(IntSlider(value=31, description='z', max=63), Output()), _dom_classes=('widget-interact'…"
      ]
     },
     "metadata": {},
     "output_type": "display_data"
    },
    {
     "data": {
      "text/plain": [
       "<function pomme.plot.plot_cube_2D.<locals>.plot(z)>"
      ]
     },
     "execution_count": 53,
     "metadata": {},
     "output_type": "execute_result"
    }
   ],
   "source": [
    "plot_cube_2D(model['log_NaCl'])"
   ]
  },
  {
   "cell_type": "code",
   "execution_count": 54,
   "metadata": {},
   "outputs": [
    {
     "data": {
      "application/vnd.jupyter.widget-view+json": {
       "model_id": "6d2516d4712346c6978f296942e1bfa2",
       "version_major": 2,
       "version_minor": 0
      },
      "text/plain": [
       "interactive(children=(IntSlider(value=31, description='z', max=63), Output()), _dom_classes=('widget-interact'…"
      ]
     },
     "metadata": {},
     "output_type": "display_data"
    },
    {
     "data": {
      "text/plain": [
       "<function pomme.plot.plot_cube_2D.<locals>.plot(z)>"
      ]
     },
     "execution_count": 54,
     "metadata": {},
     "output_type": "execute_result"
    }
   ],
   "source": [
    "plot_cube_2D(model['log_temperature'])"
   ]
  },
  {
   "cell_type": "code",
   "execution_count": 55,
   "metadata": {},
   "outputs": [
    {
     "data": {
      "application/vnd.jupyter.widget-view+json": {
       "model_id": "b22d7ec5b5c44f61ae231d8578e5a578",
       "version_major": 2,
       "version_minor": 0
      },
      "text/plain": [
       "interactive(children=(IntSlider(value=31, description='z', max=63), Output()), _dom_classes=('widget-interact'…"
      ]
     },
     "metadata": {},
     "output_type": "display_data"
    },
    {
     "data": {
      "text/plain": [
       "<function pomme.plot.plot_cube_2D.<locals>.plot(z)>"
      ]
     },
     "execution_count": 55,
     "metadata": {},
     "output_type": "execute_result"
    }
   ],
   "source": [
    "plot_cube_2D(model['velocity_z:v_max'])"
   ]
  },
  {
   "cell_type": "code",
   "execution_count": 56,
   "metadata": {},
   "outputs": [
    {
     "data": {
      "application/vnd.jupyter.widget-view+json": {
       "model_id": "d10aff09a57446c1a4a3d822f11e2cdb",
       "version_major": 2,
       "version_minor": 0
      },
      "text/plain": [
       "interactive(children=(IntSlider(value=17, description='i', max=34), IntSlider(value=17, description='j', max=3…"
      ]
     },
     "metadata": {},
     "output_type": "display_data"
    },
    {
     "data": {
      "text/plain": [
       "<function pomme.plot.plot_spectrum.<locals>.plot(i, j)>"
      ]
     },
     "execution_count": 56,
     "metadata": {},
     "output_type": "execute_result"
    }
   ],
   "source": [
    "plot_spectrum(model['log_NaCl'])"
   ]
  },
  {
   "cell_type": "code",
   "execution_count": 57,
   "metadata": {},
   "outputs": [
    {
     "data": {
      "image/png": "[encoded data removed]",
      "text/plain": [
       "<Figure size 432x288 with 1 Axes>"
      ]
     },
     "metadata": {
      "needs_background": "light"
     },
     "output_type": "display_data"
    }
   ],
   "source": [
    "initial = np.log(1.0e+12 * inverse_r**2)\n",
    "result  = model['log_NaCl'].data\n",
    "for i in range(model.shape[0]):\n",
    "    for j in range(model.shape[1]):\n",
    "        plt.plot(result [i,j], c='orange')\n",
    "        plt.plot(initial[i,j], c='black')"
   ]
  },
  {
   "cell_type": "code",
   "execution_count": 58,
   "metadata": {},
   "outputs": [
    {
     "name": "stderr",
     "output_type": "stream",
     "text": [
      "100%|██████████| 250/250 [01:36<00:00,  2.58it/s]\n"
     ]
    },
    {
     "data": {
      "image/png": "[encoded data removed]",
      "text/plain": [
       "<Figure size 780x520 with 1 Axes>"
      ]
     },
     "metadata": {
      "needs_background": "light"
     },
     "output_type": "display_data"
    }
   ],
   "source": [
    "fit(loss, model, obs, N_epochs=250, lr=5.0e-1, w_rep=1.0e+2, w_avg=1.0e+2, w_rel=1.0e+2, w_reg=1.0)\n",
    "loss.plot()"
   ]
  },
  {
   "cell_type": "code",
   "execution_count": 59,
   "metadata": {},
   "outputs": [
    {
     "name": "stderr",
     "output_type": "stream",
     "text": [
      "100%|██████████| 250/250 [01:37<00:00,  2.56it/s]\n"
     ]
    },
    {
     "data": {
      "image/png": "[encoded data removed]",
      "text/plain": [
       "<Figure size 780x520 with 1 Axes>"
      ]
     },
     "metadata": {
      "needs_background": "light"
     },
     "output_type": "display_data"
    }
   ],
   "source": [
    "fit(loss, model, obs, N_epochs=250, lr=1.0e-1, w_rep=1.0e+4, w_avg=1.0e+4, w_rel=1.0e+4, w_reg=1.0)\n",
    "loss.plot()"
   ]
  },
  {
   "cell_type": "code",
   "execution_count": 60,
   "metadata": {},
   "outputs": [],
   "source": [
    "model.save('IK_Tau_NaCl_fit_no_diff.h5')"
   ]
  },
  {
   "cell_type": "code",
   "execution_count": 59,
   "metadata": {},
   "outputs": [
    {
     "data": {
      "text/plain": [
       "array([18.1346117 , 20.49441416, 32.        ])"
      ]
     },
     "execution_count": 59,
     "metadata": {},
     "output_type": "execute_result"
    }
   ],
   "source": [
    "origin"
   ]
  },
  {
   "cell_type": "code",
   "execution_count": 61,
   "metadata": {},
   "outputs": [
    {
     "data": {
      "text/plain": [
       "380000000000.0"
      ]
     },
     "execution_count": 61,
     "metadata": {},
     "output_type": "execute_result"
    }
   ],
   "source": [
    "R_star"
   ]
  },
  {
   "cell_type": "code",
   "execution_count": 9,
   "metadata": {},
   "outputs": [],
   "source": [
    "model = TensorModel.load('IK_Tau_NaCl_fit.h5')\n",
    "freqs = torch.load('data/freqs.pt')"
   ]
  },
  {
   "cell_type": "code",
   "execution_count": 44,
   "metadata": {},
   "outputs": [],
   "source": [
    "img = forward (model, freqs)"
   ]
  },
  {
   "cell_type": "code",
   "execution_count": 47,
   "metadata": {},
   "outputs": [],
   "source": [
    "torch.save(img, 'data/img.pt')"
   ]
  },
  {
   "cell_type": "code",
   "execution_count": 15,
   "metadata": {},
   "outputs": [
    {
     "data": {
      "text/plain": [
       "array([10.42861612, 10.42861612,  5.70314944])"
      ]
     },
     "execution_count": 15,
     "metadata": {},
     "output_type": "execute_result"
    }
   ],
   "source": [
    "model.sizes / (1.0 * units.au).si.value / model.shape"
   ]
  },
  {
   "cell_type": "code",
   "execution_count": 16,
   "metadata": {},
   "outputs": [
    {
     "data": {
      "text/plain": [
       "(35, 35, 64)"
      ]
     },
     "execution_count": 16,
     "metadata": {},
     "output_type": "execute_result"
    }
   ],
   "source": [
    "model.shape"
   ]
  },
  {
   "cell_type": "code",
   "execution_count": 17,
   "metadata": {},
   "outputs": [
    {
     "data": {
      "text/plain": [
       "9.589000002427936"
      ]
     },
     "execution_count": 17,
     "metadata": {},
     "output_type": "execute_result"
    }
   ],
   "source": [
    "100 / 10.42861612"
   ]
  },
  {
   "cell_type": "code",
   "execution_count": 18,
   "metadata": {},
   "outputs": [
    {
     "data": {
      "text/plain": [
       "10"
      ]
     },
     "execution_count": 18,
     "metadata": {},
     "output_type": "execute_result"
    }
   ],
   "source": [
    "10"
   ]
  },
  {
   "cell_type": "code",
   "execution_count": 19,
   "metadata": {},
   "outputs": [
    {
     "data": {
      "text/plain": [
       "17.5"
      ]
     },
     "execution_count": 19,
     "metadata": {},
     "output_type": "execute_result"
    }
   ],
   "source": [
    "35/2"
   ]
  },
  {
   "cell_type": "code",
   "execution_count": null,
   "metadata": {},
   "outputs": [],
   "source": []
  }
 ],
 "metadata": {
  "kernelspec": {
   "display_name": "magritte",
   "language": "python",
   "name": "python3"
  },
  "language_info": {
   "codemirror_mode": {
    "name": "ipython",
    "version": 3
   },
   "file_extension": ".py",
   "mimetype": "text/x-python",
   "name": "python",
   "nbconvert_exporter": "python",
   "pygments_lexer": "ipython3",
   "version": "3.9.13"
  },
  "orig_nbformat": 4
 },
 "nbformat": 4,
 "nbformat_minor": 2
}
