{
 "cells": [
  {
   "cell_type": "markdown",
   "metadata": {},
   "source": [
    "# Synthetic observations - Phantom model\n",
    "---"
   ]
  },
  {
   "cell_type": "code",
   "execution_count": 1,
   "metadata": {},
   "outputs": [
    {
     "name": "stdout",
     "output_type": "stream",
     "text": [
      "You have selected line:\n",
      "    CO(J=4-3)\n",
      "Please check the properties that were inferred:\n",
      "    Frequency         4.610407682e+11  Hz\n",
      "    Einstein A coeff  6.126000000e-06  1/s\n",
      "    Molar mass        28.0101          g/mol\n",
      "You have selected line:\n",
      "    sio-h2(J=03-02)\n",
      "Please check the properties that were inferred:\n",
      "    Frequency         1.302686830e+11  Hz\n",
      "    Einstein A coeff  1.058000000e-04  1/s\n",
      "    Molar mass        44.0849          g/mol\n"
     ]
    },
    {
     "name": "stderr",
     "output_type": "stream",
     "text": [
      "/home/frederikd/.local/lib/python3.9/site-packages/astroquery/lamda/core.py:145: UserWarning: The first time a LAMDA function is called, it must assemble a list of valid molecules and URLs.  This list will be cached so future operations will be faster.\n",
      "  warnings.warn(\"The first time a LAMDA function is called, it must \"\n"
     ]
    }
   ],
   "source": [
    "import matplotlib.pyplot as plt\n",
    "import numpy             as np\n",
    "import torch\n",
    "\n",
    "from astropy     import units, constants\n",
    "from pomme.model import TensorModel\n",
    "from pomme.haar  import Haar\n",
    "from pomme.plot  import plot_cube_2D\n",
    "from pomme.utils import planck, T_CMB\n",
    "\n",
    "from phantom import lines, fracs, velos, Model"
   ]
  },
  {
   "cell_type": "code",
   "execution_count": 2,
   "metadata": {},
   "outputs": [],
   "source": [
    "import plons\n",
    "\n",
    "setupData = plons.LoadSetup('/STER/frederikd/', \"wind\")\n",
    "dumpData  = plons.LoadFullDump('/STER/frederikd/wind_00600', setupData)\n",
    "\n",
    "position = dumpData[\"position\"]*1e-2     # position vectors        [cm   -> m]\n",
    "velocity = dumpData[\"velocity\"]*1e3      # velocity vectors        [km/s -> m/s]\n",
    "rho      = dumpData[\"rho\"]               # density                 [g/cm^3]\n",
    "tmp      = dumpData[\"Tgas\"]              # temperature             [K]\n",
    "tmp[tmp<T_CMB] = T_CMB                   # Cut-off temperatures below 2.725 K\n",
    "\n",
    "v_x, v_y, v_z = velocity[:,0], velocity[:,1], velocity[:,2]\n",
    "\n",
    "# Convert rho (total density) to abundances\n",
    "nH2 = rho * 1.0e+6 * constants.N_A.si.value / 2.02\n",
    "\n",
    "# Define turbulence at 150 m/s\n",
    "trb = 150.0\n",
    "\n",
    "# Map point data to a regular grid\n",
    "haar = Haar(position, q=8)\n",
    "\n",
    "imin = 2**(haar.q-3)\n",
    "imax = 3*imin\n",
    "\n",
    "nH2_dat = haar.map_data(nH2, interpolate=True)[-1][imin:imax,imin:imax,imin:imax]\n",
    "tmp_dat = haar.map_data(tmp, interpolate=True)[-1][imin:imax,imin:imax,imin:imax]\n",
    "v_x_dat = haar.map_data(v_x, interpolate=True)[-1][imin:imax,imin:imax,imin:imax]\n",
    "v_y_dat = haar.map_data(v_y, interpolate=True)[-1][imin:imax,imin:imax,imin:imax]\n",
    "v_z_dat = haar.map_data(v_z, interpolate=True)[-1][imin:imax,imin:imax,imin:imax]\n",
    "\n",
    "assert tmp_dat.shape == nH2_dat.shape\n",
    "assert tmp_dat.shape == v_z_dat.shape\n",
    "\n",
    "model = TensorModel(shape=nH2_dat.shape, sizes=haar.xyz_L)\n",
    "model['log_H2'          ] = np.log(nH2_dat).astype(np.float64)\n",
    "model['log_temperature' ] = np.log(tmp_dat).astype(np.float64)\n",
    "model['velocity_x'      ] =        v_x_dat .astype(np.float64)\n",
    "model['velocity_y'      ] =        v_y_dat .astype(np.float64)\n",
    "model['velocity_z'      ] =        v_z_dat .astype(np.float64)\n",
    "model['log_v_turbulence'] = np.log(trb)*np.ones(model.shape, dtype=np.float64)"
   ]
  },
  {
   "cell_type": "code",
   "execution_count": 3,
   "metadata": {},
   "outputs": [],
   "source": [
    "def get_boundary_condition(model, freq):\n",
    "    Ibdy  = torch.ones((model.shape[0], model.shape[1], len(freq)), dtype=torch.float64)\n",
    "    Ibdy *= planck(temperature=T_CMB, frequency=freq)\n",
    "    return Ibdy"
   ]
  },
  {
   "cell_type": "code",
   "execution_count": 4,
   "metadata": {},
   "outputs": [],
   "source": [
    "pmodel = Model(model=model, lines=lines, fracs=fracs, velos=velos)\n",
    "pmodel.get_velocity           = lambda model: model['velocity_z']\n",
    "pmodel.get_abundance          = lambda model: torch.exp(model['log_H2'])\n",
    "pmodel.get_turbulence         = lambda model: torch.exp(model['log_v_turbulence'])\n",
    "pmodel.get_temperature        = lambda model: torch.exp(model['log_temperature'])\n",
    "pmodel.get_boundary_condition = get_boundary_condition"
   ]
  },
  {
   "cell_type": "code",
   "execution_count": 5,
   "metadata": {},
   "outputs": [],
   "source": [
    "obss = pmodel.image()"
   ]
  },
  {
   "cell_type": "code",
   "execution_count": 6,
   "metadata": {},
   "outputs": [
    {
     "data": {
      "application/vnd.jupyter.widget-view+json": {
       "model_id": "4321bec0190b4f978e3e34616718426e",
       "version_major": 2,
       "version_minor": 0
      },
      "text/plain": [
       "interactive(children=(IntSlider(value=49, description='z', max=99), Output()), _dom_classes=('widget-interact'…"
      ]
     },
     "metadata": {},
     "output_type": "display_data"
    },
    {
     "data": {
      "text/plain": [
       "<function pomme.plot.plot_cube_2D.<locals>.plot(z)>"
      ]
     },
     "execution_count": 6,
     "metadata": {},
     "output_type": "execute_result"
    }
   ],
   "source": [
    "plot_cube_2D(np.log(obss[1]))"
   ]
  },
  {
   "cell_type": "code",
   "execution_count": 7,
   "metadata": {},
   "outputs": [
    {
     "data": {
      "application/vnd.jupyter.widget-view+json": {
       "model_id": "2bc1bf06685f48a5a7c16cfe3bb2b309",
       "version_major": 2,
       "version_minor": 0
      },
      "text/plain": [
       "interactive(children=(IntSlider(value=49, description='z', max=99), Output()), _dom_classes=('widget-interact'…"
      ]
     },
     "metadata": {},
     "output_type": "display_data"
    },
    {
     "data": {
      "text/plain": [
       "<function pomme.plot.plot_cube_2D.<locals>.plot(z)>"
      ]
     },
     "execution_count": 7,
     "metadata": {},
     "output_type": "execute_result"
    }
   ],
   "source": [
    "plot_cube_2D(np.log(obss[0]))"
   ]
  },
  {
   "cell_type": "code",
   "execution_count": 8,
   "metadata": {},
   "outputs": [],
   "source": [
    "obss_int = obss.sum(axis=(1,2))"
   ]
  },
  {
   "cell_type": "code",
   "execution_count": 9,
   "metadata": {},
   "outputs": [
    {
     "data": {
      "text/plain": [
       "[<matplotlib.lines.Line2D at 0x7f83177e0d00>]"
      ]
     },
     "execution_count": 9,
     "metadata": {},
     "output_type": "execute_result"
    },
    {
     "data": {
      "image/png": "[encoded data removed]",
      "text/plain": [
       "<Figure size 432x288 with 1 Axes>"
      ]
     },
     "metadata": {
      "needs_background": "light"
     },
     "output_type": "display_data"
    }
   ],
   "source": [
    "plt.plot(pmodel.velos, obss_int[0])\n",
    "plt.plot(pmodel.velos, obss_int[1])"
   ]
  },
  {
   "cell_type": "code",
   "execution_count": 10,
   "metadata": {},
   "outputs": [],
   "source": [
    "torch.save(obss, 'obss.pt')"
   ]
  },
  {
   "cell_type": "code",
   "execution_count": 11,
   "metadata": {},
   "outputs": [],
   "source": [
    "model.save('model_truth.h5')"
   ]
  },
  {
   "cell_type": "code",
   "execution_count": null,
   "metadata": {},
   "outputs": [],
   "source": []
  }
 ],
 "metadata": {
  "kernelspec": {
   "display_name": "magritte",
   "language": "python",
   "name": "python3"
  },
  "language_info": {
   "codemirror_mode": {
    "name": "ipython",
    "version": 3
   },
   "file_extension": ".py",
   "mimetype": "text/x-python",
   "name": "python",
   "nbconvert_exporter": "python",
   "pygments_lexer": "ipython3",
   "version": "3.9.13"
  }
 },
 "nbformat": 4,
 "nbformat_minor": 2
}
