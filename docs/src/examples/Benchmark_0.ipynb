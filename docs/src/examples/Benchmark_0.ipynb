{
 "cells": [
  {
   "cell_type": "markdown",
   "id": "6e1c6d5a-41e4-4704-ae00-528fc16c17a3",
   "metadata": {
    "tags": []
   },
   "source": [
    "# Benchmarks\n",
    "---"
   ]
  },
  {
   "attachments": {},
   "cell_type": "markdown",
   "id": "972d06c6",
   "metadata": {},
   "source": [
    "## Line optical depth\n",
    "--- "
   ]
  },
  {
   "cell_type": "code",
   "execution_count": 1,
   "id": "6eeb6ce3-3528-47f0-8871-b111aba9042b",
   "metadata": {
    "tags": []
   },
   "outputs": [],
   "source": [
    "import matplotlib.pyplot as plt\n",
    "import numpy             as np\n",
    "import torch\n",
    "\n",
    "from p3droslo.model import TensorModel\n",
    "from p3droslo.lines import Line\n",
    "from astropy        import constants\n",
    "from time           import time\n",
    "from ipywidgets     import interact"
   ]
  },
  {
   "cell_type": "code",
   "execution_count": 2,
   "id": "cb78379c-9e21-49ec-8647-0ade033e44f2",
   "metadata": {},
   "outputs": [
    {
     "name": "stdout",
     "output_type": "stream",
     "text": [
      "velocity increment = 1353.515625 m/s\n"
     ]
    }
   ],
   "source": [
    "R = 495000.0\n",
    "N = 128\n",
    "\n",
    "nH2 = 1.0e+12        # [m^-3]\n",
    "nCO = 1.0e-4 * nH2   # [m^-3]\n",
    "T   = 45             # [k]\n",
    "trb = 150.0          # [m/s]\n",
    "cΔβ = 0.35\n",
    "\n",
    "model = TensorModel(shape=(N,), sizes=(R,))\n",
    "model['nCO'        ]  = nCO * np.ones(N)\n",
    "model['temperature']  = T   * np.ones(N)\n",
    "model['velocity_z']   = cΔβ * np.linspace(0.0, R, N)\n",
    "model['v_turbulence'] = trb * np.ones(N)\n",
    "\n",
    "print('velocity increment =', cΔβ * model.dx(0), 'm/s')"
   ]
  },
  {
   "cell_type": "code",
   "execution_count": 3,
   "id": "98d8af03-7472-4142-a7d0-f5c8c304e1ee",
   "metadata": {},
   "outputs": [
    {
     "name": "stdout",
     "output_type": "stream",
     "text": [
      "You have selected line:\n",
      "    test(J=-)\n",
      "Please check the properties that were inferred:\n",
      "    Frequency         1.798754700e+11  Hz\n",
      "    Einstein A coeff  1.000000000e-04  1/s\n",
      "    Molar mass        1.0              g/mol\n"
     ]
    }
   ],
   "source": [
    "line = Line(\n",
    "    species_name = \"test\",\n",
    "    transition   = 0,\n",
    "    datafile     = \"data/test.txt\",\n",
    "    molar_mass   = 1.0\n",
    ")"
   ]
  },
  {
   "cell_type": "code",
   "execution_count": 4,
   "id": "412cbd42",
   "metadata": {},
   "outputs": [],
   "source": [
    "N_freqs = 100\n",
    "v_pixel = 5000.0\n",
    "\n",
    "dd    = (N_freqs-1)/2 * v_pixel/constants.c.si.value\n",
    "fmin  = line.frequency - line.frequency*dd\n",
    "fmax  = line.frequency + line.frequency*dd\n",
    "freqs = torch.linspace(fmin, fmax, N_freqs, dtype=torch.float64)"
   ]
  },
  {
   "cell_type": "code",
   "execution_count": 5,
   "id": "3d4dbd1f-0ae1-4ee1-b194-81d61b937a2c",
   "metadata": {},
   "outputs": [],
   "source": [
    "def get_doppler_shifted_frequencies(v_los, frequencies):\n",
    "    \"\"\"\n",
    "    Doppler shifts frequencies given the velocity along the line of sight.\n",
    "    \"\"\"\n",
    "    # Compute the Doppler shift for each cell\n",
    "    shift = 1.0 + v_los * (1.0 / constants.c.si.value)\n",
    "\n",
    "    # Create freqency tensor for each cell\n",
    "    freqs = torch.einsum(\"..., f -> ...f\", shift, frequencies)\n",
    "    \n",
    "    return freqs"
   ]
  },
  {
   "cell_type": "code",
   "execution_count": 6,
   "id": "d4170b90-a13a-4024-abf1-7fb5d264e78b",
   "metadata": {},
   "outputs": [],
   "source": [
    "nCO    = model['nCO']        \n",
    "tmp    = model['temperature']\n",
    "vel    = model['velocity_z']\n",
    "v_turb = model['v_turbulence']\n",
    "    \n",
    "frequencies = get_doppler_shifted_frequencies(vel, freqs)\n",
    "    \n",
    "# Compute the LTE line emissivity and opacity, and the line profile\n",
    "eta, chi = line.LTE_emissivity_and_opacity(nCO, tmp, v_turb, frequencies)\n",
    "\n",
    "tau_old = torch.empty_like(chi) \n",
    "tau_old[...,  0 , :] = 0.0\n",
    "tau_old[..., +1:, :] = torch.cumsum(chi, dim=0)[..., :-1, :] * model.dx(0)"
   ]
  },
  {
   "cell_type": "code",
   "execution_count": 7,
   "id": "7dfcf055",
   "metadata": {},
   "outputs": [],
   "source": [
    "pop     = line.LTE_pops(temperature=tmp)\n",
    "chi_ij  = line.opacity_ij(pop=pop)"
   ]
  },
  {
   "cell_type": "code",
   "execution_count": 8,
   "id": "b53dae3c",
   "metadata": {},
   "outputs": [],
   "source": [
    "tau_new = line.optical_depth(\n",
    "    chi_ij       = chi_ij,\n",
    "    density      = nCO,\n",
    "    temperature  = tmp,\n",
    "    v_turbulence = v_turb,\n",
    "    velocity_los = vel,\n",
    "    frequencies  = freqs,\n",
    "    dx           = model.dx(0)\n",
    ")"
   ]
  },
  {
   "cell_type": "code",
   "execution_count": 9,
   "id": "9f60728c",
   "metadata": {},
   "outputs": [
    {
     "name": "stdout",
     "output_type": "stream",
     "text": [
      "96.6 µs ± 528 ns per loop (mean ± std. dev. of 7 runs, 10,000 loops each)\n"
     ]
    }
   ],
   "source": [
    "%%timeit\n",
    "tau_old = torch.empty_like(chi) \n",
    "tau_old[...,  0 , :] = 0.0\n",
    "tau_old[..., +1:, :] = torch.cumsum(chi, dim=0)[..., :-1, :] * model.dx(0)"
   ]
  },
  {
   "cell_type": "code",
   "execution_count": 10,
   "id": "4d9cba91",
   "metadata": {},
   "outputs": [
    {
     "name": "stdout",
     "output_type": "stream",
     "text": [
      "4.07 ms ± 88.2 µs per loop (mean ± std. dev. of 7 runs, 100 loops each)\n"
     ]
    }
   ],
   "source": [
    "%%timeit\n",
    "tau_new = line.optical_depth(\n",
    "    chi_ij       = chi_ij,\n",
    "    density      = nCO,\n",
    "    temperature  = tmp,\n",
    "    v_turbulence = v_turb,\n",
    "    velocity_los = vel,\n",
    "    frequencies  = freqs,\n",
    "    dx           = model.dx(0)\n",
    ")"
   ]
  },
  {
   "cell_type": "code",
   "execution_count": 11,
   "id": "23f856ef",
   "metadata": {},
   "outputs": [
    {
     "data": {
      "application/vnd.jupyter.widget-view+json": {
       "model_id": "62e876f9192e4a11b83eb2802b356749",
       "version_major": 2,
       "version_minor": 0
      },
      "text/plain": [
       "interactive(children=(IntSlider(value=49, description='i', max=99), Output()), _dom_classes=('widget-interact'…"
      ]
     },
     "metadata": {},
     "output_type": "display_data"
    },
    {
     "data": {
      "text/plain": [
       "<function __main__.plot(i)>"
      ]
     },
     "execution_count": 11,
     "metadata": {},
     "output_type": "execute_result"
    }
   ],
   "source": [
    "def plot(i):\n",
    "    plt.figure(dpi=150)\n",
    "    plt.plot(tau_old[:,i])\n",
    "    plt.plot(tau_new[:,i])\n",
    "    plt.yscale('log')\n",
    "    plt.show()\n",
    "\n",
    "interact(plot, i=(0,N_freqs-1))"
   ]
  },
  {
   "cell_type": "code",
   "execution_count": 12,
   "id": "974414a7",
   "metadata": {},
   "outputs": [
    {
     "data": {
      "application/vnd.jupyter.widget-view+json": {
       "model_id": "372fa6d766b34845af465a340dddf884",
       "version_major": 2,
       "version_minor": 0
      },
      "text/plain": [
       "interactive(children=(IntSlider(value=63, description='i', max=127), Output()), _dom_classes=('widget-interact…"
      ]
     },
     "metadata": {},
     "output_type": "display_data"
    },
    {
     "data": {
      "text/plain": [
       "<function __main__.plot(i)>"
      ]
     },
     "execution_count": 12,
     "metadata": {},
     "output_type": "execute_result"
    }
   ],
   "source": [
    "def plot(i):\n",
    "    plt.figure(dpi=150)\n",
    "    plt.plot(tau_old[i,:])\n",
    "    plt.plot(tau_new[i,:])\n",
    "    plt.show()\n",
    "\n",
    "interact(plot, i=(0,N-1))"
   ]
  },
  {
   "cell_type": "code",
   "execution_count": 13,
   "id": "4f1a3d96-ad10-4d00-b6a0-b900a8fd0f2b",
   "metadata": {},
   "outputs": [],
   "source": [
    "from scipy.special import erf\n",
    "\n",
    "# line width\n",
    "δν = line.gaussian_width(model['temperature'], model['v_turbulence'])[0].item()\n",
    "\n",
    "# Compute the prefactor\n",
    "factor = constants.h.si.value * line.frequency / (4.0 * np.pi)\n",
    "\n",
    "# Compute the LTE level populations\n",
    "pop = line.LTE_pops(model['temperature'])\n",
    "\n",
    "# Compute the emissivity and opacity\n",
    "chi  = factor * (line.Einstein_Ba * pop[line.lower] - line.Einstein_Bs * pop[line.upper])\n",
    "chi *= model['nCO']\n",
    "chi  = chi[0].item()"
   ]
  },
  {
   "cell_type": "code",
   "execution_count": 14,
   "id": "6f08121f-4180-4d7a-b511-4d49cb9136ad",
   "metadata": {},
   "outputs": [],
   "source": [
    "abs_rel_diff = lambda a,b: np.abs(2.0*(a-b)/(a+b))"
   ]
  },
  {
   "attachments": {},
   "cell_type": "markdown",
   "id": "8bf33edd",
   "metadata": {},
   "source": [
    "The optical depth is given by,\n",
    "\\begin{equation}\n",
    "\\begin{split}\n",
    "\\tau(\\nu)\n",
    "\\ &= \\\n",
    "\\int_{0}^{\\ell} \\text{d} l \\ \\chi_{ij} \\, \\phi \\big( (1+\\Delta\\beta l) \\nu \\big) \\\\\n",
    "\\ &= \\\n",
    "\\frac{\\chi_{ij}}{2 \\nu \\Delta \\beta}\n",
    "\\left(\n",
    "    \\text{Erf}\\left[ \\frac{\\left(1 + \\Delta\\beta \\ell \\right) \\nu - \\nu_{ij}}{\\delta\\nu_{ij}} \\right]\n",
    "    \\ - \\\n",
    "    \\text{Erf}\\left[ \\frac{\\nu - \\nu_{ij}}{\\delta\\nu_{ij}} \\right]\n",
    "\\right) .\n",
    "\\end{split}\n",
    "\\end{equation}"
   ]
  },
  {
   "cell_type": "code",
   "execution_count": 15,
   "id": "0eae164e-23f6-4398-a745-4016d38a75ae",
   "metadata": {},
   "outputs": [],
   "source": [
    "# Analytic solution\n",
    "ν     = freqs\n",
    "fac   = 1.0 + model['velocity_z'] / constants.c.si.value\n",
    "fac_ν = torch.einsum(\"i, f -> if\",  fac, ν)\n",
    "\n",
    "τ = constants.c.si.value * chi/(2.0*ν*cΔβ) * (erf((fac_ν-line.frequency)/δν) - erf((ν-line.frequency)/δν) )"
   ]
  },
  {
   "cell_type": "code",
   "execution_count": 16,
   "id": "8b485144",
   "metadata": {},
   "outputs": [
    {
     "data": {
      "application/vnd.jupyter.widget-view+json": {
       "model_id": "21f0da793a564e0abc5eb34e72405f49",
       "version_major": 2,
       "version_minor": 0
      },
      "text/plain": [
       "interactive(children=(IntSlider(value=63, description='i', max=127), Output()), _dom_classes=('widget-interact…"
      ]
     },
     "metadata": {},
     "output_type": "display_data"
    },
    {
     "data": {
      "text/plain": [
       "<function __main__.plot2(i)>"
      ]
     },
     "execution_count": 16,
     "metadata": {},
     "output_type": "execute_result"
    }
   ],
   "source": [
    "def plot2(i):\n",
    "    fig, ax = plt.subplots(2,1, dpi=250)\n",
    "    ax[0].plot(tau_old[i,:])\n",
    "    ax[0].plot(tau_new[i,:])\n",
    "    ax[0].plot(      τ[i,:])\n",
    "    ax[1].plot(abs_rel_diff(tau_old[i,:], τ[i,:]))\n",
    "    ax[1].plot(abs_rel_diff(tau_new[i,:], τ[i,:]))\n",
    "    ax[1].set_yscale('log')\n",
    "    plt.show()\n",
    "\n",
    "interact(plot2, i=(0,N-1))"
   ]
  },
  {
   "cell_type": "code",
   "execution_count": null,
   "id": "db6f1bdf",
   "metadata": {},
   "outputs": [],
   "source": []
  }
 ],
 "metadata": {
  "kernelspec": {
   "display_name": "Python 3 (ipykernel)",
   "language": "python",
   "name": "python3"
  },
  "language_info": {
   "codemirror_mode": {
    "name": "ipython",
    "version": 3
   },
   "file_extension": ".py",
   "mimetype": "text/x-python",
   "name": "python",
   "nbconvert_exporter": "python",
   "pygments_lexer": "ipython3",
   "version": "3.9.13"
  }
 },
 "nbformat": 4,
 "nbformat_minor": 5
}
