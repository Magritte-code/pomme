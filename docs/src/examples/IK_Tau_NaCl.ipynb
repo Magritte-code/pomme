{
 "cells": [
  {
   "cell_type": "markdown",
   "metadata": {},
   "source": [
    "# The unusual 3D distrubution of NaCl around the AGB star IK Tau\n",
    "---\n",
    "\n",
    "_Based on the work by [Coenegrachts et al. (2023)](https://ui.adsabs.harvard.edu/abs/2023arXiv230206221C/abstract)._"
   ]
  },
  {
   "cell_type": "code",
   "execution_count": 1,
   "metadata": {},
   "outputs": [],
   "source": [
    "import matplotlib.pyplot as plt\n",
    "import numpy             as np\n",
    "import torch\n",
    "\n",
    "from torch.optim            import Adam\n",
    "from tqdm                   import tqdm\n",
    "from astropy                import units, constants\n",
    "from ipywidgets             import interact\n",
    "\n",
    "from p3droslo.utils         import convert_angular_to_spatial\n",
    "from p3droslo.plot          import plot_cube_2D, plot_spectrum\n",
    "from p3droslo.object        import AstroObject\n",
    "from p3droslo.observation   import DataCube, Beam\n",
    "from p3droslo.model         import TensorModel\n",
    "from p3droslo.utils         import print_var, interpolate, convert_angular_to_spatial\n",
    "from p3droslo.lines         import Line\n",
    "from p3droslo.loss          import Loss, SphericalLoss, diff_loss \n",
    "from p3droslo.hydrodynamics import Hydrodynamics"
   ]
  },
  {
   "cell_type": "code",
   "execution_count": 2,
   "metadata": {},
   "outputs": [
    {
     "name": "stdout",
     "output_type": "stream",
     "text": [
      "Using the parallax distance.\n"
     ]
    }
   ],
   "source": [
    "obj = AstroObject('IK Tau')"
   ]
  },
  {
   "cell_type": "code",
   "execution_count": 3,
   "metadata": {},
   "outputs": [
    {
     "name": "stdout",
     "output_type": "stream",
     "text": [
      "You have selected line:\n",
      "    NaCl(J=26 0-25 0)\n",
      "Please check the properties that were inferred:\n",
      "    Frequency         3.380198940e+11  Hz\n",
      "    Einstein A coeff  1.859200000e-02  1/s\n",
      "    Molar mass        58.44276928000001  g/mol\n"
     ]
    }
   ],
   "source": [
    "line = Line('NaCl', 25, datafile='data/23Na-35Cl__Barton-ExoMol.dat')"
   ]
  },
  {
   "cell_type": "code",
   "execution_count": 4,
   "metadata": {},
   "outputs": [],
   "source": [
    "dat = DataCube('/STER/frederikd/Deprojection/data/observations/IKTau_NaCl26-25.fits')"
   ]
  },
  {
   "cell_type": "code",
   "execution_count": 5,
   "metadata": {},
   "outputs": [
    {
     "data": {
      "application/vnd.jupyter.widget-view+json": {
       "model_id": "5bfc57faf9f04015a79fe7f0799c0c14",
       "version_major": 2,
       "version_minor": 0
      },
      "text/plain": [
       "interactive(children=(IntSlider(value=37, description='f', max=75), Output()), _dom_classes=('widget-interact'…"
      ]
     },
     "metadata": {},
     "output_type": "display_data"
    },
    {
     "data": {
      "text/plain": [
       "<function p3droslo.observation.DataCube.plot_channel_maps.<locals>.plot(f)>"
      ]
     },
     "execution_count": 5,
     "metadata": {},
     "output_type": "execute_result"
    }
   ],
   "source": [
    "dat.plot_channel_maps()"
   ]
  },
  {
   "cell_type": "code",
   "execution_count": 6,
   "metadata": {},
   "outputs": [
    {
     "data": {
      "application/vnd.jupyter.widget-view+json": {
       "model_id": "8c861b9b145241aeb757f3a07121719f",
       "version_major": 2,
       "version_minor": 0
      },
      "text/plain": [
       "interactive(children=(IntSlider(value=127, description='i', max=255), IntSlider(value=127, description='j', ma…"
      ]
     },
     "metadata": {},
     "output_type": "display_data"
    },
    {
     "data": {
      "text/plain": [
       "<function p3droslo.observation.DataCube.plot_spectrum.<locals>.plot(i, j)>"
      ]
     },
     "execution_count": 6,
     "metadata": {},
     "output_type": "execute_result"
    }
   ],
   "source": [
    "dat.plot_spectrum()"
   ]
  },
  {
   "cell_type": "code",
   "execution_count": 7,
   "metadata": {},
   "outputs": [],
   "source": [
    "# Crop the observations \n",
    "fi_min, fi_max =  30,  55\n",
    "xi_min, xi_max = 115, 150\n",
    "yi_min, yi_max = 110, 145\n",
    "\n",
    "obs_data = dat.img[fi_min:fi_max, xi_min:xi_max, yi_min:yi_max]\n",
    "obs_freq = dat.fs [fi_min:fi_max]\n",
    "obs_xlim = dat.xs [xi_max] - dat.xs[xi_min]\n",
    "obs_ylim = dat.xs [xi_max] - dat.xs[xi_min]"
   ]
  },
  {
   "cell_type": "code",
   "execution_count": 8,
   "metadata": {},
   "outputs": [],
   "source": [
    "s_x = abs(convert_angular_to_spatial(obs_xlim, obj.distance)).si.value\n",
    "s_y = abs(convert_angular_to_spatial(obs_ylim, obj.distance)).si.value\n",
    "s_z = np.mean([s_x, s_y])"
   ]
  },
  {
   "cell_type": "code",
   "execution_count": 9,
   "metadata": {},
   "outputs": [
    {
     "data": {
      "application/vnd.jupyter.widget-view+json": {
       "model_id": "1357195a58b94a18b7501ffe65b17603",
       "version_major": 2,
       "version_minor": 0
      },
      "text/plain": [
       "interactive(children=(IntSlider(value=12, description='f', max=24), Output()), _dom_classes=('widget-interact'…"
      ]
     },
     "metadata": {},
     "output_type": "display_data"
    },
    {
     "data": {
      "text/plain": [
       "<function __main__.plot(f)>"
      ]
     },
     "execution_count": 9,
     "metadata": {},
     "output_type": "execute_result"
    }
   ],
   "source": [
    "def plot(f):\n",
    "    plt.figure(dpi=150)\n",
    "    plt.imshow(obs_data[f,:,:], vmin=obs_data.min(), vmax=obs_data.max())\n",
    "interact(plot, f=(0, obs_data.shape[0]-1))"
   ]
  },
  {
   "cell_type": "code",
   "execution_count": 10,
   "metadata": {},
   "outputs": [
    {
     "data": {
      "application/vnd.jupyter.widget-view+json": {
       "model_id": "218afd449285465bbe3f08ccf0c7f13b",
       "version_major": 2,
       "version_minor": 0
      },
      "text/plain": [
       "interactive(children=(IntSlider(value=12, description='f', max=24), Output()), _dom_classes=('widget-interact'…"
      ]
     },
     "metadata": {},
     "output_type": "display_data"
    },
    {
     "data": {
      "text/plain": [
       "<function __main__.plot(f)>"
      ]
     },
     "execution_count": 10,
     "metadata": {},
     "output_type": "execute_result"
    }
   ],
   "source": [
    "# Extract beam from the observation\n",
    "beam = Beam(dat)\n",
    "\n",
    "# Convolve observation with beam\n",
    "bmd_data = np.empty_like(obs_data)\n",
    "for f in range(obs_data.shape[0]):\n",
    "    bmd_data[f,:,:] = beam.apply(obs_data[f,:,:])\n",
    "\n",
    "def plot(f):\n",
    "    fig, axs = plt.subplots(1, 2, dpi=150)\n",
    "    axs[0].set_title('Original')\n",
    "    axs[1].set_title('Convolved with beam')\n",
    "    axs[0].add_artist(beam.object.ellipse_to_plot(3, 31, dat.pixsize_x)).set_color('w')\n",
    "    axs[1].add_artist(beam.object.ellipse_to_plot(3, 31, dat.pixsize_x)).set_color('w')\n",
    "    axs[0].imshow(obs_data[f,:,:] , vmin=obs_data.min(), vmax=obs_data.max())\n",
    "    axs[1].imshow(bmd_data[f,:,:],  vmin=bmd_data.min(), vmax=bmd_data.max())\n",
    "interact(plot, f=(0, obs_data.shape[0]-1))"
   ]
  },
  {
   "cell_type": "code",
   "execution_count": 11,
   "metadata": {},
   "outputs": [],
   "source": [
    "# Move frequency axis last\n",
    "obs   = np.moveaxis(bmd_data, 0, -1)\n",
    "\n",
    "# Store the observations and frequencies (in 64 bit precision)\n",
    "obs   = torch.from_numpy(obs     .astype(np.float64))\n",
    "freqs = torch.from_numpy(obs_freq.astype(np.float64).si.value)"
   ]
  },
  {
   "cell_type": "code",
   "execution_count": 33,
   "metadata": {},
   "outputs": [
    {
     "name": "stderr",
     "output_type": "stream",
     "text": [
      "/tmp/ipykernel_2828676/1969093391.py:6: RuntimeWarning: divide by zero encountered in true_divide\n",
      "  return v_0 + (v_exp - v_0) * (1.0 - r_dust/r)**beta\n",
      "/tmp/ipykernel_2828676/1969093391.py:6: RuntimeWarning: invalid value encountered in power\n",
      "  return v_0 + (v_exp - v_0) * (1.0 - r_dust/r)**beta\n"
     ]
    },
    {
     "data": {
      "text/plain": [
       "[<matplotlib.lines.Line2D at 0x7f38a572c040>]"
      ]
     },
     "execution_count": 33,
     "metadata": {},
     "output_type": "execute_result"
    },
    {
     "data": {
      "image/png": "[encoded data removed]",
      "text/plain": [
       "<Figure size 900x600 with 1 Axes>"
      ]
     },
     "metadata": {
      "needs_background": "light"
     },
     "output_type": "display_data"
    }
   ],
   "source": [
    "def beta_velocity(r):\n",
    "    v_0    = 3.00e+3   # m/s\n",
    "    v_exp  = 2.84e+4   # m/s\n",
    "    r_dust = 2.38e12   # m\n",
    "    beta   = 1.5       #\n",
    "    return v_0 + (v_exp - v_0) * (1.0 - r_dust/r)**beta\n",
    "\n",
    "rs = np.linspace(0, (200*units.au).si.value)\n",
    "\n",
    "plt.figure(dpi=150)\n",
    "plt.plot(rs, beta_velocity(rs))"
   ]
  },
  {
   "cell_type": "code",
   "execution_count": null,
   "metadata": {},
   "outputs": [],
   "source": [
    "# Fixed parameters\n",
    "v_trb = 1.50e+2\n",
    "v_max = 2.84e+4\n",
    "v_los = obj.radial_velocity.si.value"
   ]
  },
  {
   "cell_type": "code",
   "execution_count": 21,
   "metadata": {},
   "outputs": [
    {
     "name": "stdout",
     "output_type": "stream",
     "text": [
      "Variable key:              Free/Fixed:   Field:    Min:           Mean:          Max:\n",
      "  log_CO                     Free          True     +1.457e+01     +1.581e+01     +2.533e+01\n",
      "  log_temperature            Free          True     +2.221e+00     +2.843e+00     +7.601e+00\n",
      "  velocity_x/v_max           Fixed         True     -1.000e+00     -1.160e-17     +1.000e+00\n",
      "  velocity_y/v_max           Fixed         True     -1.000e+00     -1.133e-18     +1.000e+00\n",
      "  velocity_z/v_max           Fixed         True     -1.000e+00     +1.813e-19     +1.000e+00\n",
      "sizes: (54603456820797.37, 54603456820797.37, 54603456820797.37)\n",
      "shape: (35, 35, 128)\n"
     ]
    }
   ],
   "source": [
    "model = TensorModel(\n",
    "    sizes = (s_x, s_y, s_z),\n",
    "    shape = (obs.shape[0], obs.shape[1], 128),\n",
    ")\n",
    "\n",
    "r_x, r_y, r_z = model.get_radial_direction(origin='centre')\n",
    "p_x, p_y, p_z = model.get_coords          (origin='centre')\n",
    "r             = model.get_radius          (origin='centre')\n",
    "inverse_r     = r.min() / r\n",
    "\n",
    "# Define and initialize the model parameters\n",
    "# model['log_M'           ] = np.log(constants.M_sun.si.value)\n",
    "model['log_CO'          ] = np.log(1.0e+11 * inverse_r**2)\n",
    "model['log_temperature' ] = np.log(2.0e+3  * inverse_r)\n",
    "model['velocity_x/v_max'] = r_x * beta_velocity(r) / v_max\n",
    "model['velocity_y/v_max'] = r_y * beta_velocity(r) / v_max\n",
    "model['velocity_z/v_max'] = r_z * beta_velocity(r) / v_max\n",
    "# model['log_v_los'       ] = np.log(v_los.si.value)\n",
    "\n",
    "model.free_all()\n",
    "# model.fix('log_temperature')\n",
    "model.fix(['velocity_x/v_max'])\n",
    "model.fix(['velocity_y/v_max'])\n",
    "model.fix(['velocity_z/v_max'])\n",
    "# model.fix('log_v_turbulence')\n",
    "# model.fix('log_v_los')\n",
    "\n",
    "model.info()"
   ]
  },
  {
   "cell_type": "code",
   "execution_count": 22,
   "metadata": {},
   "outputs": [],
   "source": [
    "# M = torch.exp(model['log_M'])\n",
    "\n",
    "# hydrodynamics = Hydrodynamics(\n",
    "#     gamma  = 1.2,\n",
    "#     mu     = 2.381 * constants.u.si.value,\n",
    "#     f_x    = -constants.G.si.value * M * r_x / r**2,\n",
    "#     f_y    = -constants.G.si.value * M * r_y / r**2,\n",
    "#     f_z    = -constants.G.si.value * M * r_z / r**2,\n",
    "#     Lambda = 0.0\n",
    "# )\n",
    "\n",
    "spherical_loss = SphericalLoss(\n",
    "    model  =  model,\n",
    "    origin = 'centre'\n",
    ")\n",
    "\n",
    "# loss = Loss(['rep', 'reg', 'sym'] + list(hydrodynamics.loss_keys.values()))\n",
    "# loss = Loss(['rep', 'reg', 'sym'])\n",
    "loss = Loss(['rep', 'reg', 'ext'])\n",
    "# loss = Loss(['rep'])"
   ]
  },
  {
   "cell_type": "code",
   "execution_count": 23,
   "metadata": {},
   "outputs": [],
   "source": [
    "def forward(model, freqs):\n",
    "    \"\"\"\n",
    "    Forward model: image the given TensorModel along the last axis, \n",
    "    at the given frequencies, assuming local thermodynamical equilibrium (LTE).\n",
    "    \"\"\"\n",
    "    img = line.LTE_image_along_last_axis(\n",
    "        density      = torch.exp(model['log_CO']),\n",
    "        temperature  = torch.exp(model['log_temperature']),\n",
    "        v_turbulence = v_trb,\n",
    "        velocity_los = v_los + v_max * model['velocity_z/v_max'],\n",
    "        frequencies  = freqs,\n",
    "        dx           = model.dx(model.dim()-1)\n",
    "    )\n",
    "\n",
    "    # Avoid negative values (should probably avoid these earlier...)\n",
    "    img = torch.abs(img)\n",
    "\n",
    "    # Convert to Jy/pixel\n",
    "    img *= model.dx(0) * model.dx(1) / obj.distance.si.value**2 / 1.0e-26\n",
    "    \n",
    "    # Convolve with beam (i.e. convert to Jy/beam)\n",
    "    img = beam.torch_apply(img)\n",
    "\n",
    "    return img"
   ]
  },
  {
   "cell_type": "code",
   "execution_count": 24,
   "metadata": {},
   "outputs": [
    {
     "data": {
      "application/vnd.jupyter.widget-view+json": {
       "model_id": "5840cce166db4e2291c74b7be21eeb35",
       "version_major": 2,
       "version_minor": 0
      },
      "text/plain": [
       "interactive(children=(IntSlider(value=17, description='i', max=34), IntSlider(value=17, description='j', max=3…"
      ]
     },
     "metadata": {},
     "output_type": "display_data"
    },
    {
     "data": {
      "text/plain": [
       "<function __main__.plot(i, j)>"
      ]
     },
     "execution_count": 24,
     "metadata": {},
     "output_type": "execute_result"
    }
   ],
   "source": [
    "img = forward (model, freqs)\n",
    "\n",
    "def plot(i,j):\n",
    "    plt.figure(dpi=150)\n",
    "    plt.plot   (line.freq_to_velo(freqs          * units.Hz), obs[i,j,:].data)\n",
    "    plt.plot   (line.freq_to_velo(freqs          * units.Hz), img[i,j,:].data, marker='x')\n",
    "    plt.axvline(line.freq_to_velo(line.frequency * units.Hz) - v_los, c='k')\n",
    "interact(plot, i=(0, img.shape[0]-1), j=(0, img.shape[1]-1) )"
   ]
  },
  {
   "cell_type": "code",
   "execution_count": 234,
   "metadata": {},
   "outputs": [],
   "source": [
    "def fit(loss, model, data, N_epochs=10, lr=1.0e-1):\n",
    "\n",
    "    optimizer = Adam(model.free_parameters(), lr=lr)\n",
    "\n",
    "    for _ in tqdm(range(N_epochs)):\n",
    "        \n",
    "        # Run forward model\n",
    "        img = forward(model, freqs)\n",
    " \n",
    "        # Reproduction loss between model image and observations\n",
    "        loss['rep'] = torch.nn.functional.mse_loss(img, obs)\n",
    "\n",
    "        # Regularisation loss\n",
    "        loss['reg'] = model.apply_to_fields(diff_loss)\n",
    "        \n",
    "        loss['ext'] = torch.mean(torch.exp(model['log_CO'])) + torch.mean(torch.exp(model['log_temperature']))\n",
    "\n",
    "        # Spherical symmetry loss\n",
    "        # loss['sym'] = model.apply_to_fields(\n",
    "            # func    = spherical_loss.eval,\n",
    "            # exclude = ['velocity_x/v_max', 'velocity_y/v_max', 'velocity_z/v_max'],\n",
    "            # include = [model['velocity_x/v_max']**2 + model['velocity_y/v_max']**2 + model['velocity_z/v_max']**2]\n",
    "        # )\n",
    "\n",
    "        # loss = hydrodynamics.add_steady_state_loss(\n",
    "        #     model   = model,\n",
    "        #     loss    = loss,\n",
    "        #     log_rho = model['log_CO'],\n",
    "        #     log_tmo = model['log_temperature'],\n",
    "        #     v_x     = v_max * model['velocity_x/v_max'],\n",
    "        #     v_y     = v_max * model['velocity_y/v_max'],\n",
    "        #     v_z     = v_max * model['velocity_z/v_max'],\n",
    "        # )\n",
    "        \n",
    "        # Set gradients to zero\n",
    "        optimizer.zero_grad()\n",
    "        # Backpropagate gradients\n",
    "        loss.tot().backward()\n",
    "        # Update parameters\n",
    "        optimizer.step()"
   ]
  },
  {
   "cell_type": "code",
   "execution_count": 235,
   "metadata": {},
   "outputs": [
    {
     "name": "stderr",
     "output_type": "stream",
     "text": [
      "100%|██████████| 5/5 [00:03<00:00,  1.39it/s]\n"
     ]
    },
    {
     "data": {
      "image/png": "[encoded data removed]",
      "text/plain": [
       "<Figure size 780x520 with 1 Axes>"
      ]
     },
     "metadata": {
      "needs_background": "light"
     },
     "output_type": "display_data"
    }
   ],
   "source": [
    "fit(loss, model, obs, N_epochs=5, lr=1.0e-1)\n",
    "loss.plot()"
   ]
  },
  {
   "cell_type": "code",
   "execution_count": 236,
   "metadata": {},
   "outputs": [],
   "source": [
    "loss.renormalise_all()\n",
    "loss.reset()"
   ]
  },
  {
   "cell_type": "code",
   "execution_count": 237,
   "metadata": {},
   "outputs": [
    {
     "name": "stderr",
     "output_type": "stream",
     "text": [
      "100%|██████████| 5/5 [00:03<00:00,  1.49it/s]\n"
     ]
    },
    {
     "data": {
      "image/png": "[encoded data removed]",
      "text/plain": [
       "<Figure size 780x520 with 1 Axes>"
      ]
     },
     "metadata": {
      "needs_background": "light"
     },
     "output_type": "display_data"
    }
   ],
   "source": [
    "fit(loss, model, obs, N_epochs=5, lr=1.0e-1)\n",
    "loss.plot()"
   ]
  },
  {
   "cell_type": "code",
   "execution_count": 238,
   "metadata": {},
   "outputs": [],
   "source": [
    "loss.weight['rep'] *= 1.0e+2\n",
    "loss.weight['reg'] *= 1.0e-0\n",
    "loss.weight['ext'] *= 1.0e-0"
   ]
  },
  {
   "cell_type": "code",
   "execution_count": 247,
   "metadata": {},
   "outputs": [],
   "source": [
    "img = forward (model, freqs)"
   ]
  },
  {
   "cell_type": "code",
   "execution_count": 248,
   "metadata": {},
   "outputs": [
    {
     "data": {
      "application/vnd.jupyter.widget-view+json": {
       "model_id": "c14702f8fbb24913a0aff9c6305a8edb",
       "version_major": 2,
       "version_minor": 0
      },
      "text/plain": [
       "interactive(children=(IntSlider(value=17, description='i', max=34), IntSlider(value=17, description='j', max=3…"
      ]
     },
     "metadata": {},
     "output_type": "display_data"
    },
    {
     "data": {
      "text/plain": [
       "<function __main__.plot(i, j)>"
      ]
     },
     "execution_count": 248,
     "metadata": {},
     "output_type": "execute_result"
    }
   ],
   "source": [
    "def plot(i,j):\n",
    "    plt.figure(dpi=150)\n",
    "    plt.plot   (line.freq_to_velo(freqs          * units.Hz), obs[i,j,:].data)\n",
    "    plt.plot   (line.freq_to_velo(freqs          * units.Hz), img[i,j,:].data, marker='x')\n",
    "    plt.axvline(line.freq_to_velo(line.frequency * units.Hz) - v_los, c='k')\n",
    "interact(plot, i=(0, img.shape[0]-1), j=(0, img.shape[1]-1) )"
   ]
  },
  {
   "cell_type": "code",
   "execution_count": 249,
   "metadata": {},
   "outputs": [
    {
     "data": {
      "application/vnd.jupyter.widget-view+json": {
       "model_id": "4ae687b518454ed3b7ed66ea0891e486",
       "version_major": 2,
       "version_minor": 0
      },
      "text/plain": [
       "interactive(children=(IntSlider(value=12, description='f', max=24), Output()), _dom_classes=('widget-interact'…"
      ]
     },
     "metadata": {},
     "output_type": "display_data"
    },
    {
     "data": {
      "text/plain": [
       "<function __main__.plot(f)>"
      ]
     },
     "execution_count": 249,
     "metadata": {},
     "output_type": "execute_result"
    }
   ],
   "source": [
    "def plot(f):\n",
    "    fig, axs = plt.subplots(1, 2, dpi=150)\n",
    "    axs[0].set_title('Observation')\n",
    "    axs[1].set_title('Model')\n",
    "    axs[0].imshow(obs[:,:,f].data, vmin=obs.data.min(), vmax=obs.data.max())\n",
    "    axs[1].imshow(img[:,:,f].data, vmin=img.data.min(), vmax=img.data.max())\n",
    "interact(plot, f=(0, img.shape[2]-1))"
   ]
  },
  {
   "cell_type": "code",
   "execution_count": 250,
   "metadata": {},
   "outputs": [
    {
     "data": {
      "application/vnd.jupyter.widget-view+json": {
       "model_id": "123d6e3746af4c0aab0e84e00b0e7530",
       "version_major": 2,
       "version_minor": 0
      },
      "text/plain": [
       "interactive(children=(IntSlider(value=63, description='z', max=127), Output()), _dom_classes=('widget-interact…"
      ]
     },
     "metadata": {},
     "output_type": "display_data"
    },
    {
     "data": {
      "text/plain": [
       "<function p3droslo.plot.plot_cube_2D.<locals>.plot(z)>"
      ]
     },
     "execution_count": 250,
     "metadata": {},
     "output_type": "execute_result"
    }
   ],
   "source": [
    "plot_cube_2D(model['log_CO'])"
   ]
  },
  {
   "cell_type": "code",
   "execution_count": 243,
   "metadata": {},
   "outputs": [
    {
     "data": {
      "application/vnd.jupyter.widget-view+json": {
       "model_id": "9ba9237fdfd2426688d094f0ea1529a0",
       "version_major": 2,
       "version_minor": 0
      },
      "text/plain": [
       "interactive(children=(IntSlider(value=63, description='z', max=127), Output()), _dom_classes=('widget-interact…"
      ]
     },
     "metadata": {},
     "output_type": "display_data"
    },
    {
     "data": {
      "text/plain": [
       "<function p3droslo.plot.plot_cube_2D.<locals>.plot(z)>"
      ]
     },
     "execution_count": 243,
     "metadata": {},
     "output_type": "execute_result"
    }
   ],
   "source": [
    "plot_cube_2D(model['log_temperature'])"
   ]
  },
  {
   "cell_type": "code",
   "execution_count": 244,
   "metadata": {},
   "outputs": [
    {
     "data": {
      "application/vnd.jupyter.widget-view+json": {
       "model_id": "31d7478ab7fc4487b62824984b06ec5f",
       "version_major": 2,
       "version_minor": 0
      },
      "text/plain": [
       "interactive(children=(IntSlider(value=63, description='z', max=127), Output()), _dom_classes=('widget-interact…"
      ]
     },
     "metadata": {},
     "output_type": "display_data"
    },
    {
     "data": {
      "text/plain": [
       "<function p3droslo.plot.plot_cube_2D.<locals>.plot(z)>"
      ]
     },
     "execution_count": 244,
     "metadata": {},
     "output_type": "execute_result"
    }
   ],
   "source": [
    "plot_cube_2D(model['velocity_z/v_max'])"
   ]
  },
  {
   "cell_type": "code",
   "execution_count": 245,
   "metadata": {},
   "outputs": [
    {
     "data": {
      "application/vnd.jupyter.widget-view+json": {
       "model_id": "ba7c54bd555c4354937de12aa1ee27bb",
       "version_major": 2,
       "version_minor": 0
      },
      "text/plain": [
       "interactive(children=(IntSlider(value=17, description='i', max=34), IntSlider(value=17, description='j', max=3…"
      ]
     },
     "metadata": {},
     "output_type": "display_data"
    },
    {
     "data": {
      "text/plain": [
       "<function p3droslo.plot.plot_spectrum.<locals>.plot(i, j)>"
      ]
     },
     "execution_count": 245,
     "metadata": {},
     "output_type": "execute_result"
    }
   ],
   "source": [
    "plot_spectrum(model['log_CO'])"
   ]
  },
  {
   "cell_type": "code",
   "execution_count": 246,
   "metadata": {},
   "outputs": [
    {
     "name": "stderr",
     "output_type": "stream",
     "text": [
      "100%|██████████| 300/300 [03:17<00:00,  1.52it/s]\n"
     ]
    },
    {
     "data": {
      "image/png": "[encoded data removed]",
      "text/plain": [
       "<Figure size 780x520 with 1 Axes>"
      ]
     },
     "metadata": {
      "needs_background": "light"
     },
     "output_type": "display_data"
    }
   ],
   "source": [
    "fit(loss, model, obs, N_epochs=300, lr=1.0e-1)\n",
    "loss.plot()"
   ]
  },
  {
   "cell_type": "code",
   "execution_count": 251,
   "metadata": {},
   "outputs": [
    {
     "name": "stderr",
     "output_type": "stream",
     "text": [
      "  6%|▌         | 29/500 [00:18<05:04,  1.55it/s]"
     ]
    }
   ],
   "source": [
    "fit(loss, model, obs, N_epochs=500, lr=1.0e-0)\n",
    "loss.plot()"
   ]
  },
  {
   "cell_type": "code",
   "execution_count": null,
   "metadata": {},
   "outputs": [],
   "source": [
    "model.save('IK_Tau.h5')"
   ]
  },
  {
   "cell_type": "code",
   "execution_count": 139,
   "metadata": {},
   "outputs": [
    {
     "name": "stderr",
     "output_type": "stream",
     "text": [
      "100%|██████████| 500/500 [03:58<00:00,  2.10it/s]\n"
     ]
    },
    {
     "data": {
      "image/png": "[encoded data removed]",
      "text/plain": [
       "<Figure size 780x520 with 1 Axes>"
      ]
     },
     "metadata": {
      "needs_background": "light"
     },
     "output_type": "display_data"
    }
   ],
   "source": [
    "fit(loss, model, obs, N_epochs=500, lr=3.0)\n",
    "loss.plot()"
   ]
  },
  {
   "cell_type": "code",
   "execution_count": null,
   "metadata": {},
   "outputs": [],
   "source": []
  }
 ],
 "metadata": {
  "kernelspec": {
   "display_name": "magritte",
   "language": "python",
   "name": "python3"
  },
  "language_info": {
   "codemirror_mode": {
    "name": "ipython",
    "version": 3
   },
   "file_extension": ".py",
   "mimetype": "text/x-python",
   "name": "python",
   "nbconvert_exporter": "python",
   "pygments_lexer": "ipython3",
   "version": "3.9.13"
  },
  "orig_nbformat": 4
 },
 "nbformat": 4,
 "nbformat_minor": 2
}
