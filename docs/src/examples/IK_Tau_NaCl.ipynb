{
 "cells": [
  {
   "cell_type": "markdown",
   "metadata": {},
   "source": [
    "# The unusual 3D distrubution of NaCl around the AGB star IK Tau\n",
    "---\n",
    "\n",
    "_Based on the work by [Coenegrachts et al. (2023)](https://ui.adsabs.harvard.edu/abs/2023arXiv230206221C/abstract)._"
   ]
  },
  {
   "cell_type": "code",
   "execution_count": 1,
   "metadata": {},
   "outputs": [],
   "source": [
    "import matplotlib.pyplot as plt\n",
    "import numpy             as np\n",
    "import torch\n",
    "\n",
    "from torch.optim            import Adam\n",
    "from tqdm                   import tqdm\n",
    "from astropy                import units, constants\n",
    "from ipywidgets             import interact\n",
    "\n",
    "from p3droslo.utils         import convert_angular_to_spatial\n",
    "from p3droslo.plot          import plot_cube_2D, plot_spectrum\n",
    "from p3droslo.object        import AstroObject\n",
    "from p3droslo.observation   import DataCube, Beam\n",
    "from p3droslo.model         import TensorModel\n",
    "from p3droslo.utils         import print_var, interpolate, convert_angular_to_spatial\n",
    "from p3droslo.lines         import Line\n",
    "from p3droslo.loss          import Loss, SphericalLoss, diff_loss \n",
    "from p3droslo.hydrodynamics import Hydrodynamics"
   ]
  },
  {
   "cell_type": "code",
   "execution_count": 2,
   "metadata": {},
   "outputs": [
    {
     "name": "stdout",
     "output_type": "stream",
     "text": [
      "Using the parallax distance.\n"
     ]
    }
   ],
   "source": [
    "# Extract object data from Simbad\n",
    "obj = AstroObject('IK Tau')"
   ]
  },
  {
   "cell_type": "code",
   "execution_count": 3,
   "metadata": {},
   "outputs": [
    {
     "name": "stdout",
     "output_type": "stream",
     "text": [
      "You have selected line:\n",
      "    NaCl(J=26 0-25 0)\n",
      "Please check the properties that were inferred:\n",
      "    Frequency         3.380198940e+11  Hz\n",
      "    Einstein A coeff  1.859200000e-02  1/s\n",
      "    Molar mass        58.44276928000001  g/mol\n"
     ]
    }
   ],
   "source": [
    "# Extract line data from file\n",
    "line = Line('NaCl', 25, datafile='data/23Na-35Cl__Barton-ExoMol.dat')"
   ]
  },
  {
   "cell_type": "code",
   "execution_count": 4,
   "metadata": {},
   "outputs": [],
   "source": [
    "# Extract continuum data from file\n",
    "dat_cont = DataCube('/enif-pool/taissa/ALMA/IKTau/IK_Tau.continuum_ap1.fits')"
   ]
  },
  {
   "cell_type": "code",
   "execution_count": 5,
   "metadata": {},
   "outputs": [
    {
     "data": {
      "application/vnd.jupyter.widget-view+json": {
       "model_id": "1be09d22222a4816a6575c52ea7f8829",
       "version_major": 2,
       "version_minor": 0
      },
      "text/plain": [
       "interactive(children=(IntSlider(value=0, description='f', max=0), Output()), _dom_classes=('widget-interact',)…"
      ]
     },
     "metadata": {},
     "output_type": "display_data"
    },
    {
     "data": {
      "text/plain": [
       "<function p3droslo.observation.DataCube.plot_channel_maps.<locals>.plot(f)>"
      ]
     },
     "execution_count": 5,
     "metadata": {},
     "output_type": "execute_result"
    }
   ],
   "source": [
    "dat_cont.plot_channel_maps()"
   ]
  },
  {
   "cell_type": "code",
   "execution_count": 6,
   "metadata": {},
   "outputs": [],
   "source": [
    "# Find location of the star by taking the average position, weighted by the 49 brightest pixels\n",
    "ix, iy = np.meshgrid(np.arange(dat_cont.img.shape[1]), np.arange(dat_cont.img.shape[2]))\n",
    "\n",
    "dist = dat_cont.img - dat_cont.img.min() \n",
    "dist[dist<np.sort(dist.ravel())[-49]] = 0.0\n",
    "dist *= 1.0 / np.sum(dist)\n",
    "\n",
    "idx_star = np.sum(iy * dist)\n",
    "idy_star = np.sum(ix * dist)"
   ]
  },
  {
   "cell_type": "code",
   "execution_count": 7,
   "metadata": {},
   "outputs": [],
   "source": [
    "# Extract line data from file\n",
    "dat = DataCube('/STER/frederikd/Deprojection/data/observations/IKTau_NaCl26-25.fits')"
   ]
  },
  {
   "cell_type": "code",
   "execution_count": 8,
   "metadata": {},
   "outputs": [
    {
     "data": {
      "application/vnd.jupyter.widget-view+json": {
       "model_id": "8c0dcf768db74132b0e1eb2dda194b65",
       "version_major": 2,
       "version_minor": 0
      },
      "text/plain": [
       "interactive(children=(IntSlider(value=37, description='f', max=75), Output()), _dom_classes=('widget-interact'…"
      ]
     },
     "metadata": {},
     "output_type": "display_data"
    },
    {
     "data": {
      "text/plain": [
       "<function p3droslo.observation.DataCube.plot_channel_maps.<locals>.plot(f)>"
      ]
     },
     "execution_count": 8,
     "metadata": {},
     "output_type": "execute_result"
    }
   ],
   "source": [
    "dat.plot_channel_maps()"
   ]
  },
  {
   "cell_type": "code",
   "execution_count": 9,
   "metadata": {},
   "outputs": [
    {
     "data": {
      "application/vnd.jupyter.widget-view+json": {
       "model_id": "82ecfaf89783458982463bdf87ca6167",
       "version_major": 2,
       "version_minor": 0
      },
      "text/plain": [
       "interactive(children=(IntSlider(value=127, description='i', max=255), IntSlider(value=127, description='j', ma…"
      ]
     },
     "metadata": {},
     "output_type": "display_data"
    },
    {
     "data": {
      "text/plain": [
       "<function p3droslo.observation.DataCube.plot_spectrum.<locals>.plot(i, j)>"
      ]
     },
     "execution_count": 9,
     "metadata": {},
     "output_type": "execute_result"
    }
   ],
   "source": [
    "dat.plot_spectrum()"
   ]
  },
  {
   "cell_type": "code",
   "execution_count": 10,
   "metadata": {},
   "outputs": [],
   "source": [
    "# Crop the observations \n",
    "fi_min, fi_max =  30,  55\n",
    "xi_min, xi_max = 115, 150\n",
    "yi_min, yi_max = 110, 145\n",
    "\n",
    "obs_data = dat.img[fi_min:fi_max, xi_min:xi_max, yi_min:yi_max]\n",
    "obs_freq = dat.fs [fi_min:fi_max]\n",
    "obs_xlim = dat.xs [xi_max] - dat.xs[xi_min]\n",
    "obs_ylim = dat.xs [xi_max] - dat.xs[xi_min]\n",
    "obs_cont = dat_cont.img[0, xi_min:xi_max, yi_min:yi_max]\n",
    "\n",
    "# Get the location of the star in cropped indices\n",
    "idx_star -= xi_min\n",
    "idy_star -= yi_min"
   ]
  },
  {
   "cell_type": "code",
   "execution_count": 11,
   "metadata": {},
   "outputs": [
    {
     "data": {
      "text/plain": [
       "(25,)"
      ]
     },
     "execution_count": 11,
     "metadata": {},
     "output_type": "execute_result"
    }
   ],
   "source": [
    "obs_freq.shape"
   ]
  },
  {
   "cell_type": "code",
   "execution_count": 14,
   "metadata": {},
   "outputs": [
    {
     "data": {
      "text/plain": [
       "337960718839.5296"
      ]
     },
     "execution_count": 14,
     "metadata": {},
     "output_type": "execute_result"
    }
   ],
   "source": [
    "obs_freq.min().value"
   ]
  },
  {
   "cell_type": "code",
   "execution_count": 15,
   "metadata": {},
   "outputs": [
    {
     "data": {
      "text/plain": [
       "338007591235.81964"
      ]
     },
     "execution_count": 15,
     "metadata": {},
     "output_type": "execute_result"
    }
   ],
   "source": [
    "obs_freq.max().value"
   ]
  },
  {
   "cell_type": "code",
   "execution_count": 11,
   "metadata": {},
   "outputs": [],
   "source": [
    "s_x = abs(convert_angular_to_spatial(obs_xlim, obj.distance)).si.value\n",
    "s_y = abs(convert_angular_to_spatial(obs_ylim, obj.distance)).si.value\n",
    "s_z = np.mean([s_x, s_y])"
   ]
  },
  {
   "cell_type": "code",
   "execution_count": 12,
   "metadata": {},
   "outputs": [
    {
     "data": {
      "application/vnd.jupyter.widget-view+json": {
       "model_id": "76c00796a6a54ec2b2e446ed0eaa382f",
       "version_major": 2,
       "version_minor": 0
      },
      "text/plain": [
       "interactive(children=(IntSlider(value=12, description='f', max=24), Output()), _dom_classes=('widget-interact'…"
      ]
     },
     "metadata": {},
     "output_type": "display_data"
    },
    {
     "data": {
      "text/plain": [
       "<function __main__.plot(f)>"
      ]
     },
     "execution_count": 12,
     "metadata": {},
     "output_type": "execute_result"
    }
   ],
   "source": [
    "def plot(f):\n",
    "    plt.figure(dpi=150)\n",
    "    plt.imshow(obs_data[f,:,:], vmin=obs_data.min(), vmax=obs_data.max())\n",
    "    plt.contour(obs_cont, colors='w', levels=np.array([0.1, 0.5, 0.8])*obs_cont.max())\n",
    "    plt.scatter([idy_star], [idx_star], c='w', marker='*') # switch x and y, to conform to imshow convention\n",
    "interact(plot, f=(0, obs_data.shape[0]-1))"
   ]
  },
  {
   "cell_type": "code",
   "execution_count": 13,
   "metadata": {},
   "outputs": [
    {
     "data": {
      "application/vnd.jupyter.widget-view+json": {
       "model_id": "24149d56e1d7494c8d4cfb1864bc0c36",
       "version_major": 2,
       "version_minor": 0
      },
      "text/plain": [
       "interactive(children=(IntSlider(value=12, description='f', max=24), Output()), _dom_classes=('widget-interact'…"
      ]
     },
     "metadata": {},
     "output_type": "display_data"
    },
    {
     "data": {
      "text/plain": [
       "<function __main__.plot(f)>"
      ]
     },
     "execution_count": 13,
     "metadata": {},
     "output_type": "execute_result"
    }
   ],
   "source": [
    "# Extract beam from the observation\n",
    "beam = Beam(dat)\n",
    "\n",
    "# Convolve observation with beam\n",
    "bmd_data = np.empty_like(obs_data)\n",
    "for f in range(obs_data.shape[0]):\n",
    "    bmd_data[f,:,:] = beam.apply(obs_data[f,:,:])\n",
    "\n",
    "def plot(f):\n",
    "    fig, axs = plt.subplots(1, 2, dpi=150)\n",
    "    axs[0].set_title('Original')\n",
    "    axs[1].set_title('Convolved with beam')\n",
    "    axs[0].add_artist(beam.object.ellipse_to_plot(3, 31, dat.pixsize_x)).set_color('w')\n",
    "    axs[1].add_artist(beam.object.ellipse_to_plot(3, 31, dat.pixsize_x)).set_color('w')\n",
    "    axs[0].imshow(obs_data[f,:,:] , vmin=obs_data.min(), vmax=obs_data.max())\n",
    "    axs[1].imshow(bmd_data[f,:,:],  vmin=bmd_data.min(), vmax=bmd_data.max())\n",
    "    axs[0].scatter([idy_star], [idx_star], c='y', marker='*') # switch x and y, to conform to imshow convention\n",
    "    axs[1].scatter([idy_star], [idx_star], c='y', marker='*') # switch x and y, to conform to imshow convention\n",
    "interact(plot, f=(0, obs_data.shape[0]-1))"
   ]
  },
  {
   "cell_type": "code",
   "execution_count": 14,
   "metadata": {},
   "outputs": [],
   "source": [
    "# Move frequency axis last\n",
    "obs   = np.moveaxis(bmd_data, 0, -1)\n",
    "\n",
    "# Store the observations and frequencies (in 64 bit precision)\n",
    "obs   = torch.from_numpy(obs     .astype(np.float64))\n",
    "freqs = torch.from_numpy(obs_freq.astype(np.float64).si.value)"
   ]
  },
  {
   "cell_type": "code",
   "execution_count": 15,
   "metadata": {},
   "outputs": [],
   "source": [
    "# Fixed parameters\n",
    "v_trb = 1.50e+2\n",
    "v_max = 2.84e+4\n",
    "v_los = obj.radial_velocity.si.value\n",
    "\n",
    "R_star = 3.8e11   # [m]\n",
    "T_star = 2100.0   # [K]"
   ]
  },
  {
   "cell_type": "code",
   "execution_count": 16,
   "metadata": {},
   "outputs": [],
   "source": [
    "rs = np.linspace(R_star, (210*units.au).si.value, 1000)"
   ]
  },
  {
   "cell_type": "code",
   "execution_count": 17,
   "metadata": {},
   "outputs": [
    {
     "data": {
      "text/plain": [
       "[<matplotlib.lines.Line2D at 0x7f228c045b20>]"
      ]
     },
     "execution_count": 17,
     "metadata": {},
     "output_type": "execute_result"
    },
    {
     "data": {
      "image/png": "[encoded data removed]",
      "text/plain": [
       "<Figure size 900x600 with 1 Axes>"
      ]
     },
     "metadata": {
      "needs_background": "light"
     },
     "output_type": "display_data"
    }
   ],
   "source": [
    "def beta_velocity(r):\n",
    "    v_0    = 3.00e+3   # m/s\n",
    "    v_exp  = 2.84e+4   # m/s\n",
    "    r_dust = 2.38e12   # m\n",
    "    beta   = 1.5       #\n",
    "    v_beta = np.empty_like(r)\n",
    "    v_beta[r> r_dust] = v_0 + (v_exp - v_0) * (1.0 - r_dust/r[r>r_dust])**beta\n",
    "    v_beta[r<=r_dust] = v_0\n",
    "    return v_beta\n",
    "\n",
    "plt.figure(dpi=150)\n",
    "plt.plot(rs, beta_velocity(rs))"
   ]
  },
  {
   "cell_type": "code",
   "execution_count": 18,
   "metadata": {},
   "outputs": [],
   "source": [
    "r_temp, T_temp = np.loadtxt('iktau-co-04-grid-38.temp', unpack=True)\n",
    "r_temp *= 1.0e-2 # [cm] -> [m]\n",
    "\n",
    "r_temp = np.concatenate(([R_star], r_temp))\n",
    "T_temp = np.concatenate(([T_star], T_temp))\n",
    "\n",
    "from scipy.interpolate import interp1d\n",
    "\n",
    "temperature_func = interp1d(r_temp, T_temp, fill_value='extrapolate')"
   ]
  },
  {
   "cell_type": "code",
   "execution_count": 19,
   "metadata": {},
   "outputs": [
    {
     "data": {
      "image/png": "[encoded data removed]",
      "text/plain": [
       "<Figure size 900x600 with 1 Axes>"
      ]
     },
     "metadata": {
      "needs_background": "light"
     },
     "output_type": "display_data"
    }
   ],
   "source": [
    "plt.figure(dpi=150)\n",
    "plt.plot(r_temp, T_temp, marker='.')\n",
    "plt.plot(rs, temperature_func(rs))\n",
    "plt.xscale('log')"
   ]
  },
  {
   "cell_type": "code",
   "execution_count": 20,
   "metadata": {},
   "outputs": [
    {
     "name": "stdout",
     "output_type": "stream",
     "text": [
      "Variable key:              Free/Fixed:   Field:    Min:           Mean:          Max:\n",
      "  log_NaCl                   Free          True     +1.933e+01     +2.073e+01     +2.763e+01\n",
      "  log_temperature            Fixed         True     +4.289e+00     +5.022e+00     +7.480e+00\n",
      "  velocity_x:v_max           Fixed         True     -8.893e-01     -4.635e-02     +8.738e-01\n",
      "  velocity_y:v_max           Fixed         True     -9.020e-01     -1.431e-01     +8.528e-01\n",
      "  velocity_z:v_max           Fixed         True     -8.853e-01     -5.583e-03     +8.835e-01\n",
      "sizes: (54603456820797.37, 54603456820797.37, 54603456820797.37)\n",
      "shape: (35, 35, 128)\n"
     ]
    }
   ],
   "source": [
    "model = TensorModel(\n",
    "    sizes = (s_x, s_y, s_z),\n",
    "    shape = (obs.shape[0], obs.shape[1], 128),\n",
    ")\n",
    "\n",
    "origin        = np.array([idx_star, idy_star, 0.5*model.shape[2]])\n",
    "r_x, r_y, r_z = model.get_radial_direction(origin=origin)\n",
    "p_x, p_y, p_z = model.get_coords          (origin=origin)\n",
    "r             = model.get_radius          (origin=origin)\n",
    "inverse_r     = r.min() / r\n",
    "\n",
    "# Define and initialize the model parameters\n",
    "# model['log_M'           ] = np.log(constants.M_sun.si.value)\n",
    "model['log_NaCl'        ] = np.log(1.0e+12 * inverse_r**2)\n",
    "model['log_temperature' ] = np.log(temperature_func(r))\n",
    "model['velocity_x:v_max'] = r_x * beta_velocity(r) / v_max\n",
    "model['velocity_y:v_max'] = r_y * beta_velocity(r) / v_max\n",
    "model['velocity_z:v_max'] = r_z * beta_velocity(r) / v_max\n",
    "# model['log_v_los'       ] = np.log(v_los.si.value)\n",
    "\n",
    "model.free_all()\n",
    "model.fix('log_temperature')\n",
    "model.fix(['velocity_x:v_max'])\n",
    "model.fix(['velocity_y:v_max'])\n",
    "model.fix(['velocity_z:v_max'])\n",
    "# model.fix('log_v_turbulence')\n",
    "# model.fix('log_v_los')\n",
    "\n",
    "model.info()"
   ]
  },
  {
   "cell_type": "code",
   "execution_count": 21,
   "metadata": {},
   "outputs": [],
   "source": [
    "# M = torch.exp(model['log_M'])\n",
    "\n",
    "# hydrodynamics = Hydrodynamics(\n",
    "#     gamma  = 1.2,\n",
    "#     mu     = 2.381 * constants.u.si.value,\n",
    "#     f_x    = -constants.G.si.value * M * r_x / r**2,\n",
    "#     f_y    = -constants.G.si.value * M * r_y / r**2,\n",
    "#     f_z    = -constants.G.si.value * M * r_z / r**2,\n",
    "#     Lambda = 0.0\n",
    "# )\n",
    "\n",
    "spherical_loss = SphericalLoss(\n",
    "    model  = model,\n",
    "    origin = origin\n",
    ")\n",
    "\n",
    "# loss = Loss(['rep', 'reg', 'sym'] + list(hydrodynamics.loss_keys.values()))\n",
    "# loss = Loss(['rep', 'reg', 'sym'])\n",
    "loss = Loss(['rep', 'reg', 'ext'])\n",
    "# loss = Loss(['rep'])"
   ]
  },
  {
   "cell_type": "code",
   "execution_count": 22,
   "metadata": {},
   "outputs": [],
   "source": [
    "def forward(model, freqs):\n",
    "    \"\"\"\n",
    "    Forward model: image the given TensorModel along the last axis, \n",
    "    at the given frequencies, assuming local thermodynamical equilibrium (LTE).\n",
    "    \"\"\"\n",
    "    img = line.LTE_image_along_last_axis(\n",
    "        density      = torch.exp(model['log_NaCl']),\n",
    "        temperature  = torch.exp(model['log_temperature']),\n",
    "        v_turbulence = v_trb,\n",
    "        velocity_los = v_los + v_max * model['velocity_z:v_max'],\n",
    "        frequencies  = freqs,\n",
    "        dx           = model.dx(model.dim()-1)\n",
    "    )\n",
    "\n",
    "    # Avoid negative values (should probably avoid these earlier...)\n",
    "    img = torch.abs(img)\n",
    "\n",
    "    # Convert to Jy/pixel\n",
    "    img *= model.dx(0) * model.dx(1) / obj.distance.si.value**2 / 1.0e-26\n",
    "    \n",
    "    # Convolve with beam (i.e. convert to Jy/beam)\n",
    "    img = beam.torch_apply(img)\n",
    "\n",
    "    return img"
   ]
  },
  {
   "cell_type": "code",
   "execution_count": 23,
   "metadata": {},
   "outputs": [
    {
     "data": {
      "application/vnd.jupyter.widget-view+json": {
       "model_id": "2a22202d225447eeadceaf5ef73336a9",
       "version_major": 2,
       "version_minor": 0
      },
      "text/plain": [
       "interactive(children=(IntSlider(value=17, description='i', max=34), IntSlider(value=17, description='j', max=3…"
      ]
     },
     "metadata": {},
     "output_type": "display_data"
    },
    {
     "data": {
      "text/plain": [
       "<function __main__.plot(i, j)>"
      ]
     },
     "execution_count": 23,
     "metadata": {},
     "output_type": "execute_result"
    }
   ],
   "source": [
    "img = forward (model, freqs)\n",
    "\n",
    "def plot(i,j):\n",
    "    plt.figure(dpi=150)\n",
    "    plt.plot   (line.freq_to_velo(freqs          * units.Hz), obs[i,j,:].data)\n",
    "    plt.plot   (line.freq_to_velo(freqs          * units.Hz), img[i,j,:].data, marker='x')\n",
    "    plt.axvline(line.freq_to_velo(line.frequency * units.Hz) - v_los, c='k')\n",
    "interact(plot, i=(0, img.shape[0]-1), j=(0, img.shape[1]-1) )"
   ]
  },
  {
   "cell_type": "code",
   "execution_count": 24,
   "metadata": {},
   "outputs": [],
   "source": [
    "def fit(loss, model, data, N_epochs=10, lr=1.0e-1):\n",
    "\n",
    "    optimizer = Adam(model.free_parameters(), lr=lr)\n",
    "\n",
    "    for _ in tqdm(range(N_epochs)):\n",
    "        \n",
    "        # Run forward model\n",
    "        img = forward(model, freqs)\n",
    " \n",
    "        # Reproduction loss between model image and observations\n",
    "        loss['rep'] = torch.nn.functional.mse_loss(img, obs)\n",
    "\n",
    "        # Regularisation loss\n",
    "        loss['reg'] = model.apply_to_fields(diff_loss)\n",
    "        \n",
    "        loss['ext'] = torch.mean(torch.exp(model['log_NaCl'])) #+ torch.mean(torch.exp(model['log_temperature']))\n",
    "\n",
    "        # Spherical symmetry loss\n",
    "        # loss['sym'] = model.apply_to_fields(\n",
    "            # func    = spherical_loss.eval,\n",
    "            # exclude = ['velocity_x/v_max', 'velocity_y/v_max', 'velocity_z/v_max'],\n",
    "            # include = [model['velocity_x/v_max']**2 + model['velocity_y/v_max']**2 + model['velocity_z/v_max']**2]\n",
    "        # )\n",
    "\n",
    "        # loss = hydrodynamics.add_steady_state_loss(\n",
    "        #     model   = model,\n",
    "        #     loss    = loss,\n",
    "        #     log_rho = model['log_CO'],\n",
    "        #     log_tmo = model['log_temperature'],\n",
    "        #     v_x     = v_max * model['velocity_x/v_max'],\n",
    "        #     v_y     = v_max * model['velocity_y/v_max'],\n",
    "        #     v_z     = v_max * model['velocity_z/v_max'],\n",
    "        # )\n",
    "        \n",
    "        # Set gradients to zero\n",
    "        optimizer.zero_grad()\n",
    "        # Backpropagate gradients\n",
    "        loss.tot().backward()\n",
    "        # Update parameters\n",
    "        optimizer.step()"
   ]
  },
  {
   "cell_type": "code",
   "execution_count": 25,
   "metadata": {},
   "outputs": [
    {
     "name": "stderr",
     "output_type": "stream",
     "text": [
      "  0%|          | 0/5 [00:00<?, ?it/s]/home/frederikd/.local/lib/python3.9/site-packages/torch/autograd/__init__.py:200: UserWarning: CUDA initialization: The NVIDIA driver on your system is too old (found version 9010). Please update your GPU driver by downloading and installing a new version from the URL: http://www.nvidia.com/Download/index.aspx Alternatively, go to: https://pytorch.org to install a PyTorch version that has been compiled with your version of the CUDA driver. (Triggered internally at ../c10/cuda/CUDAFunctions.cpp:109.)\n",
      "  Variable._execution_engine.run_backward(  # Calls into the C++ engine to run the backward pass\n",
      "100%|██████████| 5/5 [00:02<00:00,  1.83it/s]\n"
     ]
    },
    {
     "data": {
      "image/png": "[encoded data removed]",
      "text/plain": [
       "<Figure size 780x520 with 1 Axes>"
      ]
     },
     "metadata": {
      "needs_background": "light"
     },
     "output_type": "display_data"
    }
   ],
   "source": [
    "fit(loss, model, obs, N_epochs=5, lr=1.0e-1)\n",
    "loss.plot()"
   ]
  },
  {
   "cell_type": "code",
   "execution_count": 26,
   "metadata": {},
   "outputs": [],
   "source": [
    "loss.renormalise_all()\n",
    "loss.reset()"
   ]
  },
  {
   "cell_type": "code",
   "execution_count": 27,
   "metadata": {},
   "outputs": [
    {
     "name": "stderr",
     "output_type": "stream",
     "text": [
      "100%|██████████| 5/5 [00:02<00:00,  1.83it/s]\n"
     ]
    },
    {
     "data": {
      "image/png": "[encoded data removed]",
      "text/plain": [
       "<Figure size 780x520 with 1 Axes>"
      ]
     },
     "metadata": {
      "needs_background": "light"
     },
     "output_type": "display_data"
    }
   ],
   "source": [
    "fit(loss, model, obs, N_epochs=5, lr=1.0e-1)\n",
    "loss.plot()"
   ]
  },
  {
   "cell_type": "code",
   "execution_count": 28,
   "metadata": {},
   "outputs": [],
   "source": [
    "loss.weight['rep'] *= 1.0e+2\n",
    "loss.weight['reg'] *= 1.0e+0\n",
    "loss.weight['ext'] *= 1.0e+0"
   ]
  },
  {
   "cell_type": "code",
   "execution_count": 29,
   "metadata": {},
   "outputs": [],
   "source": [
    "img = forward (model, freqs)"
   ]
  },
  {
   "cell_type": "code",
   "execution_count": 30,
   "metadata": {},
   "outputs": [
    {
     "data": {
      "application/vnd.jupyter.widget-view+json": {
       "model_id": "0c29ddf33c4142b5b8ca86c3913f187f",
       "version_major": 2,
       "version_minor": 0
      },
      "text/plain": [
       "interactive(children=(IntSlider(value=17, description='i', max=34), IntSlider(value=17, description='j', max=3…"
      ]
     },
     "metadata": {},
     "output_type": "display_data"
    },
    {
     "data": {
      "text/plain": [
       "<function __main__.plot(i, j)>"
      ]
     },
     "execution_count": 30,
     "metadata": {},
     "output_type": "execute_result"
    }
   ],
   "source": [
    "def plot(i,j):\n",
    "    plt.figure(dpi=150)\n",
    "    plt.plot   (line.freq_to_velo(freqs          * units.Hz), obs[i,j,:].data)\n",
    "    plt.plot   (line.freq_to_velo(freqs          * units.Hz), img[i,j,:].data, marker='x')\n",
    "    plt.axvline(line.freq_to_velo(line.frequency * units.Hz) - v_los, c='k')\n",
    "interact(plot, i=(0, img.shape[0]-1), j=(0, img.shape[1]-1) )"
   ]
  },
  {
   "cell_type": "code",
   "execution_count": 31,
   "metadata": {},
   "outputs": [
    {
     "data": {
      "application/vnd.jupyter.widget-view+json": {
       "model_id": "72c31a0cc4e3481c83cf82238f56d156",
       "version_major": 2,
       "version_minor": 0
      },
      "text/plain": [
       "interactive(children=(IntSlider(value=12, description='f', max=24), Output()), _dom_classes=('widget-interact'…"
      ]
     },
     "metadata": {},
     "output_type": "display_data"
    },
    {
     "data": {
      "text/plain": [
       "<function __main__.plot(f)>"
      ]
     },
     "execution_count": 31,
     "metadata": {},
     "output_type": "execute_result"
    }
   ],
   "source": [
    "def plot(f):\n",
    "    fig, axs = plt.subplots(1, 2, dpi=150)\n",
    "    axs[0].set_title('Observation')\n",
    "    axs[1].set_title('Model')\n",
    "    axs[0].imshow(obs[:,:,f].data, vmin=obs.data.min(), vmax=obs.data.max())\n",
    "    axs[1].imshow(img[:,:,f].data, vmin=img.data.min(), vmax=img.data.max())\n",
    "interact(plot, f=(0, img.shape[2]-1))"
   ]
  },
  {
   "cell_type": "code",
   "execution_count": 32,
   "metadata": {},
   "outputs": [
    {
     "data": {
      "application/vnd.jupyter.widget-view+json": {
       "model_id": "4317295aa6ce4ebfa30ec3cf0c2712f7",
       "version_major": 2,
       "version_minor": 0
      },
      "text/plain": [
       "interactive(children=(IntSlider(value=63, description='z', max=127), Output()), _dom_classes=('widget-interact…"
      ]
     },
     "metadata": {},
     "output_type": "display_data"
    },
    {
     "data": {
      "text/plain": [
       "<function p3droslo.plot.plot_cube_2D.<locals>.plot(z)>"
      ]
     },
     "execution_count": 32,
     "metadata": {},
     "output_type": "execute_result"
    }
   ],
   "source": [
    "plot_cube_2D(model['log_NaCl'])"
   ]
  },
  {
   "cell_type": "code",
   "execution_count": 33,
   "metadata": {},
   "outputs": [
    {
     "data": {
      "application/vnd.jupyter.widget-view+json": {
       "model_id": "a2e74102861b41368a75f6c8016b0eda",
       "version_major": 2,
       "version_minor": 0
      },
      "text/plain": [
       "interactive(children=(IntSlider(value=63, description='z', max=127), Output()), _dom_classes=('widget-interact…"
      ]
     },
     "metadata": {},
     "output_type": "display_data"
    },
    {
     "data": {
      "text/plain": [
       "<function p3droslo.plot.plot_cube_2D.<locals>.plot(z)>"
      ]
     },
     "execution_count": 33,
     "metadata": {},
     "output_type": "execute_result"
    }
   ],
   "source": [
    "plot_cube_2D(model['log_temperature'])"
   ]
  },
  {
   "cell_type": "code",
   "execution_count": 34,
   "metadata": {},
   "outputs": [
    {
     "data": {
      "application/vnd.jupyter.widget-view+json": {
       "model_id": "e236334b2f7941d5abad9abe476e5f6b",
       "version_major": 2,
       "version_minor": 0
      },
      "text/plain": [
       "interactive(children=(IntSlider(value=63, description='z', max=127), Output()), _dom_classes=('widget-interact…"
      ]
     },
     "metadata": {},
     "output_type": "display_data"
    },
    {
     "data": {
      "text/plain": [
       "<function p3droslo.plot.plot_cube_2D.<locals>.plot(z)>"
      ]
     },
     "execution_count": 34,
     "metadata": {},
     "output_type": "execute_result"
    }
   ],
   "source": [
    "plot_cube_2D(model['velocity_z:v_max'])"
   ]
  },
  {
   "cell_type": "code",
   "execution_count": 35,
   "metadata": {},
   "outputs": [
    {
     "data": {
      "application/vnd.jupyter.widget-view+json": {
       "model_id": "46596e581a454d4bb2f569ef6fa53f5f",
       "version_major": 2,
       "version_minor": 0
      },
      "text/plain": [
       "interactive(children=(IntSlider(value=17, description='i', max=34), IntSlider(value=17, description='j', max=3…"
      ]
     },
     "metadata": {},
     "output_type": "display_data"
    },
    {
     "data": {
      "text/plain": [
       "<function p3droslo.plot.plot_spectrum.<locals>.plot(i, j)>"
      ]
     },
     "execution_count": 35,
     "metadata": {},
     "output_type": "execute_result"
    }
   ],
   "source": [
    "plot_spectrum(model['log_NaCl'])"
   ]
  },
  {
   "cell_type": "code",
   "execution_count": 36,
   "metadata": {},
   "outputs": [
    {
     "name": "stderr",
     "output_type": "stream",
     "text": [
      "100%|██████████| 1000/1000 [08:15<00:00,  2.02it/s]\n"
     ]
    },
    {
     "data": {
      "image/png": "[encoded data removed]",
      "text/plain": [
       "<Figure size 780x520 with 1 Axes>"
      ]
     },
     "metadata": {
      "needs_background": "light"
     },
     "output_type": "display_data"
    }
   ],
   "source": [
    "fit(loss, model, obs, N_epochs=1000, lr=5.0e-1)\n",
    "loss.plot()"
   ]
  },
  {
   "cell_type": "code",
   "execution_count": 47,
   "metadata": {},
   "outputs": [],
   "source": [
    "model.save('IK_Tau.h5')"
   ]
  },
  {
   "cell_type": "code",
   "execution_count": 1,
   "metadata": {},
   "outputs": [
    {
     "ename": "NameError",
     "evalue": "name 'TensorModel' is not defined",
     "output_type": "error",
     "traceback": [
      "\u001b[0;31m---------------------------------------------------------------------------\u001b[0m",
      "\u001b[0;31mNameError\u001b[0m                                 Traceback (most recent call last)",
      "\u001b[1;32m/STER/frederikd/p3droslo/docs/src/examples/IK_Tau_NaCl.ipynb Cell 41\u001b[0m in \u001b[0;36m<cell line: 1>\u001b[0;34m()\u001b[0m\n\u001b[0;32m----> <a href='vscode-notebook-cell://ssh-remote%2Benif/STER/frederikd/p3droslo/docs/src/examples/IK_Tau_NaCl.ipynb#X55sdnNjb2RlLXJlbW90ZQ%3D%3D?line=0'>1</a>\u001b[0m model \u001b[39m=\u001b[39m TensorModel\u001b[39m.\u001b[39mload(\u001b[39m'\u001b[39m\u001b[39mIK_Tau.h5\u001b[39m\u001b[39m'\u001b[39m)\n\u001b[1;32m      <a href='vscode-notebook-cell://ssh-remote%2Benif/STER/frederikd/p3droslo/docs/src/examples/IK_Tau_NaCl.ipynb#X55sdnNjb2RlLXJlbW90ZQ%3D%3D?line=2'>3</a>\u001b[0m rho \u001b[39m=\u001b[39m torch\u001b[39m.\u001b[39mexp(model[\u001b[39m'\u001b[39m\u001b[39mlog_NaCl\u001b[39m\u001b[39m'\u001b[39m])\u001b[39m.\u001b[39mdata\u001b[39m.\u001b[39mnumpy()\u001b[39m.\u001b[39mastype(np\u001b[39m.\u001b[39mfloat32)\n",
      "\u001b[0;31mNameError\u001b[0m: name 'TensorModel' is not defined"
     ]
    }
   ],
   "source": [
    "model = TensorModel.load('IK_Tau.h5')\n",
    "\n",
    "rho = torch.exp(model['log_NaCl']).data.numpy().astype(np.float32)\n"
   ]
  },
  {
   "cell_type": "code",
   "execution_count": 62,
   "metadata": {},
   "outputs": [
    {
     "data": {
      "application/vnd.jupyter.widget-view+json": {
       "model_id": "37338509e3cb4e25bdcf35d61c1b92d3",
       "version_major": 2,
       "version_minor": 0
      },
      "text/plain": [
       "Output()"
      ]
     },
     "metadata": {},
     "output_type": "display_data"
    }
   ],
   "source": [
    "import k3d\n",
    "\n",
    "star_location = (origin/rho.shape-0.5).astype(np.float32)\n",
    "star_radius   = R_star/np.mean(model.sizes)\n",
    "\n",
    "plt_volume = k3d.volume(\n",
    "    volume      = rho,\n",
    "    alpha_coef  = 30.0,\n",
    "    # color_range = [100000, 5000000]\n",
    ")\n",
    "plt_star   = k3d.points(\n",
    "    positions  = [star_location],\n",
    "    point_size = star_radius,\n",
    "    color      = 0xffd600\n",
    ")\n",
    "\n",
    "plot  = k3d.plot()\n",
    "plot += plt_volume\n",
    "plot += plt_star\n",
    "plot.display()"
   ]
  },
  {
   "cell_type": "code",
   "execution_count": 199,
   "metadata": {},
   "outputs": [
    {
     "name": "stderr",
     "output_type": "stream",
     "text": [
      "  4%|▍         | 21/500 [00:11<04:11,  1.91it/s]\n"
     ]
    },
    {
     "ename": "KeyboardInterrupt",
     "evalue": "",
     "output_type": "error",
     "traceback": [
      "\u001b[0;31m---------------------------------------------------------------------------\u001b[0m",
      "\u001b[0;31mKeyboardInterrupt\u001b[0m                         Traceback (most recent call last)",
      "\u001b[1;32m/STER/frederikd/p3droslo/docs/src/examples/IK_Tau_NaCl.ipynb Cell 38\u001b[0m in \u001b[0;36m<cell line: 1>\u001b[0;34m()\u001b[0m\n\u001b[0;32m----> <a href='vscode-notebook-cell://ssh-remote%2Benif/STER/frederikd/p3droslo/docs/src/examples/IK_Tau_NaCl.ipynb#X46sdnNjb2RlLXJlbW90ZQ%3D%3D?line=0'>1</a>\u001b[0m fit(loss, model, obs, N_epochs\u001b[39m=\u001b[39;49m\u001b[39m500\u001b[39;49m, lr\u001b[39m=\u001b[39;49m\u001b[39m1.0e-0\u001b[39;49m)\n\u001b[1;32m      <a href='vscode-notebook-cell://ssh-remote%2Benif/STER/frederikd/p3droslo/docs/src/examples/IK_Tau_NaCl.ipynb#X46sdnNjb2RlLXJlbW90ZQ%3D%3D?line=1'>2</a>\u001b[0m loss\u001b[39m.\u001b[39mplot()\n",
      "\u001b[1;32m/STER/frederikd/p3droslo/docs/src/examples/IK_Tau_NaCl.ipynb Cell 38\u001b[0m in \u001b[0;36mfit\u001b[0;34m(loss, model, data, N_epochs, lr)\u001b[0m\n\u001b[1;32m     <a href='vscode-notebook-cell://ssh-remote%2Benif/STER/frederikd/p3droslo/docs/src/examples/IK_Tau_NaCl.ipynb#X46sdnNjb2RlLXJlbW90ZQ%3D%3D?line=35'>36</a>\u001b[0m optimizer\u001b[39m.\u001b[39mzero_grad()\n\u001b[1;32m     <a href='vscode-notebook-cell://ssh-remote%2Benif/STER/frederikd/p3droslo/docs/src/examples/IK_Tau_NaCl.ipynb#X46sdnNjb2RlLXJlbW90ZQ%3D%3D?line=36'>37</a>\u001b[0m \u001b[39m# Backpropagate gradients\u001b[39;00m\n\u001b[0;32m---> <a href='vscode-notebook-cell://ssh-remote%2Benif/STER/frederikd/p3droslo/docs/src/examples/IK_Tau_NaCl.ipynb#X46sdnNjb2RlLXJlbW90ZQ%3D%3D?line=37'>38</a>\u001b[0m loss\u001b[39m.\u001b[39;49mtot()\u001b[39m.\u001b[39;49mbackward()\n\u001b[1;32m     <a href='vscode-notebook-cell://ssh-remote%2Benif/STER/frederikd/p3droslo/docs/src/examples/IK_Tau_NaCl.ipynb#X46sdnNjb2RlLXJlbW90ZQ%3D%3D?line=38'>39</a>\u001b[0m \u001b[39m# Update parameters\u001b[39;00m\n\u001b[1;32m     <a href='vscode-notebook-cell://ssh-remote%2Benif/STER/frederikd/p3droslo/docs/src/examples/IK_Tau_NaCl.ipynb#X46sdnNjb2RlLXJlbW90ZQ%3D%3D?line=39'>40</a>\u001b[0m optimizer\u001b[39m.\u001b[39mstep()\n",
      "File \u001b[0;32m~/.local/lib/python3.9/site-packages/torch/_tensor.py:487\u001b[0m, in \u001b[0;36mTensor.backward\u001b[0;34m(self, gradient, retain_graph, create_graph, inputs)\u001b[0m\n\u001b[1;32m    477\u001b[0m \u001b[39mif\u001b[39;00m has_torch_function_unary(\u001b[39mself\u001b[39m):\n\u001b[1;32m    478\u001b[0m     \u001b[39mreturn\u001b[39;00m handle_torch_function(\n\u001b[1;32m    479\u001b[0m         Tensor\u001b[39m.\u001b[39mbackward,\n\u001b[1;32m    480\u001b[0m         (\u001b[39mself\u001b[39m,),\n\u001b[0;32m   (...)\u001b[0m\n\u001b[1;32m    485\u001b[0m         inputs\u001b[39m=\u001b[39minputs,\n\u001b[1;32m    486\u001b[0m     )\n\u001b[0;32m--> 487\u001b[0m torch\u001b[39m.\u001b[39;49mautograd\u001b[39m.\u001b[39;49mbackward(\n\u001b[1;32m    488\u001b[0m     \u001b[39mself\u001b[39;49m, gradient, retain_graph, create_graph, inputs\u001b[39m=\u001b[39;49minputs\n\u001b[1;32m    489\u001b[0m )\n",
      "File \u001b[0;32m~/.local/lib/python3.9/site-packages/torch/autograd/__init__.py:200\u001b[0m, in \u001b[0;36mbackward\u001b[0;34m(tensors, grad_tensors, retain_graph, create_graph, grad_variables, inputs)\u001b[0m\n\u001b[1;32m    195\u001b[0m     retain_graph \u001b[39m=\u001b[39m create_graph\n\u001b[1;32m    197\u001b[0m \u001b[39m# The reason we repeat same the comment below is that\u001b[39;00m\n\u001b[1;32m    198\u001b[0m \u001b[39m# some Python versions print out the first line of a multi-line function\u001b[39;00m\n\u001b[1;32m    199\u001b[0m \u001b[39m# calls in the traceback and some print out the last line\u001b[39;00m\n\u001b[0;32m--> 200\u001b[0m Variable\u001b[39m.\u001b[39;49m_execution_engine\u001b[39m.\u001b[39;49mrun_backward(  \u001b[39m# Calls into the C++ engine to run the backward pass\u001b[39;49;00m\n\u001b[1;32m    201\u001b[0m     tensors, grad_tensors_, retain_graph, create_graph, inputs,\n\u001b[1;32m    202\u001b[0m     allow_unreachable\u001b[39m=\u001b[39;49m\u001b[39mTrue\u001b[39;49;00m, accumulate_grad\u001b[39m=\u001b[39;49m\u001b[39mTrue\u001b[39;49;00m)\n",
      "\u001b[0;31mKeyboardInterrupt\u001b[0m: "
     ]
    }
   ],
   "source": [
    "fit(loss, model, obs, N_epochs=500, lr=1.0e-0)\n",
    "loss.plot()"
   ]
  },
  {
   "cell_type": "code",
   "execution_count": 187,
   "metadata": {},
   "outputs": [],
   "source": [
    "model.save('IK_Tau.h5')"
   ]
  },
  {
   "cell_type": "code",
   "execution_count": 139,
   "metadata": {},
   "outputs": [
    {
     "name": "stderr",
     "output_type": "stream",
     "text": [
      "100%|██████████| 500/500 [03:58<00:00,  2.10it/s]\n"
     ]
    },
    {
     "data": {
      "image/png": "[encoded data removed]",
      "text/plain": [
       "<Figure size 780x520 with 1 Axes>"
      ]
     },
     "metadata": {
      "needs_background": "light"
     },
     "output_type": "display_data"
    }
   ],
   "source": [
    "fit(loss, model, obs, N_epochs=500, lr=3.0)\n",
    "loss.plot()"
   ]
  },
  {
   "cell_type": "code",
   "execution_count": null,
   "metadata": {},
   "outputs": [],
   "source": []
  }
 ],
 "metadata": {
  "kernelspec": {
   "display_name": "magritte",
   "language": "python",
   "name": "python3"
  },
  "language_info": {
   "codemirror_mode": {
    "name": "ipython",
    "version": 3
   },
   "file_extension": ".py",
   "mimetype": "text/x-python",
   "name": "python",
   "nbconvert_exporter": "python",
   "pygments_lexer": "ipython3",
   "version": "3.9.13"
  },
  "orig_nbformat": 4
 },
 "nbformat": 4,
 "nbformat_minor": 2
}
