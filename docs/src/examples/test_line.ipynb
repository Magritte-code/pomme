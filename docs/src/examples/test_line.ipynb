{
 "cells": [
  {
   "cell_type": "code",
   "execution_count": 1,
   "id": "c64c2111-2402-4a70-9d7b-a0470702d695",
   "metadata": {},
   "outputs": [],
   "source": [
    "import matplotlib.pyplot as plt\n",
    "import numpy             as np\n",
    "\n",
    "from tqdm                 import tqdm\n",
    "from astropy              import units, constants\n",
    "\n",
    "from p3droslo.utils       import convert_angular_to_spatial\n",
    "from p3droslo.plot        import plot_cube_2D\n",
    "from p3droslo.object      import AstroObject\n",
    "from p3droslo.observation import DataCube\n",
    "\n",
    "from p3droslo.model       import TensorModel, SphericallySymmetric\n",
    "from p3droslo.utils       import print_var, interpolate\n",
    "from p3droslo.lines       import Line\n",
    "from p3droslo.loss        import Loss, fourier_loss_1D, fourier_loss_1D\n",
    "from p3droslo.haar        import Haar"
   ]
  },
  {
   "cell_type": "code",
   "execution_count": 63,
   "id": "9a6895df-3dc2-4ad7-ac2e-def1a20cae56",
   "metadata": {},
   "outputs": [],
   "source": [
    "depth = 100\n",
    "\n",
    "model = TensorModel(shape=(depth,), sizes=(10.0,))\n",
    "\n",
    "model['CO'          ] = 1.0e+5 * np.ones(depth)\n",
    "model['temperature' ] = 2.0e+2 * np.ones(depth)\n",
    "# model['velocity_z'  ] = 0.0    * np.ones(depth)\n",
    "model['velocity_z'  ] = 5.0e+3 * np.linspace(-1.0, +1.0, depth)\n",
    "\n",
    "model['v_turbulence'] = 1.5e+2 * np.ones(depth)"
   ]
  },
  {
   "cell_type": "code",
   "execution_count": 64,
   "id": "dd36f936-4f76-480f-ba49-ad7900933087",
   "metadata": {},
   "outputs": [],
   "source": [
    "import torch\n",
    "import torch.nn as nn\n",
    "\n",
    "from torch.optim import Adam"
   ]
  },
  {
   "cell_type": "code",
   "execution_count": 65,
   "id": "50b52711-9d8d-44ea-9565-4215eb7a4687",
   "metadata": {},
   "outputs": [],
   "source": [
    "# Model Hyperparameters\n",
    "cuda   = False\n",
    "DEVICE = torch.device(\"cuda\" if cuda else \"cpu\")"
   ]
  },
  {
   "cell_type": "code",
   "execution_count": 66,
   "id": "079d2c76-561a-405a-a384-72488add0a06",
   "metadata": {},
   "outputs": [
    {
     "name": "stdout",
     "output_type": "stream",
     "text": [
      "You have selected line:\n",
      "    CO(J=1-0)\n",
      "Please check the properties that were inferred:\n",
      "    Frequency         1.152712018e+11  Hz\n",
      "    Einstein A coeff  7.203000000e-08  1/s\n",
      "    Molar mass        28.0101          g/mol\n"
     ]
    }
   ],
   "source": [
    "line = Line('CO', 0)"
   ]
  },
  {
   "cell_type": "code",
   "execution_count": 67,
   "id": "bb039ee5-cbcf-49e6-b1db-cfea1fa7783d",
   "metadata": {},
   "outputs": [],
   "source": [
    "from astropy import constants\n",
    "\n",
    "CC  = constants.c  .si.value   # Speed of light       [m/s]\n",
    "\n",
    "def get_doppler_shifted_frequencies(v_los, frequencies):\n",
    "    \"\"\"\n",
    "    Doppler shifts frequencies given the velocity along the line of sight.\n",
    "    \"\"\"\n",
    "    # Compute the Doppler shift for each cell\n",
    "    shift = 1.0 + v_los * (1.0 / CC)\n",
    "\n",
    "    # Create freqency tensor for each cell\n",
    "    freqs = torch.einsum(\"..., f -> ...f\", shift, frequencies)\n",
    "    \n",
    "    return freqs"
   ]
  },
  {
   "cell_type": "code",
   "execution_count": 68,
   "id": "1888bace-2abb-4cca-b4f6-d5929f9f559a",
   "metadata": {},
   "outputs": [],
   "source": [
    "def forward(model, freqs):\n",
    "    \"\"\"\n",
    "    Forward model: image the given TensorModel at the given frequencies.\n",
    "    \"\"\"\n",
    "    nCO    = model['CO']\n",
    "    tmp    = model['temperature']\n",
    "    vel    = model['velocity_z']\n",
    "    v_turb = model['v_turbulence']\n",
    "    \n",
    "    frequencies = get_doppler_shifted_frequencies(vel, freqs)\n",
    "    \n",
    "    # Compute the LTE line emissivity and opacity, and the line profile\n",
    "    eta, chi = line.LTE_emissivity_and_opacity(nCO, tmp, v_turb, frequencies)\n",
    "    \n",
    "    # Create an image of the line\n",
    "    img = model.create_image(eta, chi, axis=0)\n",
    "    \n",
    "    # Convolve with beam\n",
    "    # img = convolve_with_beam(img)\n",
    "    \n",
    "    # Resolved out flux\n",
    "    # img = resolved_out_flux(img)\n",
    "    \n",
    "    return img"
   ]
  },
  {
   "cell_type": "code",
   "execution_count": 69,
   "id": "baf2988a-c244-4703-a7ac-db1fc4ce4f84",
   "metadata": {},
   "outputs": [],
   "source": [
    "N_freqs = 500\n",
    "v_pixel = 25.0\n",
    "\n",
    "dd    = (N_freqs-1)/2 * v_pixel/constants.c.si.value\n",
    "fmin  = line.frequency - line.frequency*dd\n",
    "fmax  = line.frequency + line.frequency*dd\n",
    "freqs = torch.linspace(fmin, fmax, N_freqs, dtype=torch.float64)"
   ]
  },
  {
   "cell_type": "code",
   "execution_count": 70,
   "id": "10a3dfb9-6a89-40e0-96f4-0b99498c11f5",
   "metadata": {},
   "outputs": [
    {
     "name": "stdout",
     "output_type": "stream",
     "text": [
      "LTE pop   0.0007469654083251953\n",
      "Eins A B  0.0005307197570800781\n",
      "profile   0.0009644031524658203\n",
      "multiply  0.0002961158752441406\n"
     ]
    }
   ],
   "source": [
    "with torch.no_grad():\n",
    "    img_p = forward(model, freqs)"
   ]
  },
  {
   "cell_type": "code",
   "execution_count": 71,
   "id": "0582148f-da3f-4eee-92da-510db1c70197",
   "metadata": {},
   "outputs": [
    {
     "data": {
      "text/plain": [
       "<matplotlib.lines.Line2D at 0x7ff466bebe80>"
      ]
     },
     "execution_count": 71,
     "metadata": {},
     "output_type": "execute_result"
    },
    {
     "data": {
      "image/png": "[encoded data removed]",
      "text/plain": [
       "<Figure size 900x600 with 1 Axes>"
      ]
     },
     "metadata": {
      "needs_background": "light"
     },
     "output_type": "display_data"
    }
   ],
   "source": [
    "plt.figure(dpi=150)\n",
    "plt.plot(freqs, img_p.data)\n",
    "plt.axvline(line.frequency, c='k')"
   ]
  },
  {
   "cell_type": "code",
   "execution_count": null,
   "id": "ba753afb-7c9a-4bbd-93e6-c30f681bc562",
   "metadata": {},
   "outputs": [],
   "source": []
  }
 ],
 "metadata": {
  "kernelspec": {
   "display_name": "Python 3 (ipykernel)",
   "language": "python",
   "name": "python3"
  },
  "language_info": {
   "codemirror_mode": {
    "name": "ipython",
    "version": 3
   },
   "file_extension": ".py",
   "mimetype": "text/x-python",
   "name": "python",
   "nbconvert_exporter": "python",
   "pygments_lexer": "ipython3",
   "version": "3.9.13"
  }
 },
 "nbformat": 4,
 "nbformat_minor": 5
}
