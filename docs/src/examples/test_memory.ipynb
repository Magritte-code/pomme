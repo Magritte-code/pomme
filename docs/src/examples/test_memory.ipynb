{
 "cells": [
  {
   "cell_type": "markdown",
   "metadata": {},
   "source": [
    "# Test memory usage for Shiqi\n",
    "---"
   ]
  },
  {
   "cell_type": "markdown",
   "metadata": {},
   "source": []
  },
  {
   "cell_type": "code",
   "execution_count": 1,
   "metadata": {},
   "outputs": [],
   "source": [
    "import matplotlib.pyplot as plt\n",
    "import numpy             as np\n",
    "import torch\n",
    "\n",
    "from astropy                import units, constants\n",
    "\n",
    "from pomme.plot          import plot_cube_2D, plot_spectrum\n",
    "from pomme.model         import TensorModel\n",
    "from pomme.lines         import Line\n",
    "from pomme.haar          import Haar\n",
    "\n",
    "import magritte.core as magritte"
   ]
  },
  {
   "cell_type": "code",
   "execution_count": 2,
   "metadata": {},
   "outputs": [
    {
     "name": "stdout",
     "output_type": "stream",
     "text": [
      "You have selected line:\n",
      "    co(J=1-0)\n",
      "Please check the properties that were inferred:\n",
      "    Frequency         1.152712018e+11  Hz\n",
      "    Einstein A coeff  7.203000000e-08  1/s\n",
      "    Molar mass        28.0             g/mol\n"
     ]
    }
   ],
   "source": [
    "line = Line(\n",
    "        species_name = \"co\",\n",
    "        transition   = 0,\n",
    "        datafile     = \"data/co.txt\",\n",
    "        molar_mass   = 28.0\n",
    "    )"
   ]
  },
  {
   "cell_type": "code",
   "execution_count": 3,
   "metadata": {},
   "outputs": [
    {
     "name": "stdout",
     "output_type": "stream",
     "text": [
      "                                           \n",
      "-------------------------------------------\n",
      "  Reading Model...                         \n",
      "-------------------------------------------\n",
      " model file = /STER/frederikd/0766.hdf5\n",
      "-------------------------------------------\n",
      "Reading parameters...\n",
      "Reading points...\n",
      "Reading rays...\n",
      "Reading boundary...\n",
      "Reading chemistry...\n",
      "Reading species...\n",
      "Reading thermodynamics...\n",
      "Reading temperature...\n",
      "Reading turbulence...\n",
      "Reading lines...\n",
      "Reading lineProducingSpecies...\n",
      "Reading linedata...\n",
      "read num 1\n",
      "read sym CO\n",
      "nlev = 41\n",
      "nrad = 1\n",
      "Reading collisionPartner...\n",
      "Reading collisionPartner...\n",
      "Reading quadrature...\n",
      "Reading radiation...\n",
      "Reading frequencies...\n",
      "Not using scattering!\n",
      "                                           \n",
      "-------------------------------------------\n",
      "  Model read, parameters:                  \n",
      "-------------------------------------------\n",
      "  npoints    = 391168\n",
      "  nrays      = 12\n",
      "  nboundary  = 8056\n",
      "  nfreqs     = 31\n",
      "  nspecs     = 5\n",
      "  nlspecs    = 1\n",
      "  nlines     = 1\n",
      "  nquads     = 31\n",
      "-------------------------------------------\n",
      "                                           \n",
      "Computing spectral discretisation...\n",
      "Computing inverse line widths...\n",
      "Computing LTE level populations...\n"
     ]
    }
   ],
   "source": [
    "model         = magritte.Model(\"/STER/frederikd/0766.hdf5\")\n",
    "model.compute_spectral_discretisation ()\n",
    "model.compute_inverse_line_widths     ()\n",
    "model.compute_LTE_level_populations   ()\n",
    "\n",
    "fcen = model.lines.lineProducingSpecies[0].linedata.frequency[0]\n",
    "vpix = 300   # velocity pixel size [m/s] \n",
    "dd   = vpix * (model.parameters.nfreqs()-1)/2 / magritte.CC\n",
    "fmin = fcen - fcen*dd\n",
    "fmax = fcen + fcen*dd"
   ]
  },
  {
   "cell_type": "code",
   "execution_count": 4,
   "metadata": {},
   "outputs": [
    {
     "name": "stdout",
     "output_type": "stream",
     "text": [
      "Computing spectral discretisation...\n",
      "Computing image...\n"
     ]
    }
   ],
   "source": [
    "# start computing Intensity\n",
    "model.compute_spectral_discretisation (fmin, fmax)\n",
    "# along the first ray\n",
    "model.compute_image (0)\n",
    "image_nr = -1\n",
    "frequencies = np.array(model.images[image_nr].freqs)\n",
    "frequencies = torch.from_numpy(frequencies)\n",
    "\n",
    "position    = np.array(model.geometry.points.position)        # shape (427008,3)\n",
    "velocity    = np.array(model.geometry.points.velocity)* constants.c.si.value        # shape (427008,3)\n",
    "temperature = np.array(model.thermodynamics.temperature.gas)  # shape (427008,)\n",
    "abundance   = np.array(model.chemistry.species.abundance)\n",
    "CO          = abundance[:,1]                                  # shape (427008,)\n",
    "vturb2      = np.array(model.thermodynamics.turbulence.vturb2) # shape (419840,)\n",
    "vturb = np.sqrt(vturb2)\n",
    "\n",
    "v_x = velocity[:,0]\n",
    "v_y = velocity[:,1]\n",
    "v_z = velocity[:,2]"
   ]
  },
  {
   "cell_type": "code",
   "execution_count": 5,
   "metadata": {},
   "outputs": [],
   "source": [
    "# input cubes\n",
    "haar = Haar(position, q=9)\n",
    "# nCO_dat   = haar.map_data(CO, interpolate=True)[-1][   64:192,64:192,64:192]\n",
    "# tmp_dat   = haar.map_data(temperature, interpolate=True)[-1][   64:192,64:192,64:192]\n",
    "# vturb_dat = haar.map_data(vturb, interpolate=True)[-1][   64:192,64:192,64:192]\n",
    "# v_x_dat   = haar.map_data(v_x, interpolate=True)[-1][   64:192,64:192,64:192]\n",
    "# v_y_dat   = haar.map_data(v_y, interpolate=True)[-1][   64:192,64:192,64:192]\n",
    "# v_z_dat   = haar.map_data(v_z, interpolate=True)[-1][   64:192,64:192,64:192]\n",
    "nCO_dat   = haar.map_data(CO, interpolate=True)[-1]\n",
    "tmp_dat   = haar.map_data(temperature, interpolate=True)[-1]\n",
    "vturb_dat = haar.map_data(vturb, interpolate=True)[-1]\n",
    "v_x_dat   = haar.map_data(v_x, interpolate=True)[-1]\n",
    "v_y_dat   = haar.map_data(v_y, interpolate=True)[-1]\n",
    "v_z_dat   = haar.map_data(v_z, interpolate=True)[-1]"
   ]
  },
  {
   "cell_type": "code",
   "execution_count": 6,
   "metadata": {},
   "outputs": [],
   "source": [
    "# creare model\n",
    "pomme_model = TensorModel(shape=nCO_dat.shape, sizes=haar.xyz_L)\n",
    "pomme_model['CO'         ]  = nCO_dat\n",
    "pomme_model['temperature']  = tmp_dat\n",
    "pomme_model['v_turbulence'] = vturb_dat\n",
    "pomme_model['velocity_x']       =        v_x_dat\n",
    "pomme_model['velocity_y']       =        v_y_dat\n",
    "pomme_model['velocity_z']       =        v_z_dat"
   ]
  },
  {
   "cell_type": "code",
   "execution_count": 7,
   "metadata": {},
   "outputs": [],
   "source": [
    "with torch.no_grad():\n",
    "    img = line.LTE_image_along_last_axis(\n",
    "        density      = pomme_model['CO'         ],\n",
    "        temperature  = pomme_model['temperature'],\n",
    "        v_turbulence = pomme_model['v_turbulence'],\n",
    "        velocity_los = pomme_model['velocity_z'],\n",
    "        frequencies  = frequencies,\n",
    "        dx           = pomme_model.dx(3-1)\n",
    "    )\n",
    "\n",
    "# Avoid negative values (should probably avoid these earlier...)\n",
    "img = torch.abs(img)"
   ]
  },
  {
   "cell_type": "code",
   "execution_count": 9,
   "metadata": {},
   "outputs": [
    {
     "data": {
      "text/plain": [
       "(128, 128, 128)"
      ]
     },
     "execution_count": 9,
     "metadata": {},
     "output_type": "execute_result"
    }
   ],
   "source": [
    "nCO_dat.shape"
   ]
  },
  {
   "cell_type": "code",
   "execution_count": 10,
   "metadata": {},
   "outputs": [
    {
     "data": {
      "application/vnd.jupyter.widget-view+json": {
       "model_id": "e952434270c540e19e131e39c7d0f82d",
       "version_major": 2,
       "version_minor": 0
      },
      "text/plain": [
       "interactive(children=(IntSlider(value=15, description='z', max=30), Output()), _dom_classes=('widget-interact'…"
      ]
     },
     "metadata": {},
     "output_type": "display_data"
    },
    {
     "data": {
      "text/plain": [
       "<function pomme.plot.plot_cube_2D.<locals>.plot(z)>"
      ]
     },
     "execution_count": 10,
     "metadata": {},
     "output_type": "execute_result"
    }
   ],
   "source": [
    "plot_cube_2D(torch.log(img))"
   ]
  },
  {
   "cell_type": "code",
   "execution_count": 12,
   "metadata": {},
   "outputs": [
    {
     "data": {
      "application/vnd.jupyter.widget-view+json": {
       "model_id": "98c3d318eea74516bf9043a85c5a3af9",
       "version_major": 2,
       "version_minor": 0
      },
      "text/plain": [
       "interactive(children=(IntSlider(value=63, description='i', max=127), IntSlider(value=63, description='j', max=…"
      ]
     },
     "metadata": {},
     "output_type": "display_data"
    },
    {
     "data": {
      "text/plain": [
       "<function pomme.plot.plot_spectrum.<locals>.plot(i, j)>"
      ]
     },
     "execution_count": 12,
     "metadata": {},
     "output_type": "execute_result"
    }
   ],
   "source": [
    "plot_spectrum(torch.log(img))"
   ]
  },
  {
   "cell_type": "code",
   "execution_count": null,
   "metadata": {},
   "outputs": [],
   "source": []
  }
 ],
 "metadata": {
  "kernelspec": {
   "display_name": "magritte",
   "language": "python",
   "name": "python3"
  },
  "language_info": {
   "codemirror_mode": {
    "name": "ipython",
    "version": 3
   },
   "file_extension": ".py",
   "mimetype": "text/x-python",
   "name": "python",
   "nbconvert_exporter": "python",
   "pygments_lexer": "ipython3",
   "version": "3.9.13"
  },
  "orig_nbformat": 4
 },
 "nbformat": 4,
 "nbformat_minor": 2
}
