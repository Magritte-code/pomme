{
 "cells": [
  {
   "cell_type": "markdown",
   "id": "6e1c6d5a-41e4-4704-ae00-528fc16c17a3",
   "metadata": {
    "tags": []
   },
   "source": [
    "# Benchmark 1: LTE line transfer\n",
    "---"
   ]
  },
  {
   "attachments": {},
   "cell_type": "markdown",
   "id": "972d06c6",
   "metadata": {},
   "source": [
    "## 1 Hubble-Lemaître model (constant velocity gradient)\n",
    "--- "
   ]
  },
  {
   "cell_type": "code",
   "execution_count": 1,
   "id": "6eeb6ce3-3528-47f0-8871-b111aba9042b",
   "metadata": {
    "tags": []
   },
   "outputs": [],
   "source": [
    "import matplotlib.pyplot as plt\n",
    "import numpy             as np\n",
    "import torch\n",
    "\n",
    "from p3droslo.model import TensorModel\n",
    "from p3droslo.lines import Line\n",
    "from p3droslo.utils import planck"
   ]
  },
  {
   "cell_type": "code",
   "execution_count": 2,
   "id": "cb78379c-9e21-49ec-8647-0ade033e44f2",
   "metadata": {},
   "outputs": [
    {
     "name": "stdout",
     "output_type": "stream",
     "text": [
      "velocity increment = 1353.515625 m/s\n"
     ]
    }
   ],
   "source": [
    "R = 495000.0\n",
    "N = 128\n",
    "\n",
    "nH2 = 1.0e+12        # [m^-3]\n",
    "nCO = 1.0e-4 * nH2   # [m^-3]\n",
    "T   = 45             # [k]\n",
    "trb = 150.0          # [m/s]\n",
    "cΔβ = 0.35\n",
    "\n",
    "model = TensorModel(shape=(N,), sizes=(R,))\n",
    "model['nCO'        ]  = nCO * np.ones(N)\n",
    "model['temperature']  = T   * np.ones(N)\n",
    "model['velocity_z']   = cΔβ * np.linspace(0.0, R, N)\n",
    "model['v_turbulence'] = trb * np.ones(N)\n",
    "\n",
    "print('velocity increment =', cΔβ * model.dx(0), 'm/s')"
   ]
  },
  {
   "cell_type": "code",
   "execution_count": 3,
   "id": "98d8af03-7472-4142-a7d0-f5c8c304e1ee",
   "metadata": {},
   "outputs": [
    {
     "name": "stdout",
     "output_type": "stream",
     "text": [
      "You have selected line:\n",
      "    test(J=-)\n",
      "Please check the properties that were inferred:\n",
      "    Frequency         1.798754700e+11  Hz\n",
      "    Einstein A coeff  1.000000000e-04  1/s\n",
      "    Molar mass        1.0              g/mol\n"
     ]
    }
   ],
   "source": [
    "line = Line(\n",
    "    species_name = \"test\",\n",
    "    transition   = 0,\n",
    "    datafile     = \"data/test.txt\",\n",
    "    molar_mass   = 1.0\n",
    ")"
   ]
  },
  {
   "cell_type": "code",
   "execution_count": 4,
   "id": "3d4dbd1f-0ae1-4ee1-b194-81d61b937a2c",
   "metadata": {},
   "outputs": [],
   "source": [
    "from astropy import constants\n",
    "\n",
    "CC  = constants.c  .si.value   # Speed of light       [m/s]\n",
    "\n",
    "def get_doppler_shifted_frequencies(v_los, frequencies):\n",
    "    \"\"\"\n",
    "    Doppler shifts frequencies given the velocity along the line of sight.\n",
    "    \"\"\"\n",
    "    # Compute the Doppler shift for each cell\n",
    "    shift = 1.0 + v_los * (1.0 / CC)\n",
    "\n",
    "    # Create freqency tensor for each cell\n",
    "    freqs = torch.einsum(\"..., f -> ...f\", shift, frequencies)\n",
    "    \n",
    "    return freqs"
   ]
  },
  {
   "cell_type": "code",
   "execution_count": 5,
   "id": "d4170b90-a13a-4024-abf1-7fb5d264e78b",
   "metadata": {},
   "outputs": [],
   "source": [
    "from time import time\n",
    "\n",
    "def forward(model, freqs):\n",
    "    \"\"\"\n",
    "    Forward model: image the given TensorModel at the given frequencies.\n",
    "    \"\"\"\n",
    "    nCO    = model['nCO']        \n",
    "    tmp    = model['temperature']\n",
    "    vel    = model['velocity_z']\n",
    "    v_turb = model['v_turbulence']\n",
    "\n",
    "    frequencies = get_doppler_shifted_frequencies(vel, freqs)\n",
    "    \n",
    "    # Compute the LTE line emissivity and opacity, and the line profile\n",
    "    eta, chi = line.LTE_emissivity_and_opacity(nCO, tmp, v_turb, frequencies)\n",
    "    \n",
    "    # Create an image of the line\n",
    "    img = model.create_image(eta, chi, axis=0)\n",
    "    \n",
    "    return img\n",
    "\n",
    "\n",
    "def forward2(model, freqs):\n",
    "    \"\"\"\n",
    "    Forward model: image the given TensorModel at the given frequencies.\n",
    "    \"\"\"\n",
    "    nCO    = model['nCO']        \n",
    "    tmp    = model['temperature']\n",
    "    vel    = model['velocity_z']\n",
    "    v_turb = model['v_turbulence']\n",
    "    \n",
    "    # Create an image of the line\n",
    "    img = line.LTE_image_along_last_axis(\n",
    "        density      = nCO,\n",
    "        temperature  = tmp,\n",
    "        v_turbulence = v_turb,\n",
    "        velocity_los = vel,\n",
    "        frequencies  = freqs,\n",
    "        dx           = model.dx(0)\n",
    "    )\n",
    "    \n",
    "    return img"
   ]
  },
  {
   "cell_type": "code",
   "execution_count": 6,
   "id": "d0a0a545-326c-4117-a652-ae9ba2028bb6",
   "metadata": {},
   "outputs": [],
   "source": [
    "N_freqs = 100\n",
    "v_pixel = 5000.0\n",
    "\n",
    "dd    = (N_freqs-1)/2 * v_pixel/constants.c.si.value\n",
    "fmin  = line.frequency - line.frequency*dd\n",
    "fmax  = line.frequency + line.frequency*dd\n",
    "freqs = torch.linspace(fmin, fmax, N_freqs, dtype=torch.float64)"
   ]
  },
  {
   "cell_type": "code",
   "execution_count": 7,
   "id": "8046c94b",
   "metadata": {},
   "outputs": [
    {
     "name": "stdout",
     "output_type": "stream",
     "text": [
      "1.04 ms ± 4.29 µs per loop (mean ± std. dev. of 7 runs, 1,000 loops each)\n"
     ]
    }
   ],
   "source": [
    "%%timeit\n",
    "img  = forward(model, freqs)"
   ]
  },
  {
   "cell_type": "code",
   "execution_count": 8,
   "id": "1847f4d8",
   "metadata": {},
   "outputs": [
    {
     "name": "stdout",
     "output_type": "stream",
     "text": [
      "2.67 ms ± 8.71 µs per loop (mean ± std. dev. of 7 runs, 100 loops each)\n"
     ]
    }
   ],
   "source": [
    "%%timeit\n",
    "img  = forward2(model, freqs)"
   ]
  },
  {
   "cell_type": "code",
   "execution_count": 9,
   "id": "9ca5cf3b",
   "metadata": {},
   "outputs": [
    {
     "name": "stdout",
     "output_type": "stream",
     "text": [
      "-----------------------------  ------------  ------------  ------------  ------------  ------------  ------------  ------------  ------------  \n",
      "                         Name    Self CPU %      Self CPU   CPU total %     CPU total  CPU time avg       CPU Mem  Self CPU Mem    # of Calls  \n",
      "-----------------------------  ------------  ------------  ------------  ------------  ------------  ------------  ------------  ------------  \n",
      "                    aten::mul        21.78%     592.000us        23.66%     643.000us      15.310us       2.16 Mb       2.16 Mb            42  \n",
      "                aten::nonzero         9.20%     250.000us         9.64%     262.000us      65.500us     396.88 Kb     396.88 Kb             4  \n",
      "                    aten::exp         8.94%     243.000us         8.94%     243.000us      81.000us     202.00 Kb     202.00 Kb             3  \n",
      "                 aten::einsum         7.87%     214.000us        28.26%     768.000us      54.857us       1.07 Mb           0 b            14  \n",
      "                    aten::sub         6.18%     168.000us         6.18%     168.000us      15.273us     895.74 Kb     895.74 Kb            11  \n",
      "-----------------------------  ------------  ------------  ------------  ------------  ------------  ------------  ------------  ------------  \n",
      "Self CPU time total: 2.718ms\n",
      "\n"
     ]
    },
    {
     "name": "stderr",
     "output_type": "stream",
     "text": [
      "[W CUDAFunctions.cpp:109] Warning: CUDA initialization: The NVIDIA driver on your system is too old (found version 9010). Please update your GPU driver by downloading and installing a new version from the URL: http://www.nvidia.com/Download/index.aspx Alternatively, go to: https://pytorch.org to install a PyTorch version that has been compiled with your version of the CUDA driver. (function operator())\n",
      "STAGE:2023-07-27 15:37:37 1752637:1752637 ActivityProfilerController.cpp:311] Completed Stage: Warm Up\n",
      "STAGE:2023-07-27 15:37:37 1752637:1752637 ActivityProfilerController.cpp:317] Completed Stage: Collection\n",
      "STAGE:2023-07-27 15:37:37 1752637:1752637 ActivityProfilerController.cpp:321] Completed Stage: Post Processing\n"
     ]
    }
   ],
   "source": [
    "import torch.autograd.profiler as profiler\n",
    "\n",
    "with profiler.profile(with_stack=True, profile_memory=True) as prof:\n",
    "\n",
    "    img  = forward2(model, freqs)\n",
    "\n",
    "print(prof.key_averages(group_by_stack_n=5).table(sort_by='self_cpu_time_total', row_limit=5))"
   ]
  },
  {
   "cell_type": "code",
   "execution_count": 10,
   "id": "350f7285-5ab3-4f8a-b560-8aaee5d351f6",
   "metadata": {},
   "outputs": [],
   "source": [
    "with torch.no_grad():\n",
    "    img  = forward (model, freqs)\n",
    "    img2 = forward2(model, freqs)"
   ]
  },
  {
   "cell_type": "code",
   "execution_count": 11,
   "id": "4f1a3d96-ad10-4d00-b6a0-b900a8fd0f2b",
   "metadata": {},
   "outputs": [],
   "source": [
    "from scipy.special import erf\n",
    "\n",
    "# line width\n",
    "δν = line.gaussian_width(model['temperature'], model['v_turbulence'])[0].item()\n",
    "\n",
    "# Compute the prefactor\n",
    "factor = constants.h.si.value * line.frequency / (4.0 * np.pi)\n",
    "\n",
    "# Compute the LTE level populations\n",
    "pop = line.LTE_pops(model['temperature'])\n",
    "\n",
    "# Compute the emissivity and opacity\n",
    "eta  = factor *  line.Einstein_A  * pop[line.upper]\n",
    "chi  = factor * (line.Einstein_Ba * pop[line.lower] - line.Einstein_Bs * pop[line.upper])\n",
    "eta *= model['nCO']\n",
    "chi *= model['nCO']\n",
    "eta  = eta[0].item()\n",
    "chi  = chi[0].item()\n",
    "\n",
    "Sij = eta / chi"
   ]
  },
  {
   "cell_type": "code",
   "execution_count": 12,
   "id": "6f08121f-4180-4d7a-b511-4d49cb9136ad",
   "metadata": {},
   "outputs": [
    {
     "data": {
      "text/plain": [
       "2.932651092018961e-08"
      ]
     },
     "execution_count": 12,
     "metadata": {},
     "output_type": "execute_result"
    }
   ],
   "source": [
    "abs_rel_diff = lambda a,b: np.abs(2.0*(a-b)/(a+b))\n",
    "\n",
    "abs_rel_diff(eta/chi, planck(T, line.frequency))\n"
   ]
  },
  {
   "attachments": {},
   "cell_type": "markdown",
   "id": "8bf33edd",
   "metadata": {},
   "source": [
    "The optical depth is given by,\n",
    "\\begin{equation}\n",
    "\\begin{split}\n",
    "\\tau(\\nu)\n",
    "\\ &= \\\n",
    "\\int_{0}^{\\ell} \\text{d} l \\ \\chi_{ij} \\, \\phi\\left( (1+\\Delta\\beta l) \\nu \\right) \\\\\n",
    "\\ &= \\\n",
    "\\frac{\\chi_{ij}}{2 \\nu \\Delta \\beta}\n",
    "\\left(\n",
    "    \\text{Erf}\\left[ \\frac{\\left(1 + \\Delta\\beta \\ell \\right) \\nu - \\nu_{ij}}{\\delta\\nu_{ij}} \\right]\n",
    "    \\ - \\\n",
    "    \\text{Erf}\\left[ \\frac{\\nu - \\nu_{ij}}{\\delta\\nu_{ij}} \\right]\n",
    "\\right) .\n",
    "\\end{split}\n",
    "\\end{equation}\n",
    "Hence, the resulting intensity reads,\n",
    "\\begin{equation}\n",
    "I(\\nu) \\ = \\ S_{ij} \\left( 1 \\ - \\ e^{-\\tau(\\nu)} \\right)\n",
    "\\end{equation}"
   ]
  },
  {
   "cell_type": "code",
   "execution_count": 13,
   "id": "0eae164e-23f6-4398-a745-4016d38a75ae",
   "metadata": {},
   "outputs": [],
   "source": [
    "# Analytic solution\n",
    "ν = freqs.numpy()\n",
    "fac = 1.0 + model['velocity_z'][-1].item() / constants.c.si.value\n",
    "τ = constants.c.si.value * chi/(2.0*ν*cΔβ) * (erf((fac*ν-line.frequency)/δν) - erf((ν-line.frequency)/δν) )\n",
    "I = Sij*(1.0 - np.exp(-τ))"
   ]
  },
  {
   "cell_type": "code",
   "execution_count": 14,
   "id": "708d2ebb-770a-4089-a628-d666a04e1c13",
   "metadata": {},
   "outputs": [
    {
     "data": {
      "text/plain": [
       "<matplotlib.lines.Line2D at 0x7f007cc25580>"
      ]
     },
     "execution_count": 14,
     "metadata": {},
     "output_type": "execute_result"
    },
    {
     "data": {
      "image/png": "[encoded data removed]",
      "text/plain": [
       "<Figure size 780x520 with 1 Axes>"
      ]
     },
     "metadata": {
      "needs_background": "light"
     },
     "output_type": "display_data"
    }
   ],
   "source": [
    "plt.figure(dpi=130)\n",
    "plt.plot(ν, img .data)\n",
    "plt.plot(ν, img2.data)\n",
    "plt.plot(ν, I)\n",
    "plt.axvline(line.frequency, c='k')"
   ]
  },
  {
   "cell_type": "code",
   "execution_count": 15,
   "id": "f33f988b",
   "metadata": {},
   "outputs": [
    {
     "data": {
      "image/png": "[encoded data removed]",
      "text/plain": [
       "<Figure size 780x520 with 1 Axes>"
      ]
     },
     "metadata": {
      "needs_background": "light"
     },
     "output_type": "display_data"
    }
   ],
   "source": [
    "plt.figure(dpi=130)\n",
    "plt.plot(ν, abs_rel_diff(img. data, I))\n",
    "plt.plot(ν, abs_rel_diff(img2.data, I))\n",
    "plt.xlabel('frequency [Hz]')\n",
    "plt.ylabel('absolute relative error')\n",
    "plt.yscale('log')"
   ]
  },
  {
   "cell_type": "code",
   "execution_count": null,
   "id": "1e367527",
   "metadata": {},
   "outputs": [],
   "source": []
  }
 ],
 "metadata": {
  "kernelspec": {
   "display_name": "Python 3 (ipykernel)",
   "language": "python",
   "name": "python3"
  },
  "language_info": {
   "codemirror_mode": {
    "name": "ipython",
    "version": 3
   },
   "file_extension": ".py",
   "mimetype": "text/x-python",
   "name": "python",
   "nbconvert_exporter": "python",
   "pygments_lexer": "ipython3",
   "version": "3.9.13"
  }
 },
 "nbformat": 4,
 "nbformat_minor": 5
}
