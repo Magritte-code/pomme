{
 "cells": [
  {
   "cell_type": "markdown",
   "metadata": {},
   "source": [
    "# Benchmark 2\n",
    "---"
   ]
  },
  {
   "cell_type": "code",
   "execution_count": 1,
   "metadata": {},
   "outputs": [],
   "source": [
    "import matplotlib.pyplot as plt\n",
    "import numpy             as np\n",
    "import torch.nn          as nn\n",
    "import torch\n",
    "\n",
    "from torch.optim          import Adam\n",
    "from tqdm                 import tqdm\n",
    "from astropy              import units, constants\n",
    "from ipywidgets           import interact\n",
    "\n",
    "from p3droslo.utils       import convert_angular_to_spatial\n",
    "from p3droslo.plot        import plot_cube_2D, plot_spectrum\n",
    "from p3droslo.object      import AstroObject\n",
    "from p3droslo.observation import DataCube\n",
    "\n",
    "from p3droslo.model       import TensorModel, SphericallySymmetric\n",
    "from p3droslo.utils       import print_var, interpolate, convert_angular_to_spatial\n",
    "from p3droslo.lines       import Line\n",
    "from p3droslo.loss        import Loss, fourier_loss_1D, fourier_loss_1D"
   ]
  },
  {
   "cell_type": "code",
   "execution_count": 2,
   "metadata": {},
   "outputs": [
    {
     "name": "stdout",
     "output_type": "stream",
     "text": [
      "You have selected line:\n",
      "    CO(J=2-1)\n",
      "Please check the properties that were inferred:\n",
      "    Frequency         2.305380000e+11  Hz\n",
      "    Einstein A coeff  6.910000000e-07  1/s\n",
      "    Molar mass        28.0101          g/mol\n"
     ]
    },
    {
     "name": "stderr",
     "output_type": "stream",
     "text": [
      "/home/frederikd/.local/lib/python3.9/site-packages/astroquery/lamda/core.py:145: UserWarning: The first time a LAMDA function is called, it must assemble a list of valid molecules and URLs.  This list will be cached so future operations will be faster.\n",
      "  warnings.warn(\"The first time a LAMDA function is called, it must \"\n"
     ]
    }
   ],
   "source": [
    "line = Line('CO', 1)"
   ]
  },
  {
   "cell_type": "code",
   "execution_count": 3,
   "metadata": {},
   "outputs": [],
   "source": [
    "v_max = 65377.84099979772"
   ]
  },
  {
   "cell_type": "code",
   "execution_count": 16,
   "metadata": {},
   "outputs": [
    {
     "name": "stdout",
     "output_type": "stream",
     "text": [
      "Variable key:              Free/Fixed:   Field:    Min:           Mean:          Max:\n",
      "  log_M                      Fixed         False    +6.976e+01     +6.976e+01     +6.976e+01\n",
      "  log_CO                     Fixed         True     +2.303e+01     +2.303e+01     +2.303e+01\n",
      "  log_temperature            Fixed         True     +6.215e+00     +6.215e+00     +6.215e+00\n",
      "  log_v_turbulence           Fixed         True     +5.011e+00     +5.011e+00     +5.011e+00\n",
      "  velocity_z                 Fixed         True     +0.000e+00     +0.000e+00     +0.000e+00\n",
      "sizes: (559518906748033.94,)\n",
      "shape: (100,)\n"
     ]
    }
   ],
   "source": [
    "model = TensorModel(\n",
    "    sizes = 559518906748033.94,\n",
    "    shape = 100,\n",
    ")\n",
    "\n",
    "origin_ind    = np.array(model.shape)/2.0 - 0.5\n",
    "r_z           = model.get_radial_direction(origin=origin_ind)\n",
    "r             = model.get_radius          (origin=origin_ind)\n",
    "inverse_r     = r.min() / r\n",
    "\n",
    "model['log_M'           ] = np.array([np.log(constants.M_sun.si.value)])\n",
    "# model['log_CO'          ] = np.log(1.0e+19 * inverse_r**2)\n",
    "# model['log_temperature' ] = np.log(1.0e+3  * inverse_r)\n",
    "model['log_CO'          ] = np.log(1.0e+10) * np.ones(model.shape)\n",
    "model['log_temperature' ] = np.log(5.0e+2 ) * np.ones(model.shape)\n",
    "model['log_v_turbulence'] = np.log(1.5e+2 ) * np.ones(model.shape)\n",
    "model['velocity_z'      ] = 0.0 * r_z / v_max\n",
    "\n",
    "model.info()"
   ]
  },
  {
   "cell_type": "code",
   "execution_count": 17,
   "metadata": {},
   "outputs": [
    {
     "data": {
      "text/plain": [
       "5595189067480.34"
      ]
     },
     "execution_count": 17,
     "metadata": {},
     "output_type": "execute_result"
    }
   ],
   "source": [
    "model.dx(0)"
   ]
  },
  {
   "cell_type": "code",
   "execution_count": 18,
   "metadata": {},
   "outputs": [],
   "source": [
    "def get_doppler_shifted_frequencies(velocity_los, frequencies):\n",
    "    \"\"\"\n",
    "    Doppler shifts frequencies given the velocity along the line of sight.\n",
    "    \"\"\"\n",
    "    # Compute the Doppler shift for each cell\n",
    "    shift = 1.0 + velocity_los * (1.0 / constants.c.si.value)\n",
    "\n",
    "    # Create freqency tensor for each cell\n",
    "    freqs = torch.einsum(\"..., f -> ...f\", shift, frequencies)\n",
    "    \n",
    "    return freqs\n",
    "\n",
    "\n",
    "def forward(model, freqs):\n",
    "    \"\"\"\n",
    "    Forward model: image the given TensorModel at the given frequencies.\n",
    "    \"\"\"\n",
    "    nCO    = torch.exp(model['log_CO'])         \n",
    "    tmp    = torch.exp(model['log_temperature'])\n",
    "    vel    =   v_max * model['velocity_z']\n",
    "    v_turb = torch.exp(model['log_v_turbulence'])\n",
    "\n",
    "    frequencies = get_doppler_shifted_frequencies(vel, freqs)\n",
    "    # frequencies = get_doppler_shifted_frequencies(vel, freqs)\n",
    "    \n",
    "    # Compute the LTE line emissivity and opacity, and the line profile\n",
    "    eta, chi = line.LTE_emissivity_and_opacity(\n",
    "        density     = nCO,\n",
    "        temperature  = tmp,\n",
    "        v_turbulence = v_turb,\n",
    "        frequencies  = frequencies\n",
    "    )\n",
    "    \n",
    "\n",
    "    # chi_mod = torch.empty_like(chi)\n",
    "    # chi_mod[...,  0 , :] = 0.0\n",
    "    # chi_mod[..., +1:, :] = 0.5 * (chi[..., +1:, :] + chi[..., :-1, :])\n",
    "\n",
    "    # Create an image of the line\n",
    "    tau = model.integrate    (chi,                 axis=0)\n",
    "    img = model.integrate    (eta*torch.exp(-tau), axis=0)\n",
    "    \n",
    "    return img\n",
    "\n",
    "\n",
    "def forward2(model, freqs):\n",
    "    \"\"\"\n",
    "    Forward model: image the given TensorModel at the given frequencies.\n",
    "    \"\"\"\n",
    "    nCO    = torch.exp(model['log_CO'])         \n",
    "    tmp    = torch.exp(model['log_temperature'])\n",
    "    vel    =   v_max * model['velocity_z']\n",
    "    v_turb = torch.exp(model['log_v_turbulence'])\n",
    "\n",
    "    frequencies = get_doppler_shifted_frequencies(vel, freqs)\n",
    "    \n",
    "    # Compute the LTE line emissivity and opacity, and the line profile\n",
    "    eta, chi = line.LTE_emissivity_and_opacity(\n",
    "        density     = nCO,\n",
    "        temperature  = tmp,\n",
    "        v_turbulence = v_turb,\n",
    "        frequencies  = frequencies\n",
    "    )\n",
    "        \n",
    "    chi_mod = torch.empty_like(chi)\n",
    "    chi_mod[...,  0 , :] = 0.0\n",
    "    chi_mod[..., +1:, :] = 0.5 * (chi[..., +1:, :] + chi[..., :-1, :])\n",
    "\n",
    "    # Create an image of the line\n",
    "    tau = model.integrate(chi_mod, axis=0)\n",
    "\n",
    "    eta_0 = eta[..., :-1, :]\n",
    "    eta_1 = eta[..., +1:, :]\n",
    "\n",
    "    exp_minus_tau = torch.exp(-tau)\n",
    "\n",
    "    emt_0 = exp_minus_tau[..., :-1, :]\n",
    "    emt_1 = exp_minus_tau[..., +1:, :]\n",
    "\n",
    "    dtau = tau[..., +1:, :] - tau[..., :-1, :]\n",
    "    \n",
    "    mask_a = (dtau > 1.0e-2)\n",
    "    mask_b = (dtau < 1.0e-2)\n",
    "\n",
    "    print_var(' eta',  eta)\n",
    "    print_var(' chi',  chi)\n",
    "    print_var(' tau',  tau)\n",
    "    print_var('dtau', dtau)\n",
    "\n",
    "    eta_0a = eta_0[mask_a]\n",
    "    eta_0b = eta_0[mask_b]\n",
    "    eta_1a = eta_1[mask_a]\n",
    "    eta_1b = eta_1[mask_b]\n",
    "\n",
    "    emt_0a = emt_0[mask_a]\n",
    "    emt_0b = emt_0[mask_b]\n",
    "    emt_1a = emt_1[mask_a]\n",
    "    emt_1b = emt_1[mask_b]\n",
    "\n",
    "    dtau_a = dtau[mask_a]\n",
    "    dtau_b = dtau[mask_b]\n",
    "    \n",
    "    term_0a = eta_0a * (emt_1a - emt_0a * (1.0 - dtau_a))\n",
    "    term_1a = eta_1a * (emt_0a - emt_1a * (1.0 + dtau_a))\n",
    "\n",
    "    coeff = 1.0 / torch.arange(2,6)\n",
    "    \n",
    "    cc     = coeff[0] * torch.ones_like(dtau_b)\n",
    "    fac_0  = cc.clone() \n",
    "    fac_1  = cc.clone()\n",
    "    cc    *= coeff[1] * dtau_b \n",
    "    fac_0 += cc\n",
    "    fac_1 -= cc\n",
    "    cc    *= coeff[2] * dtau_b \n",
    "    fac_0 += cc\n",
    "    fac_1 -= cc\n",
    "    cc    *= coeff[3] * dtau_b\n",
    "    fac_0 += cc\n",
    "    fac_1 -= cc\n",
    "\n",
    "    term_0b = eta_0b * emt_0b * fac_0\n",
    "    term_1b = eta_1b * emt_1b * fac_1\n",
    "\n",
    "    result = torch.empty_like(dtau)\n",
    "    result[mask_a] = (term_0a + term_1a) / dtau_a**2\n",
    "    result[mask_b] = (term_0b + term_1b)\n",
    "\n",
    "    img = torch.cumsum(result, dim=0) * model.dx(0)\n",
    "    \n",
    "    return img #"
   ]
  },
  {
   "cell_type": "code",
   "execution_count": 19,
   "metadata": {},
   "outputs": [
    {
     "data": {
      "text/plain": [
       "559518.906748034"
      ]
     },
     "execution_count": 19,
     "metadata": {},
     "output_type": "execute_result"
    }
   ],
   "source": [
    "model.dx(0) / 1.0e+9 * model.shape[0]"
   ]
  },
  {
   "cell_type": "code",
   "execution_count": 20,
   "metadata": {},
   "outputs": [],
   "source": [
    "freqs = line.frequency * (1.0 + 3.0e+3/constants.c.si.value * torch.linspace(-1, +1, 300))"
   ]
  },
  {
   "cell_type": "code",
   "execution_count": 21,
   "metadata": {},
   "outputs": [
    {
     "name": "stdout",
     "output_type": "stream",
     "text": [
      " eta +1.46e-39 +4.84e-28 +2.91e-27\n",
      " chi +1.81e-25 +6.00e-14 +3.60e-13\n",
      " tau +0.00e+00 +1.66e+01 +2.00e+02\n",
      "dtau +1.01e-12 +3.36e-01 +2.02e+00\n"
     ]
    },
    {
     "data": {
      "application/vnd.jupyter.widget-view+json": {
       "model_id": "a7e33caf897b4c2dadb48bcb7d12c25c",
       "version_major": 2,
       "version_minor": 0
      },
      "text/plain": [
       "interactive(children=(IntSlider(value=49, description='i', max=98), Output()), _dom_classes=('widget-interact'…"
      ]
     },
     "metadata": {},
     "output_type": "display_data"
    },
    {
     "data": {
      "text/plain": [
       "<function __main__.plot_spectrum.<locals>.plot(i)>"
      ]
     },
     "execution_count": 21,
     "metadata": {},
     "output_type": "execute_result"
    }
   ],
   "source": [
    "img  = forward (model, freqs)\n",
    "img2 = forward2(model, freqs)\n",
    "\n",
    "def plot_spectrum():\n",
    "    \"\"\"\n",
    "    Plot spectrum at a pixel for this observation.\n",
    "    \"\"\"\n",
    "    # Define a plot function\n",
    "    def plot(i):\n",
    "        plt.figure(dpi=150)\n",
    "        # plt.plot(freqs.numpy(), obs[i,j,:].data)\n",
    "        plt.plot(img [i,:].data, marker='x')\n",
    "        plt.plot(img2[i,:].data)\n",
    "        # plt.ylim((1.0e-30, 1.0e+1))\n",
    "        # plt.yscale('log')\n",
    "        # plt.axvline(vel(line.frequency)-v_los.si.value, c='k')\n",
    "        # plt.axvline(vel(line.frequency), c='k')\n",
    "\n",
    "    # Return an interactive ipywidget\n",
    "    return interact(plot, i=(0, img2.shape[0]-1))\n",
    "\n",
    "plot_spectrum()"
   ]
  },
  {
   "cell_type": "code",
   "execution_count": null,
   "metadata": {},
   "outputs": [
    {
     "data": {
      "text/plain": [
       "tensor(8.1715e-28, dtype=torch.float64)"
      ]
     },
     "execution_count": 10,
     "metadata": {},
     "output_type": "execute_result"
    }
   ],
   "source": [
    "img.min()"
   ]
  },
  {
   "cell_type": "code",
   "execution_count": null,
   "metadata": {},
   "outputs": [
    {
     "data": {
      "text/plain": [
       "tensor(8.1715e-28, dtype=torch.float64)"
      ]
     },
     "execution_count": 11,
     "metadata": {},
     "output_type": "execute_result"
    }
   ],
   "source": [
    "img2.min()"
   ]
  },
  {
   "cell_type": "code",
   "execution_count": null,
   "metadata": {},
   "outputs": [
    {
     "data": {
      "text/plain": [
       "tensor(500.0000, dtype=torch.float64)"
      ]
     },
     "execution_count": 11,
     "metadata": {},
     "output_type": "execute_result"
    }
   ],
   "source": [
    "torch.exp(model['log_temperature']).max()"
   ]
  },
  {
   "cell_type": "code",
   "execution_count": 12,
   "metadata": {},
   "outputs": [
    {
     "data": {
      "text/plain": [
       "tensor(1.0000e+10, dtype=torch.float64)"
      ]
     },
     "execution_count": 12,
     "metadata": {},
     "output_type": "execute_result"
    }
   ],
   "source": [
    "torch.exp(model['log_CO']).max()"
   ]
  },
  {
   "cell_type": "code",
   "execution_count": 52,
   "metadata": {},
   "outputs": [
    {
     "data": {
      "text/plain": [
       "array([-2.79756656e+14, -2.79751061e+14, -2.79745465e+14, ...,\n",
       "        2.79745465e+14,  2.79751061e+14,  2.79756656e+14])"
      ]
     },
     "execution_count": 52,
     "metadata": {},
     "output_type": "execute_result"
    }
   ],
   "source": [
    "r"
   ]
  },
  {
   "cell_type": "code",
   "execution_count": null,
   "metadata": {},
   "outputs": [],
   "source": []
  }
 ],
 "metadata": {
  "kernelspec": {
   "display_name": "magritte",
   "language": "python",
   "name": "python3"
  },
  "language_info": {
   "codemirror_mode": {
    "name": "ipython",
    "version": 3
   },
   "file_extension": ".py",
   "mimetype": "text/x-python",
   "name": "python",
   "nbconvert_exporter": "python",
   "pygments_lexer": "ipython3",
   "version": "3.9.13"
  },
  "orig_nbformat": 4
 },
 "nbformat": 4,
 "nbformat_minor": 2
}
