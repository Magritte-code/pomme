{
 "cells": [
  {
   "cell_type": "markdown",
   "id": "6e1c6d5a-41e4-4704-ae00-528fc16c17a3",
   "metadata": {
    "tags": []
   },
   "source": [
    "# Benchmark 0: Line optical depth\n",
    "---"
   ]
  },
  {
   "cell_type": "code",
   "execution_count": 1,
   "id": "6eeb6ce3-3528-47f0-8871-b111aba9042b",
   "metadata": {
    "tags": []
   },
   "outputs": [],
   "source": [
    "import matplotlib.pyplot as plt\n",
    "import numpy             as np\n",
    "import torch\n",
    "\n",
    "from p3droslo.model import TensorModel\n",
    "from p3droslo.lines import Line\n",
    "from astropy        import constants\n",
    "from time           import time\n",
    "from ipywidgets     import interact"
   ]
  },
  {
   "cell_type": "code",
   "execution_count": 2,
   "id": "cb78379c-9e21-49ec-8647-0ade033e44f2",
   "metadata": {},
   "outputs": [
    {
     "name": "stdout",
     "output_type": "stream",
     "text": [
      "velocity increment = 1740.234375 m/s\n"
     ]
    }
   ],
   "source": [
    "R = 495000.0\n",
    "N = 128\n",
    "\n",
    "nH2 = 1.0e+12        # [m^-3]\n",
    "nCO = 1.0e-4 * nH2   # [m^-3]\n",
    "T   = 45             # [k]\n",
    "trb = 150.0          # [m/s]\n",
    "cΔβ = 0.45\n",
    "\n",
    "model = TensorModel(shape=(N,), sizes=(R,))\n",
    "model['nCO'        ]  = nCO * np.ones(N)\n",
    "model['temperature']  = T   * np.ones(N)\n",
    "model['velocity_z']   = cΔβ * np.linspace(0.0, R, N)\n",
    "model['v_turbulence'] = trb * np.ones(N)\n",
    "\n",
    "print('velocity increment =', cΔβ * model.dx(0), 'm/s')"
   ]
  },
  {
   "cell_type": "code",
   "execution_count": 3,
   "id": "98d8af03-7472-4142-a7d0-f5c8c304e1ee",
   "metadata": {},
   "outputs": [
    {
     "name": "stdout",
     "output_type": "stream",
     "text": [
      "You have selected line:\n",
      "    test(J=-)\n",
      "Please check the properties that were inferred:\n",
      "    Frequency         1.798754700e+11  Hz\n",
      "    Einstein A coeff  1.000000000e-04  1/s\n",
      "    Molar mass        1.0              g/mol\n"
     ]
    }
   ],
   "source": [
    "line = Line(\n",
    "    species_name = \"test\",\n",
    "    transition   = 0,\n",
    "    datafile     = \"data/test.txt\",\n",
    "    molar_mass   = 1.0\n",
    ")"
   ]
  },
  {
   "cell_type": "code",
   "execution_count": 4,
   "id": "412cbd42",
   "metadata": {},
   "outputs": [],
   "source": [
    "N_freqs = 100\n",
    "v_pixel = 5000.0\n",
    "\n",
    "dd    = (N_freqs-1)/2 * v_pixel/constants.c.si.value\n",
    "fmin  = line.frequency - line.frequency*dd\n",
    "fmax  = line.frequency + line.frequency*dd\n",
    "freqs = torch.linspace(fmin, fmax, N_freqs, dtype=torch.float64)"
   ]
  },
  {
   "cell_type": "code",
   "execution_count": 5,
   "id": "3d4dbd1f-0ae1-4ee1-b194-81d61b937a2c",
   "metadata": {},
   "outputs": [],
   "source": [
    "def get_doppler_shifted_frequencies(v_los, frequencies):\n",
    "    \"\"\"\n",
    "    Doppler shifts frequencies given the velocity along the line of sight.\n",
    "    \"\"\"\n",
    "    # Compute the Doppler shift for each cell\n",
    "    shift = 1.0 + v_los * (1.0 / constants.c.si.value)\n",
    "\n",
    "    # Create freqency tensor for each cell\n",
    "    freqs = torch.einsum(\"..., f -> ...f\", shift, frequencies)\n",
    "    \n",
    "    return freqs"
   ]
  },
  {
   "cell_type": "code",
   "execution_count": 6,
   "id": "d4170b90-a13a-4024-abf1-7fb5d264e78b",
   "metadata": {},
   "outputs": [],
   "source": [
    "nCO    = model['nCO']        \n",
    "tmp    = model['temperature']\n",
    "vel    = model['velocity_z']\n",
    "v_turb = model['v_turbulence']\n",
    "    \n",
    "frequencies = get_doppler_shifted_frequencies(vel, freqs)\n",
    "    \n",
    "# Compute the LTE line emissivity and opacity, and the line profile\n",
    "eta, chi = line.LTE_emissivity_and_opacity(nCO, tmp, v_turb, frequencies)\n",
    "\n",
    "tau_old = torch.empty_like(chi) \n",
    "tau_old[...,  0 , :] = 0.0\n",
    "tau_old[..., +1:, :] = torch.cumsum(chi, dim=0)[..., :-1, :] * model.dx(0)"
   ]
  },
  {
   "cell_type": "code",
   "execution_count": 7,
   "id": "7dfcf055",
   "metadata": {},
   "outputs": [],
   "source": [
    "pop            = line.LTE_pops(temperature=tmp)\n",
    "eta_ij, chi_ij = line.emissivity_and_opacity_ij(pop=pop)"
   ]
  },
  {
   "cell_type": "code",
   "execution_count": 8,
   "id": "b53dae3c",
   "metadata": {},
   "outputs": [],
   "source": [
    "dtau_slw, tau_slw = line.optical_depth_along_last_axis_slow(\n",
    "    chi_ij       = chi_ij,\n",
    "    density      = nCO,\n",
    "    temperature  = tmp,\n",
    "    v_turbulence = v_turb,\n",
    "    velocity_los = vel,\n",
    "    frequencies  = freqs,\n",
    "    dx           = model.dx(0)\n",
    ")"
   ]
  },
  {
   "cell_type": "code",
   "execution_count": 9,
   "id": "0c5b96dc",
   "metadata": {},
   "outputs": [],
   "source": [
    "dtau_new, tau_new = line.optical_depth_along_last_axis(\n",
    "    chi_ij       = chi_ij,\n",
    "    density      = nCO,\n",
    "    temperature  = tmp,\n",
    "    v_turbulence = v_turb,\n",
    "    velocity_los = vel,\n",
    "    frequencies  = freqs,\n",
    "    dx           = model.dx(0)\n",
    ")"
   ]
  },
  {
   "cell_type": "code",
   "execution_count": 10,
   "id": "f48797f1",
   "metadata": {},
   "outputs": [
    {
     "name": "stdout",
     "output_type": "stream",
     "text": [
      "-----------------------------  ------------  ------------  ------------  ------------  ------------  ------------  ------------  ------------  \n",
      "                         Name    Self CPU %      Self CPU   CPU total %     CPU total  CPU time avg       CPU Mem  Self CPU Mem    # of Calls  \n",
      "-----------------------------  ------------  ------------  ------------  ------------  ------------  ------------  ------------  ------------  \n",
      "                    aten::mul        30.78%       1.110ms        30.78%       1.110ms      50.455us       1.08 Mb       1.08 Mb            22  \n",
      "                    aten::sub        13.39%     483.000us        13.39%     483.000us      69.000us     597.09 Kb     597.09 Kb             7  \n",
      "                    aten::exp         8.79%     317.000us         8.79%     317.000us     317.000us     100.00 Kb     100.00 Kb             1  \n",
      "             aten::reciprocal         6.49%     234.000us         6.49%     234.000us     117.000us     100.22 Kb     100.22 Kb             2  \n",
      "                 aten::einsum         5.41%     195.000us        20.38%     735.000us     105.000us     696.09 Kb           0 b             7  \n",
      "-----------------------------  ------------  ------------  ------------  ------------  ------------  ------------  ------------  ------------  \n",
      "Self CPU time total: 3.606ms\n",
      "\n"
     ]
    },
    {
     "name": "stderr",
     "output_type": "stream",
     "text": [
      "[W CUDAFunctions.cpp:109] Warning: CUDA initialization: The NVIDIA driver on your system is too old (found version 9010). Please update your GPU driver by downloading and installing a new version from the URL: http://www.nvidia.com/Download/index.aspx Alternatively, go to: https://pytorch.org to install a PyTorch version that has been compiled with your version of the CUDA driver. (function operator())\n",
      "STAGE:2023-07-27 11:48:49 1722857:1722857 ActivityProfilerController.cpp:311] Completed Stage: Warm Up\n",
      "STAGE:2023-07-27 11:48:49 1722857:1722857 ActivityProfilerController.cpp:317] Completed Stage: Collection\n",
      "STAGE:2023-07-27 11:48:49 1722857:1722857 ActivityProfilerController.cpp:321] Completed Stage: Post Processing\n"
     ]
    }
   ],
   "source": [
    "import torch.autograd.profiler as profiler\n",
    "\n",
    "with profiler.profile(with_stack=True, profile_memory=True) as prof:\n",
    "\n",
    "    line.optical_depth_along_last_axis(\n",
    "        chi_ij       = chi_ij,\n",
    "        density      = nCO,\n",
    "        temperature  = tmp,\n",
    "        v_turbulence = v_turb,\n",
    "        velocity_los = vel,\n",
    "        frequencies  = freqs,\n",
    "        dx           = model.dx(0)\n",
    "    )\n",
    "\n",
    "print(prof.key_averages(group_by_stack_n=5).table(sort_by='self_cpu_time_total', row_limit=5))"
   ]
  },
  {
   "cell_type": "code",
   "execution_count": 11,
   "id": "9f60728c",
   "metadata": {},
   "outputs": [
    {
     "name": "stdout",
     "output_type": "stream",
     "text": [
      "785 µs ± 10 µs per loop (mean ± std. dev. of 7 runs, 1,000 loops each)\n"
     ]
    }
   ],
   "source": [
    "%%timeit\n",
    "\n",
    "frequencies = get_doppler_shifted_frequencies(vel, freqs)\n",
    "    \n",
    "# Compute the LTE line emissivity and opacity, and the line profile\n",
    "eta, chi = line.LTE_emissivity_and_opacity(nCO, tmp, v_turb, frequencies)\n",
    "\n",
    "tau_old = torch.empty_like(chi) \n",
    "tau_old[...,  0 , :] = 0.0\n",
    "tau_old[..., +1:, :] = torch.cumsum(chi, dim=0)[..., :-1, :] * model.dx(0)"
   ]
  },
  {
   "cell_type": "code",
   "execution_count": 12,
   "id": "4d9cba91",
   "metadata": {},
   "outputs": [
    {
     "name": "stdout",
     "output_type": "stream",
     "text": [
      "4.02 ms ± 276 µs per loop (mean ± std. dev. of 7 runs, 100 loops each)\n"
     ]
    }
   ],
   "source": [
    "%%timeit\n",
    "dtau_slw, tau_slw = line.optical_depth_along_last_axis_slow(\n",
    "    chi_ij       = chi_ij,\n",
    "    density      = nCO,\n",
    "    temperature  = tmp,\n",
    "    v_turbulence = v_turb,\n",
    "    velocity_los = vel,\n",
    "    frequencies  = freqs,\n",
    "    dx           = model.dx(0)\n",
    ")"
   ]
  },
  {
   "cell_type": "code",
   "execution_count": 13,
   "id": "d1e9c307",
   "metadata": {},
   "outputs": [
    {
     "name": "stdout",
     "output_type": "stream",
     "text": [
      "1.12 ms ± 22.1 µs per loop (mean ± std. dev. of 7 runs, 1,000 loops each)\n"
     ]
    }
   ],
   "source": [
    "%%timeit\n",
    "dtau_new, tau_new = line.optical_depth_along_last_axis(\n",
    "    chi_ij       = chi_ij,\n",
    "    density      = nCO,\n",
    "    temperature  = tmp,\n",
    "    v_turbulence = v_turb,\n",
    "    velocity_los = vel,\n",
    "    frequencies  = freqs,\n",
    "    dx           = model.dx(0)\n",
    ")"
   ]
  },
  {
   "cell_type": "code",
   "execution_count": 14,
   "id": "23f856ef",
   "metadata": {},
   "outputs": [
    {
     "data": {
      "application/vnd.jupyter.widget-view+json": {
       "model_id": "660d6d604559449da46bcc4f52c5cc2c",
       "version_major": 2,
       "version_minor": 0
      },
      "text/plain": [
       "interactive(children=(IntSlider(value=49, description='i', max=99), Output()), _dom_classes=('widget-interact'…"
      ]
     },
     "metadata": {},
     "output_type": "display_data"
    },
    {
     "data": {
      "text/plain": [
       "<function __main__.plot(i)>"
      ]
     },
     "execution_count": 14,
     "metadata": {},
     "output_type": "execute_result"
    }
   ],
   "source": [
    "def plot(i):\n",
    "    plt.figure(dpi=150)\n",
    "    plt.plot(tau_old[:,i])\n",
    "    plt.plot(tau_slw[:,i])\n",
    "    plt.plot(tau_new[:,i])\n",
    "    plt.yscale('log')\n",
    "    plt.show()\n",
    "\n",
    "interact(plot, i=(0,N_freqs-1))"
   ]
  },
  {
   "cell_type": "code",
   "execution_count": 15,
   "id": "974414a7",
   "metadata": {},
   "outputs": [
    {
     "data": {
      "application/vnd.jupyter.widget-view+json": {
       "model_id": "e75e1f92aba749939a1305e9f2fbf565",
       "version_major": 2,
       "version_minor": 0
      },
      "text/plain": [
       "interactive(children=(IntSlider(value=63, description='i', max=127), Output()), _dom_classes=('widget-interact…"
      ]
     },
     "metadata": {},
     "output_type": "display_data"
    },
    {
     "data": {
      "text/plain": [
       "<function __main__.plot(i)>"
      ]
     },
     "execution_count": 15,
     "metadata": {},
     "output_type": "execute_result"
    }
   ],
   "source": [
    "def plot(i):\n",
    "    plt.figure(dpi=150)\n",
    "    plt.plot(tau_old[i,:])\n",
    "    plt.plot(tau_slw[i,:])\n",
    "    plt.plot(tau_new[i,:])\n",
    "    plt.show()\n",
    "\n",
    "interact(plot, i=(0,N-1))"
   ]
  },
  {
   "cell_type": "code",
   "execution_count": 16,
   "id": "4f1a3d96-ad10-4d00-b6a0-b900a8fd0f2b",
   "metadata": {},
   "outputs": [],
   "source": [
    "from scipy.special import erf\n",
    "\n",
    "# line width\n",
    "δν = line.gaussian_width(model['temperature'], model['v_turbulence'])[0].item()\n",
    "\n",
    "# Compute the prefactor\n",
    "factor = constants.h.si.value * line.frequency / (4.0 * np.pi)\n",
    "\n",
    "# Compute the LTE level populations\n",
    "pop = line.LTE_pops(model['temperature'])\n",
    "\n",
    "# Compute the emissivity and opacity\n",
    "chi  = factor * (line.Einstein_Ba * pop[line.lower] - line.Einstein_Bs * pop[line.upper])\n",
    "chi *= model['nCO']\n",
    "chi  = chi[0].item()"
   ]
  },
  {
   "cell_type": "code",
   "execution_count": 17,
   "id": "6f08121f-4180-4d7a-b511-4d49cb9136ad",
   "metadata": {},
   "outputs": [],
   "source": [
    "abs_rel_diff = lambda a,b: np.abs(2.0*(a-b)/(a+b))"
   ]
  },
  {
   "attachments": {},
   "cell_type": "markdown",
   "id": "8bf33edd",
   "metadata": {},
   "source": [
    "The optical depth is given by,\n",
    "\\begin{equation}\n",
    "\\begin{split}\n",
    "\\tau(\\nu)\n",
    "\\ &= \\\n",
    "\\int_{0}^{\\ell} \\text{d} l \\ \\chi_{ij} \\, \\phi \\big( (1+\\Delta\\beta l) \\nu \\big) \\\\\n",
    "\\ &= \\\n",
    "\\frac{\\chi_{ij}}{2 \\nu \\Delta \\beta}\n",
    "\\left(\n",
    "    \\text{Erf}\\left[ \\frac{\\left(1 + \\Delta\\beta \\ell \\right) \\nu - \\nu_{ij}}{\\delta\\nu_{ij}} \\right]\n",
    "    \\ - \\\n",
    "    \\text{Erf}\\left[ \\frac{\\nu - \\nu_{ij}}{\\delta\\nu_{ij}} \\right]\n",
    "\\right) .\n",
    "\\end{split}\n",
    "\\end{equation}"
   ]
  },
  {
   "cell_type": "code",
   "execution_count": 18,
   "id": "0eae164e-23f6-4398-a745-4016d38a75ae",
   "metadata": {},
   "outputs": [],
   "source": [
    "# Analytic solution\n",
    "ν     = freqs\n",
    "fac   = 1.0 + model['velocity_z'] / constants.c.si.value\n",
    "fac_ν = torch.einsum(\"i, f -> if\",  fac, ν)\n",
    "\n",
    "τ = constants.c.si.value * chi/(2.0*ν*cΔβ) * (erf((fac_ν-line.frequency)/δν) - erf((ν-line.frequency)/δν) )"
   ]
  },
  {
   "cell_type": "code",
   "execution_count": 25,
   "id": "8b485144",
   "metadata": {},
   "outputs": [
    {
     "data": {
      "application/vnd.jupyter.widget-view+json": {
       "model_id": "f52d300e18af42f3a97c0ebc3804bf3a",
       "version_major": 2,
       "version_minor": 0
      },
      "text/plain": [
       "interactive(children=(IntSlider(value=63, description='i', max=127), Output()), _dom_classes=('widget-interact…"
      ]
     },
     "metadata": {},
     "output_type": "display_data"
    },
    {
     "data": {
      "text/plain": [
       "<function __main__.plot2(i)>"
      ]
     },
     "execution_count": 25,
     "metadata": {},
     "output_type": "execute_result"
    }
   ],
   "source": [
    "def plot2(i):\n",
    "    fig, ax = plt.subplots(2,1, dpi=250)\n",
    "    ax[0].plot(tau_old[i,:])\n",
    "    ax[0].plot(tau_slw[i,:])\n",
    "    ax[0].plot(tau_new[i,:])\n",
    "    ax[0].plot(       τ[i,:])\n",
    "    ax[1].plot(abs_rel_diff(tau_old[i,:], τ[i,:]))\n",
    "    ax[1].plot(abs_rel_diff(tau_slw[i,:], τ[i,:]))\n",
    "    ax[1].plot(abs_rel_diff(tau_new[i,:], τ[i,:]))\n",
    "    ax[1].set_yscale('log')\n",
    "    fig.show()\n",
    "\n",
    "interact(plot2, i=(0,N-1))"
   ]
  },
  {
   "cell_type": "code",
   "execution_count": null,
   "id": "b602c024",
   "metadata": {},
   "outputs": [],
   "source": []
  }
 ],
 "metadata": {
  "kernelspec": {
   "display_name": "Python 3 (ipykernel)",
   "language": "python",
   "name": "python3"
  },
  "language_info": {
   "codemirror_mode": {
    "name": "ipython",
    "version": 3
   },
   "file_extension": ".py",
   "mimetype": "text/x-python",
   "name": "python",
   "nbconvert_exporter": "python",
   "pygments_lexer": "ipython3",
   "version": "3.9.13"
  }
 },
 "nbformat": 4,
 "nbformat_minor": 5
}
