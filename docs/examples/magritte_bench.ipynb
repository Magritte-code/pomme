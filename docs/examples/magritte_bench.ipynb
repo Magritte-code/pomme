{
 "cells": [
  {
   "cell_type": "markdown",
   "id": "34cab9a1-e1b7-47eb-99d6-8b9d3ab85041",
   "metadata": {},
   "source": [
    "# Magritte bench\n",
    "---"
   ]
  },
  {
   "cell_type": "code",
   "execution_count": 1,
   "id": "d8381480-5208-4827-9474-eff4e45f9f7f",
   "metadata": {},
   "outputs": [
    {
     "name": "stdout",
     "output_type": "stream",
     "text": [
      "Writing parameters...\n",
      "Writing points...\n",
      "Writing rays...\n",
      "Writing boundary...\n",
      "Writing chemistry...\n",
      "Writing species...\n",
      "Writing thermodynamics...\n",
      "Writing temperature...\n",
      "Writing turbulence...\n",
      "Writing lines...\n",
      "Writing lineProducingSpecies...\n",
      "Writing linedata...\n",
      "ncolpoar = 1\n",
      "--- colpoar = 0\n",
      "Writing collisionPartner...\n",
      "(l, c) = 0, 0\n",
      "Writing quadrature...\n",
      "Writing populations...\n",
      "Writing radiation...\n",
      "Writing frequencies...\n"
     ]
    }
   ],
   "source": [
    "import os\n",
    "import sys\n",
    "\n",
    "curdir = os.getcwd()\n",
    "datdir = f'{curdir}/data/'\n",
    "\n",
    "import numpy             as np\n",
    "import matplotlib.pyplot as plt\n",
    "import magritte.tools    as tools\n",
    "import magritte.setup    as setup\n",
    "import magritte.core     as magritte\n",
    "import ipywidgets        as widgets\n",
    "\n",
    "dimension = 1\n",
    "npoints   = 500\n",
    "nrays     = 2\n",
    "nspecs    = 5\n",
    "nlspecs   = 1\n",
    "nquads    = 50\n",
    "\n",
    "r_in   = 1.0E13   # [m]\n",
    "r_out  = 7.8E16   # [m]\n",
    "nH2_in = 2.0E13   # [m^-3]\n",
    "temp   = 2.0E+01  # [K]\n",
    "turb   = 1.5E+02  # [m/s]\n",
    "\n",
    "rs = np.linspace (np.log10(r_in), np.log10(r_out), npoints, endpoint=True)\n",
    "\n",
    "modelName = f'density_distribution_VZ_1D'\n",
    "modelFile = f'{modelName}.hdf5'\n",
    "lamdaFile = f'{datdir}test.txt'\n",
    "\n",
    "X_mol = 1.0e-8\n",
    "\n",
    "def nH2 (r):\n",
    "    return nH2_in * np.power(r_in/r, 2.0)\n",
    "\n",
    "def nTT (r):\n",
    "    return X_mol  * nH2(r)\n",
    "\n",
    "model = magritte.Model ()\n",
    "model.parameters.set_spherical_symmetry(False)\n",
    "model.parameters.set_model_name        (modelFile)\n",
    "model.parameters.set_dimension         (dimension)\n",
    "model.parameters.set_npoints           (npoints)\n",
    "model.parameters.set_nrays             (nrays)\n",
    "model.parameters.set_nspecs            (nspecs)\n",
    "model.parameters.set_nlspecs           (nlspecs)\n",
    "model.parameters.set_nquads            (nquads)\n",
    "\n",
    "model.geometry.points.position.set([[r, 0, 0] for r in rs])\n",
    "model.geometry.points.velocity.set([[0, 0, 0] for i in range(npoints)])\n",
    "\n",
    "model.chemistry.species.abundance = [[     0.0, nTT(r), nH2(r),  0.0,      1.0] for r in rs]\n",
    "model.chemistry.species.symbol    =  ['dummy0', 'test',   'H2', 'e-', 'dummy1']\n",
    "\n",
    "model.thermodynamics.temperature.gas  .set( temp                 * np.ones(npoints))\n",
    "model.thermodynamics.turbulence.vturb2.set((turb/magritte.CC)**2 * np.ones(npoints))\n",
    "\n",
    "direction = np.array([[0,+1,0], [0,-1,0]])            # Comment out to use all directions\n",
    "model.geometry.rays.direction.set(direction)          # Comment out to use all directions\n",
    "model.geometry.rays.weight   .set(0.5 * np.ones(2))   # Comment out to use all directions\n",
    "\n",
    "model = setup.set_Delaunay_neighbor_lists (model)\n",
    "model = setup.set_Delaunay_boundary       (model)\n",
    "model = setup.set_boundary_condition_CMB  (model)\n",
    "model = setup.set_linedata_from_LAMDA_file(model, lamdaFile)\n",
    "model = setup.set_quadrature              (model)\n",
    "\n",
    "model.write()"
   ]
  },
  {
   "cell_type": "code",
   "execution_count": 2,
   "id": "44a8c33d-733d-4c02-9009-4a7badb4c360",
   "metadata": {},
   "outputs": [
    {
     "name": "stdout",
     "output_type": "stream",
     "text": [
      "                                           \n",
      "-------------------------------------------\n",
      "  Reading Model...                         \n",
      "-------------------------------------------\n",
      " model file = density_distribution_VZ_1D.hdf5\n",
      "-------------------------------------------\n",
      "Reading parameters...\n",
      "Reading points...\n",
      "Reading rays...\n",
      "Reading boundary...\n",
      "Reading chemistry...\n",
      "Reading species...\n",
      "Reading thermodynamics...\n",
      "Reading temperature...\n",
      "Reading turbulence...\n",
      "Reading lines...\n",
      "Reading lineProducingSpecies...\n",
      "Reading linedata...\n",
      "read num 1\n",
      "read sym test\n",
      "nlev = 2\n",
      "nrad = 1\n",
      "Reading collisionPartner...\n",
      "Reading quadrature...\n",
      "Reading radiation...\n",
      "Reading frequencies...\n",
      "Not using scattering!\n",
      "                                           \n",
      "-------------------------------------------\n",
      "  Model read, parameters:                  \n",
      "-------------------------------------------\n",
      "  npoints    = 500\n",
      "  nrays      = 2\n",
      "  nboundary  = 2\n",
      "  nfreqs     = 50\n",
      "  nspecs     = 5\n",
      "  nlspecs    = 1\n",
      "  nlines     = 1\n",
      "  nquads     = 50\n",
      "-------------------------------------------\n",
      "                                           \n",
      "Computing spectral discretisation...\n",
      "Computing inverse line widths...\n",
      "Computing LTE level populations...\n",
      "Computing image...\n"
     ]
    }
   ],
   "source": [
    "model = magritte.Model(modelFile)\n",
    "\n",
    "fcen = model.lines.lineProducingSpecies[0].linedata.frequency[0]\n",
    "dd = 3.0e+3 / magritte.CC\n",
    "fmin = fcen - fcen*dd\n",
    "fmax = fcen + fcen*dd\n",
    "\n",
    "model.compute_spectral_discretisation (fmin, fmax)\n",
    "model.compute_inverse_line_widths     ()\n",
    "model.compute_LTE_level_populations   ()\n",
    "\n",
    "ray_nr = 0\n",
    "\n",
    "model.compute_image(ray_nr)\n",
    "\n",
    "nu = np.array(model.radiation.frequencies.nu)[0]\n",
    "rs = np.array(model.images[-1].ImX, copy=True)\n",
    "im = np.array(model.images[-1].I,   copy=True)"
   ]
  },
  {
   "cell_type": "code",
   "execution_count": 19,
   "id": "a447dab5-ddc6-4f48-8cd3-4a57c55a5576",
   "metadata": {},
   "outputs": [
    {
     "data": {
      "text/plain": [
       "<matplotlib.collections.PathCollection at 0x7f15bd439b80>"
      ]
     },
     "execution_count": 19,
     "metadata": {},
     "output_type": "execute_result"
    },
    {
     "data": {
      "image/png": "[encoded data removed]",
      "text/plain": [
       "<Figure size 432x288 with 1 Axes>"
      ]
     },
     "metadata": {
      "needs_background": "light"
     },
     "output_type": "display_data"
    }
   ],
   "source": [
    "# plt.scatter(nu,im[0])\n",
    "plt.scatter(nu,im[-2])"
   ]
  },
  {
   "cell_type": "code",
   "execution_count": 11,
   "id": "30564cee-87a9-4276-a925-9ad61812b73e",
   "metadata": {},
   "outputs": [
    {
     "data": {
      "text/plain": [
       "(500, 50)"
      ]
     },
     "execution_count": 11,
     "metadata": {},
     "output_type": "execute_result"
    }
   ],
   "source": [
    "im.shape"
   ]
  },
  {
   "cell_type": "code",
   "execution_count": 13,
   "id": "b1c60721-dab1-45e5-8bca-e06cf85cde8b",
   "metadata": {},
   "outputs": [
    {
     "data": {
      "text/plain": [
       "<matplotlib.image.AxesImage at 0x7f15bb999790>"
      ]
     },
     "execution_count": 13,
     "metadata": {},
     "output_type": "execute_result"
    },
    {
     "data": {
      "image/png": "[encoded data removed]",
      "text/plain": [
       "<Figure size 3300x2200 with 1 Axes>"
      ]
     },
     "metadata": {
      "needs_background": "light"
     },
     "output_type": "display_data"
    }
   ],
   "source": [
    "plt.figure(dpi=550)\n",
    "plt.imshow(im)"
   ]
  },
  {
   "cell_type": "code",
   "execution_count": null,
   "id": "0a0530b9-adfa-4db7-9b2a-06941b30bd15",
   "metadata": {},
   "outputs": [],
   "source": []
  }
 ],
 "metadata": {
  "kernelspec": {
   "display_name": "Python 3 (ipykernel)",
   "language": "python",
   "name": "python3"
  },
  "language_info": {
   "codemirror_mode": {
    "name": "ipython",
    "version": 3
   },
   "file_extension": ".py",
   "mimetype": "text/x-python",
   "name": "python",
   "nbconvert_exporter": "python",
   "pygments_lexer": "ipython3",
   "version": "3.9.13"
  }
 },
 "nbformat": 4,
 "nbformat_minor": 5
}
