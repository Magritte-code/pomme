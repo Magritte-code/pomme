{
 "cells": [
  {
   "attachments": {},
   "cell_type": "markdown",
   "metadata": {},
   "source": [
    "# R Aquilae\n",
    "---"
   ]
  },
  {
   "cell_type": "code",
   "execution_count": 1,
   "metadata": {},
   "outputs": [],
   "source": [
    "import matplotlib.pyplot as plt\n",
    "import numpy             as np\n",
    "import torch.nn          as nn\n",
    "import torch\n",
    "\n",
    "from torch.optim          import Adam\n",
    "from tqdm                 import tqdm\n",
    "from astropy              import units, constants\n",
    "from ipywidgets           import interact\n",
    "\n",
    "from p3droslo.utils       import convert_angular_to_spatial\n",
    "from p3droslo.plot        import plot_cube_2D, plot_spectrum\n",
    "from p3droslo.object      import AstroObject\n",
    "from p3droslo.observation import DataCube\n",
    "\n",
    "from p3droslo.model       import TensorModel, SphericallySymmetric\n",
    "from p3droslo.utils       import print_var, interpolate, convert_angular_to_spatial\n",
    "from p3droslo.lines       import Line\n",
    "from p3droslo.loss        import Loss, fourier_loss_1D, fourier_loss_1D"
   ]
  },
  {
   "cell_type": "code",
   "execution_count": 2,
   "metadata": {},
   "outputs": [
    {
     "name": "stdout",
     "output_type": "stream",
     "text": [
      "Using the parallax distance.\n"
     ]
    }
   ],
   "source": [
    "obj = AstroObject('R Aql')"
   ]
  },
  {
   "cell_type": "code",
   "execution_count": 3,
   "metadata": {},
   "outputs": [],
   "source": [
    "file = '/STER/hydroModels/jolienm/RAqlObservations/RAql-observations/ALMA_analysis/data/R_Aql/R_Aql_combined111_line_t0.15_spw2_CO.fits'\n",
    "dat  = DataCube(file)"
   ]
  },
  {
   "cell_type": "code",
   "execution_count": 4,
   "metadata": {},
   "outputs": [],
   "source": [
    "dat.img     = np.nan_to_num(dat.img, nan=0.0)\n",
    "dat.img_min = dat.img.min()\n",
    "dat.img_max = dat.img.max()"
   ]
  },
  {
   "cell_type": "code",
   "execution_count": 5,
   "metadata": {},
   "outputs": [
    {
     "data": {
      "application/vnd.jupyter.widget-view+json": {
       "model_id": "1fbfa4463b874f27aea333d4f859e854",
       "version_major": 2,
       "version_minor": 0
      },
      "text/plain": [
       "interactive(children=(IntSlider(value=19, description='f', max=39), Output()), _dom_classes=('widget-interact'…"
      ]
     },
     "metadata": {},
     "output_type": "display_data"
    },
    {
     "data": {
      "text/plain": [
       "<function p3droslo.observation.DataCube.plot_channel_maps.<locals>.plot(f)>"
      ]
     },
     "execution_count": 5,
     "metadata": {},
     "output_type": "execute_result"
    }
   ],
   "source": [
    "dat.plot_channel_maps()"
   ]
  },
  {
   "cell_type": "code",
   "execution_count": 6,
   "metadata": {},
   "outputs": [
    {
     "data": {
      "application/vnd.jupyter.widget-view+json": {
       "model_id": "e18f2d4246764a0193c702a1c8c47b99",
       "version_major": 2,
       "version_minor": 0
      },
      "text/plain": [
       "interactive(children=(IntSlider(value=4095, description='i', max=8191), IntSlider(value=4095, description='j',…"
      ]
     },
     "metadata": {},
     "output_type": "display_data"
    },
    {
     "data": {
      "text/plain": [
       "<function p3droslo.observation.DataCube.plot_spectrum.<locals>.plot(i, j)>"
      ]
     },
     "execution_count": 6,
     "metadata": {},
     "output_type": "execute_result"
    }
   ],
   "source": [
    "dat.plot_spectrum()"
   ]
  },
  {
   "cell_type": "code",
   "execution_count": 7,
   "metadata": {},
   "outputs": [],
   "source": [
    "fi_min, fi_max =    6,   35\n",
    "xi_min, xi_max = 2500, 5700\n",
    "yi_min, yi_max = 2500, 5700\n",
    "\n",
    "obs       = dat.img[fi_min:fi_max, xi_min:xi_max, yi_min:yi_max].astype(np.float64)\n",
    "obs_freqs = dat.fs [fi_min:fi_max]\n",
    "obs_xlims = dat.xs [xi_max] - dat.xs[xi_min]\n",
    "obs_ylims = dat.xs [xi_max] - dat.xs[xi_min]"
   ]
  },
  {
   "cell_type": "code",
   "execution_count": 8,
   "metadata": {},
   "outputs": [],
   "source": [
    "obs *= (1.0/obs.max())"
   ]
  },
  {
   "cell_type": "code",
   "execution_count": 9,
   "metadata": {},
   "outputs": [],
   "source": [
    "s_x = abs(convert_angular_to_spatial(obs_xlims, obj.distance)).si.value\n",
    "s_y = abs(convert_angular_to_spatial(obs_ylims, obj.distance)).si.value\n",
    "s_z = np.mean([s_x, s_y])"
   ]
  },
  {
   "cell_type": "code",
   "execution_count": 10,
   "metadata": {},
   "outputs": [
    {
     "data": {
      "application/vnd.jupyter.widget-view+json": {
       "model_id": "a43af038fc7c493eb507e4c7d805ad2a",
       "version_major": 2,
       "version_minor": 0
      },
      "text/plain": [
       "interactive(children=(IntSlider(value=14, description='f', max=28), Output()), _dom_classes=('widget-interact'…"
      ]
     },
     "metadata": {},
     "output_type": "display_data"
    },
    {
     "data": {
      "text/plain": [
       "<function __main__.plot(f)>"
      ]
     },
     "execution_count": 10,
     "metadata": {},
     "output_type": "execute_result"
    }
   ],
   "source": [
    "vmin = obs.min()\n",
    "vmax = obs.max()\n",
    "\n",
    "# Define a plot function\n",
    "def plot(f):\n",
    "    plt.figure(dpi=150)\n",
    "    plt.imshow(obs[f,:,:], vmin=vmin, vmax=vmax)\n",
    "            \n",
    "interact(plot, f=(0, obs.shape[0]-1))"
   ]
  },
  {
   "cell_type": "code",
   "execution_count": 11,
   "metadata": {},
   "outputs": [],
   "source": [
    "spatial_average = obs.sum(axis=(1,2))\n",
    "line_centre     = obs_freqs[np.where(spatial_average==spatial_average.max())[0][0]]"
   ]
  },
  {
   "cell_type": "code",
   "execution_count": 12,
   "metadata": {},
   "outputs": [
    {
     "name": "stdout",
     "output_type": "stream",
     "text": [
      "You have selected line:\n",
      "    CO(J=2-1)\n",
      "Please check the properties that were inferred:\n",
      "    Frequency         2.305380000e+11  Hz\n",
      "    Einstein A coeff  6.910000000e-07  1/s\n",
      "    Molar mass        28.0101          g/mol\n"
     ]
    },
    {
     "name": "stderr",
     "output_type": "stream",
     "text": [
      "/home/frederikd/.local/lib/python3.9/site-packages/astroquery/lamda/core.py:145: UserWarning: The first time a LAMDA function is called, it must assemble a list of valid molecules and URLs.  This list will be cached so future operations will be faster.\n",
      "  warnings.warn(\"The first time a LAMDA function is called, it must \"\n"
     ]
    }
   ],
   "source": [
    "line = Line('CO', 1)"
   ]
  },
  {
   "cell_type": "code",
   "execution_count": 13,
   "metadata": {},
   "outputs": [
    {
     "data": {
      "text/latex": [
       "$46328.794 \\; \\mathrm{\\frac{m}{s}}$"
      ],
      "text/plain": [
       "<Quantity 46328.79352163 m / s>"
      ]
     },
     "execution_count": 13,
     "metadata": {},
     "output_type": "execute_result"
    }
   ],
   "source": [
    "v_los = abs((1.0 - line_centre / (line.frequency * units.Hz)) * constants.c)\n",
    "v_los"
   ]
  },
  {
   "cell_type": "code",
   "execution_count": 14,
   "metadata": {},
   "outputs": [
    {
     "data": {
      "text/plain": [
       "46328.79352163107"
      ]
     },
     "execution_count": 14,
     "metadata": {},
     "output_type": "execute_result"
    }
   ],
   "source": [
    "v_los.si.value"
   ]
  },
  {
   "cell_type": "code",
   "execution_count": 15,
   "metadata": {},
   "outputs": [
    {
     "data": {
      "text/plain": [
       "65377.84099979772"
      ]
     },
     "execution_count": 15,
     "metadata": {},
     "output_type": "execute_result"
    }
   ],
   "source": [
    "v_max = max(abs((1.0 - (obs_freqs / (line.frequency * units.Hz))) * constants.c.si)).value\n",
    "v_max"
   ]
  },
  {
   "cell_type": "code",
   "execution_count": 16,
   "metadata": {},
   "outputs": [
    {
     "name": "stdout",
     "output_type": "stream",
     "text": [
      "o_list[0].shape = [3200, 3200, 29]\n",
      "o_list[1].shape = [1600, 1600, 29]\n",
      "o_list[2].shape = [800, 800, 29]\n",
      "o_list[3].shape = [400, 400, 29]\n",
      "o_list[4].shape = [200, 200, 29]\n",
      "o_list[5].shape = [100, 100, 29]\n"
     ]
    }
   ],
   "source": [
    "o = obs.T\n",
    "# fqs = freqs\n",
    "\n",
    "def half_resolution(x):\n",
    "    return 0.25*(x[0::2,0::2,:] + x[0::2,1::2,:] + x[1::2,0::2,:] + x[1::2,1::2,:])\n",
    "\n",
    "# Create a list of hiearchically reduced observations\n",
    "o_list = [o]\n",
    "while o.shape[0]/2 >= 100:\n",
    "    o = half_resolution(o)\n",
    "    o_list.append(o)\n",
    "\n",
    "for i, o in enumerate(o_list):\n",
    "    print(f'o_list[{i}].shape =', list(o.shape))"
   ]
  },
  {
   "cell_type": "code",
   "execution_count": 17,
   "metadata": {},
   "outputs": [
    {
     "data": {
      "application/vnd.jupyter.widget-view+json": {
       "model_id": "e478fc3a12d54652a9eba4160fe793a2",
       "version_major": 2,
       "version_minor": 0
      },
      "text/plain": [
       "interactive(children=(IntSlider(value=14, description='f', max=28), Output()), _dom_classes=('widget-interact'…"
      ]
     },
     "metadata": {},
     "output_type": "display_data"
    },
    {
     "data": {
      "text/plain": [
       "<function __main__.plot(f)>"
      ]
     },
     "execution_count": 17,
     "metadata": {},
     "output_type": "execute_result"
    }
   ],
   "source": [
    "obs = o\n",
    "\n",
    "vmin = obs.min()\n",
    "vmax = obs.max()\n",
    "\n",
    "# Define a plot function\n",
    "def plot(f):\n",
    "    plt.figure(dpi=150)\n",
    "    plt.imshow(obs[:,:,f], vmin=vmin, vmax=vmax)\n",
    "            \n",
    "interact(plot, f=(0, obs.shape[2]-1))"
   ]
  },
  {
   "cell_type": "code",
   "execution_count": 18,
   "metadata": {},
   "outputs": [
    {
     "data": {
      "application/vnd.jupyter.widget-view+json": {
       "model_id": "be42a1805e104700956b9eed9574ca44",
       "version_major": 2,
       "version_minor": 0
      },
      "text/plain": [
       "interactive(children=(IntSlider(value=49, description='i', max=99), IntSlider(value=49, description='j', max=9…"
      ]
     },
     "metadata": {},
     "output_type": "display_data"
    },
    {
     "data": {
      "text/plain": [
       "<function __main__.plot(i, j)>"
      ]
     },
     "execution_count": 18,
     "metadata": {},
     "output_type": "execute_result"
    }
   ],
   "source": [
    "obs = o_list[-1]\n",
    "\n",
    "# Define a plot function\n",
    "ymin = obs.min()\n",
    "ymax = obs.max()\n",
    "\n",
    "def plot(i,j):\n",
    "    plt.figure(dpi=150)\n",
    "    plt.step(obs_freqs, obs[i,j,:])\n",
    "    plt.ylim((ymin, ymax))\n",
    "    plt.axvline(line_centre.value, c='k')\n",
    "\n",
    "# Return an interactive ipywidget\n",
    "interact(\n",
    "    plot,\n",
    "    i=(0, obs.shape[0]-1),\n",
    "    j=(0, obs.shape[1]-1)\n",
    ")"
   ]
  },
  {
   "cell_type": "code",
   "execution_count": 19,
   "metadata": {},
   "outputs": [],
   "source": [
    "obs = torch.from_numpy(o_list[-1])\n",
    "sizes = (s_x, s_y, s_z)\n",
    "shape = (obs.shape[0], obs.shape[1], 128)\n",
    "freqs = torch.from_numpy(obs_freqs.si.value)\n",
    "# freqs = torch.linspace(freqs.min(), freqs.max(), 100)"
   ]
  },
  {
   "cell_type": "code",
   "execution_count": 20,
   "metadata": {},
   "outputs": [
    {
     "data": {
      "text/plain": [
       "tensor([2.3052e+11, 2.3051e+11, 2.3051e+11, 2.3051e+11, 2.3051e+11, 2.3051e+11,\n",
       "        2.3051e+11, 2.3051e+11, 2.3051e+11, 2.3051e+11, 2.3051e+11, 2.3050e+11,\n",
       "        2.3050e+11, 2.3050e+11, 2.3050e+11, 2.3050e+11, 2.3050e+11, 2.3050e+11,\n",
       "        2.3050e+11, 2.3050e+11, 2.3050e+11, 2.3049e+11, 2.3049e+11, 2.3049e+11,\n",
       "        2.3049e+11, 2.3049e+11, 2.3049e+11, 2.3049e+11, 2.3049e+11],\n",
       "       dtype=torch.float64)"
      ]
     },
     "execution_count": 20,
     "metadata": {},
     "output_type": "execute_result"
    }
   ],
   "source": [
    "freqs"
   ]
  },
  {
   "cell_type": "code",
   "execution_count": 21,
   "metadata": {},
   "outputs": [
    {
     "data": {
      "text/plain": [
       "0.8372565760402024"
      ]
     },
     "execution_count": 21,
     "metadata": {},
     "output_type": "execute_result"
    }
   ],
   "source": [
    "vmax"
   ]
  },
  {
   "cell_type": "code",
   "execution_count": 22,
   "metadata": {},
   "outputs": [],
   "source": [
    "# freqs = line.frequency * (1.0 + 4.0e+3/constants.c.si.value * torch.linspace(-1, +1, 100))"
   ]
  },
  {
   "cell_type": "code",
   "execution_count": 23,
   "metadata": {},
   "outputs": [
    {
     "data": {
      "text/plain": [
       "(100, 100, 128)"
      ]
     },
     "execution_count": 23,
     "metadata": {},
     "output_type": "execute_result"
    }
   ],
   "source": [
    "shape"
   ]
  },
  {
   "cell_type": "code",
   "execution_count": 24,
   "metadata": {},
   "outputs": [
    {
     "name": "stdout",
     "output_type": "stream",
     "text": [
      "Variable key:              Free/Fixed:   Field:    Min:           Mean:          Max:\n",
      "  log_M                      Free          False    +6.976e+01     +6.976e+01     +6.976e+01\n",
      "  log_CO                     Free          True     +2.303e+01     +2.303e+01     +2.303e+01\n",
      "  log_temperature            Free          True     +6.215e+00     +6.215e+00     +6.215e+00\n",
      "  log_v_turbulence           Fixed         True     +5.011e+00     +5.011e+00     +5.011e+00\n",
      "  velocity_x                 Free          True     -9.999e-02     +2.842e-18     +9.999e-02\n",
      "  velocity_y                 Free          True     -9.999e-02     -1.776e-19     +9.999e-02\n",
      "  velocity_z                 Free          True     -9.999e-02     +4.996e-20     +9.999e-02\n",
      "  log_v_los                  Fixed         False    +1.074e+01     +1.074e+01     +1.074e+01\n",
      "sizes: [5.59518907e+14 5.59518907e+14 5.59518907e+14]\n",
      "shape: (100, 100, 128)\n"
     ]
    }
   ],
   "source": [
    "model = TensorModel(\n",
    "    sizes = np.array(sizes),\n",
    "    shape = shape,\n",
    ")\n",
    "\n",
    "origin_ind    = np.array(model.shape)/2.0 - 0.5\n",
    "r_x, r_y, r_z = model.get_radial_direction(origin=origin_ind)\n",
    "r             = model.get_radius          (origin=origin_ind)\n",
    "inverse_r     = r.min() / r\n",
    "\n",
    "model['log_M'           ] = np.array([np.log(constants.M_sun.si.value)])\n",
    "# model['log_CO'          ] = np.log(1.0e+9 * inverse_r**2)\n",
    "# model['log_temperature' ] = np.log(1.0e+3 * inverse_r)\n",
    "model['log_CO'          ] = np.log(1.0e+10) * np.ones(model.shape)\n",
    "model['log_temperature' ] = np.log(5.0e+2 ) * np.ones(model.shape)\n",
    "model['log_v_turbulence'] = np.log(1.5e+2) * np.ones(model.shape)\n",
    "model['velocity_x'      ] = 0.1e+0 * r_x\n",
    "model['velocity_y'      ] = 0.1e+0 * r_y\n",
    "model['velocity_z'      ] = 0.1e+0 * r_z\n",
    "model['log_v_los'       ] = np.array([np.log(v_los.si.value)])\n",
    "# model['log_distance']\n",
    "\n",
    "# loss = Loss(['reg', 'hyd_con', 'hyd_momx', 'hyd_momy', 'hyd_momz', 'hyd_eng'])\n",
    "# loss = Loss(['rep', 'reg', 'hyd_con', 'hyd_momx', 'hyd_momy', 'hyd_momz', 'hyd_eng'])\n",
    "loss = Loss(['rep', 'reg', 'sym', 'hyd_con', 'hyd_momx', 'hyd_momy', 'hyd_momz', 'hyd_eng'])\n",
    "\n",
    "model.free_all()\n",
    "model.fix('log_v_turbulence')\n",
    "model.fix('log_v_los')\n",
    "\n",
    "model.info()\n"
   ]
  },
  {
   "cell_type": "code",
   "execution_count": 25,
   "metadata": {},
   "outputs": [],
   "source": [
    "def compute_tau1(model, chi):\n",
    "        return model.integrate(chi, axis=2)"
   ]
  },
  {
   "cell_type": "code",
   "execution_count": 26,
   "metadata": {},
   "outputs": [
    {
     "data": {
      "text/plain": [
       "tensor([True, True, True, True])"
      ]
     },
     "execution_count": 26,
     "metadata": {},
     "output_type": "execute_result"
    }
   ],
   "source": [
    "import torch\n",
    "torch.abs(torch.ones(4)) >= 1"
   ]
  },
  {
   "cell_type": "code",
   "execution_count": 56,
   "metadata": {},
   "outputs": [],
   "source": [
    "def optical_depth(line, chi_ij, density, temperature, v_turbulence, velocity_los, frequencies):\n",
    "    \"\"\"\n",
    "    Line optical depth\n",
    "    \"\"\"\n",
    "    sqrt_pi = np.sqrt(np.pi)\n",
    "\n",
    "    # Compute inverse line width\n",
    "    inverse_width = 1.0 / line.gaussian_width(temperature=temperature, v_turbulence=v_turbulence)\n",
    "  \n",
    "    # Get the index of the last spatial axis\n",
    "    last_axis = density.dim() - 1\n",
    "\n",
    "    # Compute the Doppler shift for each element\n",
    "    shift = 1.0 + velocity_los * (1.0 / constants.c.si.value)\n",
    "\n",
    "    # Create freqency tensor for each element\n",
    "    freqs = torch.einsum(\"..., f -> ...f\", shift, frequencies)\n",
    "\n",
    "    # Define the a and b (tabulated) functions\n",
    "    a = (1.0/sqrt_pi) * inverse_width * chi_ij * density\n",
    "    a = torch.einsum(\"...,     f -> ... f\", a, torch.ones_like(frequencies))\n",
    "    b = torch.einsum(\"..., ... f -> ... f\", inverse_width, freqs - line.frequency)\n",
    "\n",
    "    a0 = a[..., :-1, :]\n",
    "    a1 = a[..., 1: , :]\n",
    "    \n",
    "    b0 = b[..., :-1, :]\n",
    "    b1 = b[..., 1: , :]\n",
    "    \n",
    "    b10 = b1 - b0\n",
    "\n",
    "    # threashhold differentiating the two regimes (large and small Doppler shift)\n",
    "    shift_threshold = 1.0e-4\n",
    "    \n",
    "    # Define the masks for the threashold    \n",
    "    A = torch.Tensor(torch.abs(b10) >  shift_threshold)\n",
    "    B = torch.Tensor(torch.abs(b10) <= shift_threshold)\n",
    "\n",
    "    dtau = torch.empty_like(b10)\n",
    "    dtau[A]  =           (      a1[A] -       a0[A]) * (torch.exp(-b0[A]**2) - torch.exp(-b1[A]**2))\n",
    "    dtau[A] += sqrt_pi * (b0[A]*a1[A] - b1[A]*a0[A]) * (torch.erf(-b0[A]**2) - torch.erf(-b1[A]**2))\n",
    "    dtau[A] *= 0.5 / b10[A]**2\n",
    "\n",
    "    dtau[B]  =  (1.0/ 2.0) * (a0[B] +     a1[B])\n",
    "    dtau[B] +=  (1.0/ 3.0) * (a0[B] + 2.0*a1[B]) *      b0[B]           * b10[B]   \n",
    "    dtau[B] +=  (1.0/12.0) * (a0[B] + 3.0*a1[B]) * (2.0*b0[B]**2 - 1.0) * b10[B]**2\n",
    "    dtau[B] *= torch.exp(-b0[B]**2)\n",
    "\n",
    "    tau = torch.empty_like(b)\n",
    "    tau[...,  0 , :] = 0.0\n",
    "    tau[..., +1:, :] = torch.cumsum(dtau, dim=last_axis)\n",
    "\n",
    "    print(A.sum(), B.sum())\n",
    "    \n",
    "    return tau"
   ]
  },
  {
   "cell_type": "code",
   "execution_count": 61,
   "metadata": {},
   "outputs": [],
   "source": [
    "import torch.nn as nn"
   ]
  },
  {
   "cell_type": "code",
   "execution_count": 57,
   "metadata": {},
   "outputs": [],
   "source": [
    "\n",
    "nCO    = torch.exp(model['log_CO'])         \n",
    "tmp    = torch.exp(model['log_temperature'])\n",
    "vel    =   v_max * model['velocity_z']\n",
    "v_turb = torch.exp(model['log_v_turbulence'])\n",
    "v_los  = torch.exp(model['log_v_los'])\n",
    "\n",
    "def get_doppler_shifted_frequencies(velocity_los, frequencies):\n",
    "    \"\"\"\n",
    "    Doppler shifts frequencies given the velocity along the line of sight.\n",
    "    \"\"\"\n",
    "    # Compute the Doppler shift for each cell\n",
    "    shift = 1.0 + velocity_los * (1.0 / constants.c.si.value)\n",
    "\n",
    "    # Create freqency tensor for each cell\n",
    "    freqs = torch.einsum(\"..., f -> ...f\", shift, frequencies)\n",
    "    \n",
    "    return freqs\n",
    "\n",
    "frequencies = get_doppler_shifted_frequencies(v_los+vel, freqs)\n",
    "    \n",
    "# Compute the LTE line emissivity and opacity, and the line profile\n",
    "eta, chi = line.LTE_emissivity_and_opacity(\n",
    "    density     = nCO,\n",
    "    temperature  = tmp,\n",
    "    v_turbulence = v_turb,\n",
    "    frequencies  = frequencies\n",
    ")"
   ]
  },
  {
   "cell_type": "code",
   "execution_count": 58,
   "metadata": {},
   "outputs": [],
   "source": [
    "pop = line.LTE_pops(tmp)\n",
    "\n",
    "# Compute the LTE opacity, and the line profile\n",
    "chi_ij = line.opacity_ij(pop=pop)"
   ]
  },
  {
   "cell_type": "code",
   "execution_count": 59,
   "metadata": {},
   "outputs": [
    {
     "name": "stdout",
     "output_type": "stream",
     "text": [
      "tensor(36791024) tensor(38976)\n"
     ]
    }
   ],
   "source": [
    "tau = optical_depth(line=line, chi_ij=chi_ij, density=nCO, temperature=tmp, v_turbulence=v_turb, velocity_los=vel+v_los, frequencies=freqs)"
   ]
  },
  {
   "cell_type": "code",
   "execution_count": 51,
   "metadata": {},
   "outputs": [
    {
     "data": {
      "text/plain": [
       "tensor(1.5131e-11, dtype=torch.float64, grad_fn=<MaxBackward1>)"
      ]
     },
     "execution_count": 51,
     "metadata": {},
     "output_type": "execute_result"
    }
   ],
   "source": [
    "tau.max()"
   ]
  },
  {
   "cell_type": "code",
   "execution_count": 35,
   "metadata": {},
   "outputs": [],
   "source": [
    "# Compute the LTE opacity, and the line profile\n",
    "chi = line.opacity_without_profile(\n",
    "    pop     = pop,\n",
    "    density = nCO\n",
    ")"
   ]
  },
  {
   "cell_type": "code",
   "execution_count": 36,
   "metadata": {},
   "outputs": [
    {
     "data": {
      "text/plain": [
       "2"
      ]
     },
     "execution_count": 36,
     "metadata": {},
     "output_type": "execute_result"
    }
   ],
   "source": [
    "chi.dim()-1"
   ]
  },
  {
   "cell_type": "code",
   "execution_count": 37,
   "metadata": {},
   "outputs": [],
   "source": [
    "temperature = tmp\n",
    "v_turbulence = v_turb\n",
    "freq = freqs\n",
    "    \n",
    "# Compute dpv\n",
    "inverse_width = 1.0 / line.gaussian_width(temperature=temperature, v_turbulence=v_turbulence)\n",
    "dpv           = torch.einsum(\"..., ...f -> ...f\", inverse_width, freq-line.frequency)\n",
    "\n",
    "# Get the index of the last spatial axis\n",
    "last_axis = chi.dim() - 1\n",
    "\n",
    "chi_0 = chi[..., :-1]\n",
    "chi_1 = chi[..., 1: ]\n",
    "    \n",
    "dpv_0 = dpv[..., :-1, :]\n",
    "dpv_1 = dpv[..., 1: , :]\n",
    "\n",
    "dpv_10 = dpv_1 - dpv_0\n",
    "\n",
    "# threashhold differentiating the two regimes (large and small Doppler shift)\n",
    "shift_threshold = 1.0e-19\n",
    "\n",
    "mask_a = torch.Tensor(torch.abs(dpv_10) >  shift_threshold)\n",
    "mask_b = torch.Tensor(torch.abs(dpv_10) <= shift_threshold)"
   ]
  },
  {
   "cell_type": "code",
   "execution_count": 38,
   "metadata": {},
   "outputs": [
    {
     "data": {
      "text/plain": [
       "torch.Size([100, 100, 127, 29])"
      ]
     },
     "execution_count": 38,
     "metadata": {},
     "output_type": "execute_result"
    }
   ],
   "source": [
    "mask_a.shape"
   ]
  },
  {
   "cell_type": "code",
   "execution_count": 39,
   "metadata": {},
   "outputs": [
    {
     "data": {
      "text/plain": [
       "torch.Size([100, 100, 127])"
      ]
     },
     "execution_count": 39,
     "metadata": {},
     "output_type": "execute_result"
    }
   ],
   "source": [
    "chi_1.shape"
   ]
  },
  {
   "cell_type": "code",
   "execution_count": 40,
   "metadata": {},
   "outputs": [
    {
     "ename": "IndexError",
     "evalue": "too many indices for tensor of dimension 3",
     "output_type": "error",
     "traceback": [
      "\u001b[0;31m---------------------------------------------------------------------------\u001b[0m",
      "\u001b[0;31mIndexError\u001b[0m                                Traceback (most recent call last)",
      "\u001b[1;32m/STER/frederikd/p3droslo/docs/examples/R_Aquilae.ipynb Cell 36\u001b[0m in \u001b[0;36m<cell line: 1>\u001b[0;34m()\u001b[0m\n\u001b[0;32m----> <a href='vscode-notebook-cell://ssh-remote%2Benif/STER/frederikd/p3droslo/docs/examples/R_Aquilae.ipynb#Y145sdnNjb2RlLXJlbW90ZQ%3D%3D?line=0'>1</a>\u001b[0m chi_1[mask_a]\n",
      "\u001b[0;31mIndexError\u001b[0m: too many indices for tensor of dimension 3"
     ]
    }
   ],
   "source": [
    "chi_1[mask_a[]]"
   ]
  },
  {
   "cell_type": "code",
   "execution_count": 48,
   "metadata": {},
   "outputs": [
    {
     "data": {
      "text/plain": [
       "tensor(0)"
      ]
     },
     "execution_count": 48,
     "metadata": {},
     "output_type": "execute_result"
    }
   ],
   "source": [
    "mask_a.sum()"
   ]
  },
  {
   "cell_type": "code",
   "execution_count": 44,
   "metadata": {},
   "outputs": [
    {
     "ename": "RuntimeError",
     "evalue": "The size of tensor a (127) must match the size of tensor b (29) at non-singleton dimension 3",
     "output_type": "error",
     "traceback": [
      "\u001b[0;31m---------------------------------------------------------------------------\u001b[0m",
      "\u001b[0;31mRuntimeError\u001b[0m                              Traceback (most recent call last)",
      "\u001b[1;32m/STER/frederikd/p3droslo/docs/examples/R_Aquilae.ipynb Cell 38\u001b[0m in \u001b[0;36m<cell line: 1>\u001b[0;34m()\u001b[0m\n\u001b[0;32m----> <a href='vscode-notebook-cell://ssh-remote%2Benif/STER/frederikd/p3droslo/docs/examples/R_Aquilae.ipynb#X52sdnNjb2RlLXJlbW90ZQ%3D%3D?line=0'>1</a>\u001b[0m chi_0 \u001b[39m+\u001b[39;49m dpv_0\n",
      "\u001b[0;31mRuntimeError\u001b[0m: The size of tensor a (127) must match the size of tensor b (29) at non-singleton dimension 3"
     ]
    }
   ],
   "source": [
    "chi_0 + dpv_0"
   ]
  },
  {
   "cell_type": "code",
   "execution_count": 43,
   "metadata": {},
   "outputs": [
    {
     "data": {
      "text/plain": [
       "torch.Size([100, 100, 127, 29])"
      ]
     },
     "execution_count": 43,
     "metadata": {},
     "output_type": "execute_result"
    }
   ],
   "source": [
    "dpv_0.shape"
   ]
  },
  {
   "cell_type": "code",
   "execution_count": null,
   "metadata": {},
   "outputs": [],
   "source": [
    "def compute_tau(chi, dpv):\n",
    "    \"\"\"\n",
    "    Line optical depth\n",
    "    \"\"\"\n",
    "    chi_0 = chi[..., :-1, :]\n",
    "    chi_1 = chi[..., +1:, :]\n",
    "    \n",
    "    dpv_0 = dpv[..., :-1, :]\n",
    "    dpv_1 = dpv[..., +1:, :]\n",
    "\n",
    "    dpv_10 = dpv_1 - dpv_0\n",
    "\n",
    "    mask_a = torch.Tensor(torch.abs(dpv_10) >  1.0e-4)\n",
    "    mask_b = torch.Tensor(torch.abs(dpv_10) <= 1.0e-4)\n",
    "\n",
    "    chi_0a = chi_0[mask_a]\n",
    "    chi_0b = chi_0[mask_b]\n",
    "    chi_1a = chi_1[mask_a]\n",
    "    chi_1b = chi_1[mask_b]\n",
    "\n",
    "    dpv_0a = dpv_0[mask_a]\n",
    "    dpv_0b = dpv_0[mask_b]\n",
    "    dpv_1a = dpv_1[mask_a]\n",
    "\n",
    "    dpv_10a = dpv_10[mask_a]\n",
    "    dpv_10b = dpv_10[mask_b]\n",
    "    \n",
    "    term_1a = (torch.exp(-dpv_0a**2) - torch.exp(-dpv_1a**2)) * (       chi_1a -        chi_0a)\n",
    "    term_2a = (torch.erf( dpv_0a   ) - torch.erf( dpv_1a   )) * (dpv_0a*chi_1a - dpv_1a*chi_0a) * np.sqrt(np.pi)\n",
    "\n",
    "    result = torch.empty_like(dpv_10)\n",
    "    result[mask_a] = 0.5 * (term_1a + term_2a) / dpv_10a**2\n",
    "    result[mask_b] =    0.5                               * (chi_0b +       chi_1b)              \\\n",
    "                     - (1.0/ 3.0) *      dpv_0b           * (chi_0b + 2.0 * chi_1b) * dpv_10b    \\\n",
    "                     + (1.0/12.0) * (2.0*dpv_0b**2 - 1.0) * (chi_0b + 3.0 * chi_1b) * dpv_10b**2\n",
    "    \n",
    "    return result"
   ]
  },
  {
   "cell_type": "code",
   "execution_count": 28,
   "metadata": {},
   "outputs": [
    {
     "ename": "SyntaxError",
     "evalue": "invalid syntax (129458741.py, line 7)",
     "output_type": "error",
     "traceback": [
      "\u001b[0;36m  Input \u001b[0;32mIn [28]\u001b[0;36m\u001b[0m\n\u001b[0;31m    tau2 =\u001b[0m\n\u001b[0m           ^\u001b[0m\n\u001b[0;31mSyntaxError\u001b[0m\u001b[0;31m:\u001b[0m invalid syntax\n"
     ]
    }
   ],
   "source": [
    "\n",
    "\n",
    "tau\n",
    "tau2 = \n",
    "\n",
    "def plot_spectrum():\n",
    "    \"\"\"\n",
    "    Plot spectrum at a pixel for this observation.\n",
    "    \"\"\"\n",
    "    # Define a plot function\n",
    "    def plot(i):\n",
    "        plt.figure(dpi=150)\n",
    "        # plt.plot(freqs.numpy(), obs[i,j,:].data)\n",
    "        plt.plot(img [0,0,i,:].data * 1.0e+14)\n",
    "        plt.plot(img2[0,0,i,:].data * 1.0e+14)\n",
    "        # plt.ylim((1.0e-30, 1.0e+1))\n",
    "        # plt.yscale('log')\n",
    "        # plt.axvline(vel(line.frequency)-v_los.si.value, c='k')\n",
    "        # plt.axvline(vel(line.frequency), c='k')\n",
    "\n",
    "    # Return an interactive ipywidget\n",
    "    return interact(plot, i=(0, img2.shape[2]-1))\n",
    "\n",
    "plot_spectrum()"
   ]
  },
  {
   "cell_type": "code",
   "execution_count": 29,
   "metadata": {},
   "outputs": [],
   "source": [
    "def get_doppler_shifted_frequencies(velocity_los, frequencies):\n",
    "    \"\"\"\n",
    "    Doppler shifts frequencies given the velocity along the line of sight.\n",
    "    \"\"\"\n",
    "    # Compute the Doppler shift for each cell\n",
    "    shift = 1.0 + velocity_los * (1.0 / constants.c.si.value)\n",
    "\n",
    "    # Create freqency tensor for each cell\n",
    "    freqs = torch.einsum(\"..., f -> ...f\", shift, frequencies)\n",
    "    \n",
    "    return freqs\n",
    "\n",
    "\n",
    "def forward(model, freqs):\n",
    "    \"\"\"\n",
    "    Forward model: image the given TensorModel at the given frequencies.\n",
    "    \"\"\"\n",
    "    nCO    = torch.exp(model['log_CO'])         \n",
    "    tmp    = torch.exp(model['log_temperature'])\n",
    "    vel    =   v_max * model['velocity_z']\n",
    "    v_turb = torch.exp(model['log_v_turbulence'])\n",
    "    v_los  = torch.exp(model['log_v_los'])\n",
    "\n",
    "    frequencies = get_doppler_shifted_frequencies(v_los+vel, freqs)\n",
    "    # frequencies = get_doppler_shifted_frequencies(vel, freqs)\n",
    "    \n",
    "    # Compute the LTE line emissivity and opacity, and the line profile\n",
    "    eta, chi = line.LTE_emissivity_and_opacity(\n",
    "        density     = nCO,\n",
    "        temperature  = tmp,\n",
    "        v_turbulence = v_turb,\n",
    "        frequencies  = frequencies\n",
    "    )\n",
    "    \n",
    "    # Create an image of the line\n",
    "    tau = model.integrate    (chi,                 axis=2)\n",
    "    img = model.integrate_out(eta*torch.exp(-tau), axis=2)\n",
    "    \n",
    "    return img\n",
    "\n",
    "\n",
    "def radiative_transfer_along_3rd_axis(model, eta, chi, dpv):\n",
    "\n",
    "    # define 3rd- or z-axis (remember, indexing starts at 0)\n",
    "    axis=2\n",
    "\n",
    "    eta_0 = eta[..., :-1, :]\n",
    "    eta_1 = eta[..., +1:, :]\n",
    "\n",
    "    # chi_mod = torch.empty_like(chi)\n",
    "    # chi_mod[...,  0 , :] = 0.0\n",
    "    # chi_mod[..., +1:, :] = 0.5 * (chi[..., +1:, :] + chi[..., :-1, :])\n",
    "\n",
    "    # tau = model.integrate(chi_mod, axis=axis)\n",
    "    tau = torch.empty_like(chi)\n",
    "    tau[...,  0 , :] = 0.0\n",
    "    tau[..., +1:, :] = torch.cumsum(compute_tau(chi, dpv), dim=2)\n",
    "\n",
    "    exp_minus_tau = torch.exp(-tau)\n",
    "\n",
    "    emt_0 = exp_minus_tau[..., :-1, :]\n",
    "    emt_1 = exp_minus_tau[..., +1:, :]\n",
    "\n",
    "    dtau = tau[..., +1:, :] - tau[..., :-1, :]\n",
    "    \n",
    "    mask_a = torch.Tensor(dtau >  1.0e-2)\n",
    "    mask_b = torch.Tensor(dtau <= 1.0e-2)\n",
    "\n",
    "    eta_0a = eta_0[mask_a]\n",
    "    eta_0b = eta_0[mask_b]\n",
    "    eta_1a = eta_1[mask_a]\n",
    "    eta_1b = eta_1[mask_b]\n",
    "\n",
    "    emt_0a = emt_0[mask_a]\n",
    "    emt_0b = emt_0[mask_b]\n",
    "    emt_1a = emt_1[mask_a]\n",
    "    emt_1b = emt_1[mask_b]\n",
    "\n",
    "    dtau_a = dtau[mask_a]\n",
    "    dtau_b = dtau[mask_b]\n",
    "    \n",
    "    term_0a = eta_0a * (emt_1a - emt_0a * (1.0 - dtau_a))\n",
    "    term_1a = eta_1a * (emt_0a - emt_1a * (1.0 + dtau_a))\n",
    "\n",
    "    coeff = 1.0 / torch.arange(2,6)\n",
    "    \n",
    "    cc     = coeff[0] * torch.ones_like(dtau_b)\n",
    "    fac_0  = cc.clone() \n",
    "    fac_1  = cc.clone()\n",
    "    cc    *= coeff[1] * dtau_b \n",
    "    fac_0 += cc\n",
    "    fac_1 -= cc\n",
    "    cc    *= coeff[2] * dtau_b \n",
    "    fac_0 += cc\n",
    "    fac_1 -= cc\n",
    "    cc    *= coeff[3] * dtau_b\n",
    "    fac_0 += cc\n",
    "    fac_1 -= cc\n",
    "\n",
    "    term_0b = eta_0b * emt_0b * fac_0\n",
    "    term_1b = eta_1b * emt_1b * fac_1\n",
    "\n",
    "    result = torch.empty_like(dtau)\n",
    "    result[mask_a] = (term_0a + term_1a) / dtau_a**2\n",
    "    result[mask_b] = (term_0b + term_1b)\n",
    "\n",
    "    img = torch.sum(result, dim=axis) * model.dx(axis)\n",
    "\n",
    "    return img\n",
    "\n",
    "\n",
    "def forward2(model, freqs):\n",
    "    \"\"\"\n",
    "    Forward model: image the given TensorModel at the given frequencies.\n",
    "    \"\"\"\n",
    "    nCO    = torch.exp(model['log_CO'])         \n",
    "    tmp    = torch.exp(model['log_temperature'])\n",
    "    vel    =   v_max * model['velocity_z']\n",
    "    v_turb = torch.exp(model['log_v_turbulence'])\n",
    "    v_los  = torch.exp(model['log_v_los'])\n",
    "\n",
    "    frequencies = get_doppler_shifted_frequencies(v_los+vel, freqs)\n",
    "    # frequencies = get_doppler_shifted_frequencies(vel, freqs)\n",
    "    \n",
    "    # Compute the LTE line emissivity and opacity, and the line profile\n",
    "    eta, chi = line.LTE_emissivity_and_opacity(\n",
    "        density     = nCO,\n",
    "        temperature  = tmp,\n",
    "        v_turbulence = v_turb,\n",
    "        frequencies  = frequencies\n",
    "    )\n",
    "        \n",
    "    # Compute dpv\n",
    "    inverse_width = 1.0 / line.gaussian_width(tmp, v_turb)\n",
    "    dpv           = torch.einsum(\"..., ...f -> ...f\", inverse_width, frequencies-line.frequency)\n",
    "\n",
    "    img = radiative_transfer_along_3rd_axis(model, eta, chi, dpv)\n",
    "    \n",
    "    return img"
   ]
  },
  {
   "cell_type": "code",
   "execution_count": 30,
   "metadata": {},
   "outputs": [],
   "source": [
    "# img  = forward (model, freqs)\n",
    "# img2 = forward2(model, freqs)\n",
    "\n",
    "# def plot_spectrum():\n",
    "#     \"\"\"\n",
    "#     Plot spectrum at a pixel for this observation.\n",
    "#     \"\"\"\n",
    "#     # Define a plot function\n",
    "#     def plot(i):\n",
    "#         plt.figure(dpi=150)\n",
    "#         # plt.plot(freqs.numpy(), obs[i,j,:].data)\n",
    "#         plt.plot(img [0,0,i,:].data * 1.0e+14)\n",
    "#         plt.plot(img2[0,0,i,:].data * 1.0e+14)\n",
    "#         # plt.ylim((1.0e-30, 1.0e+1))\n",
    "#         # plt.yscale('log')\n",
    "#         # plt.axvline(vel(line.frequency)-v_los.si.value, c='k')\n",
    "#         # plt.axvline(vel(line.frequency), c='k')\n",
    "\n",
    "#     # Return an interactive ipywidget\n",
    "#     return interact(plot, i=(0, img2.shape[2]-1))\n",
    "\n",
    "# plot_spectrum()"
   ]
  },
  {
   "cell_type": "code",
   "execution_count": 31,
   "metadata": {},
   "outputs": [
    {
     "data": {
      "application/vnd.jupyter.widget-view+json": {
       "model_id": "eb688eb229ad44c2b19cd68439dd9218",
       "version_major": 2,
       "version_minor": 0
      },
      "text/plain": [
       "interactive(children=(IntSlider(value=49, description='i', max=99), IntSlider(value=49, description='j', max=9…"
      ]
     },
     "metadata": {},
     "output_type": "display_data"
    },
    {
     "data": {
      "text/plain": [
       "<function __main__.plot_spectrum.<locals>.plot(i, j)>"
      ]
     },
     "execution_count": 31,
     "metadata": {},
     "output_type": "execute_result"
    }
   ],
   "source": [
    "img  = forward (model, freqs)\n",
    "img2 = forward2(model, freqs)\n",
    "\n",
    "vel = lambda f: (f / line.frequency - 1.0) * constants.c.si.value\n",
    "\n",
    "def plot_spectrum():\n",
    "    \"\"\"\n",
    "    Plot spectrum at a pixel for this observation.\n",
    "    \"\"\"\n",
    "    # Define a plot function\n",
    "    def plot(i,j):\n",
    "        plt.figure(dpi=150)\n",
    "        # plt.plot(freqs.numpy(), obs[i,j,:].data)\n",
    "        plt.plot(vel(freqs), img[i,j,:].data * 1.0e+14, marker='x')\n",
    "        plt.plot(vel(freqs), img2[i,j,:].data * 1.0e+14)\n",
    "        # plt.ylim((1.0e-30, 1.0e+1))\n",
    "        # plt.yscale('log')\n",
    "        # plt.axvline(vel(line.frequency)-v_los.si.value, c='k')\n",
    "        # plt.axvline(vel(line.frequency), c='k')\n",
    "\n",
    "    # Return an interactive ipywidget\n",
    "    return interact(plot,\n",
    "                    i=(0, img.shape[0]-1),\n",
    "                    j=(0, img.shape[1]-1) )\n",
    "\n",
    "plot_spectrum()"
   ]
  },
  {
   "cell_type": "code",
   "execution_count": null,
   "metadata": {},
   "outputs": [
    {
     "data": {
      "text/plain": [
       "tensor(0., dtype=torch.float64, grad_fn=<MinBackward1>)"
      ]
     },
     "execution_count": 67,
     "metadata": {},
     "output_type": "execute_result"
    }
   ],
   "source": [
    "img.min()"
   ]
  },
  {
   "cell_type": "code",
   "execution_count": 28,
   "metadata": {},
   "outputs": [
    {
     "data": {
      "text/plain": [
       "tensor(0., dtype=torch.float64, grad_fn=<MinBackward1>)"
      ]
     },
     "execution_count": 28,
     "metadata": {},
     "output_type": "execute_result"
    }
   ],
   "source": [
    "img2.min()"
   ]
  },
  {
   "cell_type": "code",
   "execution_count": 29,
   "metadata": {},
   "outputs": [
    {
     "data": {
      "text/plain": [
       "tensor(4.9909e-16, dtype=torch.float64, grad_fn=<MaxBackward1>)"
      ]
     },
     "execution_count": 29,
     "metadata": {},
     "output_type": "execute_result"
    }
   ],
   "source": [
    "img2.abs().max()"
   ]
  },
  {
   "cell_type": "code",
   "execution_count": 30,
   "metadata": {},
   "outputs": [],
   "source": [
    "# # freqs = torch.Tensor([line.frequency])\n",
    "\n",
    "\n",
    "# nCO    = torch.exp(model['log_CO'])         \n",
    "# tmp    = torch.exp(model['log_temperature'])\n",
    "# vel    =   v_max * model['velocity_z']\n",
    "# v_turb = torch.exp(model['log_v_turbulence'])\n",
    "# v_los  = torch.exp(model['log_v_los'])\n",
    "\n",
    "# # frequencies = get_doppler_shifted_frequencies(v_los-vel, freqs)\n",
    "# frequencies = get_doppler_shifted_frequencies(vel, freqs)\n",
    "    \n",
    "# # Compute the LTE line emissivity and opacity, and the line profile\n",
    "# eta, chi = line.LTE_emissivity_and_opacity(\n",
    "#     density     = nCO,\n",
    "#     temperature  = tmp,\n",
    "#     v_turbulence = v_turb,\n",
    "#     frequencies  = frequencies\n",
    "# )\n",
    "    \n",
    "# # Create an image of the line\n",
    "# img = model.create_image(eta=eta, chi=chi, axis=2)"
   ]
  },
  {
   "cell_type": "code",
   "execution_count": 31,
   "metadata": {},
   "outputs": [],
   "source": [
    "gamma = 1.2\n",
    "mu    = 2.381 * constants.u.si.value\n",
    "\n",
    "def steady_state_hydrodynamic_loss(model, f_x=0.0, f_y=0.0, f_z=0.0, heating_m_cooling=0.0):\n",
    "    \"\"\"\n",
    "    Loss assuming steady state hydrodynamics, i.e. vanishing time derivatives.\n",
    "    \"\"\"\n",
    "\n",
    "    r = model.get_coords(origin=origin_ind)\n",
    "    d = torch.from_numpy(r / np.linalg.norm(r, axis=0)**3)\n",
    "    \n",
    "    log_rho = model['log_CO']\n",
    "    log_tmp = model['log_temperature'] \n",
    "    log_M   = model['log_M']\n",
    "\n",
    "    rho = torch.exp(log_rho)         \n",
    "    tmp = torch.exp(log_tmp)\n",
    "    M   = torch.exp(log_M)\n",
    "    \n",
    "    v_x = v_max * model['velocity_x']\n",
    "    v_y = v_max * model['velocity_y']\n",
    "    v_z = v_max * model['velocity_z']\n",
    "\n",
    "    kBT_o_mu = (constants.k_B.si.value / mu) * tmp\n",
    "\n",
    "    # Energy    \n",
    "    eng = 0.5 * (v_x**2 + v_y**2 + v_z**2) + (gamma / (gamma - 1.0)) * kBT_o_mu\n",
    "\n",
    "    # log rho + log T\n",
    "    log_rho_p_log_tmp = log_rho + log_tmp\n",
    "    \n",
    "    f_x = -constants.G.si.value * M * d[0]\n",
    "    f_y = -constants.G.si.value * M * d[1]\n",
    "    f_x = -constants.G.si.value * M * d[2]\n",
    "\n",
    "    # Continuity equation (steady state): div(ρ v) = 0\n",
    "    loss_cont = model.diff_x(rho * v_x) + model.diff_y(rho * v_y) + model.diff_z(rho * v_z)\n",
    "\n",
    "    # Momentum equation (steady state): v . grad(v) + grad(P) / rho = f\n",
    "    loss_momx = v_x * model.diff_x(v_x) + v_y * model.diff_y(v_x) + v_z * model.diff_z(v_x) + kBT_o_mu * model.diff_x(log_rho_p_log_tmp) - f_x\n",
    "    loss_momy = v_x * model.diff_x(v_y) + v_y * model.diff_y(v_y) + v_z * model.diff_z(v_y) + kBT_o_mu * model.diff_y(log_rho_p_log_tmp) - f_y\n",
    "    loss_momz = v_x * model.diff_x(v_z) + v_y * model.diff_y(v_z) + v_z * model.diff_z(v_z) + kBT_o_mu * model.diff_z(log_rho_p_log_tmp) - f_z\n",
    "\n",
    "    # Energy equation (steady state): div(u v) = 0\n",
    "    loss_engy = rho * (model.diff_x(eng) * v_x + model.diff_y(eng) * v_y + model.diff_z(eng) * v_z) - heating_m_cooling\n",
    "\n",
    "    # Compute the mean squared losses\n",
    "    losses = torch.stack([\n",
    "        ((loss_cont/     rho )**2).mean(),\n",
    "        ((loss_momx/     v_x )**2).mean(),\n",
    "        ((loss_momy/     v_y )**2).mean(),\n",
    "        ((loss_momz/     v_z )**2).mean(),\n",
    "        ((loss_engy/(rho*eng))**2).mean()\n",
    "    ])\n",
    "\n",
    "    # Return losses\n",
    "    return losses\n",
    "\n",
    "\n",
    "def diff_loss(arr):\n",
    "    loss = torch.zeros(1)\n",
    "    for d in range(arr.dim()):\n",
    "        loss += torch.mean(torch.diff(arr, dim=d)**2)\n",
    "    return loss\n",
    "\n",
    "\n",
    "def z_pos_symmetry_loss(arr):\n",
    "    return torch.mean((arr - torch.flip(arr, dims=(2,)))**2)\n",
    "\n",
    "\n",
    "def z_neg_symmetry_loss(arr):\n",
    "    return torch.mean((arr + torch.flip(arr, dims=(2,)))**2)"
   ]
  },
  {
   "cell_type": "code",
   "execution_count": 32,
   "metadata": {},
   "outputs": [],
   "source": [
    "class SphericalLoss:\n",
    "    \"\"\"\n",
    "    Copmutes the deviation from spherical symmetry. \n",
    "    \"\"\"\n",
    "\n",
    "    def __init__(self, model, origin, weights=None):\n",
    "        # Get radial coordinates w.r.t. the given origin.\n",
    "        r = model.get_radius(origin=origin)\n",
    "        # Define the number of radial bins.\n",
    "        self.N = int(np.mean(model.shape)//2)\n",
    "        # Define the boundaries of the radial bins.\n",
    "        r_min = r.min()\n",
    "        r_max = r.max()\n",
    "        # Extract the indices of the radial bins.\n",
    "        self.r_ind = ((r - r_min) *  ((self.N - 1) / (r_max - r_min))).astype(np.int64)\n",
    "        # Extract the spherical masks (which mask everything but radial bin 'i').\n",
    "        self.masks = [self.r_ind==i for i in range(self.N)]\n",
    "        # Set the weights, if necessary.\n",
    "        if weights is None:\n",
    "            self.weights = torch.ones(self.N)\n",
    "        else:\n",
    "            self.weights = weights\n",
    "\n",
    "\n",
    "    def eval(self, var):\n",
    "        # Compute the standard deviation of the variable data in each radial bin.\n",
    "        sph_std = torch.zeros(self.N)\n",
    "        for i in range(self.N):\n",
    "            sph_std[i] = var[self.masks[i]].std()\n",
    "        return torch.mean(self.weights * sph_std)"
   ]
  },
  {
   "cell_type": "code",
   "execution_count": 33,
   "metadata": {},
   "outputs": [],
   "source": [
    "spherical_loss = SphericalLoss(model, origin_ind)    "
   ]
  },
  {
   "cell_type": "code",
   "execution_count": 94,
   "metadata": {},
   "outputs": [
    {
     "ename": "KeyError",
     "evalue": "'log_v_los'",
     "output_type": "error",
     "traceback": [
      "\u001b[0;31m---------------------------------------------------------------------------\u001b[0m",
      "\u001b[0;31mKeyError\u001b[0m                                  Traceback (most recent call last)",
      "\u001b[1;32m/STER/frederikd/p3droslo/docs/examples/R_Aquilae.ipynb Cell 35\u001b[0m in \u001b[0;36m<cell line: 1>\u001b[0;34m()\u001b[0m\n\u001b[0;32m----> <a href='vscode-notebook-cell://ssh-remote%2Benif/STER/frederikd/p3droslo/docs/examples/R_Aquilae.ipynb#X50sdnNjb2RlLXJlbW90ZQ%3D%3D?line=0'>1</a>\u001b[0m w_rep \u001b[39m=\u001b[39m \u001b[39m1.0\u001b[39m \u001b[39m/\u001b[39m nn\u001b[39m.\u001b[39mfunctional\u001b[39m.\u001b[39mmse_loss(forward(model,freqs), obs)\u001b[39m.\u001b[39mitem()\n\u001b[1;32m      <a href='vscode-notebook-cell://ssh-remote%2Benif/STER/frederikd/p3droslo/docs/examples/R_Aquilae.ipynb#X50sdnNjb2RlLXJlbW90ZQ%3D%3D?line=1'>2</a>\u001b[0m w_reg \u001b[39m=\u001b[39m \u001b[39m1.0\u001b[39m \u001b[39m/\u001b[39m model\u001b[39m.\u001b[39mapply_to_fields(diff_loss)\u001b[39m.\u001b[39mitem()\n\u001b[1;32m      <a href='vscode-notebook-cell://ssh-remote%2Benif/STER/frederikd/p3droslo/docs/examples/R_Aquilae.ipynb#X50sdnNjb2RlLXJlbW90ZQ%3D%3D?line=3'>4</a>\u001b[0m L_con, L_mom_x, L_mom_y, L_mom_z, L_eng \u001b[39m=\u001b[39m steady_state_hydrodynamic_loss(model)\n",
      "\u001b[1;32m/STER/frederikd/p3droslo/docs/examples/R_Aquilae.ipynb Cell 35\u001b[0m in \u001b[0;36mforward\u001b[0;34m(model, freqs)\u001b[0m\n\u001b[1;32m     <a href='vscode-notebook-cell://ssh-remote%2Benif/STER/frederikd/p3droslo/docs/examples/R_Aquilae.ipynb#X50sdnNjb2RlLXJlbW90ZQ%3D%3D?line=19'>20</a>\u001b[0m vel    \u001b[39m=\u001b[39m   v_max \u001b[39m*\u001b[39m model[\u001b[39m'\u001b[39m\u001b[39mvelocity_z\u001b[39m\u001b[39m'\u001b[39m]\n\u001b[1;32m     <a href='vscode-notebook-cell://ssh-remote%2Benif/STER/frederikd/p3droslo/docs/examples/R_Aquilae.ipynb#X50sdnNjb2RlLXJlbW90ZQ%3D%3D?line=20'>21</a>\u001b[0m v_turb \u001b[39m=\u001b[39m torch\u001b[39m.\u001b[39mexp(model[\u001b[39m'\u001b[39m\u001b[39mlog_v_turbulence\u001b[39m\u001b[39m'\u001b[39m])\n\u001b[0;32m---> <a href='vscode-notebook-cell://ssh-remote%2Benif/STER/frederikd/p3droslo/docs/examples/R_Aquilae.ipynb#X50sdnNjb2RlLXJlbW90ZQ%3D%3D?line=21'>22</a>\u001b[0m v_los  \u001b[39m=\u001b[39m torch\u001b[39m.\u001b[39mexp(model[\u001b[39m'\u001b[39;49m\u001b[39mlog_v_los\u001b[39;49m\u001b[39m'\u001b[39;49m])\n\u001b[1;32m     <a href='vscode-notebook-cell://ssh-remote%2Benif/STER/frederikd/p3droslo/docs/examples/R_Aquilae.ipynb#X50sdnNjb2RlLXJlbW90ZQ%3D%3D?line=23'>24</a>\u001b[0m frequencies \u001b[39m=\u001b[39m get_doppler_shifted_frequencies(v_los\u001b[39m+\u001b[39mvel, freqs)\n\u001b[1;32m     <a href='vscode-notebook-cell://ssh-remote%2Benif/STER/frederikd/p3droslo/docs/examples/R_Aquilae.ipynb#X50sdnNjb2RlLXJlbW90ZQ%3D%3D?line=24'>25</a>\u001b[0m \u001b[39m# frequencies = get_doppler_shifted_frequencies(vel, freqs)\u001b[39;00m\n\u001b[1;32m     <a href='vscode-notebook-cell://ssh-remote%2Benif/STER/frederikd/p3droslo/docs/examples/R_Aquilae.ipynb#X50sdnNjb2RlLXJlbW90ZQ%3D%3D?line=25'>26</a>\u001b[0m \n\u001b[1;32m     <a href='vscode-notebook-cell://ssh-remote%2Benif/STER/frederikd/p3droslo/docs/examples/R_Aquilae.ipynb#X50sdnNjb2RlLXJlbW90ZQ%3D%3D?line=26'>27</a>\u001b[0m \u001b[39m# Compute the LTE line emissivity and opacity, and the line profile\u001b[39;00m\n",
      "File \u001b[0;32m/STER/frederikd/p3droslo/src/p3droslo/model.py:55\u001b[0m, in \u001b[0;36mTensorModel.__getitem__\u001b[0;34m(self, key)\u001b[0m\n\u001b[1;32m     51\u001b[0m \u001b[39mdef\u001b[39;00m \u001b[39m__getitem__\u001b[39m(\u001b[39mself\u001b[39m, key):\n\u001b[1;32m     52\u001b[0m     \u001b[39m\"\"\"\u001b[39;00m\n\u001b[1;32m     53\u001b[0m \u001b[39m    Getter for variables (vars). Allows the use of [] operators.\u001b[39;00m\n\u001b[1;32m     54\u001b[0m \u001b[39m    \"\"\"\u001b[39;00m\n\u001b[0;32m---> 55\u001b[0m     \u001b[39mreturn\u001b[39;00m \u001b[39mself\u001b[39;49m\u001b[39m.\u001b[39;49mvars[key]\n",
      "\u001b[0;31mKeyError\u001b[0m: 'log_v_los'"
     ]
    }
   ],
   "source": [
    "w_rep = 1.0 / nn.functional.mse_loss(forward(model,freqs), obs).item()\n",
    "w_reg = 1.0 / model.apply_to_fields(diff_loss).item()\n",
    "\n",
    "L_con, L_mom_x, L_mom_y, L_mom_z, L_eng = steady_state_hydrodynamic_loss(model)\n",
    "\n",
    "w_con = 1.0 / L_con.item()\n",
    "w_mom = 1.0 / torch.stack([L_mom_x, L_mom_y, L_mom_z]).mean().item()\n",
    "w_eng = 1.0 / L_eng.item()"
   ]
  },
  {
   "cell_type": "code",
   "execution_count": 149,
   "metadata": {},
   "outputs": [],
   "source": [
    "# vel = lambda f: (f / line_centre.si.value - 1.0) * constants.c.si.value\n",
    "vel = lambda f: (f / line.frequency - 1.0) * constants.c.si.value"
   ]
  },
  {
   "cell_type": "code",
   "execution_count": 150,
   "metadata": {},
   "outputs": [
    {
     "data": {
      "application/vnd.jupyter.widget-view+json": {
       "model_id": "c8d8d6337f024307ab057f79db48c7c9",
       "version_major": 2,
       "version_minor": 0
      },
      "text/plain": [
       "interactive(children=(IntSlider(value=0, description='i', max=0), IntSlider(value=0, description='j', max=0), …"
      ]
     },
     "metadata": {},
     "output_type": "display_data"
    },
    {
     "data": {
      "text/plain": [
       "<function __main__.plot_spectrum.<locals>.plot(i, j)>"
      ]
     },
     "execution_count": 150,
     "metadata": {},
     "output_type": "execute_result"
    }
   ],
   "source": [
    "img = forward(model, freqs)\n",
    "img2 = forward2(model, freqs)\n",
    "\n",
    "def plot_spectrum():\n",
    "    \"\"\"\n",
    "    Plot spectrum at a pixel for this observation.\n",
    "    \"\"\"\n",
    "    # Define a plot function\n",
    "    def plot(i,j):\n",
    "        plt.figure(dpi=150)\n",
    "        # plt.plot(freqs.numpy(), obs[i,j,:].data)\n",
    "        plt.plot(vel(freqs), img[i,j,:].data * 1.0e+14)\n",
    "        plt.plot(vel(freqs), img2[i,j,:].data * 1.0e+14)\n",
    "        # plt.ylim((1.0e-30, 1.0e+1))\n",
    "        plt.yscale('log')\n",
    "        # plt.axvline(vel(line.frequency)-v_los.si.value, c='k')\n",
    "        # plt.axvline(vel(line.frequency), c='k')\n",
    "\n",
    "    # Return an interactive ipywidget\n",
    "    return interact(plot,\n",
    "                    i=(0, img.shape[0]-1),\n",
    "                    j=(0, img.shape[1]-1) )\n",
    "\n",
    "plot_spectrum()"
   ]
  },
  {
   "cell_type": "code",
   "execution_count": 46,
   "metadata": {},
   "outputs": [
    {
     "data": {
      "text/plain": [
       "tensor([[[        nan,         nan, 1.9450e-163, 1.4258e-139,         nan,\n",
       "                  nan,         nan,         nan,         nan,         nan,\n",
       "                  nan,  4.8348e-30,  1.2269e-27,  1.4737e-53,  1.3528e-27,\n",
       "          -3.6638e-24,         nan,         nan,         nan,         nan,\n",
       "                  nan,         nan,         nan, 7.9011e-140, 1.0161e-163,\n",
       "                  nan,         nan,         nan,         nan]]],\n",
       "       dtype=torch.float64, grad_fn=<SumBackward1>)"
      ]
     },
     "execution_count": 46,
     "metadata": {},
     "output_type": "execute_result"
    }
   ],
   "source": [
    "img2"
   ]
  },
  {
   "cell_type": "code",
   "execution_count": null,
   "metadata": {},
   "outputs": [
    {
     "data": {
      "application/vnd.jupyter.widget-view+json": {
       "model_id": "ddaf61d256564fa6a424b60c15aa3a8a",
       "version_major": 2,
       "version_minor": 0
      },
      "text/plain": [
       "interactive(children=(IntSlider(value=4, description='i', max=9), IntSlider(value=4, description='j', max=9), …"
      ]
     },
     "metadata": {},
     "output_type": "display_data"
    },
    {
     "data": {
      "text/plain": [
       "<function __main__.plot(i, j)>"
      ]
     },
     "execution_count": 81,
     "metadata": {},
     "output_type": "execute_result"
    }
   ],
   "source": [
    "key = 'velocity_z'\n",
    "dat = v_max * model[key]\n",
    "\n",
    "def plot(i,j):\n",
    "    plt.figure(dpi=150)\n",
    "    plt.title(key)\n",
    "    plt.plot(dat[i,j,:].data)\n",
    "\n",
    "interact(plot, \n",
    "    i=(0, dat.shape[0]-1),\n",
    "    j=(0, dat.shape[1]-1)\n",
    ")"
   ]
  },
  {
   "cell_type": "code",
   "execution_count": null,
   "metadata": {},
   "outputs": [
    {
     "data": {
      "text/plain": [
       "19051.99170095877"
      ]
     },
     "execution_count": 33,
     "metadata": {},
     "output_type": "execute_result"
    }
   ],
   "source": [
    "v_max"
   ]
  },
  {
   "cell_type": "code",
   "execution_count": null,
   "metadata": {},
   "outputs": [
    {
     "data": {
      "application/vnd.jupyter.widget-view+json": {
       "model_id": "9d5b020554114977853371fdb1588049",
       "version_major": 2,
       "version_minor": 0
      },
      "text/plain": [
       "interactive(children=(IntSlider(value=4, description='i', max=9), IntSlider(value=4, description='j', max=9), …"
      ]
     },
     "metadata": {},
     "output_type": "display_data"
    },
    {
     "data": {
      "text/plain": [
       "<function __main__.plot(i, j)>"
      ]
     },
     "execution_count": 112,
     "metadata": {},
     "output_type": "execute_result"
    }
   ],
   "source": [
    "key = 'log_temperature'\n",
    "dat = model[key]\n",
    "\n",
    "def plot(i,j):\n",
    "    plt.figure(dpi=150)\n",
    "    plt.title(key)\n",
    "    plt.plot(dat[i,j,:].data)\n",
    "\n",
    "interact(plot, \n",
    "    i=(0, dat.shape[0]-1),\n",
    "    j=(0, dat.shape[1]-1)\n",
    ")"
   ]
  },
  {
   "cell_type": "code",
   "execution_count": null,
   "metadata": {},
   "outputs": [
    {
     "data": {
      "application/vnd.jupyter.widget-view+json": {
       "model_id": "863c71a3401645229ca0ae71a7a99e80",
       "version_major": 2,
       "version_minor": 0
      },
      "text/plain": [
       "interactive(children=(IntSlider(value=4, description='i', max=9), IntSlider(value=4, description='j', max=9), …"
      ]
     },
     "metadata": {},
     "output_type": "display_data"
    },
    {
     "data": {
      "text/plain": [
       "<function __main__.plot(i, j)>"
      ]
     },
     "execution_count": 113,
     "metadata": {},
     "output_type": "execute_result"
    }
   ],
   "source": [
    "key = 'log_CO'\n",
    "dat = model[key]\n",
    "\n",
    "def plot(i,j):\n",
    "    plt.figure(dpi=150)\n",
    "    plt.title(key)\n",
    "    plt.plot(dat[i,j,:].data)\n",
    "\n",
    "interact(plot, \n",
    "    i=(0, dat.shape[0]-1),\n",
    "    j=(0, dat.shape[1]-1)\n",
    ")"
   ]
  },
  {
   "cell_type": "code",
   "execution_count": null,
   "metadata": {},
   "outputs": [
    {
     "data": {
      "application/vnd.jupyter.widget-view+json": {
       "model_id": "621895f9f3f94c709e8610789f7f8374",
       "version_major": 2,
       "version_minor": 0
      },
      "text/plain": [
       "interactive(children=(IntSlider(value=499, description='z', max=999), Output()), _dom_classes=('widget-interac…"
      ]
     },
     "metadata": {},
     "output_type": "display_data"
    },
    {
     "data": {
      "text/plain": [
       "<function p3droslo.plot.plot_cube_2D.<locals>.plot(z)>"
      ]
     },
     "execution_count": 94,
     "metadata": {},
     "output_type": "execute_result"
    }
   ],
   "source": [
    "plot_cube_2D(img)"
   ]
  },
  {
   "cell_type": "code",
   "execution_count": null,
   "metadata": {},
   "outputs": [
    {
     "data": {
      "text/plain": [
       "[<matplotlib.lines.Line2D at 0x7f4151cf7cd0>]"
      ]
     },
     "execution_count": 95,
     "metadata": {},
     "output_type": "execute_result"
    },
    {
     "data": {
      "image/png": "[encoded data removed]",
      "text/plain": [
       "<Figure size 432x288 with 1 Axes>"
      ]
     },
     "metadata": {
      "needs_background": "light"
     },
     "output_type": "display_data"
    }
   ],
   "source": [
    "plt.plot(img.sum(axis=(0,1)).data)"
   ]
  },
  {
   "cell_type": "code",
   "execution_count": null,
   "metadata": {},
   "outputs": [],
   "source": [
    "def fit(loss, model, obs, N_epochs=10, lr=1.0e-1, w_rep=1.0, w_reg=1.0, w_sym=1.0, w_con=1.0, w_mom=1.0, w_eng=1.0):\n",
    "\n",
    "    optimizer = Adam(model.free_parameters(), lr=lr)\n",
    "\n",
    "    for _ in tqdm(range(N_epochs)):\n",
    "        \n",
    "        # Run forward model\n",
    "        img = forward(model, freqs)\n",
    " \n",
    "        # Compute the reproduction loss\n",
    "        loss['rep'] = w_rep * nn.functional.mse_loss(img*1.0e+14, obs)\n",
    "\n",
    "        # Symmetry loss\n",
    "        # loss['sym'] = w_sym * (torch.zeros(1)                \\\n",
    "        #     + z_pos_symmetry_loss(model['log_CO'          ]) \\\n",
    "        #     + z_pos_symmetry_loss(model['log_temperature' ]) \\\n",
    "        #     + z_pos_symmetry_loss(model['log_v_turbulence']) \\\n",
    "        #     + z_pos_symmetry_loss(model['velocity_x'      ]) \\\n",
    "        #     + z_pos_symmetry_loss(model['velocity_y'      ]) \\\n",
    "        #     + z_neg_symmetry_loss(model['velocity_z'      ]) )\n",
    "\n",
    "        # Compute the regularisation loss\n",
    "        loss['reg'] = w_reg * model.apply_to_fields(diff_loss)\n",
    "        loss['sym'] = w_sym * model.apply_to_fields(\n",
    "            func    = spherical_loss.eval,\n",
    "            exclude = ['velocity_x', 'velocity_y', 'velocity_z'],\n",
    "            include = [model['velocity_x']**2 + model['velocity_y']**2 + model['velocity_z']**2]\n",
    "        )\n",
    "\n",
    "        L_con, L_mom_x, L_mom_y, L_mom_z, L_eng = steady_state_hydrodynamic_loss(model)\n",
    "    \n",
    "        loss['hyd_con' ] = w_con * L_con\n",
    "        loss['hyd_momx'] = w_mom * L_mom_x\n",
    "        loss['hyd_momy'] = w_mom * L_mom_y\n",
    "        loss['hyd_momz'] = w_mom * L_mom_z\n",
    "        loss['hyd_eng' ] = w_eng * L_eng\n",
    "\n",
    "        # Set gradients to zero\n",
    "        optimizer.zero_grad()\n",
    "        # Backpropagate gradients\n",
    "        loss.tot().backward()\n",
    "        # Update parameters\n",
    "        optimizer.step()"
   ]
  },
  {
   "cell_type": "code",
   "execution_count": null,
   "metadata": {},
   "outputs": [
    {
     "name": "stderr",
     "output_type": "stream",
     "text": [
      "100%|██████████| 5/5 [00:12<00:00,  2.46s/it]\n"
     ]
    },
    {
     "data": {
      "image/png": "[encoded data removed]",
      "text/plain": [
       "<Figure size 780x520 with 1 Axes>"
      ]
     },
     "metadata": {
      "needs_background": "light"
     },
     "output_type": "display_data"
    }
   ],
   "source": [
    "fit(loss, model, obs, N_epochs = 5, lr = 1.0e-1)\n",
    "loss.plot()"
   ]
  },
  {
   "cell_type": "code",
   "execution_count": null,
   "metadata": {},
   "outputs": [],
   "source": [
    "w_rep = 1.0 /  loss['rep'     ].item()\n",
    "w_reg = 1.0 /  loss['reg'     ].item()\n",
    "w_sym = 1.0 /  loss['sym'     ].item()\n",
    "w_con = 1.0 /  loss['hyd_con' ].item()\n",
    "w_mom = 3.0 / (loss['hyd_momx'] + loss['hyd_momy'] + loss['hyd_momz']).item()\n",
    "w_eng = 1.0 /  loss['hyd_eng' ].item()"
   ]
  },
  {
   "cell_type": "code",
   "execution_count": null,
   "metadata": {},
   "outputs": [],
   "source": [
    "loss.__init__(keys=loss.loss.keys())"
   ]
  },
  {
   "cell_type": "code",
   "execution_count": null,
   "metadata": {},
   "outputs": [
    {
     "name": "stderr",
     "output_type": "stream",
     "text": [
      "100%|██████████| 5/5 [00:12<00:00,  2.45s/it]\n"
     ]
    },
    {
     "data": {
      "image/png": "[encoded data removed]",
      "text/plain": [
       "<Figure size 780x520 with 1 Axes>"
      ]
     },
     "metadata": {
      "needs_background": "light"
     },
     "output_type": "display_data"
    }
   ],
   "source": [
    "fit(loss, model, obs,\n",
    "    N_epochs = 5,\n",
    "    lr       = 1.0e-1,\n",
    "    w_rep    = w_rep,\n",
    "    w_reg    = w_reg,\n",
    "    w_sym    = w_sym,\n",
    "    w_con    = w_con,\n",
    "    w_mom    = w_mom,\n",
    "    w_eng    = w_eng\n",
    ")\n",
    "\n",
    "loss.plot()"
   ]
  },
  {
   "cell_type": "code",
   "execution_count": null,
   "metadata": {},
   "outputs": [],
   "source": [
    "w_rep *= 1.0 /  loss['rep'     ].item()\n",
    "w_reg *= 1.0 /  loss['reg'     ].item()\n",
    "w_sym *= 1.0 /  loss['sym'     ].item()\n",
    "w_con *= 1.0 /  loss['hyd_con' ].item()\n",
    "w_mom *= 3.0 / (loss['hyd_momx'] + loss['hyd_momy'] + loss['hyd_momz']).item()\n",
    "w_eng *= 1.0 /  loss['hyd_eng' ].item()"
   ]
  },
  {
   "cell_type": "code",
   "execution_count": null,
   "metadata": {},
   "outputs": [],
   "source": [
    "loss.__init__(keys=loss.loss.keys())"
   ]
  },
  {
   "cell_type": "code",
   "execution_count": null,
   "metadata": {},
   "outputs": [
    {
     "name": "stderr",
     "output_type": "stream",
     "text": [
      "100%|██████████| 250/250 [10:28<00:00,  2.52s/it]\n"
     ]
    },
    {
     "data": {
      "image/png": "[encoded data removed]",
      "text/plain": [
       "<Figure size 780x520 with 1 Axes>"
      ]
     },
     "metadata": {
      "needs_background": "light"
     },
     "output_type": "display_data"
    }
   ],
   "source": [
    "fit(loss, model, obs,\n",
    "    N_epochs = 250,\n",
    "    lr       = 1.0e-2,\n",
    "    w_rep    = 1.0e+5*w_rep,\n",
    "    w_reg    = 5.0e+1*w_reg,\n",
    "    w_sym    = 1.0e-2*w_sym,\n",
    "    w_con    = w_con,\n",
    "    w_mom    = w_mom,\n",
    "    w_eng    = w_eng\n",
    ")\n",
    "\n",
    "loss.plot()"
   ]
  },
  {
   "cell_type": "code",
   "execution_count": null,
   "metadata": {},
   "outputs": [
    {
     "data": {
      "text/plain": [
       "2.7206990463513265"
      ]
     },
     "execution_count": 35,
     "metadata": {},
     "output_type": "execute_result"
    }
   ],
   "source": [
    "np.sqrt(3)/2*np.pi"
   ]
  },
  {
   "cell_type": "code",
   "execution_count": null,
   "metadata": {},
   "outputs": [],
   "source": [
    "loss.__init__(keys=loss.loss.keys())"
   ]
  },
  {
   "cell_type": "code",
   "execution_count": null,
   "metadata": {},
   "outputs": [
    {
     "name": "stderr",
     "output_type": "stream",
     "text": [
      "  9%|▉         | 22/250 [00:47<08:03,  2.12s/it]"
     ]
    }
   ],
   "source": [
    "fit(loss, model, obs,\n",
    "    N_epochs = 250,\n",
    "    lr       = 2.0e-2,\n",
    "    w_rep    = w_rep,\n",
    "    w_reg    = w_reg,\n",
    "    w_con    = w_con,\n",
    "    w_mom    = w_mom,\n",
    "    w_eng    = w_eng\n",
    ")\n",
    "\n",
    "loss.plot()"
   ]
  },
  {
   "cell_type": "code",
   "execution_count": null,
   "metadata": {},
   "outputs": [
    {
     "data": {
      "application/vnd.jupyter.widget-view+json": {
       "model_id": "15207fd2af2d4ffbb4d2d3b11354103a",
       "version_major": 2,
       "version_minor": 0
      },
      "text/plain": [
       "interactive(children=(IntSlider(value=49, description='i', max=99), IntSlider(value=49, description='j', max=9…"
      ]
     },
     "metadata": {},
     "output_type": "display_data"
    },
    {
     "data": {
      "text/plain": [
       "<function __main__.plot(i, j)>"
      ]
     },
     "execution_count": 87,
     "metadata": {},
     "output_type": "execute_result"
    }
   ],
   "source": [
    "img = forward(model, freqs)\n",
    "\n",
    "velos = (freqs / line.frequency - 1.0) * constants.c.si.value\n",
    "\n",
    "def plot(i,j):\n",
    "    plt.figure(dpi=150)\n",
    "    plt.title('Observations')\n",
    "    plt.plot(velos, 1.0e+14*img[i,j,:].data, label='img')\n",
    "    plt.plot(velos, obs[i,j,:].data, label='obs')\n",
    "    # plt.ylim((1.0e-30, 1.0e+1))\n",
    "    # plt.yscale('log')\n",
    "    # plt.axvline(line.frequency, c='k')\n",
    "    plt.legend()\n",
    "\n",
    "interact(plot, \n",
    "    i=(0, img.shape[0]-1),\n",
    "    j=(0, img.shape[1]-1)\n",
    ")\n"
   ]
  },
  {
   "cell_type": "code",
   "execution_count": null,
   "metadata": {},
   "outputs": [
    {
     "data": {
      "application/vnd.jupyter.widget-view+json": {
       "model_id": "97bb9bc49f2e43f2b8a1198c6a1ce185",
       "version_major": 2,
       "version_minor": 0
      },
      "text/plain": [
       "interactive(children=(IntSlider(value=99, description='z', max=199), Output()), _dom_classes=('widget-interact…"
      ]
     },
     "metadata": {},
     "output_type": "display_data"
    },
    {
     "data": {
      "text/plain": [
       "<function p3droslo.plot.plot_cube_2D.<locals>.plot(z)>"
      ]
     },
     "execution_count": 33,
     "metadata": {},
     "output_type": "execute_result"
    }
   ],
   "source": [
    "plot_cube_2D(model['log_CO'])"
   ]
  },
  {
   "cell_type": "code",
   "execution_count": null,
   "metadata": {},
   "outputs": [
    {
     "data": {
      "application/vnd.jupyter.widget-view+json": {
       "model_id": "a6ac5938ad6243c5a9d1590b526332ed",
       "version_major": 2,
       "version_minor": 0
      },
      "text/plain": [
       "interactive(children=(IntSlider(value=99, description='i', max=199), IntSlider(value=99, description='j', max=…"
      ]
     },
     "metadata": {},
     "output_type": "display_data"
    },
    {
     "data": {
      "text/plain": [
       "<function __main__.plot(i, j)>"
      ]
     },
     "execution_count": 34,
     "metadata": {},
     "output_type": "execute_result"
    }
   ],
   "source": [
    "# dat = torch.exp(model['log_v_los']) - model['velocity_z']\n",
    "key = 'log_CO'\n",
    "dat = model[key]\n",
    "\n",
    "def plot(i,j):\n",
    "    plt.figure(dpi=150)\n",
    "    plt.title(key)\n",
    "    plt.plot(dat[i,j,:].data)\n",
    "\n",
    "interact(plot, \n",
    "    i=(0, dat.shape[0]-1),\n",
    "    j=(0, dat.shape[1]-1)\n",
    ")"
   ]
  },
  {
   "cell_type": "code",
   "execution_count": null,
   "metadata": {},
   "outputs": [
    {
     "name": "stderr",
     "output_type": "stream",
     "text": [
      "/tmp/ipykernel_865196/3154095005.py:1: UserWarning: The use of `x.T` on tensors of dimension other than 2 to reverse their shape is deprecated and it will throw an error in a future release. Consider `x.mT` to transpose batches of matrices or `x.permute(*torch.arange(x.ndim - 1, -1, -1))` to reverse the dimensions of a tensor. (Triggered internally at ../aten/src/ATen/native/TensorShape.cpp:3571.)\n",
      "  plot_cube_2D(model['log_temperature'].T)\n"
     ]
    },
    {
     "data": {
      "application/vnd.jupyter.widget-view+json": {
       "model_id": "e97e1b8f043c4f4392af05cc7daba39a",
       "version_major": 2,
       "version_minor": 0
      },
      "text/plain": [
       "interactive(children=(IntSlider(value=99, description='z', max=199), Output()), _dom_classes=('widget-interact…"
      ]
     },
     "metadata": {},
     "output_type": "display_data"
    },
    {
     "data": {
      "text/plain": [
       "<function p3droslo.plot.plot_cube_2D.<locals>.plot(z)>"
      ]
     },
     "execution_count": 35,
     "metadata": {},
     "output_type": "execute_result"
    }
   ],
   "source": [
    "plot_cube_2D(model['log_temperature'].T)"
   ]
  },
  {
   "cell_type": "code",
   "execution_count": null,
   "metadata": {},
   "outputs": [
    {
     "data": {
      "application/vnd.jupyter.widget-view+json": {
       "model_id": "d1d4e6628461405aad3812a2ea766437",
       "version_major": 2,
       "version_minor": 0
      },
      "text/plain": [
       "interactive(children=(IntSlider(value=99, description='i', max=199), IntSlider(value=99, description='j', max=…"
      ]
     },
     "metadata": {},
     "output_type": "display_data"
    },
    {
     "data": {
      "text/plain": [
       "<function __main__.plot(i, j)>"
      ]
     },
     "execution_count": 36,
     "metadata": {},
     "output_type": "execute_result"
    }
   ],
   "source": [
    "# dat = torch.exp(model['log_v_los']) - model['velocity_z']\n",
    "key = 'log_temperature'\n",
    "dat = model[key]\n",
    "\n",
    "def plot(i,j):\n",
    "    plt.figure(dpi=150)\n",
    "    plt.title(key)\n",
    "    plt.plot(dat[i,j,:].data)\n",
    "\n",
    "interact(plot, \n",
    "    i=(0, dat.shape[0]-1),\n",
    "    j=(0, dat.shape[1]-1)\n",
    ")"
   ]
  },
  {
   "cell_type": "code",
   "execution_count": null,
   "metadata": {},
   "outputs": [
    {
     "data": {
      "application/vnd.jupyter.widget-view+json": {
       "model_id": "fcaec6a8035947469a31edcc1572d71e",
       "version_major": 2,
       "version_minor": 0
      },
      "text/plain": [
       "interactive(children=(IntSlider(value=4, description='i', max=9), IntSlider(value=4, description='j', max=9), …"
      ]
     },
     "metadata": {},
     "output_type": "display_data"
    },
    {
     "data": {
      "text/plain": [
       "<function __main__.plot(i, j)>"
      ]
     },
     "execution_count": 81,
     "metadata": {},
     "output_type": "execute_result"
    }
   ],
   "source": [
    "dat =  model['velocity_z']\n",
    "\n",
    "def plot(i,j):\n",
    "    plt.figure(dpi=150)\n",
    "    plt.title('velocity')\n",
    "    plt.plot(dat[i,j,:].data)\n",
    "\n",
    "interact(plot, \n",
    "    i=(0, dat.shape[0]-1),\n",
    "    j=(0, dat.shape[1]-1)\n",
    ")"
   ]
  },
  {
   "cell_type": "code",
   "execution_count": null,
   "metadata": {},
   "outputs": [
    {
     "data": {
      "application/vnd.jupyter.widget-view+json": {
       "model_id": "6835e35a2b414624a677c82d4c95b679",
       "version_major": 2,
       "version_minor": 0
      },
      "text/plain": [
       "interactive(children=(IntSlider(value=49, description='z', max=99), Output()), _dom_classes=('widget-interact'…"
      ]
     },
     "metadata": {},
     "output_type": "display_data"
    },
    {
     "data": {
      "text/plain": [
       "<function p3droslo.plot.plot_cube_2D.<locals>.plot(z)>"
      ]
     },
     "execution_count": 93,
     "metadata": {},
     "output_type": "execute_result"
    }
   ],
   "source": [
    "plot_cube_2D(torch.abs(torch.exp(model['log_v_los']-model['velocity_z'].T)))"
   ]
  },
  {
   "cell_type": "code",
   "execution_count": null,
   "metadata": {},
   "outputs": [
    {
     "data": {
      "application/vnd.jupyter.widget-view+json": {
       "model_id": "220d9bb9c0744917a6be0c9a749a8098",
       "version_major": 2,
       "version_minor": 0
      },
      "text/plain": [
       "interactive(children=(IntSlider(value=49, description='i', max=99), IntSlider(value=49, description='j', max=9…"
      ]
     },
     "metadata": {},
     "output_type": "display_data"
    },
    {
     "data": {
      "text/plain": [
       "<function __main__.plot(i, j)>"
      ]
     },
     "execution_count": 41,
     "metadata": {},
     "output_type": "execute_result"
    }
   ],
   "source": [
    "img = forward(model, freqs)\n",
    "\n",
    "velos = (freqs / line.frequency - 1.0) * constants.c.si.value\n",
    "\n",
    "def plot(i,j):\n",
    "    plt.figure(dpi=150)\n",
    "    plt.title('Observations')\n",
    "    plt.plot(velos, 1.0e+14*img[i,j,:].data, label='img')\n",
    "    plt.plot(velos,         obs[i,j,:].data, label='obs')\n",
    "    # plt.ylim((1.0e-30, 1.0e+1))\n",
    "    # plt.yscale('log')\n",
    "    # plt.axvline(line.frequency, c='k')\n",
    "    plt.legend()\n",
    "\n",
    "interact(plot, \n",
    "    i=(0, img.shape[0]-1),\n",
    "    j=(0, img.shape[1]-1)\n",
    ")\n"
   ]
  },
  {
   "cell_type": "code",
   "execution_count": null,
   "metadata": {},
   "outputs": [
    {
     "data": {
      "application/vnd.jupyter.widget-view+json": {
       "model_id": "9d36356c762f4732b78dd224c9574fde",
       "version_major": 2,
       "version_minor": 0
      },
      "text/plain": [
       "interactive(children=(IntSlider(value=14, description='z', max=28), Output()), _dom_classes=('widget-interact'…"
      ]
     },
     "metadata": {},
     "output_type": "display_data"
    },
    {
     "data": {
      "text/plain": [
       "<function p3droslo.plot.plot_cube_2D.<locals>.plot(z)>"
      ]
     },
     "execution_count": 43,
     "metadata": {},
     "output_type": "execute_result"
    }
   ],
   "source": [
    "plot_cube_2D(img)"
   ]
  },
  {
   "cell_type": "code",
   "execution_count": null,
   "metadata": {},
   "outputs": [
    {
     "name": "stdout",
     "output_type": "stream",
     "text": [
      "Variable key:              Free/Fixed:   Field:    Min:           Mean:          Max:\n",
      "  log_M                      Free          False    +6.973e+01     +6.973e+01     +6.973e+01\n",
      "  log_CO                     Free          True     +1.882e+01     +2.005e+01     +2.773e+01\n",
      "  log_temperature            Free          True     +4.480e+00     +7.104e+00     +9.446e+00\n",
      "  log_v_turbulence           Free          True     +4.428e+00     +4.922e+00     +7.957e+00\n",
      "  velocity_x                 Free          True     -1.185e+00     +9.266e-04     +1.061e+00\n",
      "  velocity_y                 Free          True     -1.206e+00     +2.678e-03     +1.270e+00\n",
      "  velocity_z                 Free          True     -1.632e+00     +1.546e-02     +1.030e+00\n",
      "  log_v_los                  Free          False    +1.036e+01     +1.036e+01     +1.036e+01\n",
      "sizes: (559518906748033.94, 559518906748033.94, 559518906748033.94)\n",
      "shape: (100, 100, 100)\n"
     ]
    }
   ],
   "source": [
    "model.info()"
   ]
  },
  {
   "cell_type": "code",
   "execution_count": null,
   "metadata": {},
   "outputs": [],
   "source": []
  }
 ],
 "metadata": {
  "kernelspec": {
   "display_name": "magritte",
   "language": "python",
   "name": "python3"
  },
  "language_info": {
   "codemirror_mode": {
    "name": "ipython",
    "version": 3
   },
   "file_extension": ".py",
   "mimetype": "text/x-python",
   "name": "python",
   "nbconvert_exporter": "python",
   "pygments_lexer": "ipython3",
   "version": "3.9.13"
  },
  "orig_nbformat": 4
 },
 "nbformat": 4,
 "nbformat_minor": 2
}
